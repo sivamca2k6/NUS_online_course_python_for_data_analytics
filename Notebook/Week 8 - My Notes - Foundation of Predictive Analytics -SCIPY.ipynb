{
 "cells": [
  {
   "cell_type": "markdown",
   "metadata": {},
   "source": [
    "# Week 8 - Foundation of Predictive Analytics \n",
    "- SCIPY \n",
    "- Probability \n",
    "- Discrete and Continuos Random variable\n",
    "- PMF, CDF , PDF ,PPFpr\n",
    "- Sampling\n"
   ]
  },
  {
   "cell_type": "markdown",
   "metadata": {},
   "source": [
    "- np.arrange"
   ]
  },
  {
   "cell_type": "code",
   "execution_count": 5,
   "metadata": {},
   "outputs": [],
   "source": [
    "import matplotlib.pyplot as plt\n",
    "import pandas as pd\n",
    "import numpy as np\n",
    "import ipywidgets as widgets\n",
    "from scipy.stats import binom\n",
    "from scipy.stats import norm"
   ]
  },
  {
   "cell_type": "code",
   "execution_count": 12,
   "metadata": {},
   "outputs": [
    {
     "name": "stdout",
     "output_type": "stream",
     "text": [
      "[2.75854735e-05 5.12301651e-04 4.28137809e-03 2.12030153e-02\n",
      " 6.89097997e-02 1.53570411e-01 2.37668493e-01 2.52219625e-01\n",
      " 1.75652953e-01 7.24916949e-02 1.34627433e-02]\n"
     ]
    },
    {
     "data": {
      "text/plain": [
       "1.0"
      ]
     },
     "execution_count": 12,
     "metadata": {},
     "output_type": "execute_result"
    }
   ],
   "source": [
    "#Example : Suppose that in Singapore,  65%  of customers prefer Coke, while the remaining  35%  prefer Pepsi.\n",
    "#Now we randomly survey 10 customers,\n",
    "#among which the number of customers who prefer Coke is denoted by a discrete random variable  𝑋 . Plot the PMF of  𝑋 .\n",
    "\n",
    "n = 10                                          # Number of customers \n",
    "p = 0.65                                        # Propability of choosing Coke\n",
    "x = np.arange(n+1)                              # All possible values of X\n",
    "pmf = binom.pmf(x, n, p)  \n",
    "print(pmf)\n",
    "pmf.sum() # 1"
   ]
  },
  {
   "cell_type": "code",
   "execution_count": 18,
   "metadata": {},
   "outputs": [
    {
     "name": "stdout",
     "output_type": "stream",
     "text": [
      "[12.70600705  4.17873966  8.38778799  9.00269622  8.27236036  8.38253263\n",
      "  9.92742244 12.03733378  8.62548959 11.94924744]\n",
      "mean 9.346961715066522\n",
      "std 2.3661060591254848\n"
     ]
    }
   ],
   "source": [
    "from scipy import stats as sps\n",
    "import numpy as np\n",
    "#loca=mean , sd = scale\n",
    "x = sps.norm.rvs(loc=10,scale=2,size=10)\n",
    "print(x)\n",
    "print(\"mean\" , np.mean(x))\n",
    "print(\"std\" , np.std(x))"
   ]
  }
 ],
 "metadata": {
  "kernelspec": {
   "display_name": "Python 3",
   "language": "python",
   "name": "python3"
  },
  "language_info": {
   "codemirror_mode": {
    "name": "ipython",
    "version": 3
   },
   "file_extension": ".py",
   "mimetype": "text/x-python",
   "name": "python",
   "nbconvert_exporter": "python",
   "pygments_lexer": "ipython3",
   "version": "3.8.3"
  }
 },
 "nbformat": 4,
 "nbformat_minor": 4
}
