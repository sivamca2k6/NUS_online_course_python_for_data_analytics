{
 "cells": [
  {
   "cell_type": "code",
   "execution_count": null,
   "metadata": {
    "collapsed": true
   },
   "outputs": [],
   "source": [
    "intput = input(\"Enter a sentence\")\n",
    "count = 0\n",
    "for letter in intput:\n",
    "    if letter.upper() == \"S\":\n",
    "        count = count+1\n",
    "                \n",
    "print(\"The number of S's is\" + count)"
   ]
  },
  {
   "cell_type": "code",
   "execution_count": null,
   "metadata": {},
   "outputs": [],
   "source": [
    "print (\"Week 2 - Type , Operators\")"
   ]
  },
  {
   "cell_type": "code",
   "execution_count": null,
   "metadata": {},
   "outputs": [],
   "source": [
    "print (\"COMPARISION OPERATORS\")\n",
    "value1 = 1\n",
    "value2 = 1.0\n",
    "\n",
    "print(value1 == value2)\n",
    "print (value1 is int) # IS check same type/object and same value"
   ]
  },
  {
   "cell_type": "code",
   "execution_count": null,
   "metadata": {},
   "outputs": [],
   "source": [
    "line = \"siva bharathi\"\n",
    "print(line.upper())\n",
    "print(line.lower())\n",
    "print(line.capitalize())\n",
    "print(line.title())\n",
    "print(line.find(\"di\"))\n"
   ]
  },
  {
   "cell_type": "code",
   "execution_count": null,
   "metadata": {
    "collapsed": true
   },
   "outputs": [],
   "source": []
  },
  {
   "cell_type": "code",
   "execution_count": 9,
   "metadata": {},
   "outputs": [
    {
     "name": "stdout",
     "output_type": "stream",
     "text": [
      "i 1\n",
      "i 10\n",
      "i 13\n"
     ]
    }
   ],
   "source": [
    "line = \"singapore india\"\n",
    "for x in range(len(line)):\n",
    "        if(line[x] == \"i\"):\n",
    "            print(line[x] , x)\n",
    "\n",
    "\n"
   ]
  },
  {
   "cell_type": "code",
   "execution_count": 10,
   "metadata": {},
   "outputs": [
    {
     "name": "stdout",
     "output_type": "stream",
     "text": [
      "True\n",
      "False\n",
      "False\n",
      "False\n"
     ]
    }
   ],
   "source": [
    "print(0 == 0.0)     # True because 0 and 0.0 have equal values\n",
    "print(0 is 0.0)     # False because they are not the same object\n",
    "\n",
    "intval = 12\n",
    "floatVal = 12.0\n",
    "floatVal1 = 12.0\n",
    "\n",
    "print(floatVal1 is floatVal)\n",
    "print(id(floatVal) == id(floatVal1))"
   ]
  },
  {
   "cell_type": "code",
   "execution_count": 11,
   "metadata": {},
   "outputs": [
    {
     "name": "stdout",
     "output_type": "stream",
     "text": [
      "True\n",
      "True\n",
      "True\n"
     ]
    }
   ],
   "source": [
    "name = \"Siva bharathi yuvathi saanvi\"\n",
    "print(\"Siva\" in name) # case sensitive\n",
    "print(\"kumar\" not in name) # case sensitive\n",
    "print(\"Siva\"in name and \"bharathi\" in name) # case sensitive\n"
   ]
  },
  {
   "cell_type": "code",
   "execution_count": 12,
   "metadata": {},
   "outputs": [
    {
     "name": "stdout",
     "output_type": "stream",
     "text": [
      "Ticker price is $20\n"
     ]
    }
   ],
   "source": [
    "# buffet price adult - $40 children - $20 , senipr = 10\n",
    "age = 8;\n",
    "tikcet_Price=0\n",
    "\n",
    "if(age < 3) :\n",
    "    tikcet_Price= 0;\n",
    "elif(age>3 and age < 12):\n",
    "    tikcet_Price=20;\n",
    "elif (age>12 and age < 60):\n",
    "    tikcet_Price=40;\n",
    "else :\n",
    "    tikcet_Price=10;\n",
    "print (\"Ticker price is $\" + str(tikcet_Price))\n",
    "    \n",
    "\n",
    "\n"
   ]
  },
  {
   "cell_type": "code",
   "execution_count": 13,
   "metadata": {},
   "outputs": [
    {
     "name": "stdout",
     "output_type": "stream",
     "text": [
      "count :1\n",
      "count :2\n",
      "count :3\n",
      "count :4\n",
      "count :5\n",
      "Do you want to exit loop!y\n",
      "Exited : 1\n",
      "\n",
      "\n"
     ]
    }
   ],
   "source": [
    "#while\n",
    "\n",
    "noOfTimes=0\n",
    "\n",
    "while not noOfTimes == 5:\n",
    "    noOfTimes = noOfTimes +1\n",
    "    print (\"count :\"+ str(noOfTimes))\n",
    "    \n",
    "exit = False\n",
    "count = 0\n",
    "while not exit:\n",
    "    count = count + 1\n",
    "    result = input (\"Do you want to exit loop!\")\n",
    "    if result == 'y':\n",
    "        exit = True\n",
    "        print(\"Exited : \"+ str(count))\n",
    "    else:\n",
    "        print(\"looping : \"+ str(count))\n",
    "    print('\\n')    "
   ]
  },
  {
   "cell_type": "code",
   "execution_count": 1,
   "metadata": {},
   "outputs": [
    {
     "name": "stdout",
     "output_type": "stream",
     "text": [
      "ss\n",
      "ii\n",
      "vv\n",
      "aa\n"
     ]
    }
   ],
   "source": [
    "name = \"siva\"\n",
    "for letter in name :\n",
    "    print(letter*2)"
   ]
  },
  {
   "cell_type": "code",
   "execution_count": 29,
   "metadata": {},
   "outputs": [
    {
     "name": "stdout",
     "output_type": "stream",
     "text": [
      "10\n",
      "i\n",
      "sv \n",
      "\n",
      "s\n",
      "i\n",
      "v\n",
      "a\n",
      " \n",
      "k\n",
      "u\n",
      "m\n",
      "a\n",
      "r\n",
      "s\n",
      "i\n",
      "v\n",
      "a\n",
      " \n",
      "k\n",
      "u\n",
      "m\n",
      "a\n",
      "r\n"
     ]
    }
   ],
   "source": [
    "name = \"siva kumar\"\n",
    "print(len(name))\n",
    "\n",
    "print (name[1]) #index\n",
    "\n",
    "print(name[0:5:2] + \"\\n\") #slice\n",
    "\n",
    "for index in range (-10,len(name),1):\n",
    "    print(name[index])"
   ]
  },
  {
   "cell_type": "code",
   "execution_count": 35,
   "metadata": {},
   "outputs": [
    {
     "name": "stdout",
     "output_type": "stream",
     "text": [
      "Hey Jude!\n",
      "e ue\n"
     ]
    }
   ],
   "source": [
    "greeting = 'Hey '\n",
    "\n",
    "to = 'Jude!'\n",
    "\n",
    "sentence = greeting + to\n",
    "print(sentence)\n",
    "print(sentence[1::2])"
   ]
  },
  {
   "cell_type": "code",
   "execution_count": 43,
   "metadata": {},
   "outputs": [
    {
     "name": "stdout",
     "output_type": "stream",
     "text": [
      "4\n",
      "Fitzgerald Kennedy\n",
      "10\n",
      "Kennedy\n"
     ]
    }
   ],
   "source": [
    "name = 'John Fitzgerald Kennedy'\n",
    "\n",
    "while True:\n",
    "    index = name.find(' ')                 \n",
    "    if index == -1:                  \n",
    "        break                                   \n",
    "    print(index)\n",
    "    name = name[index+1:]                     \n",
    "    print(name)\n",
    "\n",
    "#print(name)"
   ]
  },
  {
   "cell_type": "code",
   "execution_count": null,
   "metadata": {
    "collapsed": true
   },
   "outputs": [],
   "source": [
    "#Write a program to print the initials of a name given by the user. \n",
    "#For example, if the given name is 'John Fitzgerald Kennedy', then the printed-out message is 'JFK'.\n",
    "\n",
    "print_name = \"\"\n",
    "name = 'John Fitzgerald Kennedy'\n",
    "while True:\n",
    "    index = name.find(' ')                 \n",
    "    if index == -1:                  \n",
    "        break                                   \n",
    "    print_name = name[0:4:1][0]\n",
    "\n"
   ]
  }
 ],
 "metadata": {
  "kernelspec": {
   "display_name": "Python 3",
   "language": "python",
   "name": "python3"
  },
  "language_info": {
   "codemirror_mode": {
    "name": "ipython",
    "version": 3
   },
   "file_extension": ".py",
   "mimetype": "text/x-python",
   "name": "python",
   "nbconvert_exporter": "python",
   "pygments_lexer": "ipython3",
   "version": "3.6.2"
  }
 },
 "nbformat": 4,
 "nbformat_minor": 2
}
