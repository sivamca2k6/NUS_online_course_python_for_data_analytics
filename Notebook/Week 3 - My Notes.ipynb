{
 "cells": [
  {
   "cell_type": "code",
   "execution_count": 8,
   "metadata": {},
   "outputs": [
    {
     "name": "stdout",
     "output_type": "stream",
     "text": [
      "item3\n"
     ]
    }
   ],
   "source": [
    "list_1 =[\"item1\",\"item2\",\"item3\"]\n",
    "print(list_1[-1])"
   ]
  },
  {
   "cell_type": "code",
   "execution_count": 10,
   "metadata": {},
   "outputs": [
    {
     "name": "stdout",
     "output_type": "stream",
     "text": [
      "['item1', 'item2']\n",
      "item1\n",
      "item2\n"
     ]
    }
   ],
   "source": [
    "list_1 =[[\"item1\",\"item2\"],\"item3\"]\n",
    "print(list_1[0])\n",
    "print(list_1[0][0])\n",
    "print(list_1[0][1])"
   ]
  },
  {
   "cell_type": "code",
   "execution_count": 13,
   "metadata": {},
   "outputs": [
    {
     "name": "stdout",
     "output_type": "stream",
     "text": [
      "ITEM11\n"
     ]
    }
   ],
   "source": [
    "list_1 =[\"item1\",\"item2\",\"item3\"]\n",
    "#string are immutab;e\n",
    "list_1[0] = \"ITEM11\"\n",
    "print(list_1[0])"
   ]
  },
  {
   "cell_type": "code",
   "execution_count": 18,
   "metadata": {},
   "outputs": [
    {
     "name": "stdout",
     "output_type": "stream",
     "text": [
      "2599865853184\n",
      "2599865853576\n"
     ]
    }
   ],
   "source": [
    "x = \"robert\"\n",
    "print(id(x))\n",
    "# defining x to be a new string \n",
    "x = \"james\"\n",
    "print(id(x))\n",
    "# Both the time, id will change.\n"
   ]
  },
  {
   "cell_type": "code",
   "execution_count": 19,
   "metadata": {},
   "outputs": [
    {
     "name": "stdout",
     "output_type": "stream",
     "text": [
      "2599864464344\n",
      "2599864464536\n"
     ]
    }
   ],
   "source": [
    "y=12.0\n",
    "print(id(y))\n",
    "y=13.0\n",
    "print(id(y))\n"
   ]
  },
  {
   "cell_type": "code",
   "execution_count": 22,
   "metadata": {},
   "outputs": [
    {
     "name": "stdout",
     "output_type": "stream",
     "text": [
      "['item1', 'item2', 'item3', 5, 5]\n"
     ]
    }
   ],
   "source": [
    "list_1 =[\"item1\",\"item2\",\"item3\"]\n",
    "list_1.append(5)\n",
    "list_1.extend([5])\n",
    "print(list_1)"
   ]
  },
  {
   "cell_type": "code",
   "execution_count": 30,
   "metadata": {},
   "outputs": [
    {
     "name": "stdout",
     "output_type": "stream",
     "text": [
      "0\n",
      "1\n",
      "2\n",
      "['item1', 'item3']\n"
     ]
    }
   ],
   "source": [
    "list_1 =[\"item1\",\"item2\",\"item3\"]\n",
    "for index in range(len(list_1)):\n",
    "    if(index == 1):\n",
    "        list_1.pop(index)\n",
    "    print(index)\n",
    "    \n",
    "print(list_1)"
   ]
  },
  {
   "cell_type": "code",
   "execution_count": 61,
   "metadata": {},
   "outputs": [
    {
     "name": "stdout",
     "output_type": "stream",
     "text": [
      "True True\n",
      "[['ITEM22'], 'item2', 'item3']\n",
      "[['ITEM22'], 'item2', 'item3']\n",
      "2599865866952 2599865866952\n"
     ]
    }
   ],
   "source": [
    "list_1 =[[\"item1\"],\"item2\",\"item3\"]\n",
    "list_2 = list_1\n",
    "list_2[0][0]=\"ITEM22\"\n",
    "print(list_2 == list_1,list_2 is list_1)\n",
    "print(list_1)\n",
    "print(list_2)\n",
    "print(id(list_1[0]),id(list_2[0]))"
   ]
  },
  {
   "cell_type": "code",
   "execution_count": 41,
   "metadata": {},
   "outputs": [
    {
     "name": "stdout",
     "output_type": "stream",
     "text": [
      "usd_sgd : [1.37, 1370.0]\n",
      "usd_inr : [75.0, 75000.0]\n",
      "sgd_inr : [75.35000000000001, 75350.0]\n"
     ]
    }
   ],
   "source": [
    "usd = [1,1000]\n",
    "usd_sgd=[trans * 1.37 for trans in usd]\n",
    "usd_inr=[trans * 75.00 for trans in usd]\n",
    "sgd_inr=[trans * 55.00 for trans in usd_sgd]\n",
    "print(\"usd_sgd : \" + str(usd_sgd))\n",
    "print(\"usd_inr : \" + str(usd_inr))\n",
    "print(\"sgd_inr : \" + str(sgd_inr))\n"
   ]
  },
  {
   "cell_type": "code",
   "execution_count": 58,
   "metadata": {},
   "outputs": [
    {
     "name": "stdout",
     "output_type": "stream",
     "text": [
      "True False\n",
      "True False\n",
      "['item1', 'item2', 'item3']\n"
     ]
    }
   ],
   "source": [
    "list_2= list_1[:] # create new copy at memory\n",
    "list_3= list_2 * 1 # new list memory\n",
    "print(list_1 == list_2 , list_1 is list_2)\n",
    "print(list_3 == list_2 , list_1 is list_3)\n",
    "print(list_1)"
   ]
  },
  {
   "cell_type": "code",
   "execution_count": 74,
   "metadata": {},
   "outputs": [
    {
     "name": "stdout",
     "output_type": "stream",
     "text": [
      "iem [2]\n",
      "<class 'tuple'>\n",
      "<class 'list'>\n",
      "<class 'tuple'>\n",
      "[2]\n",
      "('iem', 'tt4', 2)\n"
     ]
    }
   ],
   "source": [
    "#tuple\n",
    "tuple_1 =('iem',[2]) #any type\n",
    "tuple_2 = 'iem','tt4',2 #any type\n",
    "var1,var2 = tuple_1 #unpack\n",
    "print(var1,var2)\n",
    "print(type(tuple_1))\n",
    "print(type(tuple_1[1]))\n",
    "print(type(tuple_2))\n",
    "print(tuple_1[1]) # can use index\n",
    "print(tuple_2) "
   ]
  },
  {
   "cell_type": "code",
   "execution_count": 80,
   "metadata": {},
   "outputs": [
    {
     "name": "stdout",
     "output_type": "stream",
     "text": [
      "(1, 1)\n",
      "1 1\n",
      "(2, 2)\n",
      "2 2\n",
      "(3, 3)\n",
      "3 3\n"
     ]
    }
   ],
   "source": [
    "#zip\n",
    "list1 =[1,2,3]\n",
    "list2 =[1,2,3,4] # 4 not printed\n",
    "for a_tuple in zip(list1,list2):\n",
    "    a,b= a_tuple\n",
    "    print(a_tuple)\n",
    "    print(a,b)"
   ]
  },
  {
   "cell_type": "code",
   "execution_count": 89,
   "metadata": {},
   "outputs": [
    {
     "name": "stdout",
     "output_type": "stream",
     "text": [
      "<class 'dict'>\n",
      "name : siva\n",
      "name : siva\n",
      "age : 29\n",
      "name : siva\n",
      "age : 29\n"
     ]
    }
   ],
   "source": [
    "#dic\n",
    "per_info={'name':'siva' , 'age' : 29}\n",
    "print(type(per_info))\n",
    "print('name : ' + per_info['name'])\n",
    "\n",
    "for key in per_info:\n",
    "    print(key +\" : \" + str(per_info[key]))\n",
    "    \n",
    "for key,value in per_info.items():\n",
    "    print(key +\" : \" + str(value))"
   ]
  },
  {
   "cell_type": "code",
   "execution_count": 96,
   "metadata": {},
   "outputs": [
    {
     "name": "stdout",
     "output_type": "stream",
     "text": [
      "Hello Adam, your balance is 230.2346.\n",
      "Hello Adam, your balance is 230.2346.\n",
      "Hello Adam, your balance is 230.235\n",
      "Hello Adam, your balance is 230.2346.\n"
     ]
    }
   ],
   "source": [
    "#formart\n",
    "\n",
    "# default arguments\n",
    "print(\"Hello {}, your balance is {}.\".format(\"Adam\", 230.2346))\n",
    "\n",
    "# positional arguments\n",
    "print(\"Hello {0}, your balance is {1}.\".format(\"Adam\", 230.2346))\n",
    "\n",
    "# keyword arguments\n",
    "print(\"Hello {name}, your balance is {blc:.3f}\".format(name=\"Adam\", blc=230.2346))\n",
    "\n",
    "# mixed arguments\n",
    "print(\"Hello {0}, your balance is {blc}.\".format(\"Adam\", blc=230.2346))"
   ]
  }
 ],
 "metadata": {
  "kernelspec": {
   "display_name": "Python 3",
   "language": "python",
   "name": "python3"
  },
  "language_info": {
   "codemirror_mode": {
    "name": "ipython",
    "version": 3
   },
   "file_extension": ".py",
   "mimetype": "text/x-python",
   "name": "python",
   "nbconvert_exporter": "python",
   "pygments_lexer": "ipython3",
   "version": "3.6.2"
  }
 },
 "nbformat": 4,
 "nbformat_minor": 2
}
