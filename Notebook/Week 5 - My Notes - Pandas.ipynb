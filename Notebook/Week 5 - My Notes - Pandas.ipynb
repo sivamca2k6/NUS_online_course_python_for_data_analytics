{
 "cells": [
  {
   "cell_type": "code",
   "execution_count": 2,
   "metadata": {},
   "outputs": [
    {
     "name": "stdout",
     "output_type": "stream",
     "text": [
      "C:\\Users\\siganath\\source\\repos\\MyLearning\\DataAnalytics\\NUS Online - Python For Analytics - Aug2020\\Notebook\n"
     ]
    }
   ],
   "source": [
    "#pandas labeles, dataFrame,Series\n",
    "import pandas as pd\n",
    "\n",
    "#set current working directory\n",
    "import os\n",
    "working_dir = os.getcwd()\n",
    "print(working_dir) # same as notebook path"
   ]
  },
  {
   "cell_type": "code",
   "execution_count": null,
   "metadata": {
    "collapsed": true
   },
   "outputs": [],
   "source": [
    "#from Dic data\n",
    "\n",
    "dict = {\"country\": [\"Brazil\", \"Russia\", \"India\", \"China\", \"South Africa\"],\n",
    "       \"capital\": [\"Brasilia\", \"Moscow\", \"New Dehli\", \"Beijing\", \"Pretoria\"],\n",
    "       \"area\": [8.516, 17.10, 3.286, 9.597, 1.221],\n",
    "       \"population\": [200.4, 143.5, 1252, 1357, 52.98] }\n",
    "\n",
    "brics = pd.DataFrame(dict)\n",
    "print(brics)"
   ]
  },
  {
   "cell_type": "code",
   "execution_count": 3,
   "metadata": {},
   "outputs": [
    {
     "name": "stdout",
     "output_type": "stream",
     "text": [
      "    Date  Day     Time  Gender BuyCategory  ItemsOrdered  TotalCost  HighItem  \\\n",
      "0  6-Mar  Mon  Morning  Female        High             4     136.97     79.97   \n",
      "1  6-Mar  Mon  Morning  Female      Medium             1      25.55     25.55   \n",
      "\n",
      "  Member Region  \n",
      "0    Yes   West  \n",
      "1     No   West  \n",
      "       Date  Day       Time  Gender BuyCategory  ItemsOrdered  TotalCost  \\\n",
      "398  25-Jun  Sat  Afternoon    Male      Medium             4     168.64   \n",
      "399  25-Jun  Sat  Afternoon  Female         Low             1     107.59   \n",
      "\n",
      "     HighItem Member Region  \n",
      "398     85.79     No   East  \n",
      "399    107.59     No   East  \n"
     ]
    }
   ],
   "source": [
    "#import CSV\n",
    "df = pd.read_csv('ChallengerSales_Week5_pandas.csv')\n",
    "#print(df)\n",
    "print(df.head(2)) # take first 10\n",
    "print(df.tail(2)) # take last 10"
   ]
  },
  {
   "cell_type": "code",
   "execution_count": null,
   "metadata": {
    "collapsed": true
   },
   "outputs": [],
   "source": [
    "#import execel / txt\n",
    "#df_e = pd.read_excel()"
   ]
  },
  {
   "cell_type": "code",
   "execution_count": 21,
   "metadata": {},
   "outputs": [
    {
     "data": {
      "text/plain": [
       "array([['6-Mar', 'Mon', 'Morning', ..., 79.97, 'Yes', 'West'],\n",
       "       ['6-Mar', 'Mon', 'Morning', ..., 25.55, 'No', 'West'],\n",
       "       ['6-Mar', 'Mon', 'Afternoon', ..., 90.47, 'Yes', 'West'],\n",
       "       ...,\n",
       "       ['25-Jun', 'Sat', 'Afternoon', ..., 180.66, 'No', 'West'],\n",
       "       ['25-Jun', 'Sat', 'Afternoon', ..., 85.79, 'No', 'East'],\n",
       "       ['25-Jun', 'Sat', 'Afternoon', ..., 107.59, 'No', 'East']],\n",
       "      dtype=object)"
      ]
     },
     "execution_count": 21,
     "metadata": {},
     "output_type": "execute_result"
    }
   ],
   "source": [
    "#built in funcations to check dataframe characterstics\n",
    "\n",
    "df.dtypes  # each colmn datatype\n",
    "df.shape # no of (row , column)\n",
    "df.index\n",
    "df.columns # column names\n",
    "df.values # in 2D array\n"
   ]
  },
  {
   "cell_type": "code",
   "execution_count": 25,
   "metadata": {},
   "outputs": [
    {
     "data": {
      "text/html": [
       "<div>\n",
       "<style scoped>\n",
       "    .dataframe tbody tr th:only-of-type {\n",
       "        vertical-align: middle;\n",
       "    }\n",
       "\n",
       "    .dataframe tbody tr th {\n",
       "        vertical-align: top;\n",
       "    }\n",
       "\n",
       "    .dataframe thead th {\n",
       "        text-align: right;\n",
       "    }\n",
       "</style>\n",
       "<table border=\"1\" class=\"dataframe\">\n",
       "  <thead>\n",
       "    <tr style=\"text-align: right;\">\n",
       "      <th></th>\n",
       "      <th>Date</th>\n",
       "      <th>Day</th>\n",
       "      <th>Time</th>\n",
       "      <th>Sex</th>\n",
       "      <th>BuyCategory</th>\n",
       "      <th>ItemsOrdered</th>\n",
       "      <th>TotalCost</th>\n",
       "      <th>HighItem</th>\n",
       "      <th>Member</th>\n",
       "      <th>Region</th>\n",
       "    </tr>\n",
       "  </thead>\n",
       "  <tbody>\n",
       "    <tr>\n",
       "      <th>0</th>\n",
       "      <td>6-Mar</td>\n",
       "      <td>Mon</td>\n",
       "      <td>Morning</td>\n",
       "      <td>Female</td>\n",
       "      <td>High</td>\n",
       "      <td>4</td>\n",
       "      <td>136.97</td>\n",
       "      <td>79.97</td>\n",
       "      <td>Yes</td>\n",
       "      <td>West</td>\n",
       "    </tr>\n",
       "    <tr>\n",
       "      <th>1</th>\n",
       "      <td>6-Mar</td>\n",
       "      <td>Mon</td>\n",
       "      <td>Morning</td>\n",
       "      <td>Female</td>\n",
       "      <td>Medium</td>\n",
       "      <td>1</td>\n",
       "      <td>25.55</td>\n",
       "      <td>25.55</td>\n",
       "      <td>No</td>\n",
       "      <td>West</td>\n",
       "    </tr>\n",
       "    <tr>\n",
       "      <th>2</th>\n",
       "      <td>6-Mar</td>\n",
       "      <td>Mon</td>\n",
       "      <td>Afternoon</td>\n",
       "      <td>Female</td>\n",
       "      <td>Medium</td>\n",
       "      <td>5</td>\n",
       "      <td>113.95</td>\n",
       "      <td>90.47</td>\n",
       "      <td>Yes</td>\n",
       "      <td>West</td>\n",
       "    </tr>\n",
       "    <tr>\n",
       "      <th>3</th>\n",
       "      <td>6-Mar</td>\n",
       "      <td>Mon</td>\n",
       "      <td>Afternoon</td>\n",
       "      <td>Female</td>\n",
       "      <td>Low</td>\n",
       "      <td>1</td>\n",
       "      <td>6.82</td>\n",
       "      <td>6.82</td>\n",
       "      <td>No</td>\n",
       "      <td>East</td>\n",
       "    </tr>\n",
       "    <tr>\n",
       "      <th>4</th>\n",
       "      <td>6-Mar</td>\n",
       "      <td>Mon</td>\n",
       "      <td>Afternoon</td>\n",
       "      <td>Male</td>\n",
       "      <td>Medium</td>\n",
       "      <td>4</td>\n",
       "      <td>147.32</td>\n",
       "      <td>83.21</td>\n",
       "      <td>Yes</td>\n",
       "      <td>West</td>\n",
       "    </tr>\n",
       "    <tr>\n",
       "      <th>...</th>\n",
       "      <td>...</td>\n",
       "      <td>...</td>\n",
       "      <td>...</td>\n",
       "      <td>...</td>\n",
       "      <td>...</td>\n",
       "      <td>...</td>\n",
       "      <td>...</td>\n",
       "      <td>...</td>\n",
       "      <td>...</td>\n",
       "      <td>...</td>\n",
       "    </tr>\n",
       "    <tr>\n",
       "      <th>395</th>\n",
       "      <td>25-Jun</td>\n",
       "      <td>Sat</td>\n",
       "      <td>Afternoon</td>\n",
       "      <td>Male</td>\n",
       "      <td>Medium</td>\n",
       "      <td>6</td>\n",
       "      <td>268.39</td>\n",
       "      <td>170.13</td>\n",
       "      <td>No</td>\n",
       "      <td>East</td>\n",
       "    </tr>\n",
       "    <tr>\n",
       "      <th>396</th>\n",
       "      <td>25-Jun</td>\n",
       "      <td>Sat</td>\n",
       "      <td>Afternoon</td>\n",
       "      <td>Female</td>\n",
       "      <td>Medium</td>\n",
       "      <td>3</td>\n",
       "      <td>169.11</td>\n",
       "      <td>80.08</td>\n",
       "      <td>No</td>\n",
       "      <td>East</td>\n",
       "    </tr>\n",
       "    <tr>\n",
       "      <th>397</th>\n",
       "      <td>25-Jun</td>\n",
       "      <td>Sat</td>\n",
       "      <td>Afternoon</td>\n",
       "      <td>Male</td>\n",
       "      <td>Medium</td>\n",
       "      <td>6</td>\n",
       "      <td>242.46</td>\n",
       "      <td>180.66</td>\n",
       "      <td>No</td>\n",
       "      <td>West</td>\n",
       "    </tr>\n",
       "    <tr>\n",
       "      <th>398</th>\n",
       "      <td>25-Jun</td>\n",
       "      <td>Sat</td>\n",
       "      <td>Afternoon</td>\n",
       "      <td>Male</td>\n",
       "      <td>Medium</td>\n",
       "      <td>4</td>\n",
       "      <td>168.64</td>\n",
       "      <td>85.79</td>\n",
       "      <td>No</td>\n",
       "      <td>East</td>\n",
       "    </tr>\n",
       "    <tr>\n",
       "      <th>399</th>\n",
       "      <td>25-Jun</td>\n",
       "      <td>Sat</td>\n",
       "      <td>Afternoon</td>\n",
       "      <td>Female</td>\n",
       "      <td>Low</td>\n",
       "      <td>1</td>\n",
       "      <td>107.59</td>\n",
       "      <td>107.59</td>\n",
       "      <td>No</td>\n",
       "      <td>East</td>\n",
       "    </tr>\n",
       "  </tbody>\n",
       "</table>\n",
       "<p>400 rows × 10 columns</p>\n",
       "</div>"
      ],
      "text/plain": [
       "       Date  Day       Time     Sex BuyCategory  ItemsOrdered  TotalCost  \\\n",
       "0     6-Mar  Mon    Morning  Female        High             4     136.97   \n",
       "1     6-Mar  Mon    Morning  Female      Medium             1      25.55   \n",
       "2     6-Mar  Mon  Afternoon  Female      Medium             5     113.95   \n",
       "3     6-Mar  Mon  Afternoon  Female         Low             1       6.82   \n",
       "4     6-Mar  Mon  Afternoon    Male      Medium             4     147.32   \n",
       "..      ...  ...        ...     ...         ...           ...        ...   \n",
       "395  25-Jun  Sat  Afternoon    Male      Medium             6     268.39   \n",
       "396  25-Jun  Sat  Afternoon  Female      Medium             3     169.11   \n",
       "397  25-Jun  Sat  Afternoon    Male      Medium             6     242.46   \n",
       "398  25-Jun  Sat  Afternoon    Male      Medium             4     168.64   \n",
       "399  25-Jun  Sat  Afternoon  Female         Low             1     107.59   \n",
       "\n",
       "     HighItem Member Region  \n",
       "0       79.97    Yes   West  \n",
       "1       25.55     No   West  \n",
       "2       90.47    Yes   West  \n",
       "3        6.82     No   East  \n",
       "4       83.21    Yes   West  \n",
       "..        ...    ...    ...  \n",
       "395    170.13     No   East  \n",
       "396     80.08     No   East  \n",
       "397    180.66     No   West  \n",
       "398     85.79     No   East  \n",
       "399    107.59     No   East  \n",
       "\n",
       "[400 rows x 10 columns]"
      ]
     },
     "execution_count": 25,
     "metadata": {},
     "output_type": "execute_result"
    }
   ],
   "source": [
    "# \n",
    "df.rename(columns={'Gender':'Sex'}) #rename column name # inplace=true to make change permaneat\n",
    "#help(df.rename())"
   ]
  },
  {
   "cell_type": "code",
   "execution_count": 13,
   "metadata": {},
   "outputs": [
    {
     "name": "stdout",
     "output_type": "stream",
     "text": [
      "    Date  Day       Time  Gender BuyCategory  ItemsOrdered  TotalCost  \\\n",
      "2  6-Mar  Mon  Afternoon  Female      Medium             5     113.95   \n",
      "3  6-Mar  Mon  Afternoon  Female         Low             1       6.82   \n",
      "\n",
      "   HighItem Member Region  \n",
      "2     90.47    Yes   West  \n",
      "3      6.82     No   East  \n",
      "East\n"
     ]
    },
    {
     "data": {
      "text/plain": [
       "RangeIndex(start=0, stop=400, step=1)"
      ]
     },
     "execution_count": 13,
     "metadata": {},
     "output_type": "execute_result"
    }
   ],
   "source": [
    "# series => create single column values into another var\n",
    "series = df['TotalCost'] # series \n",
    "type(series)\n",
    "\n",
    "print(df[2:4]) # 4 rows , 2,4\n",
    "\n",
    "print(df['Region'][3])\n",
    "df.index\n"
   ]
  },
  {
   "cell_type": "code",
   "execution_count": 46,
   "metadata": {
    "collapsed": true
   },
   "outputs": [],
   "source": [
    "#ge N columns\n",
    "#cols1 = df['Memeber','Region'] # create new dataFrame"
   ]
  },
  {
   "cell_type": "code",
   "execution_count": 32,
   "metadata": {},
   "outputs": [
    {
     "name": "stdout",
     "output_type": "stream",
     "text": [
      "         country    capital    area  population\n",
      "BR        Brazil   Brasilia   8.516      200.40\n",
      "RU        Russia     Moscow  17.100      143.50\n",
      "IN         India  New Dehli   3.286     1252.00\n",
      "CH         China    Beijing   9.597     1357.00\n",
      "SA  South Africa   Pretoria   1.221       52.98\n"
     ]
    }
   ],
   "source": [
    "# Set the index for brics to replace default 0-4\n",
    "brics.index = [\"BR\", \"RU\", \"IN\", \"CH\", \"SA\"]\n",
    "\n",
    "# Print out brics with new index values\n",
    "print(brics)"
   ]
  },
  {
   "cell_type": "code",
   "execution_count": 5,
   "metadata": {},
   "outputs": [
    {
     "name": "stdout",
     "output_type": "stream",
     "text": [
      "    Date  Day       Time  Gender BuyCategory  ItemsOrdered  TotalCost  \\\n",
      "0  6-Mar  Mon    Morning  Female        High             4     136.97   \n",
      "1  6-Mar  Mon    Morning  Female      Medium             1      25.55   \n",
      "2  6-Mar  Mon  Afternoon  Female      Medium             5     113.95   \n",
      "\n",
      "   HighItem Member Region  \n",
      "0     79.97    Yes   West  \n",
      "1     25.55     No   West  \n",
      "2     90.47    Yes   West  \n",
      "    Date  Day     Time  Gender BuyCategory  ItemsOrdered  TotalCost  HighItem  \\\n",
      "0  6-Mar  Mon  Morning  Female        High             4     136.97     79.97   \n",
      "1  6-Mar  Mon  Morning  Female      Medium             1      25.55     25.55   \n",
      "\n",
      "  Member Region  \n",
      "0    Yes   West  \n",
      "1     No   West  \n"
     ]
    }
   ],
   "source": [
    "#.loc indexer ; iloc index with int\n",
    "df.loc[1,'Member'] # row , column name\n",
    "df.iloc[1,1]  #row , column index # only index for xolumn not string accepted\n",
    "print(df.loc[0:2]) # loc display 0 to 2 not as index\n",
    "print(df.iloc[0:2]) # loc display 0 to 2 as index\n"
   ]
  },
  {
   "cell_type": "code",
   "execution_count": 77,
   "metadata": {},
   "outputs": [
    {
     "data": {
      "text/html": [
       "<div>\n",
       "<style scoped>\n",
       "    .dataframe tbody tr th:only-of-type {\n",
       "        vertical-align: middle;\n",
       "    }\n",
       "\n",
       "    .dataframe tbody tr th {\n",
       "        vertical-align: top;\n",
       "    }\n",
       "\n",
       "    .dataframe thead th {\n",
       "        text-align: right;\n",
       "    }\n",
       "</style>\n",
       "<table border=\"1\" class=\"dataframe\">\n",
       "  <thead>\n",
       "    <tr style=\"text-align: right;\">\n",
       "      <th></th>\n",
       "      <th>Date</th>\n",
       "      <th>Time</th>\n",
       "      <th>Member</th>\n",
       "    </tr>\n",
       "  </thead>\n",
       "  <tbody>\n",
       "    <tr>\n",
       "      <th>0</th>\n",
       "      <td>6-Mar</td>\n",
       "      <td>Morning</td>\n",
       "      <td>Yes</td>\n",
       "    </tr>\n",
       "    <tr>\n",
       "      <th>1</th>\n",
       "      <td>6-Mar</td>\n",
       "      <td>Morning</td>\n",
       "      <td>No</td>\n",
       "    </tr>\n",
       "    <tr>\n",
       "      <th>2</th>\n",
       "      <td>6-Mar</td>\n",
       "      <td>Afternoon</td>\n",
       "      <td>Yes</td>\n",
       "    </tr>\n",
       "    <tr>\n",
       "      <th>3</th>\n",
       "      <td>6-Mar</td>\n",
       "      <td>Afternoon</td>\n",
       "      <td>No</td>\n",
       "    </tr>\n",
       "    <tr>\n",
       "      <th>4</th>\n",
       "      <td>6-Mar</td>\n",
       "      <td>Afternoon</td>\n",
       "      <td>Yes</td>\n",
       "    </tr>\n",
       "    <tr>\n",
       "      <th>...</th>\n",
       "      <td>...</td>\n",
       "      <td>...</td>\n",
       "      <td>...</td>\n",
       "    </tr>\n",
       "    <tr>\n",
       "      <th>395</th>\n",
       "      <td>25-Jun</td>\n",
       "      <td>Afternoon</td>\n",
       "      <td>No</td>\n",
       "    </tr>\n",
       "    <tr>\n",
       "      <th>396</th>\n",
       "      <td>25-Jun</td>\n",
       "      <td>Afternoon</td>\n",
       "      <td>No</td>\n",
       "    </tr>\n",
       "    <tr>\n",
       "      <th>397</th>\n",
       "      <td>25-Jun</td>\n",
       "      <td>Afternoon</td>\n",
       "      <td>No</td>\n",
       "    </tr>\n",
       "    <tr>\n",
       "      <th>398</th>\n",
       "      <td>25-Jun</td>\n",
       "      <td>Afternoon</td>\n",
       "      <td>No</td>\n",
       "    </tr>\n",
       "    <tr>\n",
       "      <th>399</th>\n",
       "      <td>25-Jun</td>\n",
       "      <td>Afternoon</td>\n",
       "      <td>No</td>\n",
       "    </tr>\n",
       "  </tbody>\n",
       "</table>\n",
       "<p>400 rows × 3 columns</p>\n",
       "</div>"
      ],
      "text/plain": [
       "       Date       Time Member\n",
       "0     6-Mar    Morning    Yes\n",
       "1     6-Mar    Morning     No\n",
       "2     6-Mar  Afternoon    Yes\n",
       "3     6-Mar  Afternoon     No\n",
       "4     6-Mar  Afternoon    Yes\n",
       "..      ...        ...    ...\n",
       "395  25-Jun  Afternoon     No\n",
       "396  25-Jun  Afternoon     No\n",
       "397  25-Jun  Afternoon     No\n",
       "398  25-Jun  Afternoon     No\n",
       "399  25-Jun  Afternoon     No\n",
       "\n",
       "[400 rows x 3 columns]"
      ]
     },
     "execution_count": 77,
     "metadata": {},
     "output_type": "execute_result"
    }
   ],
   "source": [
    "#slicing\n",
    "cols_need = ['Gender','Region']\n",
    "df[cols_need] #list of columns\n",
    "\n",
    "df.iloc[:,9] #using iloc\n",
    "df.iloc[:,0:5:] #using iloc using slicing\n",
    "\n",
    "cols_need_i = [0,2,8]\n",
    "df.iloc[:,cols_need_i] #using iloc using list of columns index\n"
   ]
  },
  {
   "cell_type": "code",
   "execution_count": null,
   "metadata": {
    "collapsed": true
   },
   "outputs": [],
   "source": [
    "#new column"
   ]
  },
  {
   "cell_type": "code",
   "execution_count": 90,
   "metadata": {},
   "outputs": [
    {
     "name": "stdout",
     "output_type": "stream",
     "text": [
      "0     True\n",
      "1    False\n",
      "2     True\n",
      "3    False\n",
      "4     True\n",
      "5    False\n",
      "6    False\n",
      "7    False\n",
      "8    False\n",
      "9    False\n",
      "Name: Member, dtype: bool\n"
     ]
    }
   ],
   "source": [
    "#Filter data using Boolean indexing\n",
    "#member only\n",
    "memnber_filter = df['Member'] == 'Yes'\n",
    "print(memnber_filter.head(10))"
   ]
  },
  {
   "cell_type": "code",
   "execution_count": 102,
   "metadata": {},
   "outputs": [
    {
     "name": "stdout",
     "output_type": "stream",
     "text": [
      "      Date    Day       Time  Gender BuyCategory  ItemsOrdered  TotalCost  \\\n",
      "0    6-Mar    Mon    Morning  Female        High             4     136.97   \n",
      "2    6-Mar    Mon  Afternoon  Female      Medium             5     113.95   \n",
      "4    6-Mar    Mon  Afternoon    Male      Medium             4     147.32   \n",
      "10   8-Mar    Wed    Morning  Female      Medium             2      54.52   \n",
      "12   9-Mar  Thurs    Morning    Male        High             3     147.68   \n",
      "16  10-Mar    Fri  Afternoon  Female      Medium             6      96.53   \n",
      "17  10-Mar    Fri  Afternoon  Female      Medium             4      77.44   \n",
      "22  12-Mar    Sun    Evening  Female        High             9     429.98   \n",
      "25  14-Mar   Tues    Morning  Female      Medium             5     139.51   \n",
      "29  15-Mar    Wed  Afternoon  Female        High             2      83.38   \n",
      "\n",
      "    HighItem Member Region  \n",
      "0      79.97    Yes   West  \n",
      "2      90.47    Yes   West  \n",
      "4      83.21    Yes   West  \n",
      "10     54.38    Yes   East  \n",
      "12     96.64    Yes   East  \n",
      "16     93.68    Yes  South  \n",
      "17     77.28    Yes   West  \n",
      "22    381.33    Yes   West  \n",
      "25    133.11    Yes   East  \n",
      "29     71.02    Yes  South  \n"
     ]
    }
   ],
   "source": [
    "#apply filter and print only shortlisted rows\n",
    "memnber_filter1 = df.loc[memnber_filter,:]\n",
    "\n",
    "print(memnber_filter1.head(10))\n",
    "#print(memnber_filter1,memnber_filter)"
   ]
  },
  {
   "cell_type": "code",
   "execution_count": 103,
   "metadata": {},
   "outputs": [
    {
     "name": "stdout",
     "output_type": "stream",
     "text": [
      "No     306\n",
      "Yes     94\n",
      "Name: Member, dtype: int64\n",
      "No     0.765\n",
      "Yes    0.235\n",
      "Name: Member, dtype: float64\n"
     ]
    }
   ],
   "source": [
    "#value count => group by\n",
    "print(df['Member'].value_counts())\n",
    "print(df['Member'].value_counts(normalize=True)"
   ]
  },
  {
   "cell_type": "code",
   "execution_count": 135,
   "metadata": {},
   "outputs": [
    {
     "name": "stdout",
     "output_type": "stream",
     "text": [
      "0    West\n",
      "1    West\n",
      "Name: Region, dtype: object\n"
     ]
    },
    {
     "data": {
      "text/plain": [
       "West    121\n",
       "East    115\n",
       "Name: Region, dtype: int64"
      ]
     },
     "execution_count": 135,
     "metadata": {},
     "output_type": "execute_result"
    }
   ],
   "source": [
    "#multi filter conditions\n",
    "df_region_filter = (df['Region'] == 'West') | (df['Region'] == 'East')\n",
    "#df_region_filter.head()\n",
    "dft = df.loc[df_region_filter,'Region'] #apply filter\n",
    "print(dft.head(2))\n",
    "dft.value_counts()\n"
   ]
  },
  {
   "cell_type": "code",
   "execution_count": 123,
   "metadata": {
    "collapsed": true
   },
   "outputs": [],
   "source": [
    "#unique = df['Region'].unique()\n",
    "df_region_filter = (df['Region'] == 'West') | (df['Region'] == 'East')"
   ]
  },
  {
   "cell_type": "code",
   "execution_count": 27,
   "metadata": {},
   "outputs": [
    {
     "data": {
      "text/plain": [
       "396    Afternoon\n",
       "209    Afternoon\n",
       "203    Afternoon\n",
       "319    Afternoon\n",
       "196    Afternoon\n",
       "         ...    \n",
       "166      Morning\n",
       "163      Morning\n",
       "161      Morning\n",
       "155      Morning\n",
       "212      Morning\n",
       "Name: Time, Length: 184, dtype: object"
      ]
     },
     "execution_count": 27,
     "metadata": {},
     "output_type": "execute_result"
    }
   ],
   "source": [
    "#Qu\n",
    "filter1 =  (df['Gender'] == 'Female') &  (df['ItemsOrdered'] > 1)\n",
    "filter2 =  (df['TotalCost'] > 50) &  (df['TotalCost'] <= 400)\n",
    "dft = df.loc[filter1 & filter2,'Time']\n",
    "#print(type(dft))\n",
    "#print(dft.value_counts())\n",
    "dft.value_counts(normalize=True)\n",
    "dft.count()\n",
    "dft.name\n",
    "#dft.idxmax()\n",
    "dft.sort_index()\n",
    "dft.sort_values()"
   ]
  },
  {
   "cell_type": "code",
   "execution_count": null,
   "metadata": {
    "collapsed": true
   },
   "outputs": [],
   "source": []
  },
  {
   "cell_type": "code",
   "execution_count": 6,
   "metadata": {},
   "outputs": [
    {
     "ename": "NameError",
     "evalue": "name 'filter1' is not defined",
     "output_type": "error",
     "traceback": [
      "\u001b[1;31m---------------------------------------------------------------------------\u001b[0m",
      "\u001b[1;31mNameError\u001b[0m                                 Traceback (most recent call last)",
      "\u001b[1;32m<ipython-input-6-bb78a7038b50>\u001b[0m in \u001b[0;36m<module>\u001b[1;34m\u001b[0m\n\u001b[0;32m      1\u001b[0m \u001b[1;31m#SELECT COLUMNS\u001b[0m\u001b[1;33m\u001b[0m\u001b[1;33m\u001b[0m\u001b[1;33m\u001b[0m\u001b[0m\n\u001b[1;32m----> 2\u001b[1;33m \u001b[0mprint\u001b[0m\u001b[1;33m(\u001b[0m\u001b[0mdf\u001b[0m\u001b[1;33m.\u001b[0m\u001b[0mloc\u001b[0m\u001b[1;33m[\u001b[0m\u001b[0mfilter1\u001b[0m\u001b[1;33m,\u001b[0m\u001b[1;34m'Time'\u001b[0m\u001b[1;33m:\u001b[0m\u001b[1;34m'Region'\u001b[0m\u001b[1;33m]\u001b[0m\u001b[1;33m)\u001b[0m \u001b[1;31m# from Time to Region\u001b[0m\u001b[1;33m\u001b[0m\u001b[1;33m\u001b[0m\u001b[0m\n\u001b[0m\u001b[0;32m      3\u001b[0m \u001b[0mprint\u001b[0m\u001b[1;33m(\u001b[0m\u001b[0mdf\u001b[0m\u001b[1;33m.\u001b[0m\u001b[0mloc\u001b[0m\u001b[1;33m[\u001b[0m\u001b[0mfilter1\u001b[0m\u001b[1;33m,\u001b[0m\u001b[1;33m[\u001b[0m\u001b[1;34m'Time'\u001b[0m\u001b[1;33m,\u001b[0m\u001b[1;34m'Region'\u001b[0m\u001b[1;33m]\u001b[0m\u001b[1;33m]\u001b[0m\u001b[1;33m.\u001b[0m\u001b[0mhead\u001b[0m\u001b[1;33m(\u001b[0m\u001b[1;36m5\u001b[0m\u001b[1;33m)\u001b[0m\u001b[1;33m)\u001b[0m\u001b[1;31m# only Time , Region\u001b[0m\u001b[1;33m\u001b[0m\u001b[1;33m\u001b[0m\u001b[0m\n\u001b[0;32m      4\u001b[0m \u001b[1;33m\u001b[0m\u001b[0m\n",
      "\u001b[1;31mNameError\u001b[0m: name 'filter1' is not defined"
     ]
    }
   ],
   "source": [
    "#SELECT COLUMNS\n",
    "print(df.loc[filter1,'Time':'Region']) # from Time to Region\n",
    "print(df.loc[filter1,['Time','Region']].head(5))# only Time , Region\n",
    "\n"
   ]
  },
  {
   "cell_type": "code",
   "execution_count": 187,
   "metadata": {},
   "outputs": [
    {
     "name": "stdout",
     "output_type": "stream",
     "text": [
      "      Time  Gender BuyCategory\n",
      "0  Morning  Female        High\n",
      "1  Morning  Female      Medium\n",
      "        Time  Gender BuyCategory\n",
      "0    Morning  Female        High\n",
      "1    Morning  Female      Medium\n",
      "2  Afternoon  Female      Medium\n"
     ]
    }
   ],
   "source": [
    "print(df.iloc[0:2,2:5]) # with iloc colmns can be sliced with index\n",
    "print(df.loc[0:2,'Time' : 'BuyCategory']) #with loc col names need be in string"
   ]
  },
  {
   "cell_type": "code",
   "execution_count": null,
   "metadata": {
    "collapsed": true
   },
   "outputs": [],
   "source": [
    "#pivot table\n",
    "#date time funcations"
   ]
  },
  {
   "cell_type": "code",
   "execution_count": null,
   "metadata": {
    "collapsed": true
   },
   "outputs": [],
   "source": [
    "# converting the regis column\n",
    "df_wait = df[\"triage_sec\"] - df[\"reg_sec\"]\n",
    "df_wait.head(15)\n",
    "\n",
    "# creating a filter\n",
    "filt1 = df[\"triage_sec\"] < df[\"reg_sec\"]\n",
    "\n",
    "# making provision for case 2 in the df_wait series\n",
    "# You need to remember the person would have waited some time in Day1 and then some time in day 2. \n",
    "# The total secs in a day is (24*60*60) or 86400 secs thus time spent in day 1 since registration would be 86400 - reg_secs\n",
    "# Time spent in day2 would be triage_secs. So total time spent = Day 1 + day 2 time\n",
    "\n",
    "# filtering out the negative values and modifying \n",
    "df_wait[filt1] = (24*60*60) - df[\"reg_sec\"][filt1] + df[\"triage_sec\"][filt1] \n",
    "\n",
    "# add back to the data as an additional column \n",
    "df[\"Wait_time\"] = df_wait\n",
    "df[\"Wait_min\"]  = df[\"Wait_time\"] / 60 \n",
    "\n",
    "df.head(16)\n",
    "\n",
    "#pivot Table => row to column\n",
    "df[['Hospital_Name', 'Wait_min']].pivot_table(columns = \"Hospital_Name\", fill_value = \"Wait_min\", \n",
    "                                              aggfunc = (\"mean\", \"median\", \"max\"))"
   ]
  }
 ],
 "metadata": {
  "kernelspec": {
   "display_name": "Python 3",
   "language": "python",
   "name": "python3"
  },
  "language_info": {
   "codemirror_mode": {
    "name": "ipython",
    "version": 3
   },
   "file_extension": ".py",
   "mimetype": "text/x-python",
   "name": "python",
   "nbconvert_exporter": "python",
   "pygments_lexer": "ipython3",
   "version": "3.6.2"
  }
 },
 "nbformat": 4,
 "nbformat_minor": 4
}
