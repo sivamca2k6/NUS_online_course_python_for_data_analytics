{
 "cells": [
  {
   "cell_type": "code",
   "execution_count": 2,
   "metadata": {},
   "outputs": [
    {
     "name": "stdout",
     "output_type": "stream",
     "text": [
      "test\n",
      "None <class 'NoneType'>\n"
     ]
    }
   ],
   "source": [
    "#built in functions\n",
    "result = print(\"test\")\n",
    "print(result , type(result))"
   ]
  },
  {
   "cell_type": "code",
   "execution_count": 14,
   "metadata": {},
   "outputs": [
    {
     "name": "stdout",
     "output_type": "stream",
     "text": [
      "11\n"
     ]
    }
   ],
   "source": [
    "# function\n",
    "def AddValue1_Fun(val1):\n",
    "    \"\"\" comments : add 1 with parameter \"\"\"\n",
    "    val1 = val1 + 1\n",
    "    return val1\n",
    "\n",
    "ret = AddValue1_Fun(10)\n",
    "print(ret)\n",
    "    "
   ]
  },
  {
   "cell_type": "code",
   "execution_count": 12,
   "metadata": {},
   "outputs": [
    {
     "name": "stdout",
     "output_type": "stream",
     "text": [
      "[12, 37, 38, 68]\n"
     ]
    }
   ],
   "source": [
    "ages = [11, 36, 37, 67]\n",
    "tickets = [AddValue1(age) for age in ages] \n",
    "          \n",
    "print(tickets)"
   ]
  },
  {
   "cell_type": "code",
   "execution_count": 26,
   "metadata": {},
   "outputs": [
    {
     "name": "stdout",
     "output_type": "stream",
     "text": [
      "siva 38 Python\n",
      "('siva', '38', 'Python') <class 'tuple'>\n",
      "siva 38 NUS\n",
      "('siva', '38', 'NUS')\n"
     ]
    }
   ],
   "source": [
    "#ORDER => keyword followed by positional arguments\n",
    "def fun_arg(name , age , course =\"NUS\"):\n",
    "    print(name,age,course)\n",
    "    return (name,age,course)\n",
    "\n",
    "ret = fun_arg(\"siva\",\"38\",\"Python\")\n",
    "print(ret ,type(ret))\n",
    "print(fun_arg(\"siva\",\"38\"))"
   ]
  },
  {
   "cell_type": "code",
   "execution_count": 2,
   "metadata": {},
   "outputs": [
    {
     "name": "stdout",
     "output_type": "stream",
     "text": [
      "5.142857142857143\n",
      "12.746614863413363\n"
     ]
    }
   ],
   "source": [
    "#Modules\n",
    "import statistics\n",
    "import statistics as st # alias\n",
    "from statistics import mean as ml #alias for single fun\n",
    "\n",
    "a_list = [12, -12, 4, 6, 12, 24,-10]\n",
    "\n",
    "print(st.mean(a_list))\n",
    "print(st.stdev(a_list))"
   ]
  },
  {
   "cell_type": "code",
   "execution_count": 27,
   "metadata": {
    "collapsed": true
   },
   "outputs": [],
   "source": []
  },
  {
   "cell_type": "code",
   "execution_count": 33,
   "metadata": {},
   "outputs": [
    {
     "name": "stdout",
     "output_type": "stream",
     "text": [
      "<class 'numpy.ndarray'>\n",
      "1\n",
      "(5,)\n",
      "float64\n",
      "############\n",
      "[[ 1.   2. ]\n",
      " [ 2.   3.5]\n",
      " [ 5.   6.5]]\n"
     ]
    }
   ],
   "source": [
    "#NumPy => core lib for scientific\n",
    "\n",
    "import numpy as np\n",
    "\n",
    "array_1d = np.array([2, 3.60, 2.05, 13.50, 18.90])  # Construct an array from a list\n",
    "\n",
    "print(type(array_1d))                               # Data type of array_1d\n",
    "print(array_1d.ndim)                                # Number of dimensions\n",
    "print(array_1d.shape)                               # Shape of the array\n",
    "print(array_1d.dtype)                               # Type of the data item\n",
    "\n",
    "print(\"############\")\n",
    "\n",
    "#2D\n",
    "\n",
    "nested_list = [[1, 2],    \n",
    "               [2, 3.5],     \n",
    "               [5, 6.5]]            # Each inner list specifies a row\n",
    "\n",
    "array_2d = np.array(nested_list)    # Construct a 2-dimensional array from a nested list  \n",
    "\n",
    "print( array_2d)\n"
   ]
  },
  {
   "cell_type": "code",
   "execution_count": 36,
   "metadata": {},
   "outputs": [
    {
     "name": "stdout",
     "output_type": "stream",
     "text": [
      "[   1  100 1000]\n",
      "[    1.37   137.    1370.  ]\n"
     ]
    }
   ],
   "source": [
    "import numpy as np\n",
    "USD = [1,100,1000] \n",
    "usd_array = np.array(USD) \n",
    "print(usd_array)\n",
    "print(usd_array*1.37)"
   ]
  },
  {
   "cell_type": "code",
   "execution_count": 8,
   "metadata": {},
   "outputs": [
    {
     "name": "stdout",
     "output_type": "stream",
     "text": [
      "[   1.37  137.   1370.  ]\n",
      "[[   3  300 3000]\n",
      " [   3  303 3003]]\n"
     ]
    }
   ],
   "source": [
    "import numpy as np\n",
    "USD = [1,100,1000] \n",
    "SGD = np.array(USD) * 1.37\n",
    "print(SGD)\n",
    "usd_array2 = np.array([[1,100,1000] ,[1,101,1001] ]) \n",
    "print(usd_array2* 3)\n"
   ]
  },
  {
   "cell_type": "code",
   "execution_count": 19,
   "metadata": {},
   "outputs": [
    {
     "name": "stdout",
     "output_type": "stream",
     "text": [
      "[27.88755755 28.75558507 25.48723993 25.84368152]\n"
     ]
    }
   ],
   "source": [
    "# Create 2 new lists height and weight\n",
    "height = [1.87,  1.87, 1.82, 1.91, 1.90, 1.85]\n",
    "weight = [81.65, 97.52, 95.25, 92.98, 86.18, 88.45]\n",
    "\n",
    "# Import the numpy package as np\n",
    "import numpy as np\n",
    "\n",
    "# Create 2 numpy arrays from height and weight\n",
    "np_height = np.array(height)\n",
    "np_weight = np.array(weight)\n",
    "\n",
    "#print(type(np_height))\n",
    "\n",
    "# Calculate bmi\n",
    "bmi = np_weight / np_height ** 2\n",
    "\n",
    "# Print the result\n",
    "#print(bmi)\n",
    "\n",
    "# For a boolean response\n",
    "bmi > 25\n",
    "\n",
    "# Print only those observations above 25\n",
    "bmi1 = bmi[bmi > 25]\n",
    "\n",
    "print(bmi1)\n"
   ]
  },
  {
   "cell_type": "code",
   "execution_count": 1,
   "metadata": {},
   "outputs": [
    {
     "name": "stdout",
     "output_type": "stream",
     "text": [
      "1\n"
     ]
    }
   ],
   "source": [
    "#2D array\n",
    "import numpy as np\n",
    "\n",
    "\n",
    "arr2D = np.array([[1, 2, 3], [4, 5, 6]])\n",
    "\n",
    "#print(arr2D , arr.ndim)\n",
    "\n",
    "print(arr2D[0][0])\n",
    "\n",
    "\n"
   ]
  },
  {
   "cell_type": "code",
   "execution_count": 39,
   "metadata": {},
   "outputs": [
    {
     "name": "stdout",
     "output_type": "stream",
     "text": [
      "[2 4]\n",
      "2\n"
     ]
    }
   ],
   "source": [
    "arr = np.array([1, 2, 3, 4, 5, 6, 7])\n",
    "\n",
    "print(arr[1:5:2])\n",
    "\n",
    "print(5%3)"
   ]
  },
  {
   "cell_type": "code",
   "execution_count": 40,
   "metadata": {},
   "outputs": [
    {
     "name": "stdout",
     "output_type": "stream",
     "text": [
      "None\n"
     ]
    }
   ],
   "source": [
    "def func(x, y):\n",
    "\n",
    "    \"\"\"This is a function\"\"\"\n",
    "\n",
    "    if x%3 == 0:\n",
    "\n",
    "        return x\n",
    "\n",
    "    elif x%3 == 1:\n",
    "\n",
    "        return y\n",
    "\n",
    "x = 1\n",
    "\n",
    "y = 2\n",
    "\n",
    "print(func(y=x, x=y))"
   ]
  },
  {
   "cell_type": "code",
   "execution_count": 41,
   "metadata": {},
   "outputs": [
    {
     "name": "stdout",
     "output_type": "stream",
     "text": [
      "None\n"
     ]
    }
   ],
   "source": [
    "def sum_sq(x):\n",
    "\n",
    "    \"\"\"This is a function\"\"\"\n",
    "\n",
    "    output = sum([item**2 for item in x])\n",
    "\n",
    "\"\"\"Outside the function\"\"\"\n",
    "\n",
    "x = [1, 1, 1]\n",
    "\n",
    "y = [2, 2, 2]\n",
    "\n",
    "print(sum_sq(y))"
   ]
  },
  {
   "cell_type": "code",
   "execution_count": 42,
   "metadata": {},
   "outputs": [
    {
     "name": "stdout",
     "output_type": "stream",
     "text": [
      "[2, 2, 2]\n"
     ]
    }
   ],
   "source": [
    "def sum_sq(x):\n",
    "\n",
    "    output = sum([item**2 for item in x])\n",
    "\n",
    "    return x\n",
    "\n",
    "x = [1, 1, 1]\n",
    "\n",
    "y = [2, 2, 2]\n",
    "\n",
    "print(sum_sq(y))\n"
   ]
  },
  {
   "cell_type": "code",
   "execution_count": 43,
   "metadata": {},
   "outputs": [
    {
     "name": "stdout",
     "output_type": "stream",
     "text": [
      "34\n"
     ]
    }
   ],
   "source": [
    "x, y, z = 1, 2, 3\n",
    "\n",
    "def sum_two(x, y, z):\n",
    "\n",
    "    \"\"\"This is a function\"\"\"\n",
    "\n",
    "    return x+y, y+z, x+z\n",
    "\n",
    "result = sum_two(x, y, z)\n",
    "\n",
    "a, b = result[::2]\n",
    "\n",
    "print(str(a) + str(b))"
   ]
  },
  {
   "cell_type": "code",
   "execution_count": 31,
   "metadata": {},
   "outputs": [
    {
     "name": "stdout",
     "output_type": "stream",
     "text": [
      "2\n"
     ]
    }
   ],
   "source": [
    "def func(x, y):\n",
    "\n",
    "    \"\"\"This is a function\"\"\"\n",
    "\n",
    "    if x%3 == 0:\n",
    "\n",
    "        return x\n",
    "\n",
    "    elif x%3 == 1:\n",
    "\n",
    "        return y\n",
    "\n",
    "x = 1\n",
    "\n",
    "y = 2\n",
    "\n",
    "print(func(x, y))"
   ]
  }
 ],
 "metadata": {
  "kernelspec": {
   "display_name": "Python 3",
   "language": "python",
   "name": "python3"
  },
  "language_info": {
   "codemirror_mode": {
    "name": "ipython",
    "version": 3
   },
   "file_extension": ".py",
   "mimetype": "text/x-python",
   "name": "python",
   "nbconvert_exporter": "python",
   "pygments_lexer": "ipython3",
   "version": "3.8.3"
  }
 },
 "nbformat": 4,
 "nbformat_minor": 2
}
