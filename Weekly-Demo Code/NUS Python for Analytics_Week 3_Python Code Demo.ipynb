{
 "cells": [
  {
   "cell_type": "markdown",
   "metadata": {},
   "source": [
    "# Module 3\n",
    "\n",
    "## Lists <a id=\"section1\"></a>\n",
    "The Python list is a collection of data (with the same or mixed types), created by placing all the items (elements) inside a square bracket \\[ \\], separated by commas."
   ]
  },
  {
   "cell_type": "code",
   "execution_count": 1,
   "metadata": {
    "collapsed": true
   },
   "outputs": [],
   "source": [
    "# An empty list\n",
    "I_feel_empty = []                       \n",
    "\n",
    "# A list with the same data types\n",
    "furious_five = ['Tigress', 'Crane', 'Mantis', 'Monkey', 'Viper']\n",
    "\n",
    "# A list of mixed data types\n",
    "my_answers = ['B', 'C',         # Answers for MCQs\n",
    "              False, True,      # Answers for True or False questions\n",
    "              0.256]            # Answers for a quantitative question"
   ]
  },
  {
   "cell_type": "markdown",
   "metadata": {},
   "source": [
    "<div class=\"alert alert-block alert-warning\">\n",
    "<b>Coding Style: </b> Limit all lines to a maximum of 79 characters.\n",
    "</div>\n",
    "\n",
    "> *The preferred way of wrapping long lines is by using Python's implied line continuation inside parentheses, brackets and braces. Long lines can be broken over multiple lines by wrapping expressions in parentheses.* -[PEP 8 Style Guide](https://www.python.org/dev/peps/pep-0008/#maximum-line-length)\n",
    "\n",
    "### Comparison between lists and strings <a id=\"subsection1.1\"></a>\n",
    "#### Similarities\n",
    "A list is very similar to a string in the following perspectives:\n",
    "\n",
    "- Data items in a list are organized as a ordered sequence, just like how characters are organized in a string."
   ]
  },
  {
   "cell_type": "code",
   "execution_count": 2,
   "metadata": {},
   "outputs": [
    {
     "name": "stdout",
     "output_type": "stream",
     "text": [
      "[]\n",
      "['Tigress', 'Crane', 'Mantis', 'Monkey', 'Viper']\n",
      "['B', 'C', False, True, 0.256]\n"
     ]
    }
   ],
   "source": [
    "print(I_feel_empty)\n",
    "print(furious_five)\n",
    "print(my_answers)"
   ]
  },
  {
   "cell_type": "markdown",
   "metadata": {},
   "source": [
    "- Items in a list can be accessed via the same indexing and slicing system as strings. "
   ]
  },
  {
   "cell_type": "code",
   "execution_count": 3,
   "metadata": {},
   "outputs": [
    {
     "name": "stdout",
     "output_type": "stream",
     "text": [
      "Viper\n",
      "['Tigress', 'Crane']\n"
     ]
    }
   ],
   "source": [
    "\"\"\"Indexing and slicing of lists\"\"\"\n",
    "\n",
    "last_warrior = furious_five[-1]         # The last item from the list\n",
    "first_two_warriors = furious_five[:2]   # The first two items\n",
    "\n",
    "print(last_warrior)\n",
    "print(first_two_warriors)"
   ]
  },
  {
   "cell_type": "code",
   "execution_count": 4,
   "metadata": {},
   "outputs": [
    {
     "name": "stdout",
     "output_type": "stream",
     "text": [
      "C\n"
     ]
    }
   ],
   "source": [
    "\"\"\"Nested indexing\"\"\"\n",
    "\n",
    "my_answers = [['B', 'C'],       # Answers for MCQs\n",
    "              [False, True],    # Answers for True or False questions\n",
    "              [0.256, 2]]       # Answers for quantitative questions \n",
    "\n",
    "all_mcqs = my_answers[0]\n",
    "second_mcq = all_mcqs[1]\n",
    "print(second_mcq)"
   ]
  },
  {
   "cell_type": "markdown",
   "metadata": {},
   "source": [
    "This is equivalent to the following code."
   ]
  },
  {
   "cell_type": "code",
   "execution_count": 5,
   "metadata": {},
   "outputs": [
    {
     "name": "stdout",
     "output_type": "stream",
     "text": [
      "C\n"
     ]
    }
   ],
   "source": [
    "\"\"\"Nested indexing\"\"\"\n",
    "\n",
    "my_answers = [['B', 'C'],       # Answers for MCQs\n",
    "              [False, True],    # Answers for True or False questions\n",
    "              [0.256, 2]]       # Answers for quantitative questions \n",
    "\n",
    "first_mcq = my_answers[0][1]    # The 2nd item from the 1st inner list\n",
    "print(first_mcq)"
   ]
  },
  {
   "cell_type": "markdown",
   "metadata": {},
   "source": [
    "You are encouraged to change the index of the outer and inner list and see if you can tell the output of the program.\n",
    "\n",
    "- Some operators and functions, like <code>+</code>, <code>*</code>, and <code>len</code>, can be used the same way as strings."
   ]
  },
  {
   "cell_type": "code",
   "execution_count": 6,
   "metadata": {},
   "outputs": [
    {
     "name": "stdout",
     "output_type": "stream",
     "text": [
      "['A', 'B', 'C', 2, 2.5, 2, 2.5, 2, 2.5]\n",
      "9\n"
     ]
    }
   ],
   "source": [
    "\"\"\"Operators and functions\"\"\"\n",
    "\n",
    "letters = ['A', 'B', 'C']       # A list of letters\n",
    "numbers = [2, 2.5]              # A list of numbers\n",
    "\n",
    "mixed = letters + numbers*3     # A mixed list\n",
    "\n",
    "print(mixed)                    # Print the new mixed list\n",
    "print(len(mixed))               # Print the length of the mixed list"
   ]
  },
  {
   "cell_type": "markdown",
   "metadata": {},
   "source": [
    "#### Differences\n",
    "Lists are different from strings mainly in two perspectives.\n",
    "\n",
    "- Lists are **mutable**, meaning that you can modify part of the list elements. The string, on the other hand, is **immutable** as the characters cannot be partially changed. If you try to change a subset of string, an error message would be given. "
   ]
  },
  {
   "cell_type": "code",
   "execution_count": 7,
   "metadata": {
    "scrolled": true
   },
   "outputs": [
    {
     "name": "stdout",
     "output_type": "stream",
     "text": [
      "['B', 'C', False, True, 0.256, 2]\n",
      "['B', 'D', False, True, 0.256, 2]\n",
      "['B', 'D', True, False, 0.256, 2]\n"
     ]
    }
   ],
   "source": [
    "my_answers = ['B', 'C', False, True, 0.256, 2]\n",
    "print(my_answers)                   # Print the original list\n",
    "\n",
    "my_answers[1] = 'D'                 # Modify the 2nd item in the list\n",
    "print(my_answers)                   # Print the modified list\n",
    "\n",
    "my_answers[2:4] = [True, False]     # Modify the 3rd and the 4th item\n",
    "print(my_answers)                   # Print the modified list"
   ]
  },
  {
   "cell_type": "code",
   "execution_count": 19,
   "metadata": {
    "scrolled": true
   },
   "outputs": [
    {
     "name": "stdout",
     "output_type": "stream",
     "text": [
      "True True\n",
      "['Java', 'C++', 'Python']\n",
      "['Java', 'C++', 'Python']\n"
     ]
    }
   ],
   "source": [
    "list1 = ['Java', 'C', 'Python']\n",
    "list2 = list1               # Assignment implies aliasing\n",
    "print(list1 == list2,       # They have the same values\n",
    "      list1 is list2)       # They are the same object\n",
    "list2[1] = 'C++'            # Change the 2nd item of list2\n",
    "print(list1)\n",
    "print(list2)"
   ]
  },
  {
   "cell_type": "markdown",
   "metadata": {},
   "source": [
    "It can be seen that the variables <code>list1</code> and <code>list2</code> are the same list (object), as indicated by the fact that the boolean statement <code>list1 is list2</code> is <code>True</code>. As a result, if we make changes on <code>list2</code>, the same change would apply to variable <code>list1</code>. \n",
    "\n",
    "If we need to create a new list with the same element values, we can use the method <code>copy()</code>, as in the following example."
   ]
  },
  {
   "cell_type": "code",
   "execution_count": 20,
   "metadata": {
    "scrolled": true
   },
   "outputs": [
    {
     "name": "stdout",
     "output_type": "stream",
     "text": [
      "True False\n",
      "['Java', 'C', 'Python']\n",
      "['Java', 'C++', 'Python']\n"
     ]
    }
   ],
   "source": [
    "list1 = ['Java', 'C', 'Python']\n",
    "list2 = list1.copy()        # Create a new copy of list1\n",
    "print(list1 == list2,       # They have the same values\n",
    "      list1 is list2)       # They are not the same object\n",
    "list2[1] = 'C++'            # Change the 2nd item of list2\n",
    "print(list1)\n",
    "print(list2)"
   ]
  },
  {
   "cell_type": "markdown",
   "metadata": {},
   "source": [
    "Equivalently, the new list can be created via list slicing, as code below."
   ]
  },
  {
   "cell_type": "code",
   "execution_count": 21,
   "metadata": {},
   "outputs": [
    {
     "name": "stdout",
     "output_type": "stream",
     "text": [
      "True True\n"
     ]
    }
   ],
   "source": [
    "list2 = list1[:]        # Create a new copy of list1\n",
    "print(list1 == list2,   # They have the same values\n",
    "      list1 is list1)   # They are not the same object"
   ]
  },
  {
   "cell_type": "markdown",
   "metadata": {},
   "source": [
    "In the case above, though lists <code>list1</code> and <code>list2</code> have elements with the same values, as indicated by the fact that <code>list1 == list2</code> is <code>True</code>, they are different lists (objects), so <code>list1 is list2</code> is <code>False</code> and changes on one list will not affect the other.\n",
    "\n",
    "<div class=\"alert alert-block alert-danger\">\n",
    "<b>Notes:</b>  \n",
    "    Though Alias of lists are useful in programming, it is error-prone.  In general, it is safer to avoid aliasing when you are working with lists. \n",
    "</div>\n",
    "\n",
    "### List methods <a id=\"subsection1.2\"></a>\n",
    "\n",
    "In this lecture, we focused on the following methods that are more commonly used. The full details of list methods can be found on [Python list methods](https://www.programiz.com/python-programming/methods/list).\n",
    "\n",
    "####  <code>append</code>, <code>extend</code>, and <code>insert</code>\n",
    "Python list methods <code>append()</code> and <code>extend()</code> are used to modify a list by adding a single item or another list to the end of the original one, as shown by the following code. "
   ]
  },
  {
   "cell_type": "code",
   "execution_count": 12,
   "metadata": {},
   "outputs": [
    {
     "name": "stdout",
     "output_type": "stream",
     "text": [
      "[1, 2, 3, 4]\n",
      "[1, 2, 3, 4, 5]\n",
      "[1, 2, 3, 4, 5, 6, 7, 8, 9]\n"
     ]
    }
   ],
   "source": [
    "the_list = [1, 2, 3, 4]\n",
    "print(the_list)\n",
    "\n",
    "the_list.append(5)              # Item 5 is added to the list\n",
    "print(the_list)\n",
    "\n",
    "another_list = [6, 7, 8, 9]\n",
    "the_list.extend(another_list)   # Another list is added to the list\n",
    "print(the_list)"
   ]
  },
  {
   "cell_type": "markdown",
   "metadata": {},
   "source": [
    "Please note that methods <code>append()</code> and <code>extend()</code> only modifies the original list. This is different from the operator <code>+</code>, which creates a new list by combining two given lists, as illustrated as follows."
   ]
  },
  {
   "cell_type": "code",
   "execution_count": 13,
   "metadata": {
    "scrolled": true
   },
   "outputs": [
    {
     "name": "stdout",
     "output_type": "stream",
     "text": [
      "[1, 2, 3, 4]\n",
      "[1, 2, 3, 4, 5, 6, 7, 8, 9]\n"
     ]
    }
   ],
   "source": [
    "the_list = [1, 2, 3, 4]\n",
    "another_list = [6, 7, 8, 9]\n",
    "\n",
    "new_list = the_list + [5] + another_list    # Create a new list by \"+\"\n",
    "\n",
    "print(the_list)                             # The list is unchanged\n",
    "print(new_list)                             # This is a new list"
   ]
  },
  {
   "cell_type": "markdown",
   "metadata": {},
   "source": [
    "Besides adding elements at the end of the list, we can also insert an item in an arbitrary position of the list, by using the method <code>insert()</code>, as demonstrated by the following code."
   ]
  },
  {
   "cell_type": "code",
   "execution_count": 14,
   "metadata": {},
   "outputs": [
    {
     "name": "stdout",
     "output_type": "stream",
     "text": [
      "[1, 2, 'here', 3, 4]\n"
     ]
    }
   ],
   "source": [
    "the_list = [1, 2, 3, 4]\n",
    "the_list.insert(2, 'here')   # Insert an item, with the index to be 2\n",
    "\n",
    "print(the_list)"
   ]
  },
  {
   "cell_type": "markdown",
   "metadata": {},
   "source": [
    "It can be seen that for the method <code>insert()</code>, the first argument is the index of the position that the new item is inserted, and the second input argument is the data item to be inserted. \n",
    "\n",
    "####  <code>remove</code> and <code>pop</code>\n",
    "List methods <code>remove()</code> and <code>pop()</code> are used to delete an item from a list, given the value or index of the item, respectively. Examples are provided below to illustrate these two methods."
   ]
  },
  {
   "cell_type": "code",
   "execution_count": 15,
   "metadata": {},
   "outputs": [
    {
     "name": "stdout",
     "output_type": "stream",
     "text": [
      "[1, 2, 3, 4]\n"
     ]
    }
   ],
   "source": [
    "the_list = [1, 2, 'here', 3, 4]\n",
    "\n",
    "the_list.remove('here')       # Remove \"here\" from the list\n",
    "print(the_list)"
   ]
  },
  {
   "cell_type": "code",
   "execution_count": 16,
   "metadata": {},
   "outputs": [
    {
     "name": "stdout",
     "output_type": "stream",
     "text": [
      "here\n",
      "[1, 2, 3, 4, 'last item']\n"
     ]
    }
   ],
   "source": [
    "the_list = [1, 2, 'here', 3, 4, 'last item']\n",
    "\n",
    "pop_item = the_list.pop(2)  # Remove the 3rd item, and return this item\n",
    "print(pop_item)\n",
    "print(the_list)"
   ]
  },
  {
   "cell_type": "code",
   "execution_count": 17,
   "metadata": {},
   "outputs": [
    {
     "name": "stdout",
     "output_type": "stream",
     "text": [
      "last item\n",
      "[1, 2, 'here', 3, 4]\n"
     ]
    }
   ],
   "source": [
    "the_list = [1, 2, 'here', 3, 4, 'last item']\n",
    "\n",
    "pop_item = the_list.pop()   # The default value of pop index is -1\n",
    "print(pop_item)\n",
    "print(the_list)"
   ]
  },
  {
   "cell_type": "markdown",
   "metadata": {},
   "source": [
    "### Loops and comprehension with lists <a id=\"subsection1.3\"></a>\n",
    "In Python programming, lists and strings are called **iterables**. An iterable is a compound data object that each of its elements can be processed in an iterative manner. It is usually used in loops, where similar tasks are conducted repeatedly for every list element. \n",
    "\n",
    "<div class=\"alert alert-block alert-success\">\n",
    "<b>Example 1: The Pythonic way of saying \"I miss you\"</b> \n",
    "</div>"
   ]
  },
  {
   "cell_type": "code",
   "execution_count": 18,
   "metadata": {},
   "outputs": [
    {
     "name": "stdout",
     "output_type": "stream",
     "text": [
      "Baby,\n",
      "Monday, I miss you!\n",
      "Tuesday, I miss you!\n",
      "Wednesday, I miss you!\n",
      "Thursday, I miss you!\n",
      "Friday, I miss you!\n",
      "Saturday, I miss you!\n",
      "Sunday, I miss you!\n"
     ]
    }
   ],
   "source": [
    "a_week = ['Monday', 'Tuesday', 'Wednesday', 'Thursday', \n",
    "          'Friday', 'Saturday', 'Sunday']\n",
    "\n",
    "print('Baby,')                           # Say \"baby\"\n",
    "for each_day in a_week:                  # Iterate each day in a week\n",
    "    print(each_day + ', I miss you!')    # Combine string segments by \"+\""
   ]
  },
  {
   "cell_type": "markdown",
   "metadata": {},
   "source": [
    "#### List comprehension\n",
    "\n",
    "<div class=\"alert alert-block alert-success\">\n",
    "<b>Example 2:</b>  \n",
    "   <b>usd</b> is a list containing five money transactions in US dollars. Create another list named <b>sgd</b> that transfers each transaction into Singapore dollars. \n",
    "</div>"
   ]
  },
  {
   "cell_type": "code",
   "execution_count": 20,
   "metadata": {},
   "outputs": [
    {
     "name": "stdout",
     "output_type": "stream",
     "text": [
      "[2.74, 4.932, 2.8085, 18.495, 25.893]\n"
     ]
    }
   ],
   "source": [
    "usd = [2, 3.60, 2.05, 13.50, 18.90]\n",
    "exchange_rate = 1.37\n",
    "\n",
    "sgd = []                                # Create an empty list\n",
    "for trans in usd:                       # Iterate each item \n",
    "    sgd.append(trans * exchange_rate)   # Append each item to the list\n",
    "\n",
    "print(sgd)"
   ]
  },
  {
   "cell_type": "markdown",
   "metadata": {},
   "source": [
    "**Python list comprehensions** provide a much more concise and readable way to create lists, as illustrated by the code segment below."
   ]
  },
  {
   "cell_type": "code",
   "execution_count": 21,
   "metadata": {},
   "outputs": [
    {
     "name": "stdout",
     "output_type": "stream",
     "text": [
      "[2.74, 4.932, 2.8085, 18.495, 25.893]\n"
     ]
    }
   ],
   "source": [
    "usd = [2, 3.60, 2.05, 13.50, 18.90]\n",
    "exchange_rate = 1.37\n",
    "\n",
    "sgd = [trans * exchange_rate for trans in usd]\n",
    "\n",
    "print(sgd)"
   ]
  },
  {
   "cell_type": "markdown",
   "metadata": {},
   "source": [
    "Please notice the differences in syntax between the list comprehension and ordinary <code>for</code> loops.\n",
    "\n",
    "Besides the <code>for</code> loops, the <code>if</code> statements can also be used in list comprehension to create more complicated lists. \n",
    "\n",
    "<div class=\"alert alert-block alert-success\">\n",
    "<b>Extra Example:</b>  \n",
    "Create a new list containing numbers larger than one from a given list.\n",
    "</div>"
   ]
  },
  {
   "cell_type": "code",
   "execution_count": 22,
   "metadata": {},
   "outputs": [
    {
     "name": "stdout",
     "output_type": "stream",
     "text": [
      "[1.2, 2.5, 5, 1.001]\n"
     ]
    }
   ],
   "source": [
    "given_list = [0.56, 1.2, 0.3, 0, 2.5, 5, 0.999, 0.4, 1.001]\n",
    "\n",
    "new_list = [number for number in given_list if number > 1]\n",
    "\n",
    "print(new_list)"
   ]
  },
  {
   "cell_type": "markdown",
   "metadata": {},
   "source": [
    "<div class=\"alert alert-block alert-success\">\n",
    "<b>Extra Example - Newsvendor case:</b>  \n",
    "A newsboy ordered 550 newspapers to sell in each of the past four days. Given a list <b>demands</b> contianing the demand of newspaper in the past four days, create a new list <b>sales</b> that calculate the number of newspapers sold.\n",
    "</div>"
   ]
  },
  {
   "cell_type": "code",
   "execution_count": 23,
   "metadata": {},
   "outputs": [
    {
     "name": "stdout",
     "output_type": "stream",
     "text": [
      "[300, 550, 550, 450]\n"
     ]
    }
   ],
   "source": [
    "order = 550\n",
    "demands = [300, 800, 650, 450]\n",
    "\n",
    "sales = [demand if demand < order else order \n",
    "         for demand in demands]\n",
    "\n",
    "print(sales)"
   ]
  },
  {
   "cell_type": "markdown",
   "metadata": {},
   "source": [
    "Please be careful that the <code>if</code> statements behave differently in the two extra examples above.\n",
    "\n",
    "<div class=\"alert alert-block alert-warning\">\n",
    "<b>Coding Style: </b>   \n",
    "List comprehension is preferred to a loop in creating new lists.\n",
    "</div>\n"
   ]
  },
  {
   "cell_type": "markdown",
   "metadata": {},
   "source": [
    "  "
   ]
  },
  {
   "cell_type": "markdown",
   "metadata": {},
   "source": [
    "## Tuples <a id=\"section2\"></a>\n",
    "\n",
    "Tuples are sequences of data, just like lists. Examples are provided as follows to show two ways of creating tuples."
   ]
  },
  {
   "cell_type": "code",
   "execution_count": 24,
   "metadata": {
    "collapsed": true
   },
   "outputs": [],
   "source": [
    "colors = 'red', 'blue', 'green' # Comma-separated items\n",
    "mixed = ('Jack', 32.5, [1, 2])  # Comma-separated items within parentheses"
   ]
  },
  {
   "cell_type": "markdown",
   "metadata": {},
   "source": [
    "Be careful on the following special cases."
   ]
  },
  {
   "cell_type": "code",
   "execution_count": 25,
   "metadata": {},
   "outputs": [
    {
     "name": "stdout",
     "output_type": "stream",
     "text": [
      "<class 'tuple'> <class 'tuple'> <class 'str'>\n",
      "() ('item',) item\n"
     ]
    }
   ],
   "source": [
    "empty_tuple = ()        # An empty tuple\n",
    "one_tuple = ('item', )  # The comma is necessary\n",
    "one_string = ('item')   # It is only a string if comma is missing\n",
    "\n",
    "print(type(empty_tuple), type(one_tuple), type(one_string))\n",
    "print(empty_tuple, one_tuple, one_string)"
   ]
  },
  {
   "cell_type": "markdown",
   "metadata": {},
   "source": [
    "Similar to lists, tuple items can be accessed via the same indexing and slicing system. The major difference between tuples and the mutable lists is that tuples are **immutable**, meaning that no element-wise modification is allowed. Changing tuple items via indexing and slicing would generate an error message. \n",
    "\n",
    "An important feature of tuples is called **unpacking**. It enables multiple variable assignments in a neat and flexible fashion, as illustrated as follows."
   ]
  },
  {
   "cell_type": "code",
   "execution_count": 26,
   "metadata": {},
   "outputs": [
    {
     "name": "stdout",
     "output_type": "stream",
     "text": [
      "red\n",
      "blue\n",
      "green\n"
     ]
    }
   ],
   "source": [
    "colors = 'red', 'blue', 'green' # A tuple with three items\n",
    "\n",
    "red, blue, green = colors       # Unpacking: values of the tuple items \n",
    "                                # are assigned to variables on the left\n",
    "\n",
    "print(red)                      # Value of the first item\n",
    "print(blue)                     # Value of the second item\n",
    "print(green)                    # Value of the thrid item"
   ]
  },
  {
   "cell_type": "markdown",
   "metadata": {},
   "source": [
    "<div class=\"alert alert-block alert-success\">\n",
    "<b>Example 3:</b>  \n",
    "Swap the values of two variables.\n",
    "</div>\n",
    "\n",
    "Please note that the following code is wrong!"
   ]
  },
  {
   "cell_type": "code",
   "execution_count": 27,
   "metadata": {},
   "outputs": [
    {
     "name": "stdout",
     "output_type": "stream",
     "text": [
      "good guy\n",
      "good guy\n"
     ]
    }
   ],
   "source": [
    "Cage = 'bad guy'\n",
    "Travolta = 'good guy'\n",
    "\n",
    "Cage = Travolta\n",
    "Travolta = Cage\n",
    "\n",
    "print(Cage)\n",
    "print(Travolta)"
   ]
  },
  {
   "cell_type": "markdown",
   "metadata": {},
   "source": [
    "The code above is wrong because the value of <code>Cage</code> is replaced by 'good guy' at first, so the statement <code>Travolta = Cage</code> does not assign the original value 'bad guy' of <code>Cage</code> to <code>Travolta</code>.\n",
    "\n",
    "A correct way to swap values is to introduce an temporary variable <code>temp</code> to store the original value of <code>Cage</code>, the code is given below."
   ]
  },
  {
   "cell_type": "code",
   "execution_count": 28,
   "metadata": {},
   "outputs": [
    {
     "name": "stdout",
     "output_type": "stream",
     "text": [
      "good guy\n",
      "bad guy\n"
     ]
    }
   ],
   "source": [
    "Cage = 'bad guy'\n",
    "Travolta = 'good guy'\n",
    "\n",
    "temp = Cage\n",
    "Cage = Travolta\n",
    "Travolta = temp\n",
    "\n",
    "print(Cage)\n",
    "print(Travolta)"
   ]
  },
  {
   "cell_type": "markdown",
   "metadata": {},
   "source": [
    "However, this method takes three lines (too many) and is not easy to understand. By using Python tuples, it is much simpler and more readable, as demonstrate by the following code."
   ]
  },
  {
   "cell_type": "code",
   "execution_count": 29,
   "metadata": {},
   "outputs": [
    {
     "name": "stdout",
     "output_type": "stream",
     "text": [
      "good guy\n",
      "bad guy\n"
     ]
    }
   ],
   "source": [
    "Cage = 'bad guy'\n",
    "Travolta = 'good guy'\n",
    "\n",
    "Cage, Travolta = Travolta, Cage\n",
    "\n",
    "print(Cage)\n",
    "print(Travolta)"
   ]
  },
  {
   "cell_type": "markdown",
   "metadata": {},
   "source": [
    "Besides, the idea of unpacking tuples can be used for iterating over multiple compound data structures via the <code>zip</code> function. \n",
    "<div class=\"alert alert-block alert-success\">\n",
    "<b>Example 4: Biased Die:</b>  \n",
    "For a biased die, each outcome of rolled number and the corresponding probabilities are given in lists <b>outcomes</b> and <b>probs</b>. Calculate the expected value of number rolled.\n",
    "</div>\n",
    "\n",
    "The expected value is expressed as $\\sum_{i=1}^6x_ip_i$, where $x_i$ is the outcome of rolled numbers, and $p_i$ is the associated probability. "
   ]
  },
  {
   "cell_type": "code",
   "execution_count": 30,
   "metadata": {},
   "outputs": [
    {
     "name": "stdout",
     "output_type": "stream",
     "text": [
      "(1, 0.15)\n",
      "(2, 0.25)\n",
      "(3, 0.2)\n",
      "(4, 0.1)\n",
      "(5, 0.2)\n",
      "(6, 0.1)\n",
      "3.25\n"
     ]
    }
   ],
   "source": [
    "outcomes = [1, 2, 3, 4, 5, 6]               # Rolled numbers\n",
    "probs = [0.15, 0.25, 0.2, 0.1, 0.2, 0.1]    # Probability\n",
    "\n",
    "exp_value = 0                               # Initiliaze the expectation\n",
    "for a_tuple in zip(outcomes, probs):        # A tuple in each iteration\n",
    "    print(a_tuple)                          # Show the tuple\n",
    "    outcome, prob = a_tuple                 # Unpack the tuple\n",
    "    exp_value = exp_value + outcome * prob  # Update the expected value\n",
    "\n",
    "print(exp_value)"
   ]
  },
  {
   "cell_type": "markdown",
   "metadata": {},
   "source": [
    "In the example above, we can see that the variable <code>a_tuple</code> is a tuple containing two items from lists <code>outcomes</code> and <code>probs</code>. This tuple is then unpacked into two variables <code>outcome</code> and <code>prob</code>. As a result, in each iteration, <code>outcome</code> and <code>prob</code> take one item from lists <code>outcomes</code> and <code>probs</code>, respectively.\n",
    "\n",
    "The program above is used for illustration of the <code>zip</code> function. In fact, we would write the program in a more concise way as follows."
   ]
  },
  {
   "cell_type": "code",
   "execution_count": 31,
   "metadata": {},
   "outputs": [
    {
     "name": "stdout",
     "output_type": "stream",
     "text": [
      "3.25\n"
     ]
    }
   ],
   "source": [
    "outcomes = [1, 2, 3, 4, 5, 6]               # Rolled numbers\n",
    "probs = [0.15, 0.25, 0.2, 0.1, 0.2, 0.1]    # Probability\n",
    "\n",
    "exp_value = 0                               # Initiliaze the expectation\n",
    "for outcome, prob in zip(outcomes, probs):  # Unpack the tuple directly\n",
    "    exp_value = exp_value + outcome * prob  # Update the expected value\n",
    "\n",
    "print(exp_value)"
   ]
  },
  {
   "cell_type": "markdown",
   "metadata": {},
   "source": [
    "Alternatively, we could use list comprehension and the function <code>sum</code> to calculate the expected value."
   ]
  },
  {
   "cell_type": "code",
   "execution_count": 32,
   "metadata": {},
   "outputs": [
    {
     "name": "stdout",
     "output_type": "stream",
     "text": [
      "3.25\n"
     ]
    }
   ],
   "source": [
    "outcomes = [1, 2, 3, 4, 5, 6]                           # Rolled numbers\n",
    "probs = [0.15, 0.25, 0.2, 0.1, 0.2, 0.1]                # Probability\n",
    "\n",
    "list_temp = [outcome * prob\n",
    "             for outcome, prob in zip(outcomes, probs)] # A temporary list\n",
    "exp_value = sum(list_temp)\n",
    "\n",
    "print(exp_value)"
   ]
  },
  {
   "cell_type": "markdown",
   "metadata": {},
   "source": [
    "Finally, tuples are frequently used to format the inputs and outputs of functions. Such applications will be discussed in future lectures."
   ]
  },
  {
   "cell_type": "markdown",
   "metadata": {},
   "source": [
    "  "
   ]
  },
  {
   "cell_type": "markdown",
   "metadata": {},
   "source": [
    "## Dictionaries <a id=\"section3\"></a>\n",
    "\n",
    "We are using the following example to demonstrate why we need Python dictionaries. \n",
    "\n",
    "<div class=\"alert alert-block alert-success\">\n",
    "<b>Example 5:</b>  \n",
    "Print a summary of personal information stored in a list (or dictionary). \n",
    "</div>"
   ]
  },
  {
   "cell_type": "code",
   "execution_count": 33,
   "metadata": {},
   "outputs": [
    {
     "name": "stdout",
     "output_type": "stream",
     "text": [
      "Name: Jack Sparrow\n",
      "Age: 30\n",
      "Workplace: Black Pearl\n",
      "Title: Captain\n"
     ]
    }
   ],
   "source": [
    "personal_info = ['Jack Sparrow', 30, 'Black Pearl', 'Captain']\n",
    "\n",
    "print('Name: ' + personal_info[0])\n",
    "print('Age: ' + str(personal_info[1]))\n",
    "print('Workplace: ' + personal_info[2])\n",
    "print('Title: ' + personal_info[3])"
   ]
  },
  {
   "cell_type": "markdown",
   "metadata": {},
   "source": [
    "Recalling that Python uses a sequence of integers to index each item in a list, it is not clear when there is no straightforward relation between the items and the index numbers. For example, why \"name\" should be put as the first item? It does not help to achieve high readability. Besides, if we change the order of item in the list, we have to change the index values for all subsequent code, which would be tedious and error-prone. \n",
    "\n",
    "The following code gives a compromise method for addressing such cases."
   ]
  },
  {
   "cell_type": "code",
   "execution_count": 34,
   "metadata": {},
   "outputs": [
    {
     "name": "stdout",
     "output_type": "stream",
     "text": [
      "Name: Jack Sparrow\n",
      "Age: 30\n",
      "Workplace: Black Pearl\n",
      "Title: Captain\n"
     ]
    }
   ],
   "source": [
    "personal_info = ['Jack Sparrow', 30, 'Black Pearl', 'Captain']\n",
    "\n",
    "name = 0\n",
    "age = 1\n",
    "workplace = 2\n",
    "title = 3\n",
    "\n",
    "print('Name: ' + personal_info[name])\n",
    "print('Age: ' + str(personal_info[age]))\n",
    "print('Workplace: ' + personal_info[workplace])\n",
    "print('Title: ' + personal_info[title])"
   ]
  },
  {
   "cell_type": "markdown",
   "metadata": {},
   "source": [
    "The compromised method has a better readability, and it is easier to change the indices of the list. However, this is still \"ugly\" and not efficient. \n",
    "\n",
    "A more elegent, efficient, and Pythonic way of organizing such personal information is using the Python dictionary, where the name of each attribute can be used as the key to access each item in the dictionary."
   ]
  },
  {
   "cell_type": "code",
   "execution_count": 35,
   "metadata": {},
   "outputs": [
    {
     "name": "stdout",
     "output_type": "stream",
     "text": [
      "Name: Jack Sparrow\n",
      "Age: 30\n",
      "Workplace: Black Pearl\n",
      "Title: Captain\n"
     ]
    }
   ],
   "source": [
    "personal_info = {'name': 'Jack Sparrow',\n",
    "                 'age': 30,\n",
    "                 'workplace': 'Black Pearl',\n",
    "                 'title': 'Captain'}\n",
    "\n",
    "print('Name: ' + personal_info['name'])\n",
    "print('Age: ' + str(personal_info['age']))\n",
    "print('Workplace: ' + personal_info['workplace'])\n",
    "print('Title: ' + personal_info['title'])"
   ]
  },
  {
   "cell_type": "code",
   "execution_count": 36,
   "metadata": {},
   "outputs": [
    {
     "data": {
      "text/plain": [
       "dict"
      ]
     },
     "execution_count": 36,
     "metadata": {},
     "output_type": "execute_result"
    }
   ],
   "source": [
    "type(personal_info)"
   ]
  },
  {
   "cell_type": "markdown",
   "metadata": {},
   "source": [
    "Similar to lists, a dictionary is a collection of changeable and indexed data. The main difference is that list elements are accessed by their position in the list via indexing, while dictionary elements are accessed via keys. Take the code above for example, the keys are 'name', 'age', 'gender', and 'title'. The comparison between lists and dictionaries are illustrated by the following tables.\n",
    "\n",
    " $ $   |   $\\text{               List              }$  |  $\\text{Representation}$ |  $ $    \n",
    ":-----:|:-----:|:-----:|:-----:\n",
    "'Jack Sparrow' | 30 | 'M' | 'Captain' \n",
    "0 | 1 | 2 | 3 \n",
    "\n",
    " $ $   |   $\\text{Dictionary}$  |  $\\text{Representation}$ |  $ $    \n",
    ":-----:|:-----:|:-----:|:-----:\n",
    "'Jack Sparrow' | 30 | 'M' | 'Captain' \n",
    "'name' | 'age' | 'gender' | 'title' \n",
    "\n",
    "\n",
    "In Python, you can define a dictionary by enclosing a comma-separated list of key-value pairs in curly braces <code>{}</code>. A colon <code>:</code> separates each key from its associated value.\n",
    "\n",
    "Note that Python dictionaries are also **iterable**, so we can also use a loop to iterate all keys in a dictionary. This feature could help us to automate the printing of all keys and values of the dictionary <code>personal_info</code>."
   ]
  },
  {
   "cell_type": "code",
   "execution_count": 37,
   "metadata": {},
   "outputs": [
    {
     "name": "stdout",
     "output_type": "stream",
     "text": [
      "Name: Jack Sparrow\n",
      "Age: 30\n",
      "Workplace: Black Pearl\n",
      "Title: Captain\n"
     ]
    }
   ],
   "source": [
    "personal_info = {'name': 'Jack Sparrow',\n",
    "                 'age': 30,\n",
    "                 'workplace': 'Black Pearl',\n",
    "                 'title': 'Captain'}\n",
    "\n",
    "for key in personal_info:           # Iterate the keys of the dictionary\n",
    "    value = personal_info[key]      # Access the values\n",
    "    print(key.title() + ': ' + str(value))"
   ]
  },
  {
   "cell_type": "markdown",
   "metadata": {},
   "source": [
    "Here is another way to generate the same results by using the dictionary method <code>items</code>."
   ]
  },
  {
   "cell_type": "code",
   "execution_count": 38,
   "metadata": {},
   "outputs": [
    {
     "name": "stdout",
     "output_type": "stream",
     "text": [
      "Name: Jack Sparrow\n",
      "Age: 30\n",
      "Workplace: Black Pearl\n",
      "Title: Captain\n"
     ]
    }
   ],
   "source": [
    "personal_info = {'name': 'Jack Sparrow',\n",
    "                 'age': 30,\n",
    "                 'workplace': 'Black Pearl',\n",
    "                 'title': 'Captain'}\n",
    "\n",
    "for key, value in personal_info.items():   # Iterate keys and values\n",
    "    print(key.title() + ': ' + str(value))"
   ]
  },
  {
   "cell_type": "markdown",
   "metadata": {},
   "source": [
    "It can be seen from examples above that Python dictionary organize data attributes and values in a highly efficient and readable way. It also behaves very similar to a list, except that it adopts a different indexing system. Other features of the Python dictionary are summarized as follows.\n",
    "- Dictionary keys must be hashable (e.g. strings or numbers)\n",
    "- Dictionary values can be any types\n",
    "- Iterable and [comprehension](https://www.python.org/dev/peps/pep-0274/)\n",
    "- Mutable and alias\n",
    "\n",
    "You may refer to [Common Dictionary Operations in Python Dictionary](https://www.pythonforbeginners.com/dictionary/dictionary-common-dictionary-operations) for dictionary methods and functions. "
   ]
  },
  {
   "cell_type": "markdown",
   "metadata": {},
   "source": [
    "  "
   ]
  },
  {
   "cell_type": "markdown",
   "metadata": {},
   "source": [
    "## Summary <a id=\"section4\"></a>\n",
    "\n",
    "### Strings, lists, tuples, and dictionaries <a id=\"subsection4.1\"></a>\n",
    "\n",
    " <b> </b> | String | List | Tuple | Dictionary\n",
    ":--------:|:------:|:----:|:-----:|:----------:\n",
    " **mutable**  | No     | Yes  |  No   |   Yes \n",
    " **indexing and slicing** | integers | integers | integers | key names\n",
    " **operators** <code>+</code> **and** <code>*</code> | Yes | Yes | Yes | No\n",
    " **iterable** | Yes | Yes | Yes | Yes \n",
    " **methods** | Yes | Yes | No | Yes\n",
    "\n",
    "### Parentheses <code>()</code>, <code>[]</code>, and <code>{}</code> <a id=\"subsection4.2\"></a>\n",
    "\n",
    " <b> </b> | <code>()</code> | <code>[]</code> | <code>{}</code> \n",
    ":--------|:------|:----|:-----\n",
    "    **Usage**  | 1. Around input arguments of <br> function and method <br> 2. Define tuples  | Indexing and slicing  |  Dictionary and Set\n",
    "**Examples**| <code>print('Hello')</code> <br> <code>string.upper()</code>| <code>string[3:]</code> <br> <code>dictionary['key']</code> | <code>{'key': 'value'}</code>\n",
    "**Remarks** | 1. Cannot be omitted even when <br> there is no input argument <br> 2. Can be omitted when defining tuples | - | Set is not covered in this course\n",
    " "
   ]
  }
 ],
 "metadata": {
  "kernelspec": {
   "display_name": "Python 3",
   "language": "python",
   "name": "python3"
  },
  "language_info": {
   "codemirror_mode": {
    "name": "ipython",
    "version": 3
   },
   "file_extension": ".py",
   "mimetype": "text/x-python",
   "name": "python",
   "nbconvert_exporter": "python",
   "pygments_lexer": "ipython3",
   "version": "3.6.2"
  }
 },
 "nbformat": 4,
 "nbformat_minor": 2
}
