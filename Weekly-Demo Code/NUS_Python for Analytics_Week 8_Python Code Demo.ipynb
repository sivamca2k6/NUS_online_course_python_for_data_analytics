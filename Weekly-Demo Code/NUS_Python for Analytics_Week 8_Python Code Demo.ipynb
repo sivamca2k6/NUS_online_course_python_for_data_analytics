{
 "cells": [
  {
   "cell_type": "markdown",
   "metadata": {},
   "source": [
    "# Foundation of Predictive Analytics\n",
    "By Xiong Peng and Eli Yi-Liang Tung \n",
    "\n",
    "Department of Analytics and Operations, Business School, NUS\n",
    "\n"
   ]
  },
  {
   "cell_type": "markdown",
   "metadata": {},
   "source": [
    "### Learning Objectives\n",
    "1. Explore discrete and continuous random variables and their distributions such as probability mass function and cumulative distribution function using SciPy\n",
    "2. Describe populations and samples in statistics\n",
    "3. Understand sampling distribution from a population\n",
    "4. Simulation of random variables for decision analysis using SciPy"
   ]
  },
  {
   "cell_type": "markdown",
   "metadata": {},
   "source": [
    "## Imports <a id=\"section1\"></a>\n",
    "Besides the usual Python packages we used before, this document requires an extra package [<code>ipywidets</code>](https://ipywidgets.readthedocs.io/en/latest/) to create interactive widgets. Detailed steps of installing the package is given [here](https://ipywidgets.readthedocs.io/en/latest/user_install.html), where you may first try \"with conda\". It is recommended to disable \"Toggle scrolling\" by \"Cell->Current Output->Toggle Scrolling\" for a better looking. "
   ]
  },
  {
   "cell_type": "code",
   "execution_count": 1,
   "metadata": {},
   "outputs": [],
   "source": [
    "import matplotlib.pyplot as plt\n",
    "import pandas as pd\n",
    "import numpy as np\n",
    "import ipywidgets as widgets\n",
    "from scipy.stats import binom\n",
    "from scipy.stats import norm"
   ]
  },
  {
   "cell_type": "markdown",
   "metadata": {},
   "source": [
    "### Review of Probability Theory\n",
    "\n",
    "#### Properties of expected values and variances\n",
    "Let $X$ be an arbitrary random variable, and $a$ and $c$ are two constants, then we have\n",
    "- $\\mathbb{E}(c) = c$;\n",
    "- $\\mathbb{E}(aX+c) = a\\mathbb{E}(X) + c$.\n",
    "\n",
    "If $\\{a_1, a_2, ..., a_n\\}$ is a sequence of constants, and $\\{X_1, X_2, ..., X_n\\}$ is a sequence of random variables, then we have\n",
    "- $\\mathbb{E}\\left(\\sum\\limits_{i=1}^na_iX_i\\right) = \\sum\\limits_{i=1}^na_i\\mathbb{E}(X_i)$\n",
    "\n",
    "As a special case that each $a_i=1$, then the equation above can be written as $\\mathbb{E}\\left(\\sum_{i=1}^nX_i\\right)=\\sum_{i=1}^n\\mathbb{E}(X_i)$.\n",
    "\n",
    "Let $X$ and $Y$ be two random variables, and $a$, $b$, and $c$ are three constants, then we have\n",
    "- $\\text{Var}(c) = 0$;\n",
    "- $\\text{Var}(aX+c) = a^2\\text{Var}(X)$;\n",
    "- $\\text{Var}(aX+bY+c) = a^2\\text{Var}(X) + b^2\\text{Var}(Y) + 2ab\\text{Cov}(X, Y)$.\n",
    "\n",
    "In a special case that $X$ and $Y$ are uncorrelated, the covariance between $X$ and $Y$ is zero, so the last equation can be written as $\\text{Var}(aX+bY+c) = a^2\\text{Var}(X) + b^2\\text{Var}(Y)$. Such a result can be extend to the following case\n",
    "- $\\text{Var}\\left(\\sum\\limits_{i=1}^na_iX_i\\right) = \\sum\\limits_{i=1}^na_i^2\\text{Var}(X_i)$,\n",
    "\n",
    "where $\\{a_1, a_2, ..., a_n\\}$ is a sequence of constants, and $\\{X_1, X_2, ..., X_n\\}$ is a sequence of **pairwise uncorrelated** random variables. \n",
    "\n",
    "#### Discrete random variables and their distributions\n",
    "A random variable $X$ is defined to be **discrete** if its possible outcomes are finite or countable. A few examples are given below.\n",
    "1. The result of rolling a dice (discrete uniform distribution)\n",
    "2. The preference of one customer for Coke or Pepsi (Bernoulli distribution)\n",
    "3. Among 10 customers, the number of people who prefer Coke over Pepsi (Binomial distribution) \n",
    "4. The number of patients arriving in an emergency room within a fixed time interval (Poisson distribution)\n",
    "\n",
    "<div class=\"alert alert-block alert-danger\">\n",
    "    <b>Notes: </b> For a discrete random variable $X$ with $k$ possible outcomes $x_j$, the <b>probability mass function (PMF)</b> is given by:\n",
    "    \\begin{align}\n",
    "    P(X=x_j) = p_j, \\text{   for each }j=1, 2, ..., k,\n",
    "    \\end{align}\n",
    "where $p_j$ is the probability of the outcome $x_j$, and all $p_i$ must satisfy \n",
    "    \\begin{cases}\n",
    "    0\\leq p_i \\leq 1 \\\\\n",
    "    \\sum_{j=1}^kp_j = 1\n",
    "    \\end{cases}\n",
    "</div>\n",
    "\n",
    "<div class=\"alert alert-block alert-success\">\n",
    "<b>Example :</b> Suppose that in Singapore, $65\\%$ of customers prefer Coke, while the remaining $35\\%$ prefer Pepsi. Now we randomly survey 10 customers, among which the number of customers who prefer Coke is denoted by a discrete random variable $X$. Plot the PMF of $X$. \n",
    "</div>"
   ]
  },
  {
   "cell_type": "code",
   "execution_count": 5,
   "metadata": {
    "scrolled": true
   },
   "outputs": [
    {
     "name": "stdout",
     "output_type": "stream",
     "text": [
      "[ 0  1  2  3  4  5  6  7  8  9 10]\n"
     ]
    },
    {
     "data": {
      "image/png": "[encoded data removed]",
      "text/plain": [
       "<Figure size 432x288 with 1 Axes>"
      ]
     },
     "metadata": {
      "needs_background": "light"
     },
     "output_type": "display_data"
    }
   ],
   "source": [
    "n = 10                                          # Number of customers \n",
    "p = 0.65                                        # Propability of choosing Coke\n",
    "x = np.arange(n+1)                              # All possible values of X\n",
    "pmf = binom.pmf(x, n, p)                        # The PMF of the random variable X\n",
    "\n",
    "plt.vlines(x, ymin=0, ymax=pmf, linewidth=2.5, \n",
    "           colors='b', alpha=0.6)               # Plot vertical lines\n",
    "\n",
    "plt.xlabel('X', fontsize=12)\n",
    "plt.ylabel('Proability', fontsize=12)\n",
    "print(x)\n",
    "plt.show()"
   ]
  },
  {
   "cell_type": "markdown",
   "metadata": {},
   "source": [
    "<div class=\"alert alert-block alert-danger\">\n",
    "    <b>Notes: </b> The <b>cumulative distribution function (CDF)</b> of a random variable $X$ is defined as \n",
    "    \\begin{align}\n",
    "    F(x) = P(X\\leq x).\n",
    "    \\end{align}\n",
    "</div>\n",
    "\n",
    "<div class=\"alert alert-block alert-success\">\n",
    "<b>Example:</b> Plot the CDF of the random variable $X$ described. \n",
    "</div>"
   ]
  },
  {
   "cell_type": "code",
   "execution_count": 3,
   "metadata": {},
   "outputs": [
    {
     "data": {
      "image/png": "[encoded data removed]",
      "text/plain": [
       "<Figure size 432x288 with 1 Axes>"
      ]
     },
     "metadata": {
      "needs_background": "light"
     },
     "output_type": "display_data"
    }
   ],
   "source": [
    "n = 10                                  # Number of customers                          \n",
    "p = 0.65                                # Probability of choosing Coke\n",
    "step = 0.01\n",
    "x = np.arange(0, n+step, step)          # Continous values of X\n",
    "cdf = binom.cdf(x, n, p)                # The CDF of the random variable X\n",
    "\n",
    "plt.plot(x, cdf, linewidth=2.5, \n",
    "         c='b', alpha=0.6)              # Plot the curve for the CDF\n",
    "\n",
    "plt.xlabel('X', fontsize=12)\n",
    "plt.ylabel('Cumulative Proability', \n",
    "           fontsize=12)                 \n",
    "plt.show()"
   ]
  },
  {
   "cell_type": "markdown",
   "metadata": {},
   "source": [
    "#### Continuous random variables and their distributions\n",
    "A variable $X$ is a **continuous random variable** if it takes on any real value with *zero* probability. Random variables following uniform, normal (Gaussian) and exponential distributions are all continuous variables.  \n",
    "\n",
    "For continuous random variables, there is no PMF as the discrete random variables, because $P(X=x)=0$ for all values of $x$. The CDF for a continuous random variable has the same definition as the discrete case, which is $F(x)=P(X\\leq x)$. Based on the CDF, we have other definitions listed as follows.\n",
    "\n",
    "<div class=\"alert alert-block alert-danger\">\n",
    "    <b>Notes: </b> Let $F(x)$ be the CDF of a continuous random variable $X$, then\n",
    "    <li> The derivative $f(x) = \\frac{\\text{d} F(x)}{\\text{d}x}$ of the CDF $F(x)$ is called the <b>probability density function (PDF)</b> of $X$. This definition also implies that $F(x) = \\int_{-\\infty}^{x}f(t)dt$ \n",
    "    <li> The inverse of CDF $F(x)$, denoted by $F^{-1}(q)$, is called the <b>Percent Point Function (PPF)</b>, where $q$ is the given cumulative probability. This function is sometimes referred to as the <b>inverse distribution function</b> or the <b>quantile function</b>.\n",
    "</div>\n",
    "\n",
    "We are using a standard normal distribution as an example to illustrate the definition of CDF, PDF, and PPF. You are encouraged to play with the chart below to better understand the geometric interpretation of these functions."
   ]
  },
  {
   "cell_type": "code",
   "execution_count": 4,
   "metadata": {
    "scrolled": true
   },
   "outputs": [
    {
     "data": {
      "application/vnd.jupyter.widget-view+json": {
       "model_id": "688b14f5117d4474b39c97eb8cba7cb4",
       "version_major": 2,
       "version_minor": 0
      },
      "text/plain": [
       "HBox(children=(FloatSlider(value=-1.0, continuous_update=False, description='Value of $X$: ', max=3.5, min=-3.…"
      ]
     },
     "metadata": {},
     "output_type": "display_data"
    },
    {
     "data": {
      "application/vnd.jupyter.widget-view+json": {
       "model_id": "ec85a13fed3f4fa397046d7d9422fc13",
       "version_major": 2,
       "version_minor": 0
      },
      "text/plain": [
       "Output()"
      ]
     },
     "metadata": {},
     "output_type": "display_data"
    }
   ],
   "source": [
    "\"\"\" \n",
    "The purpose of this code cell is to show the geometric \n",
    "interpretation of PDF, CDF, and PPF. \n",
    "\n",
    "You are not required to understand the code.\n",
    "\"\"\"\n",
    "\n",
    "import matplotlib.pyplot as plt\n",
    "import numpy as np\n",
    "import ipywidgets as widgets\n",
    "from scipy.stats import norm\n",
    "\n",
    "def update_x(x):\n",
    "    \"\"\"Function for updating the chart with the new X value \"\"\"\n",
    "    \n",
    "    xs = np.arange(-3.5, 3.51, 0.01)\n",
    "    ys = norm.pdf(xs)\n",
    "    x_cdf = np.arange(-3.5, x+0.01, 0.01)\n",
    "    y_cdf = norm.pdf(x_cdf) \n",
    "    x_conn = x\n",
    "    \n",
    "    plt.figure(figsize=(6, 3.5))\n",
    "    plt.plot(xs, ys, linewidth=3, c='k', alpha=0.4, label='Density curve')\n",
    "    plt.fill_between(x_cdf, y_cdf, color='b', alpha=0.4, \n",
    "                     label='Cumulative probability')\n",
    "    plt.scatter(x, 0, c='r', s=80, alpha=0.5)\n",
    "    \n",
    "    plt.plot([x_conn, 3], [0.5*norm.pdf(x_conn), 0.35], \n",
    "             c='b', linewidth=2.5, alpha=0.4)\n",
    "    plt.plot([max(-3.8, x-0.8), x-0.01], \n",
    "             [norm.pdf(x), norm.pdf(x)], \n",
    "             c='k', linewidth=2.5, alpha=0.5)\n",
    "    \n",
    "    plt.text(x+0.2, -0.03, '$X=$' + '{0:4.2f}'.format(x), c='r', fontsize=11)\n",
    "    plt.text(1.5, 0.36, \n",
    "             '$P(X\\leq$' + '{0:5.2f}'.format(x) + '$)=$' + \n",
    "             '{0:0.3f}'.format(norm.cdf(x)), \n",
    "             c='b', fontsize=11)\n",
    "    plt.text(max(-5, x-2), norm.pdf(x)-0.01, '{0:0.3f}'.format(norm.pdf(x)), \n",
    "             fontsize=12)\n",
    "    tx = 'norm.pdf({0:6.3f}, loc=0, scale=1)'.format(x)\n",
    "    tx += ' = {0:6.3f}\\n'.format(norm.pdf(x))\n",
    "    tx += 'norm.cdf({0:6.3f}, loc=0, scale=1)'.format(x)\n",
    "    tx += ' = {0:6.3f}\\n'.format(norm.cdf(x))\n",
    "    tx += 'norm.ppf({0:6.3f}, loc=0, scale=1)'.format(norm.cdf(x))\n",
    "    tx += ' = {0:6.3f}'.format(x)\n",
    "    attr = dict(boxstyle='round', facecolor='wheat', alpha=0.3)\n",
    "    plt.text(-5, -0.32, tx, fontsize=15, bbox=attr)\n",
    "    \n",
    "    plt.xlabel('Random variable $X$', fontsize=12)\n",
    "    plt.ylabel('Probability density function', fontsize=12)\n",
    "    plt.ylim([-0.04, 0.58])\n",
    "    plt.xlim([-5.2, 5.2])\n",
    "    plt.legend(fontsize=12, loc='upper left')\n",
    "    plt.grid()\n",
    "    plt.show()\n",
    "    \n",
    "x_sld = widgets.FloatSlider(value=-1, min=-3.5, max=3.5, step=0.01,\n",
    "                            description='Value of $X$: ', disabled=False,\n",
    "                            continuous_update=False,\n",
    "                            orientation='horizontal',\n",
    "                            readout=True, readout_format='.2f')\n",
    "ui = widgets.HBox([x_sld])\n",
    "out = widgets.interactive_output(update_x, {'x': x_sld})\n",
    "display(ui, out)"
   ]
  },
  {
   "cell_type": "code",
   "execution_count": 5,
   "metadata": {},
   "outputs": [
    {
     "data": {
      "text/plain": [
       "-0.5244005127080409"
      ]
     },
     "execution_count": 5,
     "metadata": {},
     "output_type": "execute_result"
    }
   ],
   "source": [
    "norm.ppf(0.3, loc=0, scale=1)"
   ]
  },
  {
   "cell_type": "markdown",
   "metadata": {},
   "source": [
    "Another important property of the CDF is given below.\n",
    "\n",
    "<div class=\"alert alert-block alert-danger\">\n",
    "    <b>Notes: </b> For a random variable and given values $x_1 \\leq x_2$ ($x_1 < x_2$ for discrete variables), then the probability \n",
    "    \\begin{align}\n",
    "    P(x_1 \\leq X \\leq x_2) = P(X \\leq x_2) - P(X \\leq x_1) = F(x_2) - F(x_1).\n",
    "    \\end{align}\n",
    "</div>\n",
    "\n",
    "As a special case of continuous variables, if $x=x_1=x_2$, then we can prove that \n",
    "\\begin{align}\n",
    "P(X=x) = P(x\\leq X \\leq x) = F(x) - F(x) = 0.\n",
    "\\end{align}\n",
    "\n",
    "#### The <code>scipy.stats</code> module and distribution objects\n",
    "The [<code>scipy.stats</code>](https://docs.scipy.org/doc/scipy/reference/stats.html) module provides many Python objects for commonly used probability distributions, such as <code>binom</code> for binomial distributions and <code>norm</code> for normal distributions. The general syntax of calling these methods of distribution objects from the <code>scipy.stats</code> module is given as follows.\n",
    "\n",
    "<center><b><code>object.method(<font color='blue'><i>variable</i></font>, <font color='blue'><i>distr_param_1</i></font>, <font color='blue'><i>distr_param_2</i></font>, ... )</code></b></center>\n",
    "\n",
    "- <b><code>object</code></b> is the object of a specific type of distribution, such as <code>binom</code> for binomial and <code>norm</code> for normal distributions; \n",
    "- <b><code>method</code></b> specifies the distributional function, such as <code>pdf</code> for PDF, <code>pmf</code> for PMF, <code>cdf</code> for CDF, and <code>ppf</code> for PMF;\n",
    "- <b><code><font color='blue'><i>variable</i></font></code></b> is the variable of the distributional function <b><code>method</code></b>;\n",
    "- <b><code><font color='blue'><i>distr_param_1</i></font></code></b>, <b><code><font color='blue'><i>distr_param_2</i></font></code></b>, ... are the parameters specifying the shape of the distribution, such as the mean and the standard deviation specify the shape of a normal distribution. \n",
    "\n",
    "<div class=\"alert alert-block alert-success\">\n",
    "<b>Extra Example:</b> Suppose that in Singapore, $65\\%$ of customers prefer Coke, while the remaining $35\\%$ prefer Pepsi. Now we randomly survey 10 customers, what is the probability that the majority of them select Coke?\n",
    "</div>"
   ]
  },
  {
   "cell_type": "code",
   "execution_count": 6,
   "metadata": {},
   "outputs": [
    {
     "name": "stdout",
     "output_type": "stream",
     "text": [
      "0.751\n"
     ]
    }
   ],
   "source": [
    "p_coke = 1 - binom.cdf(5, n=10, p=0.65)\n",
    "print('{0:0.3f}'.format(p_coke))"
   ]
  },
  {
   "cell_type": "markdown",
   "metadata": {},
   "source": [
    "Please note that the first argument <b><code><font color='blue'><i>variable</i></font></code></b> can be an array or other compound data types.\n",
    "\n",
    "<div class=\"alert alert-block alert-success\">\n",
    "<b>Extra Example:</b> Calculate the 99.5th percentile of a standard normal distribution.\n",
    "</div>"
   ]
  },
  {
   "cell_type": "code",
   "execution_count": 7,
   "metadata": {},
   "outputs": [
    {
     "name": "stdout",
     "output_type": "stream",
     "text": [
      "2.576\n"
     ]
    }
   ],
   "source": [
    "x = norm.ppf(0.995, loc=0, scale=1)\n",
    "print('{0:0.3f}'.format(x))"
   ]
  },
  {
   "cell_type": "markdown",
   "metadata": {},
   "source": [
    "The method <code>norm.ppf()</code> takes <code>loc=0</code> and <code>scale=1</code> as the default argument values, so we can leave these two argument unspecified for standard normal distribution. The code above can be thus simplified as follows."
   ]
  },
  {
   "cell_type": "code",
   "execution_count": 8,
   "metadata": {},
   "outputs": [
    {
     "name": "stdout",
     "output_type": "stream",
     "text": [
      "2.576\n"
     ]
    }
   ],
   "source": [
    "x = norm.ppf(0.995)\n",
    "print('{0:0.3f}'.format(x))"
   ]
  },
  {
   "cell_type": "markdown",
   "metadata": {},
   "source": [
    "### Samples and populations <a id=\"subsection3.2\"></a>\n",
    "\n",
    "<div class=\"alert alert-block alert-success\">\n",
    "<b>Example:</b> The lifespans of all bulbs in a batch are recorded in a file called \"bulb.csv\". What is the mean lifespan of bulbs in this batch?\n",
    "</div>"
   ]
  },
  {
   "cell_type": "code",
   "execution_count": 6,
   "metadata": {
    "scrolled": true
   },
   "outputs": [
    {
     "ename": "FileNotFoundError",
     "evalue": "[Errno 2] File bulb.csv does not exist: 'bulb.csv'",
     "output_type": "error",
     "traceback": [
      "\u001b[1;31m---------------------------------------------------------------------------\u001b[0m",
      "\u001b[1;31mFileNotFoundError\u001b[0m                         Traceback (most recent call last)",
      "\u001b[1;32m<ipython-input-6-6c50b5750d34>\u001b[0m in \u001b[0;36m<module>\u001b[1;34m\u001b[0m\n\u001b[1;32m----> 1\u001b[1;33m \u001b[0mdata_bulb\u001b[0m \u001b[1;33m=\u001b[0m \u001b[0mpd\u001b[0m\u001b[1;33m.\u001b[0m\u001b[0mread_csv\u001b[0m\u001b[1;33m(\u001b[0m\u001b[1;34m'bulb.csv'\u001b[0m\u001b[1;33m)\u001b[0m\u001b[1;33m\u001b[0m\u001b[1;33m\u001b[0m\u001b[0m\n\u001b[0m\u001b[0;32m      2\u001b[0m \u001b[0mdata_bulb\u001b[0m\u001b[1;33m.\u001b[0m\u001b[0mhead\u001b[0m\u001b[1;33m(\u001b[0m\u001b[1;33m)\u001b[0m\u001b[1;33m\u001b[0m\u001b[1;33m\u001b[0m\u001b[0m\n",
      "\u001b[1;32m~\\Anaconda3\\lib\\site-packages\\pandas\\io\\parsers.py\u001b[0m in \u001b[0;36mparser_f\u001b[1;34m(filepath_or_buffer, sep, delimiter, header, names, index_col, usecols, squeeze, prefix, mangle_dupe_cols, dtype, engine, converters, true_values, false_values, skipinitialspace, skiprows, skipfooter, nrows, na_values, keep_default_na, na_filter, verbose, skip_blank_lines, parse_dates, infer_datetime_format, keep_date_col, date_parser, dayfirst, cache_dates, iterator, chunksize, compression, thousands, decimal, lineterminator, quotechar, quoting, doublequote, escapechar, comment, encoding, dialect, error_bad_lines, warn_bad_lines, delim_whitespace, low_memory, memory_map, float_precision)\u001b[0m\n\u001b[0;32m    674\u001b[0m         )\n\u001b[0;32m    675\u001b[0m \u001b[1;33m\u001b[0m\u001b[0m\n\u001b[1;32m--> 676\u001b[1;33m         \u001b[1;32mreturn\u001b[0m \u001b[0m_read\u001b[0m\u001b[1;33m(\u001b[0m\u001b[0mfilepath_or_buffer\u001b[0m\u001b[1;33m,\u001b[0m \u001b[0mkwds\u001b[0m\u001b[1;33m)\u001b[0m\u001b[1;33m\u001b[0m\u001b[1;33m\u001b[0m\u001b[0m\n\u001b[0m\u001b[0;32m    677\u001b[0m \u001b[1;33m\u001b[0m\u001b[0m\n\u001b[0;32m    678\u001b[0m     \u001b[0mparser_f\u001b[0m\u001b[1;33m.\u001b[0m\u001b[0m__name__\u001b[0m \u001b[1;33m=\u001b[0m \u001b[0mname\u001b[0m\u001b[1;33m\u001b[0m\u001b[1;33m\u001b[0m\u001b[0m\n",
      "\u001b[1;32m~\\Anaconda3\\lib\\site-packages\\pandas\\io\\parsers.py\u001b[0m in \u001b[0;36m_read\u001b[1;34m(filepath_or_buffer, kwds)\u001b[0m\n\u001b[0;32m    446\u001b[0m \u001b[1;33m\u001b[0m\u001b[0m\n\u001b[0;32m    447\u001b[0m     \u001b[1;31m# Create the parser.\u001b[0m\u001b[1;33m\u001b[0m\u001b[1;33m\u001b[0m\u001b[1;33m\u001b[0m\u001b[0m\n\u001b[1;32m--> 448\u001b[1;33m     \u001b[0mparser\u001b[0m \u001b[1;33m=\u001b[0m \u001b[0mTextFileReader\u001b[0m\u001b[1;33m(\u001b[0m\u001b[0mfp_or_buf\u001b[0m\u001b[1;33m,\u001b[0m \u001b[1;33m**\u001b[0m\u001b[0mkwds\u001b[0m\u001b[1;33m)\u001b[0m\u001b[1;33m\u001b[0m\u001b[1;33m\u001b[0m\u001b[0m\n\u001b[0m\u001b[0;32m    449\u001b[0m \u001b[1;33m\u001b[0m\u001b[0m\n\u001b[0;32m    450\u001b[0m     \u001b[1;32mif\u001b[0m \u001b[0mchunksize\u001b[0m \u001b[1;32mor\u001b[0m \u001b[0miterator\u001b[0m\u001b[1;33m:\u001b[0m\u001b[1;33m\u001b[0m\u001b[1;33m\u001b[0m\u001b[0m\n",
      "\u001b[1;32m~\\Anaconda3\\lib\\site-packages\\pandas\\io\\parsers.py\u001b[0m in \u001b[0;36m__init__\u001b[1;34m(self, f, engine, **kwds)\u001b[0m\n\u001b[0;32m    878\u001b[0m             \u001b[0mself\u001b[0m\u001b[1;33m.\u001b[0m\u001b[0moptions\u001b[0m\u001b[1;33m[\u001b[0m\u001b[1;34m\"has_index_names\"\u001b[0m\u001b[1;33m]\u001b[0m \u001b[1;33m=\u001b[0m \u001b[0mkwds\u001b[0m\u001b[1;33m[\u001b[0m\u001b[1;34m\"has_index_names\"\u001b[0m\u001b[1;33m]\u001b[0m\u001b[1;33m\u001b[0m\u001b[1;33m\u001b[0m\u001b[0m\n\u001b[0;32m    879\u001b[0m \u001b[1;33m\u001b[0m\u001b[0m\n\u001b[1;32m--> 880\u001b[1;33m         \u001b[0mself\u001b[0m\u001b[1;33m.\u001b[0m\u001b[0m_make_engine\u001b[0m\u001b[1;33m(\u001b[0m\u001b[0mself\u001b[0m\u001b[1;33m.\u001b[0m\u001b[0mengine\u001b[0m\u001b[1;33m)\u001b[0m\u001b[1;33m\u001b[0m\u001b[1;33m\u001b[0m\u001b[0m\n\u001b[0m\u001b[0;32m    881\u001b[0m \u001b[1;33m\u001b[0m\u001b[0m\n\u001b[0;32m    882\u001b[0m     \u001b[1;32mdef\u001b[0m \u001b[0mclose\u001b[0m\u001b[1;33m(\u001b[0m\u001b[0mself\u001b[0m\u001b[1;33m)\u001b[0m\u001b[1;33m:\u001b[0m\u001b[1;33m\u001b[0m\u001b[1;33m\u001b[0m\u001b[0m\n",
      "\u001b[1;32m~\\Anaconda3\\lib\\site-packages\\pandas\\io\\parsers.py\u001b[0m in \u001b[0;36m_make_engine\u001b[1;34m(self, engine)\u001b[0m\n\u001b[0;32m   1112\u001b[0m     \u001b[1;32mdef\u001b[0m \u001b[0m_make_engine\u001b[0m\u001b[1;33m(\u001b[0m\u001b[0mself\u001b[0m\u001b[1;33m,\u001b[0m \u001b[0mengine\u001b[0m\u001b[1;33m=\u001b[0m\u001b[1;34m\"c\"\u001b[0m\u001b[1;33m)\u001b[0m\u001b[1;33m:\u001b[0m\u001b[1;33m\u001b[0m\u001b[1;33m\u001b[0m\u001b[0m\n\u001b[0;32m   1113\u001b[0m         \u001b[1;32mif\u001b[0m \u001b[0mengine\u001b[0m \u001b[1;33m==\u001b[0m \u001b[1;34m\"c\"\u001b[0m\u001b[1;33m:\u001b[0m\u001b[1;33m\u001b[0m\u001b[1;33m\u001b[0m\u001b[0m\n\u001b[1;32m-> 1114\u001b[1;33m             \u001b[0mself\u001b[0m\u001b[1;33m.\u001b[0m\u001b[0m_engine\u001b[0m \u001b[1;33m=\u001b[0m \u001b[0mCParserWrapper\u001b[0m\u001b[1;33m(\u001b[0m\u001b[0mself\u001b[0m\u001b[1;33m.\u001b[0m\u001b[0mf\u001b[0m\u001b[1;33m,\u001b[0m \u001b[1;33m**\u001b[0m\u001b[0mself\u001b[0m\u001b[1;33m.\u001b[0m\u001b[0moptions\u001b[0m\u001b[1;33m)\u001b[0m\u001b[1;33m\u001b[0m\u001b[1;33m\u001b[0m\u001b[0m\n\u001b[0m\u001b[0;32m   1115\u001b[0m         \u001b[1;32melse\u001b[0m\u001b[1;33m:\u001b[0m\u001b[1;33m\u001b[0m\u001b[1;33m\u001b[0m\u001b[0m\n\u001b[0;32m   1116\u001b[0m             \u001b[1;32mif\u001b[0m \u001b[0mengine\u001b[0m \u001b[1;33m==\u001b[0m \u001b[1;34m\"python\"\u001b[0m\u001b[1;33m:\u001b[0m\u001b[1;33m\u001b[0m\u001b[1;33m\u001b[0m\u001b[0m\n",
      "\u001b[1;32m~\\Anaconda3\\lib\\site-packages\\pandas\\io\\parsers.py\u001b[0m in \u001b[0;36m__init__\u001b[1;34m(self, src, **kwds)\u001b[0m\n\u001b[0;32m   1889\u001b[0m         \u001b[0mkwds\u001b[0m\u001b[1;33m[\u001b[0m\u001b[1;34m\"usecols\"\u001b[0m\u001b[1;33m]\u001b[0m \u001b[1;33m=\u001b[0m \u001b[0mself\u001b[0m\u001b[1;33m.\u001b[0m\u001b[0musecols\u001b[0m\u001b[1;33m\u001b[0m\u001b[1;33m\u001b[0m\u001b[0m\n\u001b[0;32m   1890\u001b[0m \u001b[1;33m\u001b[0m\u001b[0m\n\u001b[1;32m-> 1891\u001b[1;33m         \u001b[0mself\u001b[0m\u001b[1;33m.\u001b[0m\u001b[0m_reader\u001b[0m \u001b[1;33m=\u001b[0m \u001b[0mparsers\u001b[0m\u001b[1;33m.\u001b[0m\u001b[0mTextReader\u001b[0m\u001b[1;33m(\u001b[0m\u001b[0msrc\u001b[0m\u001b[1;33m,\u001b[0m \u001b[1;33m**\u001b[0m\u001b[0mkwds\u001b[0m\u001b[1;33m)\u001b[0m\u001b[1;33m\u001b[0m\u001b[1;33m\u001b[0m\u001b[0m\n\u001b[0m\u001b[0;32m   1892\u001b[0m         \u001b[0mself\u001b[0m\u001b[1;33m.\u001b[0m\u001b[0munnamed_cols\u001b[0m \u001b[1;33m=\u001b[0m \u001b[0mself\u001b[0m\u001b[1;33m.\u001b[0m\u001b[0m_reader\u001b[0m\u001b[1;33m.\u001b[0m\u001b[0munnamed_cols\u001b[0m\u001b[1;33m\u001b[0m\u001b[1;33m\u001b[0m\u001b[0m\n\u001b[0;32m   1893\u001b[0m \u001b[1;33m\u001b[0m\u001b[0m\n",
      "\u001b[1;32mpandas\\_libs\\parsers.pyx\u001b[0m in \u001b[0;36mpandas._libs.parsers.TextReader.__cinit__\u001b[1;34m()\u001b[0m\n",
      "\u001b[1;32mpandas\\_libs\\parsers.pyx\u001b[0m in \u001b[0;36mpandas._libs.parsers.TextReader._setup_parser_source\u001b[1;34m()\u001b[0m\n",
      "\u001b[1;31mFileNotFoundError\u001b[0m: [Errno 2] File bulb.csv does not exist: 'bulb.csv'"
     ]
    }
   ],
   "source": [
    "data_bulb = pd.read_csv('bulb.csv')\n",
    "data_bulb.head()"
   ]
  },
  {
   "cell_type": "code",
   "execution_count": null,
   "metadata": {},
   "outputs": [],
   "source": [
    "print(data_bulb.shape)"
   ]
  },
  {
   "cell_type": "markdown",
   "metadata": {},
   "source": [
    "It is easy to find the mean lifespan by the following code."
   ]
  },
  {
   "cell_type": "code",
   "execution_count": null,
   "metadata": {},
   "outputs": [],
   "source": [
    "mean_value = data_bulb['Lifespan'].mean()\n",
    "print('Population mean: {0:0.2f}'.format(mean_value))"
   ]
  },
  {
   "cell_type": "markdown",
   "metadata": {},
   "source": [
    "In this example, the whole batch is a **population** that we are interested in, and it is easy to obtain the population mean and other information using simple Python functions. However, in real applications, it is impractical to burn out all bulbs to find their lifespans. Instead, it is more economical to estimate the mean value via testing a **sample** that contains a small fraction of the overall population. The terms **population** and **sample** in statistics are thus generalized as follows.\n",
    "\n",
    "<div class=\"alert alert-block alert-danger\">\n",
    "    <b>Notes:</b>  \n",
    "        <li> <b>Population</b>: The collection of all individuals or items under consideration in a statistical study.\n",
    "        <li> <b>Sample</b>: A part of the population from which information is obtained.\n",
    "</div>\n",
    "\n",
    "We provide two other examples below for your reference.\n",
    "1. A study on the percentage of US voters who support Trump in the 2020 election \n",
    "    - **Population**: all US voters\n",
    "    - **Sample**: a poll of 1000 voters\n",
    "2. A study on the average household income of all Singaporeans \n",
    "    - **Population**: all households in Singapore\n",
    "    - **Sample**: a survey of 100 households in Singapore\n",
    "    \n",
    "<img src=\"https://s3-eu-west-1.amazonaws.com/blog.omniconvert.com-media/blog/wp-content/uploads/2019/10/21150245/sample-size-definition.png\" width=450px>\n",
    "\n",
    "Although it is less costly and more practical to obtain the sample data, we cannot expect the sample yield perfectly accurate information about the population. For instance, we consider a sample with $n=25$ randomly selected bulbs from the batch, and the following code calculates the sample mean."
   ]
  },
  {
   "cell_type": "code",
   "execution_count": null,
   "metadata": {
    "scrolled": true
   },
   "outputs": [],
   "source": [
    "n = 25\n",
    "sample = data_bulb.sample(n, replace=True)      \n",
    "print('Sample mean: {0:0.2f}'.format(sample['Lifespan'].mean()))"
   ]
  },
  {
   "cell_type": "markdown",
   "metadata": {},
   "source": [
    "In this example, we assumes simple random sampling with replacement, as indicated by the input argument <code>replace=True</code>. The replacement assumption is used so that each sampled observation is independent, thus simplifying the calculation. "
   ]
  },
  {
   "cell_type": "markdown",
   "metadata": {},
   "source": [
    "### Sampling distribution <a id=\"subsection3.3\"></a>\n",
    "\n",
    "This subsection focuses on the goodness of using the sample mean to estimate the population mean. \n",
    "\n",
    "<div class=\"alert alert-block alert-success\">\n",
    "<b>Example:</b> Based on the dataset \"bulb.csv\", estimate the population mean by a randomly selected sample with $n=25$ observations. Repeat the sampling experiment 500 times to find the mean and standard deviation of the sample means. \n",
    "</div>\n",
    "\n",
    "In this example, we are using $\\mu$ to denote the population mean, and $\\sigma$ to denote the population standard deviation. Because random sampling is used in the experiment, the sample mean, denoted by $\\bar{x}=\\frac{1}{n}\\sum\\limits_{i=1}^nx_i$, in each run is different. We are interested in the mean and standard deviation of $\\bar{x}$, which are calculated in the following code."
   ]
  },
  {
   "cell_type": "code",
   "execution_count": null,
   "metadata": {},
   "outputs": [],
   "source": [
    "n = 25\n",
    "repeats = 500\n",
    "sample_means = []\n",
    "for i in range(repeats):\n",
    "    sample = data_bulb.sample(n, replace=True)      # Create a sample with size to be n  \n",
    "    sample_means.append(sample['Lifespan'].mean())  # Sample mean for each experiment\n",
    "    \n",
    "sample_means = pd.Series(sample_means)              # Convert sample_means to a series"
   ]
  },
  {
   "cell_type": "markdown",
   "metadata": {},
   "source": [
    "The sample estimates and population parameters are compared in the following code."
   ]
  },
  {
   "cell_type": "code",
   "execution_count": null,
   "metadata": {
    "scrolled": false
   },
   "outputs": [],
   "source": [
    "\"\"\" \n",
    "This code cell is used to print the results of the sampling experiment.\n",
    "\n",
    "You are not required to understand the code.\n",
    "\"\"\"\n",
    "\n",
    "# Result message\n",
    "msg = 'Population mean $\\mu$: ' \n",
    "msg += '{0:0.2f}\\n'.format(data_bulb['Lifespan'].mean())\n",
    "msg += 'Population STD. $\\sigma$:   ' \n",
    "msg += '{0:0.2f}\\n\\n'.format(data_bulb['Lifespan'].std(ddof=0))\n",
    "msg += 'Mean of $\\overline{x}$: '\n",
    "msg += '{0:0.2f}\\n'.format(sample_means.mean())\n",
    "msg += 'STD. of $\\overline{x}$:  '\n",
    "msg += '{0:0.2f}'.format(sample_means.std())\n",
    "\n",
    "\n",
    "# Display the histogram of the sample means\n",
    "plt.hist(sample_means, bins=20)\n",
    "attr = dict(boxstyle='round', facecolor='wheat', alpha=0.3)\n",
    "plt.text(1371.5, 2, msg, fontsize=15, bbox=attr)\n",
    "\n",
    "plt.xlabel(r'Sample means $\\bar{X}$ (hours)', fontsize=12)\n",
    "plt.ylabel(r'Frequency', fontsize=15)\n",
    "plt.grid()\n",
    "plt.xlim([1335, 1370])\n",
    "plt.show()"
   ]
  },
  {
   "cell_type": "markdown",
   "metadata": {},
   "source": [
    "It can be seen that the mean of the sample mean $\\bar{x}$ is very close to the population mean $\\mu$. The standard deviation of $\\bar{x}$, often referred to as the **standard error (SE)** of $\\bar{x}$, is roughly one fifth of the population standard deviation $\\sigma$. We are going to explain the results via following mathematical derivation.\n",
    "\n",
    "As the number of repeated experiment goes to infinity, we can derive the expectation of $\\mathbb{E}(\\bar{x})$ as\n",
    "\\begin{align}\n",
    "\\mathbb{E}(\\bar{x}) = \\mathbb{E}\\left(\\frac{1}{n}\\sum\\limits_{i=1}^nx_i\\right) = \\frac{1}{n}\\sum\\limits_{i=1}^n\\mathbb{E}(x_i) = \\frac{1}{n}\\sum\\limits_{i=1}^n\\mu = \\mu.\n",
    "\\end{align}\n",
    "Note that $\\mathbb{E}[\\bar{x}]$ is the same as the actual population mean $\\mu$, the estimator $\\bar{x}$ is thus called **unbiased**.\n",
    "\n",
    "The variance of $\\bar{x}$ can be written as\n",
    "\\begin{align}\n",
    "\\text{Var}(\\bar{x}) = \\text{Var}\\left(\\frac{1}{n}\\sum\\limits_{i=1}^nx_i\\right) = \\frac{1}{n^2}\\sum\\limits_{i=1}^n\\text{Var}(x_i) = \\frac{1}{n^2}n\\sigma^2 = \\frac{\\sigma^2}{n}, \n",
    "\\end{align}\n",
    "so the standard error $\\text{SE}(\\bar{x})=\\sqrt{\\text{Var}(\\bar{x})}=\\sqrt{\\sigma^2/n}=\\frac{\\sigma}{\\sqrt{n}}$. In the example above, we have the sample size to be $n=25$, so $\\text{SE}(\\bar{x})$ is one fifth of the population standard deviation $\\sigma$. "
   ]
  }
 ],
 "metadata": {
  "kernelspec": {
   "display_name": "Python 3",
   "language": "python",
   "name": "python3"
  },
  "language_info": {
   "codemirror_mode": {
    "name": "ipython",
    "version": 3
   },
   "file_extension": ".py",
   "mimetype": "text/x-python",
   "name": "python",
   "nbconvert_exporter": "python",
   "pygments_lexer": "ipython3",
   "version": "3.8.3"
  }
 },
 "nbformat": 4,
 "nbformat_minor": 2
}
