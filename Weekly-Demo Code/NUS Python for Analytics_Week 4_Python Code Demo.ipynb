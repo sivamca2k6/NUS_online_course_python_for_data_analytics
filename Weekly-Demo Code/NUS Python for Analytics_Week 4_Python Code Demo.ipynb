{
 "cells": [
  {
   "cell_type": "markdown",
   "metadata": {},
   "source": [
    "# Module 4\n",
    "\n",
    "## Functions <a id=\"section1\"></a>\n",
    "### Review of some built-in functions <a id=\"subsection1.1\"></a>\n",
    "The syntax of calling functions can be generalized as follows.\n",
    "<center><b><code><i>outputs</i></code> = <code>function_name</code>(<code><i>inputs</i></code>)</b></center> \n",
    "\n",
    "Based on the user-specified the <b><code><i>inputs</i></code></b>, the function returns the results and passes them to variable(s) <b><code><i>outputs</i></code></b> on the left-hand-side of the assignment statement.  \n",
    "\n",
    "In previous lectures, we have seen many functions and methods. You may have noticed that these functions or methods behave differently, and according to the way they behave, we can group them into three categories:\n",
    "\n",
    "**1)**. The function **returns** some results, and the results are typically used in assignment statement. Examples are the type conversion functions <code>int()</code>, <code>float()</code>, and <code>str()</code>, or strings methods <code>lower()</code>, <code>upper()</code>, and <code>find()</code>, etc. "
   ]
  },
  {
   "cell_type": "code",
   "execution_count": 1,
   "metadata": {
    "scrolled": true
   },
   "outputs": [
    {
     "name": "stdout",
     "output_type": "stream",
     "text": [
      "2.0\n"
     ]
    }
   ],
   "source": [
    "result = float(2)           # Function float returns 2.0 as the result\n",
    "print(result)"
   ]
  },
  {
   "cell_type": "code",
   "execution_count": 2,
   "metadata": {
    "scrolled": true
   },
   "outputs": [
    {
     "name": "stdout",
     "output_type": "stream",
     "text": [
      "ABC\n"
     ]
    }
   ],
   "source": [
    "result = 'abc'.upper()      # String method upper returns 'ABC' as the result\n",
    "print(result)"
   ]
  },
  {
   "cell_type": "code",
   "execution_count": 3,
   "metadata": {},
   "outputs": [
    {
     "name": "stdout",
     "output_type": "stream",
     "text": [
      "6\n"
     ]
    }
   ],
   "source": [
    "result = sum([1, 2, 3])     # Function sum returns 6 as the result\n",
    "print(result)"
   ]
  },
  {
   "cell_type": "markdown",
   "metadata": {},
   "source": [
    "**2)**. The function **does** something, such as printing a message, modifying a list, or drawing a graph, but returns no result. Examples are function <code>print()</code> and list methods <code>append()</code>, <code>insert()</code>, and <code>extend()</code>. "
   ]
  },
  {
   "cell_type": "code",
   "execution_count": 4,
   "metadata": {
    "scrolled": true
   },
   "outputs": [
    {
     "name": "stdout",
     "output_type": "stream",
     "text": [
      "Do something!\n"
     ]
    }
   ],
   "source": [
    "print('Do something!')      # Print the message without returning any result"
   ]
  },
  {
   "cell_type": "code",
   "execution_count": 5,
   "metadata": {},
   "outputs": [
    {
     "name": "stdout",
     "output_type": "stream",
     "text": [
      "[1, 2, 3, 4]\n"
     ]
    }
   ],
   "source": [
    "x = [1, 2, 3]\n",
    "x.append(4)                 # Append items to a list without returning any result\n",
    "print(x)"
   ]
  },
  {
   "cell_type": "markdown",
   "metadata": {},
   "source": [
    "If we place these functions on the right-hand-side of assignment statement, we will obtain a special value <code>None</code> as the result, which belongs to the <code>NoneType</code>."
   ]
  },
  {
   "cell_type": "code",
   "execution_count": 6,
   "metadata": {
    "scrolled": true
   },
   "outputs": [
    {
     "name": "stdout",
     "output_type": "stream",
     "text": [
      "What?\n",
      "None\n",
      "<class 'NoneType'>\n"
     ]
    }
   ],
   "source": [
    "result = print('What?')\n",
    "\n",
    "print(result)               # The returned value of the print function is None\n",
    "print(type(result))         # The data type of None is NoneType"
   ]
  },
  {
   "cell_type": "markdown",
   "metadata": {},
   "source": [
    "When we see the function output is <code>None</code>, then we know there is no result returned by this function. \n",
    "\n",
    "**3)**. The function **does** something, and **returns** some results at the same time. We have seen function <code>input()</code> and list method <code>pop()</code> falling into this category. "
   ]
  },
  {
   "cell_type": "code",
   "execution_count": 7,
   "metadata": {},
   "outputs": [
    {
     "name": "stdout",
     "output_type": "stream",
     "text": [
      "[1, 2, 4]\n",
      "3\n"
     ]
    }
   ],
   "source": [
    "x = [1, 2, 3, 4]\n",
    "result = x.pop(2)\n",
    "\n",
    "print(x)                    # Method pop removes the third item\n",
    "print(result)               # Method pop also returns the third item as the result"
   ]
  },
  {
   "cell_type": "markdown",
   "metadata": {},
   "source": [
    "How can we find out how these functions behave? A fast way to find this information is to call the <code>help()</code> function."
   ]
  },
  {
   "cell_type": "code",
   "execution_count": 8,
   "metadata": {},
   "outputs": [
    {
     "name": "stdout",
     "output_type": "stream",
     "text": [
      "Help on built-in function pop:\n",
      "\n",
      "pop(index=-1, /) method of builtins.list instance\n",
      "    Remove and return item at index (default last).\n",
      "    \n",
      "    Raises IndexError if list is empty or index is out of range.\n",
      "\n"
     ]
    }
   ],
   "source": [
    "help(x.pop)"
   ]
  },
  {
   "cell_type": "markdown",
   "metadata": {},
   "source": [
    "### Create a function <a id=\"subsection1.2\"></a>\n",
    "\n",
    "<div class=\"alert alert-block alert-success\">\n",
    "<b>Example 1:</b> A group of four visitors are going to Singapore Zoo. Their ages are 11, 36, 37, and 67, respectively. Determine the ticket prices for these visitors. \n",
    "</div>"
   ]
  },
  {
   "cell_type": "code",
   "execution_count": 9,
   "metadata": {
    "scrolled": true
   },
   "outputs": [
    {
     "name": "stdout",
     "output_type": "stream",
     "text": [
      "23 35 35 16\n"
     ]
    }
   ],
   "source": [
    "# Vistor 1\n",
    "age1 = 11\n",
    "if age1 < 3:\n",
    "    ticket1 = 0\n",
    "elif age1 <= 12:\n",
    "    ticket1 = 23\n",
    "elif age1 < 60:\n",
    "    ticket1 = 35\n",
    "else:\n",
    "    ticket1 = 16\n",
    "\n",
    "# Visitor 2\n",
    "age2 = 36\n",
    "if age2 < 3:\n",
    "    ticket2 = 0\n",
    "elif age2 <= 12:\n",
    "    ticket2 = 23\n",
    "elif age2 < 60:\n",
    "    ticket2 = 35\n",
    "else:\n",
    "    ticket2 = 16\n",
    "\n",
    "# Visitor 3\n",
    "age3 = 37\n",
    "if age3 < 3:\n",
    "    ticket3 = 0\n",
    "elif age3 <= 12:\n",
    "    ticket3 = 23\n",
    "elif age3 < 60:\n",
    "    ticket3 = 35\n",
    "else:\n",
    "    ticket3 = 16\n",
    "\n",
    "# Visitor 4\n",
    "age4 = 67\n",
    "if age4 < 3:\n",
    "    ticket4 = 0\n",
    "elif age4 <= 12:\n",
    "    ticket4 = 23\n",
    "elif age4 < 60:\n",
    "    ticket4 = 35\n",
    "else:\n",
    "    ticket4 = 16\n",
    "\n",
    "# Print the ticket prices for all visitors\n",
    "print(ticket1, ticket2, ticket3, ticket4)"
   ]
  },
  {
   "cell_type": "markdown",
   "metadata": {},
   "source": [
    "In the example above, the same calculation procedure is repeated four times. In real applications, such code is considered extremely inefficient. A more efficient way of coding is to write the repeated segments as a function, so that the segment can be repeatedly used, and the program is more concise, readable, and is easier to debug and maintain.\n",
    "\n",
    "The syntax of creating a function is listed below:\n",
    "- Key word <code>def</code> is used to indicate the definition of a function.\n",
    "- A function name, together with the names of arguments in parentheses, is specified.\n",
    "- Do not forget the colon.\n",
    "- Indentions are used to indicate the body of the function.\n",
    "- Use the key word <code>return</code> to define the function outputs. The returned value is <code>None</code> if no output is specified.\n",
    "\n",
    "<img src=\"https://www.oreilly.com/library/view/head-first-python/9781449397524/httpatomoreillycomsourceoreillyimages1368386.png.jpg\">\n",
    "\n",
    "Following the syntax rules, we define a function named <code>zoo_ticket</code> below to calculate the ticket price for Singapore Zoo."
   ]
  },
  {
   "cell_type": "code",
   "execution_count": 10,
   "metadata": {
    "collapsed": true
   },
   "outputs": [],
   "source": [
    "def zoo_ticket(age):\n",
    "    \"\"\"The function zoo_ticket calculates the Singapore \n",
    "    Zoo ticket prices for visitors\"\"\"\n",
    "    \n",
    "    if age < 3:\n",
    "        ticket = 0\n",
    "    elif age <= 12:\n",
    "        ticket = 23\n",
    "    elif age < 60:\n",
    "        ticket = 35\n",
    "    else:\n",
    "        ticket = 16\n",
    "    \n",
    "    return ticket   # What if we remove the return statement?"
   ]
  },
  {
   "cell_type": "markdown",
   "metadata": {},
   "source": [
    "Once we have run the code cell above, we can run the function or \"call\" the function to do the designed tasks."
   ]
  },
  {
   "cell_type": "code",
   "execution_count": 11,
   "metadata": {},
   "outputs": [
    {
     "data": {
      "text/plain": [
       "23"
      ]
     },
     "execution_count": 11,
     "metadata": {},
     "output_type": "execute_result"
    }
   ],
   "source": [
    "age1 = 11                   # Age of the 1st visitor\n",
    "ticket1 = zoo_ticket(age1)  # Ticket price for the 1st visitor\n",
    "ticket1"
   ]
  },
  {
   "cell_type": "markdown",
   "metadata": {},
   "source": [
    "The logic of calling the function can be summarized as:\n",
    "- In <code>ticket1 = zoo_ticket(age1)</code> the value <code>age1=11</code> is passed to the input argument <code>age</code>, which is used for computing <code>ticket</code> inside of the function. \n",
    "- The result of <code>ticket</code> is returned by the <code>return</code> statement as the output of the function.\n",
    "- The output of the function is passed to the variable <code>ticket1</code> on the left-hand-side of the assignment statement.\n",
    "\n",
    "As a result, all ticket prices can be calculated by the following code cells."
   ]
  },
  {
   "cell_type": "code",
   "execution_count": 12,
   "metadata": {},
   "outputs": [
    {
     "name": "stdout",
     "output_type": "stream",
     "text": [
      "23 35 35 16\n"
     ]
    }
   ],
   "source": [
    "age1 = 11                   # Age of the 1st visitor\n",
    "ticket1 = zoo_ticket(age1)  # Ticket price for the 1st visitor\n",
    "\n",
    "age2 = 36                   # Age of the 2nd visitor\n",
    "ticket2 = zoo_ticket(age2)  # Ticket price for the 2nd visitor\n",
    "\n",
    "age3 = 37                   # Age of the 3rd visitor\n",
    "ticket3 = zoo_ticket(age3)  # Ticket price for the 3rd visitor\n",
    "\n",
    "age4 = 67                   # Age of the 4th visitor\n",
    "ticket4 = zoo_ticket(age4)  # Ticket price for the 4th visitor\n",
    "\n",
    "print(ticket1, ticket2, ticket3, ticket4)"
   ]
  },
  {
   "cell_type": "markdown",
   "metadata": {},
   "source": [
    "Equivalently, we may print the results as follows."
   ]
  },
  {
   "cell_type": "code",
   "execution_count": 13,
   "metadata": {
    "scrolled": true
   },
   "outputs": [
    {
     "name": "stdout",
     "output_type": "stream",
     "text": [
      "23 35 35 16\n"
     ]
    }
   ],
   "source": [
    "print(zoo_ticket(11), zoo_ticket(36), zoo_ticket(37), zoo_ticket(67))"
   ]
  },
  {
   "cell_type": "markdown",
   "metadata": {},
   "source": [
    "You can even create a list of ticket prices from a list of visitors' ages. (List comprehension)"
   ]
  },
  {
   "cell_type": "code",
   "execution_count": 14,
   "metadata": {
    "scrolled": false
   },
   "outputs": [
    {
     "name": "stdout",
     "output_type": "stream",
     "text": [
      "[23, 35, 35, 16]\n"
     ]
    }
   ],
   "source": [
    "ages = [11, 36, 37, 67]\n",
    "tickets = [zoo_ticket(age)      # Calculate the ticket price for each age\n",
    "           for age in ages]     # Iterate each age within the list \"ages\"\n",
    "\n",
    "print(tickets)"
   ]
  },
  {
   "cell_type": "markdown",
   "metadata": {},
   "source": [
    "<div class=\"alert alert-block alert-danger\">\n",
    "<b>Notes:</b>  \n",
    "    A function terminates at <b>return</b>. After hitting the <b>return</b>, the remaining code in the function will not be executed. \n",
    "</div>"
   ]
  },
  {
   "cell_type": "markdown",
   "metadata": {},
   "source": [
    "From examples above, we may see the benefits of using functions instead of repeated code segments:\n",
    "- It promotes the reuse of code. Any upgrades of the function apply to everywhere it is called. \n",
    "- It is easier to debug, since we only need to test one function separately, instead of examining every repeated code segment.\n",
    "- The program is more readable, as a whole block of code is replaced by a function with a name that describes itself. The readability can be further improved by the \"docstring\", introduced as follows.\n",
    "\n",
    "<div class=\"alert alert-block alert-warning\">\n",
    "    <b>Coding Style:</b> At the beginning of each function, there is a string within triple quotation marks, called a <b>docstring</b>. It is used to explain how the function behaves. Style of the docstring can be found in <a href=\"https://www.python.org/dev/peps/pep-0257/\">PEP 257 Docstring Conventions</a> \n",
    "</div>"
   ]
  },
  {
   "cell_type": "code",
   "execution_count": 17,
   "metadata": {
    "scrolled": false
   },
   "outputs": [
    {
     "name": "stdout",
     "output_type": "stream",
     "text": [
      "Help on function zoo_ticket in module __main__:\n",
      "\n",
      "zoo_ticket(age)\n",
      "    The function zoo_ticket calculates the Singapore \n",
      "    Zoo ticket prices for visitors\n",
      "\n"
     ]
    }
   ],
   "source": [
    "help(zoo_ticket)"
   ]
  },
  {
   "cell_type": "code",
   "execution_count": 6,
   "metadata": {
    "scrolled": true
   },
   "outputs": [
    {
     "name": "stdout",
     "output_type": "stream",
     "text": [
      "Help on built-in function find:\n",
      "\n",
      "find(...) method of builtins.str instance\n",
      "    S.find(sub[, start[, end]]) -> int\n",
      "    \n",
      "    Return the lowest index in S where substring sub is found,\n",
      "    such that sub is contained within S[start:end].  Optional\n",
      "    arguments start and end are interpreted as in slice notation.\n",
      "    \n",
      "    Return -1 on failure.\n",
      "\n"
     ]
    }
   ],
   "source": [
    "help(''.find)"
   ]
  },
  {
   "cell_type": "markdown",
   "metadata": {},
   "source": [
    "An additional example is provided below to demonstrate the case of multiple output arguments.\n",
    "\n",
    "<div class=\"alert alert-block alert-success\">\n",
    "<b>Example 2:</b> Given the CA and the examination mark, write a function to calculate the total mark and the final grade.\n",
    "</div>"
   ]
  },
  {
   "cell_type": "code",
   "execution_count": 18,
   "metadata": {
    "collapsed": true
   },
   "outputs": [],
   "source": [
    "def cal_grade(ca, exam):\n",
    "    \"\"\"This function calcualtes the total marks and final grades\"\"\"\n",
    "    \n",
    "    total_mark = ca + exam * 0.5   # Expression of the total mark\n",
    "    \n",
    "    if total_mark >= 80:\n",
    "        grade = 'A'\n",
    "    elif total_mark > 70:\n",
    "        grade = 'B'\n",
    "    elif total_mark > 60:\n",
    "        grade = 'C'\n",
    "    else:\n",
    "        grade = 'D'\n",
    "    \n",
    "    return total_mark, grade        # Return the total marks and grades as a tuple "
   ]
  },
  {
   "cell_type": "code",
   "execution_count": 19,
   "metadata": {
    "scrolled": true
   },
   "outputs": [
    {
     "name": "stdout",
     "output_type": "stream",
     "text": [
      "Student 1: Mark: 82.5 Grade: A\n",
      "Student 2: Mark: 71.0 Grade: B\n"
     ]
    }
   ],
   "source": [
    "total1, grade1 = cal_grade(40, 85)\n",
    "total2, grade2 = cal_grade(32, 78)\n",
    "\n",
    "print('Student 1: Mark: ' + str(total1) + ' Grade: ' + grade1)\n",
    "print('Student 2: Mark: ' + str(total2) + ' Grade: ' + grade2)"
   ]
  },
  {
   "cell_type": "markdown",
   "metadata": {},
   "source": [
    "In this example, we have multiple outputs, and these outputs are formed as a tuple, which can be unpacked and the values can be assigned to each variable on the left-hand-side of the assignment statement. \n",
    "\n",
    "### Variable namespace <a id=\"subsection1.3\"></a>\n",
    "A namespace is a collection of names. It maps names to corresponding objects. Python is similar to other programming languages, where one variable name typically only associates with one object. However, the same name can be used if they refer to objects in different **scopes**. For example, the same name can be used to define variables in different functions.\n",
    "\n",
    "Python has three layers of scopes: local, global, and built-in. \n",
    "- A variable declared inside the function's body is known as a local variable. \n",
    "- A variable declared outside of the function is known as a global variable. Global variable can be accessed inside or outside of the function.\n",
    "- A keyword predefined in Python, such as <code>len</code>, <code>print</code> and <code>type</code>. These keywords are highlighted by green letters in Jupyter notebook.\n",
    "\n",
    "The association of variable names and objects follow the LGB (Local, Global, Built-in) rule:\n",
    "- When you use a name inside a function, Python searches the local (L), then the global (G), and then the built-in (B)—and stops at the first place the name is found.\n",
    "- When outside a function, Python searches from global (G) to built-in (B). Again it stops at the first place the name is found.\n",
    "\n",
    "<div class=\"alert alert-block alert-success\">\n",
    "<b>Example 3: Demonstration of LGB rules</b> \n",
    "</div>"
   ]
  },
  {
   "cell_type": "code",
   "execution_count": 20,
   "metadata": {
    "collapsed": true,
    "scrolled": true
   },
   "outputs": [],
   "source": [
    "def lgb_test(z):                      \n",
    "    \"\"\"Illustration for LGB rules\"\"\"\n",
    "    \n",
    "    x = 'local x'                       # x is defined locally\n",
    "    \n",
    "    print('Inside the function')\n",
    "    print('x inside: ', x)              # Print x\n",
    "    print('y inside: ', y)              # Print y, not defined locally\n",
    "    print('z inside: ', z)              # Print z, as an input argument, defined locally"
   ]
  },
  {
   "cell_type": "code",
   "execution_count": 21,
   "metadata": {},
   "outputs": [
    {
     "name": "stdout",
     "output_type": "stream",
     "text": [
      "Outside the function\n",
      "x outside:  global x\n",
      "y outside:  global y\n",
      "z outside:  global z\n",
      "\n",
      "\n",
      "Inside the function\n",
      "x inside:  local x\n",
      "y inside:  global y\n",
      "z inside:  global x\n"
     ]
    }
   ],
   "source": [
    "y = 'global y'                  # Global as it is defined outside of the function\n",
    "x = 'global x'                  # Global as it is defined outside of the function\n",
    "z = 'global z'                  # Global as it is defined outside of the function\n",
    "\n",
    "print('Outside the function')\n",
    "print('x outside: ', x)         # Print x, defined globally     \n",
    "print('y outside: ', y)         # Print y, defined globally\n",
    "print('z outside: ', z)         # Print z, defined globally\n",
    "\n",
    "print('\\n')                     # Print an empty line to separate the results\n",
    "\n",
    "lgb_test(x)                     # Call the function"
   ]
  },
  {
   "cell_type": "markdown",
   "metadata": {},
   "source": [
    "In the example above, we use the names <code>x</code>, <code>y</code>, and <code>z</code> to define different variables. They may associate with different objects in different scopes. \n",
    "- Let us firstly focus on the second code cell, where all variables are defined outside of the function definition. According to the LGB rule, we know that they belong to the global scope. \n",
    "- Inside of the definition of function function <code>lgb_test</code>:\n",
    "    - The variable <code>x</code> is defined in the function (locally). It is thus different from the other <code>x</code> outside of the function (global). That is why outside of the function, the printed message is \"global x\", and the message becomes \"local x\" inside of the function. \n",
    "    - The variable <code>y</code> is not defined locally in the function, so Python continues to search if it is defined outside of function <code>lgb_test</code> as a global name. The answer is yes, so the variable <code>y</code> is the same object \"global y\" inside and outside of the function.\n",
    "    - The name <code>z</code> inside of the function is used as the input argument of the function, so it is different from the global <code>z</code> defined outside, and it takes the value of the global <code>x</code> as we call the function <code>lgb_test(x)</code>. That is why the printed message is \"global x\". \n",
    "- The Name <code>print</code> is not defined locally (inside function definition) or globally (outside function definition), so it used as a built-in function.\n",
    "\n",
    "<div class=\"alert alert-block alert-warning\">\n",
    "<b>Coding Style:</b> Referring to globally defined variables in a function is convenient but it makes the function dependent on the code outside, thus more difficult to test or debug as an independent code block. For beginners, it is recommended to only use locally defined variables in functions. \n",
    "</div>\n",
    "\n",
    "### Function arguments <a id=\"subsection1.4\"></a>\n",
    "Python provides flexible ways to pass arguments to functions. For instance, **positional arguments** can be passed to functions in the same order that arguments are written, and **keyword arguments** associate argument values with the variable names. \n",
    "\n",
    "<div class=\"alert alert-block alert-success\">\n",
    "<b>Example 4:</b> Write a function to summarize the information of students registered for a data science course. The input arguments are student's name, age, gender, faculty, and year of enrollment. The output is a dictionary. \n",
    "</div>"
   ]
  },
  {
   "cell_type": "code",
   "execution_count": 22,
   "metadata": {
    "collapsed": true
   },
   "outputs": [],
   "source": [
    "def student_info(name, age, gender, faculty, year):\n",
    "    \"\"\"This function summarizes student information into a dictionary\"\"\"\n",
    "    \n",
    "    info_dict = {'name': name,\n",
    "            'age': age,\n",
    "            'gender': gender,\n",
    "            'faculty': faculty,\n",
    "            'year': year}\n",
    "    \n",
    "    return info_dict"
   ]
  },
  {
   "cell_type": "code",
   "execution_count": 23,
   "metadata": {
    "scrolled": true
   },
   "outputs": [
    {
     "data": {
      "text/plain": [
       "{'name': 'Jane Doe',\n",
       " 'age': 20,\n",
       " 'gender': 'F',\n",
       " 'faculty': 'Business',\n",
       " 'year': 2017}"
      ]
     },
     "execution_count": 23,
     "metadata": {},
     "output_type": "execute_result"
    }
   ],
   "source": [
    "student = student_info('Jane Doe', 20, 'F', 'Business', 2017)\n",
    "\n",
    "student"
   ]
  },
  {
   "cell_type": "markdown",
   "metadata": {},
   "source": [
    "In this case, each argument is passed to the function according to their positions in the definition of the function, so they are called **positional**. \n",
    "\n",
    "Besides matching the order of arguments, Python also allows passing arguments according to the keywords of the arguments, as shown by the following code."
   ]
  },
  {
   "cell_type": "code",
   "execution_count": 24,
   "metadata": {},
   "outputs": [
    {
     "data": {
      "text/plain": [
       "{'name': 'Jane Doe',\n",
       " 'age': 20,\n",
       " 'gender': 'F',\n",
       " 'faculty': 'Business',\n",
       " 'year': 2017}"
      ]
     },
     "execution_count": 24,
     "metadata": {},
     "output_type": "execute_result"
    }
   ],
   "source": [
    "student = student_info('Jane Doe', 20,                              # Positional arguments\n",
    "                       year=2017, faculty='Business', gender='F')   # Keyword arguments\n",
    "student"
   ]
  },
  {
   "cell_type": "markdown",
   "metadata": {},
   "source": [
    "In the example above, the last three arguments use a a name-value pair that to pass argument to the function, so they are called **keyword arguments**. Because the keywords are sufficient to match the arguments and their values, the order of arguments could be arbitrary. The first two arguments, however, are still **positional** since no keyword is given, so they must follow the given order.\n",
    "\n",
    "<div class=\"alert alert-block alert-danger\">\n",
    "<b>Notes:</b>  \n",
    "    In Python programming, all positional arguments must be specified before keyword arguments, otherwise there will be an error message.  \n",
    "</div>\n",
    "\n",
    "<div class=\"alert alert-block alert-warning\">\n",
    "<b>Notes:</b>  \n",
    "    Do not use spaces around the equal sign while specifying keyword arguments, as suggested by <a href=\"https://www.python.org/dev/peps/pep-0008/#imports\">PEP 8 Style Guide:</a>.  \n",
    "</div>\n",
    "\n",
    "Such flexible ways of passing arguments are particularly useful when some arguments are assigned to default values. For example, most students for this data science course are enrolled in 2017, and are from Business School. As a result, \"2017\" and \"Business\" could be used as the default values of these two arguments, and there is no need to specify them every time we call the function, except for a few special cases. The modified function with default arguments is given as follows."
   ]
  },
  {
   "cell_type": "code",
   "execution_count": 25,
   "metadata": {
    "collapsed": true
   },
   "outputs": [],
   "source": [
    "def student_info(name, age, gender, faculty='Business', year=2017):\n",
    "    \"\"\"This function summarizes student information into a dictionary\"\"\"\n",
    "    \n",
    "    info_dict = {'name': name,\n",
    "            'age': age,\n",
    "            'gender': gender,\n",
    "            'faculty': faculty,\n",
    "            'year': year}\n",
    "    \n",
    "    return info_dict"
   ]
  },
  {
   "cell_type": "markdown",
   "metadata": {},
   "source": [
    "We may then call the function as the following command."
   ]
  },
  {
   "cell_type": "code",
   "execution_count": 26,
   "metadata": {},
   "outputs": [
    {
     "data": {
      "text/plain": [
       "{'name': 'Jane Doe',\n",
       " 'age': 20,\n",
       " 'gender': 'F',\n",
       " 'faculty': 'Business',\n",
       " 'year': 2017}"
      ]
     },
     "execution_count": 26,
     "metadata": {},
     "output_type": "execute_result"
    }
   ],
   "source": [
    "student = student_info('Jane Doe', 20, 'F') \n",
    "\n",
    "student"
   ]
  },
  {
   "cell_type": "markdown",
   "metadata": {},
   "source": [
    "In cases where the year of enrollment is not 2017, we can simply use keyword argument to specify the year, without giving the vlaue of <code>faculty</code>. "
   ]
  },
  {
   "cell_type": "code",
   "execution_count": 27,
   "metadata": {},
   "outputs": [
    {
     "data": {
      "text/plain": [
       "{'name': 'John Doe',\n",
       " 'age': 20,\n",
       " 'gender': 'M',\n",
       " 'faculty': 'Business',\n",
       " 'year': 2018}"
      ]
     },
     "execution_count": 27,
     "metadata": {},
     "output_type": "execute_result"
    }
   ],
   "source": [
    "student = student_info('John Doe', 20, 'M', year=2018) \n",
    "\n",
    "student"
   ]
  },
  {
   "cell_type": "markdown",
   "metadata": {},
   "source": [
    "If you are not sure about the arguments and their default values, you may use the command <code>help</code> to dispaly such information, as the example below."
   ]
  },
  {
   "cell_type": "code",
   "execution_count": 28,
   "metadata": {},
   "outputs": [
    {
     "name": "stdout",
     "output_type": "stream",
     "text": [
      "Help on function student_info in module __main__:\n",
      "\n",
      "student_info(name, age, gender, faculty='Business', year=2017)\n",
      "    This function summarizes student information into a dictionary\n",
      "\n"
     ]
    }
   ],
   "source": [
    "help(student_info)"
   ]
  },
  {
   "cell_type": "markdown",
   "metadata": {},
   "source": [
    "The use of keyword arguments would be greatly helpful when there are many input arguments. It simplifies the passing of default arguments, and improves the readability of the program. \n",
    "\n",
    "### Leap of Faith <a id=\"subsection1.5\"></a>\n",
    "\n",
    "> *Following the flow of execution is one way to read programs, but it can quickly become labyrinthine. An alternative is what I call the “leap of faith.” When you come to a function call, instead of following the flow of execution, you assume that the function works correctly\n",
    "and returns the right result.* -  [Think Python](https://www.greenteapress.com/thinkpython/thinkpython.pdf)\n",
    "\n",
    "In fact, we have already been practicing the leap of faith when using various built-in functions. We do not examine or question the correctness while calling built-in functions like <code>sum</code>, <code>len</code>, and many others, because we believe they are written by good programers. \n",
    "\n",
    "The same idea should also be applied to the case of our own functions. Once we have convinced ourselves that this function is correct—by examining the code and testing—we can use the function without looking at the body again."
   ]
  },
  {
   "cell_type": "markdown",
   "metadata": {},
   "source": [
    "  "
   ]
  },
  {
   "cell_type": "markdown",
   "metadata": {},
   "source": [
    "## Modules <a id=\"section2\"></a>\n",
    "\n",
    "### Why modules? <a id=\"subsection2.1\"></a>\n",
    "\n",
    "A module is a \".py\" file that defines functions, classes, variables, or simply contains some runnable code. The benefits of using modules include:\n",
    "- It promotes the reuse and sharing of code\n",
    "- It helps to logically organize Python code, thus enhancing readability and maintenance efficiency.\n",
    "- Better namespace.\n",
    "\n",
    "### Import modules <a id=\"subsection2.2\"></a>\n",
    "The syntax of calling functions from modules is demonstrated by the following example.\n",
    "\n",
    "<div class=\"alert alert-block alert-success\">\n",
    "    <b>Example 6:</b> Use the function <b>mean</b> and <b>stdev</b> from the module <b>statistics</b> to calculate the sample mean value and the sample standard deviation of numbers in a list.\n",
    "</div>"
   ]
  },
  {
   "cell_type": "code",
   "execution_count": 29,
   "metadata": {
    "scrolled": true
   },
   "outputs": [
    {
     "name": "stdout",
     "output_type": "stream",
     "text": [
      "3.5\n",
      "1.8708286933869707\n"
     ]
    }
   ],
   "source": [
    "import statistics\n",
    "\n",
    "a_list = [1, 2, 3, 4, 5, 6]\n",
    "\n",
    "print(statistics.mean(a_list))\n",
    "print(statistics.stdev(a_list))"
   ]
  },
  {
   "cell_type": "markdown",
   "metadata": {},
   "source": [
    "In the example above, the module is imported to our program by the keyword <code>import</code>, followed by the module name. Functions from modules can be called via the syntax <b><code><i>module_name.function_name</i></code></b>. \n",
    "\n",
    "Python also enables users to give a local name to the imported module by using the keyword <code>as</code>, as shown by the example below."
   ]
  },
  {
   "cell_type": "code",
   "execution_count": 4,
   "metadata": {},
   "outputs": [
    {
     "name": "stdout",
     "output_type": "stream",
     "text": [
      "5.142857142857143\n",
      "12.746614863413363\n"
     ]
    }
   ],
   "source": [
    "import statistics as st\n",
    "\n",
    "a_list = [12, -12, 4, 6, 12, 24,-10]\n",
    "\n",
    "print(st.mean(a_list))\n",
    "print(st.stdev(a_list))"
   ]
  },
  {
   "cell_type": "markdown",
   "metadata": {},
   "source": [
    "It is common practice to use local names for imported modules in order to keep the program neat and concise. \n",
    "\n",
    "If you feel it is stil too troublesome to type the module name, you may use the following syntax with the keyword <code>from</code> and the symbol <code>*</code>."
   ]
  },
  {
   "cell_type": "code",
   "execution_count": 31,
   "metadata": {},
   "outputs": [
    {
     "name": "stdout",
     "output_type": "stream",
     "text": [
      "3.5\n",
      "1.8708286933869707\n"
     ]
    }
   ],
   "source": [
    "from statistics import *\n",
    "\n",
    "a_list = [1, 2, 3, 4, 5, 6]\n",
    "\n",
    "print(mean(a_list))\n",
    "print(stdev(a_list))"
   ]
  },
  {
   "cell_type": "markdown",
   "metadata": {},
   "source": [
    "This case imports everything from the module <code>statistics</code>, so there is no need to refer to the name of the module, and functions can be directly called. \n",
    "\n",
    "<div class=\"alert alert-block alert-warning\">\n",
    "<b>Coding Style:</b> It is usually not recommended to import everything from a module to omit the module name, as the code above. The reason is that different modules may have variables, functions, or classes with the same names that may cause conflicts in namespaces. It is prefered to use a module name for a better management of namespaces.\n",
    "</div>\n",
    "\n",
    "The keyword <code>from</code> can be applied in the following way to better control program namespaces."
   ]
  },
  {
   "cell_type": "code",
   "execution_count": 32,
   "metadata": {
    "scrolled": true
   },
   "outputs": [
    {
     "name": "stdout",
     "output_type": "stream",
     "text": [
      "3.5\n",
      "1.8708286933869707\n"
     ]
    }
   ],
   "source": [
    "from statistics import mean as ml\n",
    "from statistics import stdev as st\n",
    "\n",
    "a_list = [1, 2, 3, 4, 5, 6]\n",
    "\n",
    "print(ml(a_list))\n",
    "print(st(a_list))"
   ]
  },
  {
   "cell_type": "markdown",
   "metadata": {},
   "source": [
    "In this case, we also use the keyword <code>as</code> to rename the imported functions. This method is usually used to avoid name conflicts.\n",
    "\n",
    "<div class=\"alert alert-block alert-warning\">\n",
    "<b>Coding Style:</b> \n",
    "<a href=\"https://www.python.org/dev/peps/pep-0008/#imports\">PEP 8 Style Guide:</a> \n",
    "<ul>\n",
    "  <li>Import different modules and packages in separate lines</li>\n",
    "  <li>Place import statements at the top of the code file</li>\n",
    "  <li>Absolute imports are recommended</li>\n",
    "  <li>For better namespace management, it is better to avoid using <b>*</b></li>\n",
    "</ul>\n",
    "</div>\n",
    "\n",
    "Python would remember our imported modules and the contained objects, so for one run of juypter notebook file, we only need to do the import once. "
   ]
  },
  {
   "cell_type": "markdown",
   "metadata": {},
   "source": [
    "  "
   ]
  },
  {
   "cell_type": "markdown",
   "metadata": {},
   "source": [
    "## Packages <a id=\"section3\"></a>\n",
    "\n",
    "A package is a collection of modules and other supporting files, like images and user guide documents. The third-party packages developed by other programmers could help us to greatly simplify our coding works. \n",
    "\n",
    "> *The usefulness of Python for data science stems primarily from the large and active ecosystem of third-party packages: <code>NumPy</code> for manipulation of homogeneous array-based data, <code>Pandas</code> for manipulation of heterogeneous and labeled data, <code>SciPy</code> for common scientific computing tasks, <code>Matplotlib</code> for publication-quality visualizations, <code>IPython</code> for interactive execution and sharing of code, <code>Scikit-Learn</code> for machine learning, and many more tools that will be mentioned in the following pages.* -  [Python Data Science Handbook](https://jakevdp.github.io/PythonDataScienceHandbook/00.00-preface.html)\n",
    "\n",
    "The syntax of importing and using packages is very similar to modules. \n",
    "\n",
    "### Install packages <a id=\"subsection3.1\"></a>\n",
    "External Python package must be installed (only once) before we can import and use them. The ways of installing these package may vary, depending on how they are shared online. Usually you can follow the steps:\n",
    "- For Windows OS, you may install the package **matplotlib** by type in **\"conda install matplotlib\"** or **\"pip install matplotlib\"** in the Anaconda prompt. \n",
    "- For Linus and Mac OS, you could install the package by type in **\"conda install matplotlib\"** or **\"pip install matplotlib\"** in the terminal.\n",
    "\n",
    "You only need to install packages once, and all commonly used packages for data science, such as <code>NumPy</code>, <code>SciPy</code>, <code>Pandas</code>, and <code>Matplotlib</code>, have been integrated in the Anaconda platform, so there is no need to install them. \n",
    "\n",
    "### Use packages <a id=\"subsection3.2\"></a>\n",
    "\n",
    "#### <code>Numpy</code> package\n",
    "Numpy is the core library for scientific computing in Python. It provides a high-performance multidimensional array data type called <code>numpy.ndarray</code>, and tools for working with these arrays. A <code>numpy.ndarray</code> is a homogeneous collection of “items” indexed using N integers. There are two essential pieces of information that define an N-dimensional array:  \n",
    "1. The shape of the array, defined by a tuple of N integers\n",
    "2. The type of data item the array is composed of. "
   ]
  },
  {
   "cell_type": "code",
   "execution_count": 33,
   "metadata": {},
   "outputs": [
    {
     "name": "stdout",
     "output_type": "stream",
     "text": [
      "<class 'numpy.ndarray'>\n",
      "1\n",
      "(5,)\n",
      "float64\n"
     ]
    }
   ],
   "source": [
    "import numpy as np\n",
    "\n",
    "array_1d = np.array([2, 3.60, 2.05, 13.50, 18.90])  # Construct an array from a list\n",
    "\n",
    "print(type(array_1d))                               # Data type of array_1d\n",
    "print(array_1d.ndim)                                # Number of dimensions\n",
    "print(array_1d.shape)                               # Shape of the array\n",
    "print(array_1d.dtype)                               # Type of the data item"
   ]
  },
  {
   "cell_type": "markdown",
   "metadata": {},
   "source": [
    "As you can see, the data type of <code>array_1d</code> is <code>numpy.ndarray</code>, and the number of dimension is <code>ndim=1</code>, so the <code>shape</code> of the array is a tuple containing one integer. The <code>dtype</code> suggests that the data type of the data item is <code>float</code>. \n",
    "\n",
    "Also note that there is no parenthesis following <code>shape</code> or <code>dtype</code>. This is because <code>shape</code> and <code>dtype</code> are **attributes** rather than methods of the <code>numpy.ndarray</code> data type. \n",
    "\n",
    "We can also create 2-dimensional arrays as the following examples."
   ]
  },
  {
   "cell_type": "code",
   "execution_count": 34,
   "metadata": {
    "scrolled": true
   },
   "outputs": [
    {
     "name": "stdout",
     "output_type": "stream",
     "text": [
      "[[1.  2. ]\n",
      " [2.  3.5]\n",
      " [5.  6.5]]\n"
     ]
    }
   ],
   "source": [
    "nested_list = [[1, 2],    \n",
    "               [2, 3.5],     \n",
    "               [5, 6.5]]            # Each inner list specifies a row\n",
    "\n",
    "array_2d = np.array(nested_list)    # Construct a 2-dimensional array from a nested list  \n",
    "\n",
    "print(array_2d)"
   ]
  },
  {
   "cell_type": "code",
   "execution_count": 35,
   "metadata": {},
   "outputs": [
    {
     "name": "stdout",
     "output_type": "stream",
     "text": [
      "2\n",
      "(3, 2)\n"
     ]
    }
   ],
   "source": [
    "print(array_2d.ndim)          # Number of dimensions\n",
    "print(array_2d.shape)         # Shape of the array"
   ]
  },
  {
   "cell_type": "markdown",
   "metadata": {},
   "source": [
    "Now the attribute <code>ndim</code> is 2 and <code>shape</code> is a tuple with 2 integers, implying that it is a 2-dimensional array. You can keep increasing the number of dimensions by increasing the layers of the nested structure. However, arrays with more than 2 dimensions are rarely used.\n",
    "\n",
    "The <code>numpy.ndarray </code> data structure is a powerful tool because it provides a very convenient and readable way to conduct arithmetic operations for all elements as a whole. Some examples are given as follows."
   ]
  },
  {
   "cell_type": "code",
   "execution_count": 36,
   "metadata": {},
   "outputs": [
    {
     "name": "stdout",
     "output_type": "stream",
     "text": [
      "[[4.  5. ]\n",
      " [5.  6.5]\n",
      " [8.  9.5]]\n",
      "[[ 2.  4.]\n",
      " [ 4.  7.]\n",
      " [10. 13.]]\n",
      "[[ 2.  4.]\n",
      " [ 4.  7.]\n",
      " [10. 13.]]\n",
      "[[ 1.    4.  ]\n",
      " [ 4.   12.25]\n",
      " [25.   42.25]]\n"
     ]
    }
   ],
   "source": [
    "nested_list = [[1, 2],    \n",
    "               [2, 3.5],     \n",
    "               [5, 6.5]]         # Each inner list specifies rows\n",
    "\n",
    "array_2d = np.array(nested_list) # Convert list to ndarray  \n",
    "\n",
    "print(array_2d + 3)              # Add one number to each element\n",
    "print(array_2d * 2)              # Each element is multiplied by a number\n",
    "print(array_2d + array_2d)       # Element-wise addition\n",
    "print(array_2d * array_2d)       # Element-wise multiplication"
   ]
  },
  {
   "cell_type": "markdown",
   "metadata": {},
   "source": [
    "In addition, we can find summations of elements in an array very easily."
   ]
  },
  {
   "cell_type": "code",
   "execution_count": 37,
   "metadata": {
    "scrolled": true
   },
   "outputs": [
    {
     "name": "stdout",
     "output_type": "stream",
     "text": [
      "20.0\n",
      "[ 8. 12.]\n",
      "[ 3.   5.5 11.5]\n",
      "[5.  6.5]\n",
      "[1. 2. 5.]\n"
     ]
    }
   ],
   "source": [
    "print(array_2d.sum())          # Sum of all elements\n",
    "print(array_2d.sum(axis=0))    # For each column, sum of elements in rows\n",
    "print(array_2d.sum(axis=1))    # For each row, sum of elements in columns\n",
    "print(array_2d.max(axis=0))    # The maximum elements of each column\n",
    "print(array_2d.min(axis=1))    # The minimum elements of each row"
   ]
  },
  {
   "cell_type": "markdown",
   "metadata": {},
   "source": [
    "The full list of methods of <code>numpy.ndarray</code> can be found from [ndarray methods](https://docs.scipy.org/doc/numpy/reference/generated/numpy.ndarray.html).\n",
    "\n",
    "#### Indexing and slicing of arrays\n",
    "The indexing and slicing of <code>numpy.ndarray</code> are very similar to the built-in compound data types. The only difference is that we need N indexes in the same bracket to access an N-dimensional array, as the examples below."
   ]
  },
  {
   "cell_type": "code",
   "execution_count": 38,
   "metadata": {
    "scrolled": true
   },
   "outputs": [
    {
     "name": "stdout",
     "output_type": "stream",
     "text": [
      "3.6\n",
      "2.0\n",
      "[ 2.05 13.5  18.9 ]\n",
      "[[2.  3.5]\n",
      " [5.  6.5]]\n"
     ]
    }
   ],
   "source": [
    "print(array_1d[1])        # The second item of the 1d array\n",
    "print(array_2d[0, 1])     # Two indexes for a 2d array\n",
    "print(array_1d[2:])       # Slicing for 1d array\n",
    "print(array_2d[1:, :])    # Slicing for 2d array"
   ]
  },
  {
   "cell_type": "markdown",
   "metadata": {},
   "source": [
    "#### <code>Numpy</code> functions for scientific calculations\n",
    "Besides the <code>numpy.ndarray</code> data type, the <code>numpy</code> package also provides with a wide variety of functions for scientific calculations. Check the following examples."
   ]
  },
  {
   "cell_type": "code",
   "execution_count": 39,
   "metadata": {},
   "outputs": [
    {
     "name": "stdout",
     "output_type": "stream",
     "text": [
      "3.141592653589793\n",
      "0.5877852522924731\n",
      "23.140692632779267\n",
      "[1.14472989 1.14472989 1.14472989]\n"
     ]
    }
   ],
   "source": [
    "import numpy as np\n",
    "\n",
    "pi = np.pi                  # The constant pi=3.14159...\n",
    "y1 = np.sin(0.2*pi)         # The sine function of 0.2*pi     \n",
    "y2 = np.exp(pi)             # The exponential function of pi\n",
    "y3 = np.log(pi*np.ones(3))  # The log function of elements in an array\n",
    "\n",
    "print(pi)\n",
    "print(y1)\n",
    "print(y2)\n",
    "print(y3)"
   ]
  },
  {
   "cell_type": "markdown",
   "metadata": {},
   "source": [
    "In future lectures and tutorials, we will see other functions or methods for array operations. \n",
    "\n",
    "<div class=\"alert alert-block alert-success\">\n",
    "<b>Example 6:</b> <b>usd</b> is a list containing five money transactions in US dollars. Transfer each transaction into Singapore dollars. \n",
    "</div>\n",
    "\n",
    "In this case, the coding task would be much easier if we use the <code>numpy</code> package. "
   ]
  },
  {
   "cell_type": "code",
   "execution_count": 40,
   "metadata": {},
   "outputs": [
    {
     "name": "stdout",
     "output_type": "stream",
     "text": [
      "[ 2.74    4.932   2.8085 18.495  25.893 ]\n"
     ]
    }
   ],
   "source": [
    "import numpy as np\n",
    "\n",
    "usd = [2, 3.60, 2.05, 13.50, 18.90]\n",
    "exchange_rate = 1.37\n",
    "\n",
    "usd_array = np.array(usd)               # Construct a numpy array from the list usd\n",
    "sgd_array = usd_array * exchange_rate   # Element-wise multiplication\n",
    "\n",
    "print(sgd_array)"
   ]
  },
  {
   "cell_type": "markdown",
   "metadata": {},
   "source": [
    "We convert the list <code>usd</code> into a <code>numpy.ndarray</code> type variable named <code>usd_array</code>. The <code>numpy.ndarray</code> data type conducts element-wise multiplication simply with the operator <code>*</code>. Compared with using a <code>for</code> loop or list comprehension, such an operation is much more concise and readable. "
   ]
  },
  {
   "cell_type": "markdown",
   "metadata": {},
   "source": [
    "### Package information <a id=\"subsection3.3\"></a>\n",
    "- Package documents\n",
    "- Run <code>help()</code> to display the docstring\n",
    "- Google keywords for examples"
   ]
  }
 ],
 "metadata": {
  "kernelspec": {
   "display_name": "Python 3",
   "language": "python",
   "name": "python3"
  },
  "language_info": {
   "codemirror_mode": {
    "name": "ipython",
    "version": 3
   },
   "file_extension": ".py",
   "mimetype": "text/x-python",
   "name": "python",
   "nbconvert_exporter": "python",
   "pygments_lexer": "ipython3",
   "version": "3.8.3"
  }
 },
 "nbformat": 4,
 "nbformat_minor": 2
}
