{
 "cells": [
  {
   "cell_type": "markdown",
   "metadata": {},
   "source": [
    "# Descriptive Analytics: Numerical Summary\n",
    "By Eli Yi-Liang Tung\n",
    "\n",
    "Department of Analytics and Operations, Business School, NUS"
   ]
  },
  {
   "cell_type": "markdown",
   "metadata": {},
   "source": [
    "## Learning Objectives\n",
    "1. Use Pandas to obtain and interpret summary statistics.\n",
    "2. Slice and dice data by using group-wise operations using aggregate, filter and apply functions in Pandas"
   ]
  },
  {
   "cell_type": "markdown",
   "metadata": {},
   "source": [
    "## Descriptive Measures\n",
    "**Descriptive analytics** creates a summary of historical data to yield useful information and possibly prepare the data for further analysis. Such information may include some basic descriptive measures of data and graphs showing important insights.\n",
    "\n",
    "### Centers, variations, and extreme points\n",
    "The center of data is usually expressed by the mean value of the median, which can be easily achieved by the corresponding methods."
   ]
  },
  {
   "cell_type": "code",
   "execution_count": 1,
   "metadata": {},
   "outputs": [],
   "source": [
    "import pandas as pd"
   ]
  },
  {
   "cell_type": "code",
   "execution_count": 2,
   "metadata": {},
   "outputs": [
    {
     "data": {
      "text/html": [
       "<div>\n",
       "<style scoped>\n",
       "    .dataframe tbody tr th:only-of-type {\n",
       "        vertical-align: middle;\n",
       "    }\n",
       "\n",
       "    .dataframe tbody tr th {\n",
       "        vertical-align: top;\n",
       "    }\n",
       "\n",
       "    .dataframe thead th {\n",
       "        text-align: right;\n",
       "    }\n",
       "</style>\n",
       "<table border=\"1\" class=\"dataframe\">\n",
       "  <thead>\n",
       "    <tr style=\"text-align: right;\">\n",
       "      <th></th>\n",
       "      <th>wage</th>\n",
       "      <th>educ</th>\n",
       "      <th>exper</th>\n",
       "      <th>female</th>\n",
       "      <th>married</th>\n",
       "    </tr>\n",
       "  </thead>\n",
       "  <tbody>\n",
       "    <tr>\n",
       "      <th>0</th>\n",
       "      <td>3.10</td>\n",
       "      <td>11.0</td>\n",
       "      <td>2.0</td>\n",
       "      <td>1.0</td>\n",
       "      <td>0.0</td>\n",
       "    </tr>\n",
       "    <tr>\n",
       "      <th>1</th>\n",
       "      <td>3.24</td>\n",
       "      <td>12.0</td>\n",
       "      <td>22.0</td>\n",
       "      <td>1.0</td>\n",
       "      <td>1.0</td>\n",
       "    </tr>\n",
       "    <tr>\n",
       "      <th>2</th>\n",
       "      <td>3.00</td>\n",
       "      <td>11.0</td>\n",
       "      <td>2.0</td>\n",
       "      <td>0.0</td>\n",
       "      <td>0.0</td>\n",
       "    </tr>\n",
       "    <tr>\n",
       "      <th>3</th>\n",
       "      <td>6.00</td>\n",
       "      <td>8.0</td>\n",
       "      <td>44.0</td>\n",
       "      <td>0.0</td>\n",
       "      <td>1.0</td>\n",
       "    </tr>\n",
       "    <tr>\n",
       "      <th>4</th>\n",
       "      <td>5.30</td>\n",
       "      <td>12.0</td>\n",
       "      <td>7.0</td>\n",
       "      <td>0.0</td>\n",
       "      <td>1.0</td>\n",
       "    </tr>\n",
       "    <tr>\n",
       "      <th>5</th>\n",
       "      <td>8.75</td>\n",
       "      <td>16.0</td>\n",
       "      <td>9.0</td>\n",
       "      <td>0.0</td>\n",
       "      <td>1.0</td>\n",
       "    </tr>\n",
       "  </tbody>\n",
       "</table>\n",
       "</div>"
      ],
      "text/plain": [
       "   wage  educ  exper  female  married\n",
       "0  3.10  11.0    2.0     1.0      0.0\n",
       "1  3.24  12.0   22.0     1.0      1.0\n",
       "2  3.00  11.0    2.0     0.0      0.0\n",
       "3  6.00   8.0   44.0     0.0      1.0\n",
       "4  5.30  12.0    7.0     0.0      1.0\n",
       "5  8.75  16.0    9.0     0.0      1.0"
      ]
     },
     "execution_count": 2,
     "metadata": {},
     "output_type": "execute_result"
    }
   ],
   "source": [
    "data_dict = {'wage': [3.10, 3.24, 3.00, 6.00, 5.30, 8.75],\n",
    "             'educ': [11.0, 12.0, 11.0, 8.0, 12.0, 16.0],\n",
    "             'exper': [2.0, 22.0, 2.0, 44.0, 7.0, 9.0],\n",
    "             'female': [1.0, 1.0, 0.0, 0.0, 0.0, 0.0],\n",
    "             'married': [0.0, 1.0, 0.0, 1.0, 1.0, 1.0]}\n",
    "\n",
    "data = pd.DataFrame(data_dict)    # DataFrame constructor\n",
    "data                              # Display the DataFrame"
   ]
  },
  {
   "cell_type": "code",
   "execution_count": 3,
   "metadata": {},
   "outputs": [
    {
     "name": "stdout",
     "output_type": "stream",
     "text": [
      "wage        4.898333\n",
      "educ       11.666667\n",
      "exper      14.333333\n",
      "female      0.333333\n",
      "married     0.666667\n",
      "dtype: float64\n",
      "<class 'pandas.core.series.Series'>\n"
     ]
    }
   ],
   "source": [
    "print(data.mean())          # Mean value of each column\n",
    "print(type(data.mean()))    # Show the data type of the results"
   ]
  },
  {
   "cell_type": "code",
   "execution_count": 4,
   "metadata": {},
   "outputs": [
    {
     "data": {
      "text/plain": [
       "wage        4.27\n",
       "educ       11.50\n",
       "exper       8.00\n",
       "female      0.00\n",
       "married     1.00\n",
       "dtype: float64"
      ]
     },
     "execution_count": 4,
     "metadata": {},
     "output_type": "execute_result"
    }
   ],
   "source": [
    "data.median()        # Median value of each column"
   ]
  },
  {
   "cell_type": "code",
   "execution_count": 5,
   "metadata": {},
   "outputs": [
    {
     "data": {
      "text/plain": [
       "pandas.core.series.Series"
      ]
     },
     "execution_count": 5,
     "metadata": {},
     "output_type": "execute_result"
    }
   ],
   "source": [
    "type(data.median())  # Show the data type of the results"
   ]
  },
  {
   "cell_type": "markdown",
   "metadata": {},
   "source": [
    "Please note that the mean value of each column is stored in a <code>pandas.Series</code>, where the index labels are variable names, rather than a sequence of integers. \n",
    "\n",
    "Also notice that in the case of the 0-1 categorical variable \"female\", the mean value of 0.333 is the proportion of observations in the dataset labeled as \"female\". The same concept can be applied to the variable \"married\" as well.\n",
    "\n",
    "Similarly, the measures of standard deviations and variances can be calculated by the corresponding methods."
   ]
  },
  {
   "cell_type": "code",
   "execution_count": 6,
   "metadata": {},
   "outputs": [
    {
     "data": {
      "text/plain": [
       "wage        2.271479\n",
       "educ        2.581989\n",
       "exper      16.280868\n",
       "female      0.516398\n",
       "married     0.516398\n",
       "dtype: float64"
      ]
     },
     "execution_count": 6,
     "metadata": {},
     "output_type": "execute_result"
    }
   ],
   "source": [
    "data.std()         # Sample Standard deviation of each column"
   ]
  },
  {
   "cell_type": "code",
   "execution_count": 7,
   "metadata": {},
   "outputs": [
    {
     "data": {
      "text/plain": [
       "wage         5.159617\n",
       "educ         6.666667\n",
       "exper      265.066667\n",
       "female       0.266667\n",
       "married      0.266667\n",
       "dtype: float64"
      ]
     },
     "execution_count": 7,
     "metadata": {},
     "output_type": "execute_result"
    }
   ],
   "source": [
    "data.var()         # Sample Variance of each column"
   ]
  },
  {
   "cell_type": "markdown",
   "metadata": {},
   "source": [
    "The maximum and minimum points in the dataset can also be found."
   ]
  },
  {
   "cell_type": "code",
   "execution_count": 8,
   "metadata": {},
   "outputs": [
    {
     "data": {
      "text/plain": [
       "wage        8.75\n",
       "educ       16.00\n",
       "exper      44.00\n",
       "female      1.00\n",
       "married     1.00\n",
       "dtype: float64"
      ]
     },
     "execution_count": 8,
     "metadata": {},
     "output_type": "execute_result"
    }
   ],
   "source": [
    "data.max()         # Maximum value of each column"
   ]
  },
  {
   "cell_type": "code",
   "execution_count": 9,
   "metadata": {},
   "outputs": [
    {
     "data": {
      "text/plain": [
       "wage       3.0\n",
       "educ       8.0\n",
       "exper      2.0\n",
       "female     0.0\n",
       "married    0.0\n",
       "dtype: float64"
      ]
     },
     "execution_count": 9,
     "metadata": {},
     "output_type": "execute_result"
    }
   ],
   "source": [
    "data.min()         # Minimum value of each column"
   ]
  },
  {
   "cell_type": "markdown",
   "metadata": {},
   "source": [
    "### Method <code>describe</code>"
   ]
  },
  {
   "cell_type": "markdown",
   "metadata": {},
   "source": [
    "For <code>pandas.DataFrame</code> and <code>pandas.Series</code>, the method <code>describe</code> is a convenient tool to summarize some key measures altogether."
   ]
  },
  {
   "cell_type": "code",
   "execution_count": 10,
   "metadata": {},
   "outputs": [
    {
     "data": {
      "text/html": [
       "<div>\n",
       "<style scoped>\n",
       "    .dataframe tbody tr th:only-of-type {\n",
       "        vertical-align: middle;\n",
       "    }\n",
       "\n",
       "    .dataframe tbody tr th {\n",
       "        vertical-align: top;\n",
       "    }\n",
       "\n",
       "    .dataframe thead th {\n",
       "        text-align: right;\n",
       "    }\n",
       "</style>\n",
       "<table border=\"1\" class=\"dataframe\">\n",
       "  <thead>\n",
       "    <tr style=\"text-align: right;\">\n",
       "      <th></th>\n",
       "      <th>wage</th>\n",
       "      <th>educ</th>\n",
       "      <th>exper</th>\n",
       "      <th>female</th>\n",
       "      <th>married</th>\n",
       "    </tr>\n",
       "  </thead>\n",
       "  <tbody>\n",
       "    <tr>\n",
       "      <th>count</th>\n",
       "      <td>6.000000</td>\n",
       "      <td>6.000000</td>\n",
       "      <td>6.000000</td>\n",
       "      <td>6.000000</td>\n",
       "      <td>6.000000</td>\n",
       "    </tr>\n",
       "    <tr>\n",
       "      <th>mean</th>\n",
       "      <td>4.898333</td>\n",
       "      <td>11.666667</td>\n",
       "      <td>14.333333</td>\n",
       "      <td>0.333333</td>\n",
       "      <td>0.666667</td>\n",
       "    </tr>\n",
       "    <tr>\n",
       "      <th>std</th>\n",
       "      <td>2.271479</td>\n",
       "      <td>2.581989</td>\n",
       "      <td>16.280868</td>\n",
       "      <td>0.516398</td>\n",
       "      <td>0.516398</td>\n",
       "    </tr>\n",
       "    <tr>\n",
       "      <th>min</th>\n",
       "      <td>3.000000</td>\n",
       "      <td>8.000000</td>\n",
       "      <td>2.000000</td>\n",
       "      <td>0.000000</td>\n",
       "      <td>0.000000</td>\n",
       "    </tr>\n",
       "    <tr>\n",
       "      <th>25%</th>\n",
       "      <td>3.135000</td>\n",
       "      <td>11.000000</td>\n",
       "      <td>3.250000</td>\n",
       "      <td>0.000000</td>\n",
       "      <td>0.250000</td>\n",
       "    </tr>\n",
       "    <tr>\n",
       "      <th>50%</th>\n",
       "      <td>4.270000</td>\n",
       "      <td>11.500000</td>\n",
       "      <td>8.000000</td>\n",
       "      <td>0.000000</td>\n",
       "      <td>1.000000</td>\n",
       "    </tr>\n",
       "    <tr>\n",
       "      <th>75%</th>\n",
       "      <td>5.825000</td>\n",
       "      <td>12.000000</td>\n",
       "      <td>18.750000</td>\n",
       "      <td>0.750000</td>\n",
       "      <td>1.000000</td>\n",
       "    </tr>\n",
       "    <tr>\n",
       "      <th>max</th>\n",
       "      <td>8.750000</td>\n",
       "      <td>16.000000</td>\n",
       "      <td>44.000000</td>\n",
       "      <td>1.000000</td>\n",
       "      <td>1.000000</td>\n",
       "    </tr>\n",
       "  </tbody>\n",
       "</table>\n",
       "</div>"
      ],
      "text/plain": [
       "           wage       educ      exper    female   married\n",
       "count  6.000000   6.000000   6.000000  6.000000  6.000000\n",
       "mean   4.898333  11.666667  14.333333  0.333333  0.666667\n",
       "std    2.271479   2.581989  16.280868  0.516398  0.516398\n",
       "min    3.000000   8.000000   2.000000  0.000000  0.000000\n",
       "25%    3.135000  11.000000   3.250000  0.000000  0.250000\n",
       "50%    4.270000  11.500000   8.000000  0.000000  1.000000\n",
       "75%    5.825000  12.000000  18.750000  0.750000  1.000000\n",
       "max    8.750000  16.000000  44.000000  1.000000  1.000000"
      ]
     },
     "execution_count": 10,
     "metadata": {},
     "output_type": "execute_result"
    }
   ],
   "source": [
    "wage_summary = data.describe()  # Obtain the key descriptive measures \n",
    "wage_summary                    # Display these measures as a table"
   ]
  },
  {
   "cell_type": "markdown",
   "metadata": {},
   "source": [
    "The variable <code>wage_summary</code> is a <code>pandas.DataFrame</code> table where the index labels are the names of the descriptive measures. \n",
    "\n",
    "Note that rows <code>25%</code>, <code>50%</code>, and <code>75%</code> represent the first (Q1), second(Q2), and third quartiles(Q3), respectively. The value Q3 - Q1 is called the interquartile range (IQR). \n",
    "\n",
    "<img src=\"http://www.brainfuse.com/quizUpload/c_83740/quartiles2.gif\" width=450>\n",
    "\n",
    "Besides methods mentioned above, Pandas has many other methods available for you to calculate descriptive measures via one line of code. You may check [Essential Basic Functionality¶](https://pandas.pydata.org/pandas-docs/stable/basics.html#descriptive-statistics)"
   ]
  },
  {
   "cell_type": "markdown",
   "metadata": {},
   "source": [
    "## Group-wise Operations in Pandas"
   ]
  },
  {
   "cell_type": "markdown",
   "metadata": {},
   "source": [
    "<i><b>Background</b></i>: In the following, we will use Singapore’s 4-Digits data set to exemplify the power of group-wise operations using Pandas. The 4-Digits (abbreviation: 4-D) is a lottery in Singapore. Individuals play by choosing any number from 0000 to 9999. Then, twenty-three winning numbers are drawn each time. If one of the numbers matches the one that the player has bought, a prize is won. A draw is conducted to select these winning numbers. 4-Digits is a fixed-odds game. There are five prize categories: **1st Prize**, **2nd Prize**, **3rd Prize**, **Starter Prizes** and **Consolation Prizes**. We would like to know prize-specific summary of the 4-D lottery. "
   ]
  },
  {
   "cell_type": "markdown",
   "metadata": {},
   "source": [
    "### Load data"
   ]
  },
  {
   "cell_type": "markdown",
   "metadata": {},
   "source": [
    "The following data file \"4D_results_long.csv\" has been generated. First, please load data into Python."
   ]
  },
  {
   "cell_type": "code",
   "execution_count": 11,
   "metadata": {},
   "outputs": [],
   "source": [
    "data = pd.read_csv('4D_results_long.csv')"
   ]
  },
  {
   "cell_type": "code",
   "execution_count": 12,
   "metadata": {},
   "outputs": [
    {
     "data": {
      "text/html": [
       "<div>\n",
       "<style scoped>\n",
       "    .dataframe tbody tr th:only-of-type {\n",
       "        vertical-align: middle;\n",
       "    }\n",
       "\n",
       "    .dataframe tbody tr th {\n",
       "        vertical-align: top;\n",
       "    }\n",
       "\n",
       "    .dataframe thead th {\n",
       "        text-align: right;\n",
       "    }\n",
       "</style>\n",
       "<table border=\"1\" class=\"dataframe\">\n",
       "  <thead>\n",
       "    <tr style=\"text-align: right;\">\n",
       "      <th></th>\n",
       "      <th>draw_no</th>\n",
       "      <th>date</th>\n",
       "      <th>querystring</th>\n",
       "      <th>weekday</th>\n",
       "      <th>year</th>\n",
       "      <th>week_no</th>\n",
       "      <th>prize</th>\n",
       "      <th>number</th>\n",
       "      <th>prize_type</th>\n",
       "    </tr>\n",
       "  </thead>\n",
       "  <tbody>\n",
       "    <tr>\n",
       "      <th>0</th>\n",
       "      <td>4323</td>\n",
       "      <td>2018-09-30</td>\n",
       "      <td>sppl=RHJhd051bWJlcj00MzIz</td>\n",
       "      <td>Sun</td>\n",
       "      <td>2018</td>\n",
       "      <td>39</td>\n",
       "      <td>first_prize</td>\n",
       "      <td>1646</td>\n",
       "      <td>1st</td>\n",
       "    </tr>\n",
       "    <tr>\n",
       "      <th>1</th>\n",
       "      <td>4322</td>\n",
       "      <td>2018-09-29</td>\n",
       "      <td>sppl=RHJhd051bWJlcj00MzIy</td>\n",
       "      <td>Sat</td>\n",
       "      <td>2018</td>\n",
       "      <td>38</td>\n",
       "      <td>first_prize</td>\n",
       "      <td>1490</td>\n",
       "      <td>1st</td>\n",
       "    </tr>\n",
       "    <tr>\n",
       "      <th>2</th>\n",
       "      <td>4321</td>\n",
       "      <td>2018-09-26</td>\n",
       "      <td>sppl=RHJhd051bWJlcj00MzIx</td>\n",
       "      <td>Wed</td>\n",
       "      <td>2018</td>\n",
       "      <td>38</td>\n",
       "      <td>first_prize</td>\n",
       "      <td>3141</td>\n",
       "      <td>1st</td>\n",
       "    </tr>\n",
       "    <tr>\n",
       "      <th>3</th>\n",
       "      <td>4320</td>\n",
       "      <td>2018-09-23</td>\n",
       "      <td>sppl=RHJhd051bWJlcj00MzIw</td>\n",
       "      <td>Sun</td>\n",
       "      <td>2018</td>\n",
       "      <td>38</td>\n",
       "      <td>first_prize</td>\n",
       "      <td>5917</td>\n",
       "      <td>1st</td>\n",
       "    </tr>\n",
       "    <tr>\n",
       "      <th>4</th>\n",
       "      <td>4319</td>\n",
       "      <td>2018-09-22</td>\n",
       "      <td>sppl=RHJhd051bWJlcj00MzE5</td>\n",
       "      <td>Sat</td>\n",
       "      <td>2018</td>\n",
       "      <td>37</td>\n",
       "      <td>first_prize</td>\n",
       "      <td>7338</td>\n",
       "      <td>1st</td>\n",
       "    </tr>\n",
       "    <tr>\n",
       "      <th>5</th>\n",
       "      <td>4318</td>\n",
       "      <td>2018-09-19</td>\n",
       "      <td>sppl=RHJhd051bWJlcj00MzE4</td>\n",
       "      <td>Wed</td>\n",
       "      <td>2018</td>\n",
       "      <td>37</td>\n",
       "      <td>first_prize</td>\n",
       "      <td>939</td>\n",
       "      <td>1st</td>\n",
       "    </tr>\n",
       "    <tr>\n",
       "      <th>6</th>\n",
       "      <td>4317</td>\n",
       "      <td>2018-09-16</td>\n",
       "      <td>sppl=RHJhd051bWJlcj00MzE3</td>\n",
       "      <td>Sun</td>\n",
       "      <td>2018</td>\n",
       "      <td>37</td>\n",
       "      <td>first_prize</td>\n",
       "      <td>7127</td>\n",
       "      <td>1st</td>\n",
       "    </tr>\n",
       "    <tr>\n",
       "      <th>7</th>\n",
       "      <td>4316</td>\n",
       "      <td>2018-09-15</td>\n",
       "      <td>sppl=RHJhd051bWJlcj00MzE2</td>\n",
       "      <td>Sat</td>\n",
       "      <td>2018</td>\n",
       "      <td>36</td>\n",
       "      <td>first_prize</td>\n",
       "      <td>3444</td>\n",
       "      <td>1st</td>\n",
       "    </tr>\n",
       "    <tr>\n",
       "      <th>8</th>\n",
       "      <td>4315</td>\n",
       "      <td>2018-09-12</td>\n",
       "      <td>sppl=RHJhd051bWJlcj00MzE1</td>\n",
       "      <td>Wed</td>\n",
       "      <td>2018</td>\n",
       "      <td>36</td>\n",
       "      <td>first_prize</td>\n",
       "      <td>4281</td>\n",
       "      <td>1st</td>\n",
       "    </tr>\n",
       "    <tr>\n",
       "      <th>9</th>\n",
       "      <td>4314</td>\n",
       "      <td>2018-09-09</td>\n",
       "      <td>sppl=RHJhd051bWJlcj00MzE0</td>\n",
       "      <td>Sun</td>\n",
       "      <td>2018</td>\n",
       "      <td>36</td>\n",
       "      <td>first_prize</td>\n",
       "      <td>4185</td>\n",
       "      <td>1st</td>\n",
       "    </tr>\n",
       "  </tbody>\n",
       "</table>\n",
       "</div>"
      ],
      "text/plain": [
       "   draw_no        date                querystring weekday  year  week_no  \\\n",
       "0     4323  2018-09-30  sppl=RHJhd051bWJlcj00MzIz     Sun  2018       39   \n",
       "1     4322  2018-09-29  sppl=RHJhd051bWJlcj00MzIy     Sat  2018       38   \n",
       "2     4321  2018-09-26  sppl=RHJhd051bWJlcj00MzIx     Wed  2018       38   \n",
       "3     4320  2018-09-23  sppl=RHJhd051bWJlcj00MzIw     Sun  2018       38   \n",
       "4     4319  2018-09-22  sppl=RHJhd051bWJlcj00MzE5     Sat  2018       37   \n",
       "5     4318  2018-09-19  sppl=RHJhd051bWJlcj00MzE4     Wed  2018       37   \n",
       "6     4317  2018-09-16  sppl=RHJhd051bWJlcj00MzE3     Sun  2018       37   \n",
       "7     4316  2018-09-15  sppl=RHJhd051bWJlcj00MzE2     Sat  2018       36   \n",
       "8     4315  2018-09-12  sppl=RHJhd051bWJlcj00MzE1     Wed  2018       36   \n",
       "9     4314  2018-09-09  sppl=RHJhd051bWJlcj00MzE0     Sun  2018       36   \n",
       "\n",
       "         prize  number prize_type  \n",
       "0  first_prize    1646        1st  \n",
       "1  first_prize    1490        1st  \n",
       "2  first_prize    3141        1st  \n",
       "3  first_prize    5917        1st  \n",
       "4  first_prize    7338        1st  \n",
       "5  first_prize     939        1st  \n",
       "6  first_prize    7127        1st  \n",
       "7  first_prize    3444        1st  \n",
       "8  first_prize    4281        1st  \n",
       "9  first_prize    4185        1st  "
      ]
     },
     "execution_count": 12,
     "metadata": {},
     "output_type": "execute_result"
    }
   ],
   "source": [
    "data.head(10)"
   ]
  },
  {
   "cell_type": "code",
   "execution_count": 13,
   "metadata": {},
   "outputs": [
    {
     "data": {
      "text/plain": [
       "(10810, 9)"
      ]
     },
     "execution_count": 13,
     "metadata": {},
     "output_type": "execute_result"
    }
   ],
   "source": [
    "data.shape"
   ]
  },
  {
   "cell_type": "code",
   "execution_count": null,
   "metadata": {},
   "outputs": [],
   "source": []
  },
  {
   "cell_type": "markdown",
   "metadata": {},
   "source": [
    "### Column Summary"
   ]
  },
  {
   "cell_type": "markdown",
   "metadata": {},
   "source": [
    "#### value_counts()"
   ]
  },
  {
   "cell_type": "code",
   "execution_count": 14,
   "metadata": {},
   "outputs": [
    {
     "data": {
      "text/plain": [
       "consolation    4700\n",
       "starter        4700\n",
       "1st             470\n",
       "3rd             470\n",
       "2nd             470\n",
       "Name: prize_type, dtype: int64"
      ]
     },
     "execution_count": 14,
     "metadata": {},
     "output_type": "execute_result"
    }
   ],
   "source": [
    "# count the instances of each prize type\n",
    "data['prize_type'].value_counts()"
   ]
  },
  {
   "cell_type": "code",
   "execution_count": 15,
   "metadata": {},
   "outputs": [
    {
     "data": {
      "text/plain": [
       "7532    8\n",
       "5788    7\n",
       "9331    6\n",
       "1289    6\n",
       "9532    6\n",
       "3442    6\n",
       "9306    6\n",
       "3509    6\n",
       "5228    6\n",
       "8304    6\n",
       "Name: number, dtype: int64"
      ]
     },
     "execution_count": 15,
     "metadata": {},
     "output_type": "execute_result"
    }
   ],
   "source": [
    "# show the Top 10 most frequent winning number in the dataset\n",
    "data['number'].value_counts().head(10)"
   ]
  },
  {
   "cell_type": "markdown",
   "metadata": {},
   "source": [
    "#### describe()"
   ]
  },
  {
   "cell_type": "code",
   "execution_count": 16,
   "metadata": {},
   "outputs": [
    {
     "data": {
      "text/plain": [
       "count    10810.000000\n",
       "mean      4957.073636\n",
       "std       2905.037198\n",
       "min          0.000000\n",
       "25%       2400.250000\n",
       "50%       4964.000000\n",
       "75%       7479.750000\n",
       "max       9999.000000\n",
       "Name: number, dtype: float64"
      ]
     },
     "execution_count": 16,
     "metadata": {},
     "output_type": "execute_result"
    }
   ],
   "source": [
    "# summary statistics of all the winning numbers\n",
    "data['number'].describe()"
   ]
  },
  {
   "cell_type": "code",
   "execution_count": 17,
   "metadata": {},
   "outputs": [
    {
     "data": {
      "text/plain": [
       "count     10810\n",
       "unique        3\n",
       "top         Sat\n",
       "freq       3611\n",
       "Name: weekday, dtype: object"
      ]
     },
     "execution_count": 17,
     "metadata": {},
     "output_type": "execute_result"
    }
   ],
   "source": [
    "# summary of a categorical variable\n",
    "data['weekday'].describe()"
   ]
  },
  {
   "cell_type": "code",
   "execution_count": null,
   "metadata": {},
   "outputs": [],
   "source": []
  },
  {
   "cell_type": "markdown",
   "metadata": {},
   "source": [
    "### GroupBy"
   ]
  },
  {
   "cell_type": "markdown",
   "metadata": {},
   "source": [
    "#### create a GroupBy object"
   ]
  },
  {
   "cell_type": "code",
   "execution_count": 18,
   "metadata": {},
   "outputs": [],
   "source": [
    "data_by_prizetype = data.groupby(['prize_type'])"
   ]
  },
  {
   "cell_type": "code",
   "execution_count": 19,
   "metadata": {},
   "outputs": [
    {
     "data": {
      "text/plain": [
       "<pandas.core.groupby.generic.DataFrameGroupBy object at 0x000002CB6276ACA0>"
      ]
     },
     "execution_count": 19,
     "metadata": {},
     "output_type": "execute_result"
    }
   ],
   "source": [
    "data_by_prizetype"
   ]
  },
  {
   "cell_type": "markdown",
   "metadata": {},
   "source": [
    "#### GroupBy object attributes"
   ]
  },
  {
   "cell_type": "code",
   "execution_count": 20,
   "metadata": {},
   "outputs": [
    {
     "data": {
      "text/plain": [
       "prize_type\n",
       "1st             470\n",
       "2nd             470\n",
       "3rd             470\n",
       "consolation    4700\n",
       "starter        4700\n",
       "dtype: int64"
      ]
     },
     "execution_count": 20,
     "metadata": {},
     "output_type": "execute_result"
    }
   ],
   "source": [
    "data_by_prizetype.size()"
   ]
  },
  {
   "cell_type": "code",
   "execution_count": null,
   "metadata": {},
   "outputs": [],
   "source": []
  },
  {
   "cell_type": "code",
   "execution_count": 21,
   "metadata": {},
   "outputs": [
    {
     "data": {
      "text/plain": [
       "<pandas.core.groupby.generic.SeriesGroupBy object at 0x000002CB62779970>"
      ]
     },
     "execution_count": 21,
     "metadata": {},
     "output_type": "execute_result"
    }
   ],
   "source": [
    "#DataFrame column selection in GroupBy\n",
    "data_by_prizetype['number']"
   ]
  },
  {
   "cell_type": "code",
   "execution_count": 22,
   "metadata": {},
   "outputs": [
    {
     "data": {
      "text/plain": [
       "<pandas.core.groupby.generic.DataFrameGroupBy object at 0x000002CB62779C10>"
      ]
     },
     "execution_count": 22,
     "metadata": {},
     "output_type": "execute_result"
    }
   ],
   "source": [
    "data_by_prizetype[['number']]"
   ]
  },
  {
   "cell_type": "code",
   "execution_count": null,
   "metadata": {},
   "outputs": [],
   "source": []
  },
  {
   "cell_type": "code",
   "execution_count": 23,
   "metadata": {},
   "outputs": [
    {
     "data": {
      "text/plain": [
       "{'1st': Int64Index([  0,   1,   2,   3,   4,   5,   6,   7,   8,   9,\n",
       "             ...\n",
       "             460, 461, 462, 463, 464, 465, 466, 467, 468, 469],\n",
       "            dtype='int64', length=470),\n",
       " '2nd': Int64Index([470, 471, 472, 473, 474, 475, 476, 477, 478, 479,\n",
       "             ...\n",
       "             930, 931, 932, 933, 934, 935, 936, 937, 938, 939],\n",
       "            dtype='int64', length=470),\n",
       " '3rd': Int64Index([ 940,  941,  942,  943,  944,  945,  946,  947,  948,  949,\n",
       "             ...\n",
       "             1400, 1401, 1402, 1403, 1404, 1405, 1406, 1407, 1408, 1409],\n",
       "            dtype='int64', length=470),\n",
       " 'consolation': Int64Index([ 6110,  6111,  6112,  6113,  6114,  6115,  6116,  6117,  6118,\n",
       "              6119,\n",
       "             ...\n",
       "             10800, 10801, 10802, 10803, 10804, 10805, 10806, 10807, 10808,\n",
       "             10809],\n",
       "            dtype='int64', length=4700),\n",
       " 'starter': Int64Index([1410, 1411, 1412, 1413, 1414, 1415, 1416, 1417, 1418, 1419,\n",
       "             ...\n",
       "             6100, 6101, 6102, 6103, 6104, 6105, 6106, 6107, 6108, 6109],\n",
       "            dtype='int64', length=4700)}"
      ]
     },
     "execution_count": 23,
     "metadata": {},
     "output_type": "execute_result"
    }
   ],
   "source": [
    "data_by_prizetype.groups"
   ]
  },
  {
   "cell_type": "code",
   "execution_count": null,
   "metadata": {},
   "outputs": [],
   "source": []
  },
  {
   "cell_type": "code",
   "execution_count": 24,
   "metadata": {},
   "outputs": [
    {
     "data": {
      "text/html": [
       "<div>\n",
       "<style scoped>\n",
       "    .dataframe tbody tr th:only-of-type {\n",
       "        vertical-align: middle;\n",
       "    }\n",
       "\n",
       "    .dataframe tbody tr th {\n",
       "        vertical-align: top;\n",
       "    }\n",
       "\n",
       "    .dataframe thead th {\n",
       "        text-align: right;\n",
       "    }\n",
       "</style>\n",
       "<table border=\"1\" class=\"dataframe\">\n",
       "  <thead>\n",
       "    <tr style=\"text-align: right;\">\n",
       "      <th></th>\n",
       "      <th>draw_no</th>\n",
       "      <th>date</th>\n",
       "      <th>querystring</th>\n",
       "      <th>weekday</th>\n",
       "      <th>year</th>\n",
       "      <th>week_no</th>\n",
       "      <th>prize</th>\n",
       "      <th>number</th>\n",
       "      <th>prize_type</th>\n",
       "    </tr>\n",
       "  </thead>\n",
       "  <tbody>\n",
       "    <tr>\n",
       "      <th>470</th>\n",
       "      <td>4323</td>\n",
       "      <td>2018-09-30</td>\n",
       "      <td>sppl=RHJhd051bWJlcj00MzIz</td>\n",
       "      <td>Sun</td>\n",
       "      <td>2018</td>\n",
       "      <td>39</td>\n",
       "      <td>second_prize</td>\n",
       "      <td>8122</td>\n",
       "      <td>2nd</td>\n",
       "    </tr>\n",
       "    <tr>\n",
       "      <th>471</th>\n",
       "      <td>4322</td>\n",
       "      <td>2018-09-29</td>\n",
       "      <td>sppl=RHJhd051bWJlcj00MzIy</td>\n",
       "      <td>Sat</td>\n",
       "      <td>2018</td>\n",
       "      <td>38</td>\n",
       "      <td>second_prize</td>\n",
       "      <td>4593</td>\n",
       "      <td>2nd</td>\n",
       "    </tr>\n",
       "    <tr>\n",
       "      <th>472</th>\n",
       "      <td>4321</td>\n",
       "      <td>2018-09-26</td>\n",
       "      <td>sppl=RHJhd051bWJlcj00MzIx</td>\n",
       "      <td>Wed</td>\n",
       "      <td>2018</td>\n",
       "      <td>38</td>\n",
       "      <td>second_prize</td>\n",
       "      <td>764</td>\n",
       "      <td>2nd</td>\n",
       "    </tr>\n",
       "    <tr>\n",
       "      <th>473</th>\n",
       "      <td>4320</td>\n",
       "      <td>2018-09-23</td>\n",
       "      <td>sppl=RHJhd051bWJlcj00MzIw</td>\n",
       "      <td>Sun</td>\n",
       "      <td>2018</td>\n",
       "      <td>38</td>\n",
       "      <td>second_prize</td>\n",
       "      <td>2345</td>\n",
       "      <td>2nd</td>\n",
       "    </tr>\n",
       "    <tr>\n",
       "      <th>474</th>\n",
       "      <td>4319</td>\n",
       "      <td>2018-09-22</td>\n",
       "      <td>sppl=RHJhd051bWJlcj00MzE5</td>\n",
       "      <td>Sat</td>\n",
       "      <td>2018</td>\n",
       "      <td>37</td>\n",
       "      <td>second_prize</td>\n",
       "      <td>7494</td>\n",
       "      <td>2nd</td>\n",
       "    </tr>\n",
       "    <tr>\n",
       "      <th>475</th>\n",
       "      <td>4318</td>\n",
       "      <td>2018-09-19</td>\n",
       "      <td>sppl=RHJhd051bWJlcj00MzE4</td>\n",
       "      <td>Wed</td>\n",
       "      <td>2018</td>\n",
       "      <td>37</td>\n",
       "      <td>second_prize</td>\n",
       "      <td>5409</td>\n",
       "      <td>2nd</td>\n",
       "    </tr>\n",
       "    <tr>\n",
       "      <th>476</th>\n",
       "      <td>4317</td>\n",
       "      <td>2018-09-16</td>\n",
       "      <td>sppl=RHJhd051bWJlcj00MzE3</td>\n",
       "      <td>Sun</td>\n",
       "      <td>2018</td>\n",
       "      <td>37</td>\n",
       "      <td>second_prize</td>\n",
       "      <td>6211</td>\n",
       "      <td>2nd</td>\n",
       "    </tr>\n",
       "    <tr>\n",
       "      <th>477</th>\n",
       "      <td>4316</td>\n",
       "      <td>2018-09-15</td>\n",
       "      <td>sppl=RHJhd051bWJlcj00MzE2</td>\n",
       "      <td>Sat</td>\n",
       "      <td>2018</td>\n",
       "      <td>36</td>\n",
       "      <td>second_prize</td>\n",
       "      <td>9074</td>\n",
       "      <td>2nd</td>\n",
       "    </tr>\n",
       "    <tr>\n",
       "      <th>478</th>\n",
       "      <td>4315</td>\n",
       "      <td>2018-09-12</td>\n",
       "      <td>sppl=RHJhd051bWJlcj00MzE1</td>\n",
       "      <td>Wed</td>\n",
       "      <td>2018</td>\n",
       "      <td>36</td>\n",
       "      <td>second_prize</td>\n",
       "      <td>3577</td>\n",
       "      <td>2nd</td>\n",
       "    </tr>\n",
       "    <tr>\n",
       "      <th>479</th>\n",
       "      <td>4314</td>\n",
       "      <td>2018-09-09</td>\n",
       "      <td>sppl=RHJhd051bWJlcj00MzE0</td>\n",
       "      <td>Sun</td>\n",
       "      <td>2018</td>\n",
       "      <td>36</td>\n",
       "      <td>second_prize</td>\n",
       "      <td>2622</td>\n",
       "      <td>2nd</td>\n",
       "    </tr>\n",
       "  </tbody>\n",
       "</table>\n",
       "</div>"
      ],
      "text/plain": [
       "     draw_no        date                querystring weekday  year  week_no  \\\n",
       "470     4323  2018-09-30  sppl=RHJhd051bWJlcj00MzIz     Sun  2018       39   \n",
       "471     4322  2018-09-29  sppl=RHJhd051bWJlcj00MzIy     Sat  2018       38   \n",
       "472     4321  2018-09-26  sppl=RHJhd051bWJlcj00MzIx     Wed  2018       38   \n",
       "473     4320  2018-09-23  sppl=RHJhd051bWJlcj00MzIw     Sun  2018       38   \n",
       "474     4319  2018-09-22  sppl=RHJhd051bWJlcj00MzE5     Sat  2018       37   \n",
       "475     4318  2018-09-19  sppl=RHJhd051bWJlcj00MzE4     Wed  2018       37   \n",
       "476     4317  2018-09-16  sppl=RHJhd051bWJlcj00MzE3     Sun  2018       37   \n",
       "477     4316  2018-09-15  sppl=RHJhd051bWJlcj00MzE2     Sat  2018       36   \n",
       "478     4315  2018-09-12  sppl=RHJhd051bWJlcj00MzE1     Wed  2018       36   \n",
       "479     4314  2018-09-09  sppl=RHJhd051bWJlcj00MzE0     Sun  2018       36   \n",
       "\n",
       "            prize  number prize_type  \n",
       "470  second_prize    8122        2nd  \n",
       "471  second_prize    4593        2nd  \n",
       "472  second_prize     764        2nd  \n",
       "473  second_prize    2345        2nd  \n",
       "474  second_prize    7494        2nd  \n",
       "475  second_prize    5409        2nd  \n",
       "476  second_prize    6211        2nd  \n",
       "477  second_prize    9074        2nd  \n",
       "478  second_prize    3577        2nd  \n",
       "479  second_prize    2622        2nd  "
      ]
     },
     "execution_count": 24,
     "metadata": {},
     "output_type": "execute_result"
    }
   ],
   "source": [
    "# Selecting a group\n",
    "data_by_prizetype.get_group('2nd').head(10)"
   ]
  },
  {
   "cell_type": "code",
   "execution_count": null,
   "metadata": {},
   "outputs": [],
   "source": []
  },
  {
   "cell_type": "code",
   "execution_count": 25,
   "metadata": {},
   "outputs": [
    {
     "name": "stdout",
     "output_type": "stream",
     "text": [
      "1st\n",
      "(470, 9)\n",
      "<class 'pandas.core.frame.DataFrame'>\n",
      "2nd\n",
      "(470, 9)\n",
      "<class 'pandas.core.frame.DataFrame'>\n",
      "3rd\n",
      "(470, 9)\n",
      "<class 'pandas.core.frame.DataFrame'>\n",
      "consolation\n",
      "(4700, 9)\n",
      "<class 'pandas.core.frame.DataFrame'>\n",
      "starter\n",
      "(4700, 9)\n",
      "<class 'pandas.core.frame.DataFrame'>\n"
     ]
    }
   ],
   "source": [
    "# Iterating through groups\n",
    "for name, group in data_by_prizetype:\n",
    "    print(name)\n",
    "    print(group.shape)\n",
    "    print(type(group))"
   ]
  },
  {
   "cell_type": "code",
   "execution_count": null,
   "metadata": {},
   "outputs": [],
   "source": []
  },
  {
   "cell_type": "code",
   "execution_count": null,
   "metadata": {},
   "outputs": [],
   "source": []
  },
  {
   "cell_type": "markdown",
   "metadata": {},
   "source": [
    "### Aggregation"
   ]
  },
  {
   "cell_type": "markdown",
   "metadata": {},
   "source": [
    "#### Mean of winning numbers for each prizetype"
   ]
  },
  {
   "cell_type": "code",
   "execution_count": 26,
   "metadata": {},
   "outputs": [
    {
     "data": {
      "text/plain": [
       "prize_type\n",
       "1st            4996.627660\n",
       "2nd            5003.395745\n",
       "3rd            4904.921277\n",
       "consolation    4921.029362\n",
       "starter        4989.745532\n",
       "Name: number, dtype: float64"
      ]
     },
     "execution_count": 26,
     "metadata": {},
     "output_type": "execute_result"
    }
   ],
   "source": [
    "# as series\n",
    "data_by_prizetype['number'].mean()"
   ]
  },
  {
   "cell_type": "code",
   "execution_count": 27,
   "metadata": {},
   "outputs": [
    {
     "data": {
      "text/html": [
       "<div>\n",
       "<style scoped>\n",
       "    .dataframe tbody tr th:only-of-type {\n",
       "        vertical-align: middle;\n",
       "    }\n",
       "\n",
       "    .dataframe tbody tr th {\n",
       "        vertical-align: top;\n",
       "    }\n",
       "\n",
       "    .dataframe thead th {\n",
       "        text-align: right;\n",
       "    }\n",
       "</style>\n",
       "<table border=\"1\" class=\"dataframe\">\n",
       "  <thead>\n",
       "    <tr style=\"text-align: right;\">\n",
       "      <th></th>\n",
       "      <th>number</th>\n",
       "    </tr>\n",
       "    <tr>\n",
       "      <th>prize_type</th>\n",
       "      <th></th>\n",
       "    </tr>\n",
       "  </thead>\n",
       "  <tbody>\n",
       "    <tr>\n",
       "      <th>1st</th>\n",
       "      <td>4996.627660</td>\n",
       "    </tr>\n",
       "    <tr>\n",
       "      <th>2nd</th>\n",
       "      <td>5003.395745</td>\n",
       "    </tr>\n",
       "    <tr>\n",
       "      <th>3rd</th>\n",
       "      <td>4904.921277</td>\n",
       "    </tr>\n",
       "    <tr>\n",
       "      <th>consolation</th>\n",
       "      <td>4921.029362</td>\n",
       "    </tr>\n",
       "    <tr>\n",
       "      <th>starter</th>\n",
       "      <td>4989.745532</td>\n",
       "    </tr>\n",
       "  </tbody>\n",
       "</table>\n",
       "</div>"
      ],
      "text/plain": [
       "                  number\n",
       "prize_type              \n",
       "1st          4996.627660\n",
       "2nd          5003.395745\n",
       "3rd          4904.921277\n",
       "consolation  4921.029362\n",
       "starter      4989.745532"
      ]
     },
     "execution_count": 27,
     "metadata": {},
     "output_type": "execute_result"
    }
   ],
   "source": [
    "# as dataframe with the group variable as index\n",
    "data_by_prizetype[['number']].mean()"
   ]
  },
  {
   "cell_type": "code",
   "execution_count": 28,
   "metadata": {},
   "outputs": [
    {
     "data": {
      "text/html": [
       "<div>\n",
       "<style scoped>\n",
       "    .dataframe tbody tr th:only-of-type {\n",
       "        vertical-align: middle;\n",
       "    }\n",
       "\n",
       "    .dataframe tbody tr th {\n",
       "        vertical-align: top;\n",
       "    }\n",
       "\n",
       "    .dataframe thead th {\n",
       "        text-align: right;\n",
       "    }\n",
       "</style>\n",
       "<table border=\"1\" class=\"dataframe\">\n",
       "  <thead>\n",
       "    <tr style=\"text-align: right;\">\n",
       "      <th></th>\n",
       "      <th>prize_type</th>\n",
       "      <th>number</th>\n",
       "    </tr>\n",
       "  </thead>\n",
       "  <tbody>\n",
       "    <tr>\n",
       "      <th>0</th>\n",
       "      <td>1st</td>\n",
       "      <td>4996.627660</td>\n",
       "    </tr>\n",
       "    <tr>\n",
       "      <th>1</th>\n",
       "      <td>2nd</td>\n",
       "      <td>5003.395745</td>\n",
       "    </tr>\n",
       "    <tr>\n",
       "      <th>2</th>\n",
       "      <td>3rd</td>\n",
       "      <td>4904.921277</td>\n",
       "    </tr>\n",
       "    <tr>\n",
       "      <th>3</th>\n",
       "      <td>consolation</td>\n",
       "      <td>4921.029362</td>\n",
       "    </tr>\n",
       "    <tr>\n",
       "      <th>4</th>\n",
       "      <td>starter</td>\n",
       "      <td>4989.745532</td>\n",
       "    </tr>\n",
       "  </tbody>\n",
       "</table>\n",
       "</div>"
      ],
      "text/plain": [
       "    prize_type       number\n",
       "0          1st  4996.627660\n",
       "1          2nd  5003.395745\n",
       "2          3rd  4904.921277\n",
       "3  consolation  4921.029362\n",
       "4      starter  4989.745532"
      ]
     },
     "execution_count": 28,
     "metadata": {},
     "output_type": "execute_result"
    }
   ],
   "source": [
    "# as dataframe without index\n",
    "data_by_prizetype[['number']].mean().reset_index()"
   ]
  },
  {
   "cell_type": "code",
   "execution_count": 29,
   "metadata": {},
   "outputs": [
    {
     "data": {
      "text/html": [
       "<div>\n",
       "<style scoped>\n",
       "    .dataframe tbody tr th:only-of-type {\n",
       "        vertical-align: middle;\n",
       "    }\n",
       "\n",
       "    .dataframe tbody tr th {\n",
       "        vertical-align: top;\n",
       "    }\n",
       "\n",
       "    .dataframe thead th {\n",
       "        text-align: right;\n",
       "    }\n",
       "</style>\n",
       "<table border=\"1\" class=\"dataframe\">\n",
       "  <thead>\n",
       "    <tr style=\"text-align: right;\">\n",
       "      <th></th>\n",
       "      <th>prize_type</th>\n",
       "      <th>number</th>\n",
       "    </tr>\n",
       "  </thead>\n",
       "  <tbody>\n",
       "    <tr>\n",
       "      <th>0</th>\n",
       "      <td>1st</td>\n",
       "      <td>4996.627660</td>\n",
       "    </tr>\n",
       "    <tr>\n",
       "      <th>1</th>\n",
       "      <td>2nd</td>\n",
       "      <td>5003.395745</td>\n",
       "    </tr>\n",
       "    <tr>\n",
       "      <th>2</th>\n",
       "      <td>3rd</td>\n",
       "      <td>4904.921277</td>\n",
       "    </tr>\n",
       "    <tr>\n",
       "      <th>3</th>\n",
       "      <td>consolation</td>\n",
       "      <td>4921.029362</td>\n",
       "    </tr>\n",
       "    <tr>\n",
       "      <th>4</th>\n",
       "      <td>starter</td>\n",
       "      <td>4989.745532</td>\n",
       "    </tr>\n",
       "  </tbody>\n",
       "</table>\n",
       "</div>"
      ],
      "text/plain": [
       "    prize_type       number\n",
       "0          1st  4996.627660\n",
       "1          2nd  5003.395745\n",
       "2          3rd  4904.921277\n",
       "3  consolation  4921.029362\n",
       "4      starter  4989.745532"
      ]
     },
     "execution_count": 29,
     "metadata": {},
     "output_type": "execute_result"
    }
   ],
   "source": [
    "# avoid index when grouping\n",
    "data.groupby('prize_type', as_index=False)[['number']].mean()"
   ]
  },
  {
   "cell_type": "code",
   "execution_count": null,
   "metadata": {},
   "outputs": [],
   "source": []
  },
  {
   "cell_type": "markdown",
   "metadata": {},
   "source": [
    "#### Count of prize_type for each draw_no"
   ]
  },
  {
   "cell_type": "code",
   "execution_count": 30,
   "metadata": {},
   "outputs": [
    {
     "data": {
      "text/plain": [
       "draw_no  prize_type \n",
       "3854     consolation    10\n",
       "         starter        10\n",
       "         1st             1\n",
       "         2nd             1\n",
       "         3rd             1\n",
       "                        ..\n",
       "4323     consolation    10\n",
       "         starter        10\n",
       "         1st             1\n",
       "         2nd             1\n",
       "         3rd             1\n",
       "Name: prize_type, Length: 2350, dtype: int64"
      ]
     },
     "execution_count": 30,
     "metadata": {},
     "output_type": "execute_result"
    }
   ],
   "source": [
    "data.groupby('draw_no')['prize_type'].value_counts()"
   ]
  },
  {
   "cell_type": "code",
   "execution_count": null,
   "metadata": {},
   "outputs": [],
   "source": []
  },
  {
   "cell_type": "markdown",
   "metadata": {},
   "source": [
    "### Aggregation by agg()"
   ]
  },
  {
   "cell_type": "markdown",
   "metadata": {},
   "source": [
    "#### # Applying multiple functions at once"
   ]
  },
  {
   "cell_type": "code",
   "execution_count": 31,
   "metadata": {},
   "outputs": [],
   "source": [
    "import numpy as np\n",
    "# Min/Median/Max of number for each weekday-prize_type combination\n",
    "# group by 'weekday' and 'prize_type and extract 'number' column\n",
    "weekday_prize_gpby = data.groupby(['weekday', 'prize_type'])"
   ]
  },
  {
   "cell_type": "code",
   "execution_count": 32,
   "metadata": {},
   "outputs": [
    {
     "data": {
      "text/plain": [
       "<pandas.core.groupby.generic.DataFrameGroupBy object at 0x000002CB627791C0>"
      ]
     },
     "execution_count": 32,
     "metadata": {},
     "output_type": "execute_result"
    }
   ],
   "source": [
    "weekday_prize_gpby"
   ]
  },
  {
   "cell_type": "code",
   "execution_count": 33,
   "metadata": {},
   "outputs": [
    {
     "data": {
      "text/html": [
       "<div>\n",
       "<style scoped>\n",
       "    .dataframe tbody tr th:only-of-type {\n",
       "        vertical-align: middle;\n",
       "    }\n",
       "\n",
       "    .dataframe tbody tr th {\n",
       "        vertical-align: top;\n",
       "    }\n",
       "\n",
       "    .dataframe thead tr th {\n",
       "        text-align: left;\n",
       "    }\n",
       "\n",
       "    .dataframe thead tr:last-of-type th {\n",
       "        text-align: right;\n",
       "    }\n",
       "</style>\n",
       "<table border=\"1\" class=\"dataframe\">\n",
       "  <thead>\n",
       "    <tr>\n",
       "      <th></th>\n",
       "      <th></th>\n",
       "      <th colspan=\"3\" halign=\"left\">number</th>\n",
       "    </tr>\n",
       "    <tr>\n",
       "      <th></th>\n",
       "      <th></th>\n",
       "      <th>amin</th>\n",
       "      <th>median</th>\n",
       "      <th>amax</th>\n",
       "    </tr>\n",
       "    <tr>\n",
       "      <th>weekday</th>\n",
       "      <th>prize_type</th>\n",
       "      <th></th>\n",
       "      <th></th>\n",
       "      <th></th>\n",
       "    </tr>\n",
       "  </thead>\n",
       "  <tbody>\n",
       "    <tr>\n",
       "      <th rowspan=\"5\" valign=\"top\">Sat</th>\n",
       "      <th>1st</th>\n",
       "      <td>64</td>\n",
       "      <td>5154.0</td>\n",
       "      <td>9996</td>\n",
       "    </tr>\n",
       "    <tr>\n",
       "      <th>2nd</th>\n",
       "      <td>25</td>\n",
       "      <td>4849.0</td>\n",
       "      <td>9938</td>\n",
       "    </tr>\n",
       "    <tr>\n",
       "      <th>3rd</th>\n",
       "      <td>86</td>\n",
       "      <td>5108.0</td>\n",
       "      <td>9925</td>\n",
       "    </tr>\n",
       "    <tr>\n",
       "      <th>consolation</th>\n",
       "      <td>1</td>\n",
       "      <td>5165.5</td>\n",
       "      <td>9993</td>\n",
       "    </tr>\n",
       "    <tr>\n",
       "      <th>starter</th>\n",
       "      <td>3</td>\n",
       "      <td>5135.5</td>\n",
       "      <td>9995</td>\n",
       "    </tr>\n",
       "    <tr>\n",
       "      <th rowspan=\"5\" valign=\"top\">Sun</th>\n",
       "      <th>1st</th>\n",
       "      <td>5</td>\n",
       "      <td>5061.0</td>\n",
       "      <td>9992</td>\n",
       "    </tr>\n",
       "    <tr>\n",
       "      <th>2nd</th>\n",
       "      <td>32</td>\n",
       "      <td>5248.0</td>\n",
       "      <td>9978</td>\n",
       "    </tr>\n",
       "    <tr>\n",
       "      <th>3rd</th>\n",
       "      <td>40</td>\n",
       "      <td>4493.0</td>\n",
       "      <td>9966</td>\n",
       "    </tr>\n",
       "    <tr>\n",
       "      <th>consolation</th>\n",
       "      <td>0</td>\n",
       "      <td>4882.0</td>\n",
       "      <td>9999</td>\n",
       "    </tr>\n",
       "    <tr>\n",
       "      <th>starter</th>\n",
       "      <td>5</td>\n",
       "      <td>5100.5</td>\n",
       "      <td>9997</td>\n",
       "    </tr>\n",
       "    <tr>\n",
       "      <th rowspan=\"5\" valign=\"top\">Wed</th>\n",
       "      <th>1st</th>\n",
       "      <td>70</td>\n",
       "      <td>4250.0</td>\n",
       "      <td>9983</td>\n",
       "    </tr>\n",
       "    <tr>\n",
       "      <th>2nd</th>\n",
       "      <td>49</td>\n",
       "      <td>5134.0</td>\n",
       "      <td>9982</td>\n",
       "    </tr>\n",
       "    <tr>\n",
       "      <th>3rd</th>\n",
       "      <td>135</td>\n",
       "      <td>5037.0</td>\n",
       "      <td>9987</td>\n",
       "    </tr>\n",
       "    <tr>\n",
       "      <th>consolation</th>\n",
       "      <td>0</td>\n",
       "      <td>4658.0</td>\n",
       "      <td>9994</td>\n",
       "    </tr>\n",
       "    <tr>\n",
       "      <th>starter</th>\n",
       "      <td>14</td>\n",
       "      <td>4899.5</td>\n",
       "      <td>9983</td>\n",
       "    </tr>\n",
       "  </tbody>\n",
       "</table>\n",
       "</div>"
      ],
      "text/plain": [
       "                    number              \n",
       "                      amin  median  amax\n",
       "weekday prize_type                      \n",
       "Sat     1st             64  5154.0  9996\n",
       "        2nd             25  4849.0  9938\n",
       "        3rd             86  5108.0  9925\n",
       "        consolation      1  5165.5  9993\n",
       "        starter          3  5135.5  9995\n",
       "Sun     1st              5  5061.0  9992\n",
       "        2nd             32  5248.0  9978\n",
       "        3rd             40  4493.0  9966\n",
       "        consolation      0  4882.0  9999\n",
       "        starter          5  5100.5  9997\n",
       "Wed     1st             70  4250.0  9983\n",
       "        2nd             49  5134.0  9982\n",
       "        3rd            135  5037.0  9987\n",
       "        consolation      0  4658.0  9994\n",
       "        starter         14  4899.5  9983"
      ]
     },
     "execution_count": 33,
     "metadata": {},
     "output_type": "execute_result"
    }
   ],
   "source": [
    "weekday_prize_gpby[['number']].agg([np.min, np.median, np.max])"
   ]
  },
  {
   "cell_type": "code",
   "execution_count": null,
   "metadata": {},
   "outputs": [],
   "source": []
  },
  {
   "cell_type": "markdown",
   "metadata": {},
   "source": [
    "#### Applying different functions to different columns"
   ]
  },
  {
   "cell_type": "code",
   "execution_count": 34,
   "metadata": {},
   "outputs": [
    {
     "data": {
      "text/html": [
       "<div>\n",
       "<style scoped>\n",
       "    .dataframe tbody tr th:only-of-type {\n",
       "        vertical-align: middle;\n",
       "    }\n",
       "\n",
       "    .dataframe tbody tr th {\n",
       "        vertical-align: top;\n",
       "    }\n",
       "\n",
       "    .dataframe thead th {\n",
       "        text-align: right;\n",
       "    }\n",
       "</style>\n",
       "<table border=\"1\" class=\"dataframe\">\n",
       "  <thead>\n",
       "    <tr style=\"text-align: right;\">\n",
       "      <th></th>\n",
       "      <th></th>\n",
       "      <th>number</th>\n",
       "      <th>date</th>\n",
       "    </tr>\n",
       "    <tr>\n",
       "      <th>weekday</th>\n",
       "      <th>prize_type</th>\n",
       "      <th></th>\n",
       "      <th></th>\n",
       "    </tr>\n",
       "  </thead>\n",
       "  <tbody>\n",
       "    <tr>\n",
       "      <th rowspan=\"5\" valign=\"top\">Sat</th>\n",
       "      <th>1st</th>\n",
       "      <td>5184.949045</td>\n",
       "      <td>2018-09-29</td>\n",
       "    </tr>\n",
       "    <tr>\n",
       "      <th>2nd</th>\n",
       "      <td>4908.777070</td>\n",
       "      <td>2018-09-29</td>\n",
       "    </tr>\n",
       "    <tr>\n",
       "      <th>3rd</th>\n",
       "      <td>4875.140127</td>\n",
       "      <td>2018-09-29</td>\n",
       "    </tr>\n",
       "    <tr>\n",
       "      <th>consolation</th>\n",
       "      <td>5060.333758</td>\n",
       "      <td>2018-09-29</td>\n",
       "    </tr>\n",
       "    <tr>\n",
       "      <th>starter</th>\n",
       "      <td>5007.868790</td>\n",
       "      <td>2018-09-29</td>\n",
       "    </tr>\n",
       "    <tr>\n",
       "      <th rowspan=\"5\" valign=\"top\">Sun</th>\n",
       "      <th>1st</th>\n",
       "      <td>5148.828025</td>\n",
       "      <td>2018-09-30</td>\n",
       "    </tr>\n",
       "    <tr>\n",
       "      <th>2nd</th>\n",
       "      <td>5191.235669</td>\n",
       "      <td>2018-09-30</td>\n",
       "    </tr>\n",
       "    <tr>\n",
       "      <th>3rd</th>\n",
       "      <td>4794.929936</td>\n",
       "      <td>2018-09-30</td>\n",
       "    </tr>\n",
       "    <tr>\n",
       "      <th>consolation</th>\n",
       "      <td>4900.069427</td>\n",
       "      <td>2018-09-30</td>\n",
       "    </tr>\n",
       "    <tr>\n",
       "      <th>starter</th>\n",
       "      <td>5036.996178</td>\n",
       "      <td>2018-09-30</td>\n",
       "    </tr>\n",
       "    <tr>\n",
       "      <th rowspan=\"5\" valign=\"top\">Wed</th>\n",
       "      <th>1st</th>\n",
       "      <td>4653.923077</td>\n",
       "      <td>2018-09-26</td>\n",
       "    </tr>\n",
       "    <tr>\n",
       "      <th>2nd</th>\n",
       "      <td>4909.576923</td>\n",
       "      <td>2018-09-26</td>\n",
       "    </tr>\n",
       "    <tr>\n",
       "      <th>3rd</th>\n",
       "      <td>5045.589744</td>\n",
       "      <td>2018-09-26</td>\n",
       "    </tr>\n",
       "    <tr>\n",
       "      <th>consolation</th>\n",
       "      <td>4801.926282</td>\n",
       "      <td>2018-09-26</td>\n",
       "    </tr>\n",
       "    <tr>\n",
       "      <th>starter</th>\n",
       "      <td>4923.952564</td>\n",
       "      <td>2018-09-26</td>\n",
       "    </tr>\n",
       "  </tbody>\n",
       "</table>\n",
       "</div>"
      ],
      "text/plain": [
       "                          number        date\n",
       "weekday prize_type                          \n",
       "Sat     1st          5184.949045  2018-09-29\n",
       "        2nd          4908.777070  2018-09-29\n",
       "        3rd          4875.140127  2018-09-29\n",
       "        consolation  5060.333758  2018-09-29\n",
       "        starter      5007.868790  2018-09-29\n",
       "Sun     1st          5148.828025  2018-09-30\n",
       "        2nd          5191.235669  2018-09-30\n",
       "        3rd          4794.929936  2018-09-30\n",
       "        consolation  4900.069427  2018-09-30\n",
       "        starter      5036.996178  2018-09-30\n",
       "Wed     1st          4653.923077  2018-09-26\n",
       "        2nd          4909.576923  2018-09-26\n",
       "        3rd          5045.589744  2018-09-26\n",
       "        consolation  4801.926282  2018-09-26\n",
       "        starter      4923.952564  2018-09-26"
      ]
     },
     "execution_count": 34,
     "metadata": {},
     "output_type": "execute_result"
    }
   ],
   "source": [
    "weekday_prize_gpby.agg({'number': np.mean, 'date':np.max})"
   ]
  },
  {
   "cell_type": "code",
   "execution_count": null,
   "metadata": {},
   "outputs": [],
   "source": []
  },
  {
   "cell_type": "markdown",
   "metadata": {},
   "source": [
    "#### agg with a customized function"
   ]
  },
  {
   "cell_type": "code",
   "execution_count": 35,
   "metadata": {},
   "outputs": [],
   "source": [
    "year_gpby = data.groupby('year')"
   ]
  },
  {
   "cell_type": "code",
   "execution_count": 36,
   "metadata": {},
   "outputs": [
    {
     "data": {
      "text/plain": [
       "year\n",
       "2015    10\n",
       "2016    38\n",
       "2017    40\n",
       "2018    25\n",
       "Name: number, dtype: int64"
      ]
     },
     "execution_count": 36,
     "metadata": {},
     "output_type": "execute_result"
    }
   ],
   "source": [
    "year_gpby['number'].agg(lambda x: sum(x > 9900))"
   ]
  },
  {
   "cell_type": "code",
   "execution_count": 37,
   "metadata": {},
   "outputs": [
    {
     "data": {
      "text/html": [
       "<div>\n",
       "<style scoped>\n",
       "    .dataframe tbody tr th:only-of-type {\n",
       "        vertical-align: middle;\n",
       "    }\n",
       "\n",
       "    .dataframe tbody tr th {\n",
       "        vertical-align: top;\n",
       "    }\n",
       "\n",
       "    .dataframe thead th {\n",
       "        text-align: right;\n",
       "    }\n",
       "</style>\n",
       "<table border=\"1\" class=\"dataframe\">\n",
       "  <thead>\n",
       "    <tr style=\"text-align: right;\">\n",
       "      <th></th>\n",
       "      <th>number</th>\n",
       "    </tr>\n",
       "    <tr>\n",
       "      <th>year</th>\n",
       "      <th></th>\n",
       "    </tr>\n",
       "  </thead>\n",
       "  <tbody>\n",
       "    <tr>\n",
       "      <th>2015</th>\n",
       "      <td>10</td>\n",
       "    </tr>\n",
       "    <tr>\n",
       "      <th>2016</th>\n",
       "      <td>38</td>\n",
       "    </tr>\n",
       "    <tr>\n",
       "      <th>2017</th>\n",
       "      <td>40</td>\n",
       "    </tr>\n",
       "    <tr>\n",
       "      <th>2018</th>\n",
       "      <td>25</td>\n",
       "    </tr>\n",
       "  </tbody>\n",
       "</table>\n",
       "</div>"
      ],
      "text/plain": [
       "      number\n",
       "year        \n",
       "2015      10\n",
       "2016      38\n",
       "2017      40\n",
       "2018      25"
      ]
     },
     "execution_count": 37,
     "metadata": {},
     "output_type": "execute_result"
    }
   ],
   "source": [
    "# count how many times that the prize number > 9900 for each year\n",
    "year_gpby[['number']].agg(lambda x: sum(x > 9900))"
   ]
  },
  {
   "cell_type": "code",
   "execution_count": null,
   "metadata": {},
   "outputs": [],
   "source": []
  },
  {
   "cell_type": "markdown",
   "metadata": {
    "collapsed": true
   },
   "source": [
    "### Transformation"
   ]
  },
  {
   "cell_type": "markdown",
   "metadata": {},
   "source": [
    "#### Normalize number by year"
   ]
  },
  {
   "cell_type": "code",
   "execution_count": 38,
   "metadata": {},
   "outputs": [
    {
     "data": {
      "text/html": [
       "<div>\n",
       "<style scoped>\n",
       "    .dataframe tbody tr th:only-of-type {\n",
       "        vertical-align: middle;\n",
       "    }\n",
       "\n",
       "    .dataframe tbody tr th {\n",
       "        vertical-align: top;\n",
       "    }\n",
       "\n",
       "    .dataframe thead th {\n",
       "        text-align: right;\n",
       "    }\n",
       "</style>\n",
       "<table border=\"1\" class=\"dataframe\">\n",
       "  <thead>\n",
       "    <tr style=\"text-align: right;\">\n",
       "      <th></th>\n",
       "      <th>number</th>\n",
       "    </tr>\n",
       "  </thead>\n",
       "  <tbody>\n",
       "    <tr>\n",
       "      <th>0</th>\n",
       "      <td>-1.152427</td>\n",
       "    </tr>\n",
       "    <tr>\n",
       "      <th>1</th>\n",
       "      <td>-1.206749</td>\n",
       "    </tr>\n",
       "    <tr>\n",
       "      <th>2</th>\n",
       "      <td>-0.631836</td>\n",
       "    </tr>\n",
       "    <tr>\n",
       "      <th>3</th>\n",
       "      <td>0.334825</td>\n",
       "    </tr>\n",
       "    <tr>\n",
       "      <th>4</th>\n",
       "      <td>0.829647</td>\n",
       "    </tr>\n",
       "    <tr>\n",
       "      <th>...</th>\n",
       "      <td>...</td>\n",
       "    </tr>\n",
       "    <tr>\n",
       "      <th>10805</th>\n",
       "      <td>1.388484</td>\n",
       "    </tr>\n",
       "    <tr>\n",
       "      <th>10806</th>\n",
       "      <td>1.401417</td>\n",
       "    </tr>\n",
       "    <tr>\n",
       "      <th>10807</th>\n",
       "      <td>1.484800</td>\n",
       "    </tr>\n",
       "    <tr>\n",
       "      <th>10808</th>\n",
       "      <td>1.453148</td>\n",
       "    </tr>\n",
       "    <tr>\n",
       "      <th>10809</th>\n",
       "      <td>0.736051</td>\n",
       "    </tr>\n",
       "  </tbody>\n",
       "</table>\n",
       "<p>10810 rows × 1 columns</p>\n",
       "</div>"
      ],
      "text/plain": [
       "         number\n",
       "0     -1.152427\n",
       "1     -1.206749\n",
       "2     -0.631836\n",
       "3      0.334825\n",
       "4      0.829647\n",
       "...         ...\n",
       "10805  1.388484\n",
       "10806  1.401417\n",
       "10807  1.484800\n",
       "10808  1.453148\n",
       "10809  0.736051\n",
       "\n",
       "[10810 rows x 1 columns]"
      ]
     },
     "execution_count": 38,
     "metadata": {},
     "output_type": "execute_result"
    }
   ],
   "source": [
    "year_gpby[['number']].transform(lambda x: (x - x.mean())/x.std())"
   ]
  },
  {
   "cell_type": "markdown",
   "metadata": {},
   "source": [
    "### Filtration"
   ]
  },
  {
   "cell_type": "markdown",
   "metadata": {},
   "source": [
    "#### Focus on first prizes, select data only in weeks with 3 draws"
   ]
  },
  {
   "cell_type": "code",
   "execution_count": 39,
   "metadata": {},
   "outputs": [],
   "source": [
    "filt_1st = (data['prize'] == 'first_prize')\n",
    "data_1st = data.loc[filt_1st,:].copy()       # Create a new data set with 1st prize data only"
   ]
  },
  {
   "cell_type": "code",
   "execution_count": 40,
   "metadata": {},
   "outputs": [],
   "source": [
    "year_wkno_1st_gpby = data_1st.groupby(['year', 'week_no'])"
   ]
  },
  {
   "cell_type": "code",
   "execution_count": 41,
   "metadata": {},
   "outputs": [
    {
     "data": {
      "text/html": [
       "<div>\n",
       "<style scoped>\n",
       "    .dataframe tbody tr th:only-of-type {\n",
       "        vertical-align: middle;\n",
       "    }\n",
       "\n",
       "    .dataframe tbody tr th {\n",
       "        vertical-align: top;\n",
       "    }\n",
       "\n",
       "    .dataframe thead th {\n",
       "        text-align: right;\n",
       "    }\n",
       "</style>\n",
       "<table border=\"1\" class=\"dataframe\">\n",
       "  <thead>\n",
       "    <tr style=\"text-align: right;\">\n",
       "      <th></th>\n",
       "      <th>draw_no</th>\n",
       "      <th>date</th>\n",
       "      <th>querystring</th>\n",
       "      <th>weekday</th>\n",
       "      <th>year</th>\n",
       "      <th>week_no</th>\n",
       "      <th>prize</th>\n",
       "      <th>number</th>\n",
       "      <th>prize_type</th>\n",
       "    </tr>\n",
       "  </thead>\n",
       "  <tbody>\n",
       "    <tr>\n",
       "      <th>1</th>\n",
       "      <td>4322</td>\n",
       "      <td>2018-09-29</td>\n",
       "      <td>sppl=RHJhd051bWJlcj00MzIy</td>\n",
       "      <td>Sat</td>\n",
       "      <td>2018</td>\n",
       "      <td>38</td>\n",
       "      <td>first_prize</td>\n",
       "      <td>1490</td>\n",
       "      <td>1st</td>\n",
       "    </tr>\n",
       "    <tr>\n",
       "      <th>2</th>\n",
       "      <td>4321</td>\n",
       "      <td>2018-09-26</td>\n",
       "      <td>sppl=RHJhd051bWJlcj00MzIx</td>\n",
       "      <td>Wed</td>\n",
       "      <td>2018</td>\n",
       "      <td>38</td>\n",
       "      <td>first_prize</td>\n",
       "      <td>3141</td>\n",
       "      <td>1st</td>\n",
       "    </tr>\n",
       "    <tr>\n",
       "      <th>3</th>\n",
       "      <td>4320</td>\n",
       "      <td>2018-09-23</td>\n",
       "      <td>sppl=RHJhd051bWJlcj00MzIw</td>\n",
       "      <td>Sun</td>\n",
       "      <td>2018</td>\n",
       "      <td>38</td>\n",
       "      <td>first_prize</td>\n",
       "      <td>5917</td>\n",
       "      <td>1st</td>\n",
       "    </tr>\n",
       "    <tr>\n",
       "      <th>4</th>\n",
       "      <td>4319</td>\n",
       "      <td>2018-09-22</td>\n",
       "      <td>sppl=RHJhd051bWJlcj00MzE5</td>\n",
       "      <td>Sat</td>\n",
       "      <td>2018</td>\n",
       "      <td>37</td>\n",
       "      <td>first_prize</td>\n",
       "      <td>7338</td>\n",
       "      <td>1st</td>\n",
       "    </tr>\n",
       "    <tr>\n",
       "      <th>5</th>\n",
       "      <td>4318</td>\n",
       "      <td>2018-09-19</td>\n",
       "      <td>sppl=RHJhd051bWJlcj00MzE4</td>\n",
       "      <td>Wed</td>\n",
       "      <td>2018</td>\n",
       "      <td>37</td>\n",
       "      <td>first_prize</td>\n",
       "      <td>939</td>\n",
       "      <td>1st</td>\n",
       "    </tr>\n",
       "    <tr>\n",
       "      <th>...</th>\n",
       "      <td>...</td>\n",
       "      <td>...</td>\n",
       "      <td>...</td>\n",
       "      <td>...</td>\n",
       "      <td>...</td>\n",
       "      <td>...</td>\n",
       "      <td>...</td>\n",
       "      <td>...</td>\n",
       "      <td>...</td>\n",
       "    </tr>\n",
       "    <tr>\n",
       "      <th>464</th>\n",
       "      <td>3859</td>\n",
       "      <td>2015-10-14</td>\n",
       "      <td>sppl=RHJhd051bWJlcj0zODU5</td>\n",
       "      <td>Wed</td>\n",
       "      <td>2015</td>\n",
       "      <td>41</td>\n",
       "      <td>first_prize</td>\n",
       "      <td>9306</td>\n",
       "      <td>1st</td>\n",
       "    </tr>\n",
       "    <tr>\n",
       "      <th>465</th>\n",
       "      <td>3858</td>\n",
       "      <td>2015-10-11</td>\n",
       "      <td>sppl=RHJhd051bWJlcj0zODU4</td>\n",
       "      <td>Sun</td>\n",
       "      <td>2015</td>\n",
       "      <td>41</td>\n",
       "      <td>first_prize</td>\n",
       "      <td>6932</td>\n",
       "      <td>1st</td>\n",
       "    </tr>\n",
       "    <tr>\n",
       "      <th>466</th>\n",
       "      <td>3857</td>\n",
       "      <td>2015-10-10</td>\n",
       "      <td>sppl=RHJhd051bWJlcj0zODU3</td>\n",
       "      <td>Sat</td>\n",
       "      <td>2015</td>\n",
       "      <td>40</td>\n",
       "      <td>first_prize</td>\n",
       "      <td>8596</td>\n",
       "      <td>1st</td>\n",
       "    </tr>\n",
       "    <tr>\n",
       "      <th>467</th>\n",
       "      <td>3856</td>\n",
       "      <td>2015-10-07</td>\n",
       "      <td>sppl=RHJhd051bWJlcj0zODU2</td>\n",
       "      <td>Wed</td>\n",
       "      <td>2015</td>\n",
       "      <td>40</td>\n",
       "      <td>first_prize</td>\n",
       "      <td>4542</td>\n",
       "      <td>1st</td>\n",
       "    </tr>\n",
       "    <tr>\n",
       "      <th>468</th>\n",
       "      <td>3855</td>\n",
       "      <td>2015-10-04</td>\n",
       "      <td>sppl=RHJhd051bWJlcj0zODU1</td>\n",
       "      <td>Sun</td>\n",
       "      <td>2015</td>\n",
       "      <td>40</td>\n",
       "      <td>first_prize</td>\n",
       "      <td>9309</td>\n",
       "      <td>1st</td>\n",
       "    </tr>\n",
       "  </tbody>\n",
       "</table>\n",
       "<p>462 rows × 9 columns</p>\n",
       "</div>"
      ],
      "text/plain": [
       "     draw_no        date                querystring weekday  year  week_no  \\\n",
       "1       4322  2018-09-29  sppl=RHJhd051bWJlcj00MzIy     Sat  2018       38   \n",
       "2       4321  2018-09-26  sppl=RHJhd051bWJlcj00MzIx     Wed  2018       38   \n",
       "3       4320  2018-09-23  sppl=RHJhd051bWJlcj00MzIw     Sun  2018       38   \n",
       "4       4319  2018-09-22  sppl=RHJhd051bWJlcj00MzE5     Sat  2018       37   \n",
       "5       4318  2018-09-19  sppl=RHJhd051bWJlcj00MzE4     Wed  2018       37   \n",
       "..       ...         ...                        ...     ...   ...      ...   \n",
       "464     3859  2015-10-14  sppl=RHJhd051bWJlcj0zODU5     Wed  2015       41   \n",
       "465     3858  2015-10-11  sppl=RHJhd051bWJlcj0zODU4     Sun  2015       41   \n",
       "466     3857  2015-10-10  sppl=RHJhd051bWJlcj0zODU3     Sat  2015       40   \n",
       "467     3856  2015-10-07  sppl=RHJhd051bWJlcj0zODU2     Wed  2015       40   \n",
       "468     3855  2015-10-04  sppl=RHJhd051bWJlcj0zODU1     Sun  2015       40   \n",
       "\n",
       "           prize  number prize_type  \n",
       "1    first_prize    1490        1st  \n",
       "2    first_prize    3141        1st  \n",
       "3    first_prize    5917        1st  \n",
       "4    first_prize    7338        1st  \n",
       "5    first_prize     939        1st  \n",
       "..           ...     ...        ...  \n",
       "464  first_prize    9306        1st  \n",
       "465  first_prize    6932        1st  \n",
       "466  first_prize    8596        1st  \n",
       "467  first_prize    4542        1st  \n",
       "468  first_prize    9309        1st  \n",
       "\n",
       "[462 rows x 9 columns]"
      ]
     },
     "execution_count": 41,
     "metadata": {},
     "output_type": "execute_result"
    }
   ],
   "source": [
    "year_wkno_1st_gpby.filter(lambda x: len(x) > 2)"
   ]
  },
  {
   "cell_type": "code",
   "execution_count": null,
   "metadata": {},
   "outputs": [],
   "source": []
  },
  {
   "cell_type": "code",
   "execution_count": null,
   "metadata": {},
   "outputs": [],
   "source": []
  },
  {
   "cell_type": "markdown",
   "metadata": {},
   "source": [
    "### Apply"
   ]
  },
  {
   "cell_type": "markdown",
   "metadata": {},
   "source": [
    "#### For each year and each prize_type, find the draw with smallest number and the one with the largest number"
   ]
  },
  {
   "cell_type": "code",
   "execution_count": 42,
   "metadata": {},
   "outputs": [],
   "source": [
    "def draw_min_max(x):\n",
    "    i = x['number'].idxmin()\n",
    "    j = x['number'].idxmax()\n",
    "    return pd.concat([x.loc[i, ['draw_no', 'number']], x.loc[j, ['draw_no', 'number']]])"
   ]
  },
  {
   "cell_type": "code",
   "execution_count": 43,
   "metadata": {},
   "outputs": [
    {
     "data": {
      "text/html": [
       "<div>\n",
       "<style scoped>\n",
       "    .dataframe tbody tr th:only-of-type {\n",
       "        vertical-align: middle;\n",
       "    }\n",
       "\n",
       "    .dataframe tbody tr th {\n",
       "        vertical-align: top;\n",
       "    }\n",
       "\n",
       "    .dataframe thead th {\n",
       "        text-align: right;\n",
       "    }\n",
       "</style>\n",
       "<table border=\"1\" class=\"dataframe\">\n",
       "  <thead>\n",
       "    <tr style=\"text-align: right;\">\n",
       "      <th></th>\n",
       "      <th></th>\n",
       "      <th>draw_no</th>\n",
       "      <th>number</th>\n",
       "      <th>draw_no</th>\n",
       "      <th>number</th>\n",
       "    </tr>\n",
       "    <tr>\n",
       "      <th>year</th>\n",
       "      <th>prize_type</th>\n",
       "      <th></th>\n",
       "      <th></th>\n",
       "      <th></th>\n",
       "      <th></th>\n",
       "    </tr>\n",
       "  </thead>\n",
       "  <tbody>\n",
       "    <tr>\n",
       "      <th rowspan=\"5\" valign=\"top\">2015</th>\n",
       "      <th>1st</th>\n",
       "      <td>3883</td>\n",
       "      <td>235</td>\n",
       "      <td>3870</td>\n",
       "      <td>9992</td>\n",
       "    </tr>\n",
       "    <tr>\n",
       "      <th>2nd</th>\n",
       "      <td>3889</td>\n",
       "      <td>320</td>\n",
       "      <td>3868</td>\n",
       "      <td>9926</td>\n",
       "    </tr>\n",
       "    <tr>\n",
       "      <th>3rd</th>\n",
       "      <td>3856</td>\n",
       "      <td>135</td>\n",
       "      <td>3866</td>\n",
       "      <td>9720</td>\n",
       "    </tr>\n",
       "    <tr>\n",
       "      <th>consolation</th>\n",
       "      <td>3887</td>\n",
       "      <td>13</td>\n",
       "      <td>3886</td>\n",
       "      <td>9994</td>\n",
       "    </tr>\n",
       "    <tr>\n",
       "      <th>starter</th>\n",
       "      <td>3880</td>\n",
       "      <td>33</td>\n",
       "      <td>3869</td>\n",
       "      <td>9971</td>\n",
       "    </tr>\n",
       "    <tr>\n",
       "      <th rowspan=\"5\" valign=\"top\">2016</th>\n",
       "      <th>1st</th>\n",
       "      <td>3972</td>\n",
       "      <td>5</td>\n",
       "      <td>4013</td>\n",
       "      <td>9996</td>\n",
       "    </tr>\n",
       "    <tr>\n",
       "      <th>2nd</th>\n",
       "      <td>3977</td>\n",
       "      <td>42</td>\n",
       "      <td>3909</td>\n",
       "      <td>9978</td>\n",
       "    </tr>\n",
       "    <tr>\n",
       "      <th>3rd</th>\n",
       "      <td>3983</td>\n",
       "      <td>86</td>\n",
       "      <td>4048</td>\n",
       "      <td>9979</td>\n",
       "    </tr>\n",
       "    <tr>\n",
       "      <th>consolation</th>\n",
       "      <td>3915</td>\n",
       "      <td>0</td>\n",
       "      <td>3998</td>\n",
       "      <td>9988</td>\n",
       "    </tr>\n",
       "    <tr>\n",
       "      <th>starter</th>\n",
       "      <td>3995</td>\n",
       "      <td>3</td>\n",
       "      <td>3905</td>\n",
       "      <td>9993</td>\n",
       "    </tr>\n",
       "    <tr>\n",
       "      <th rowspan=\"5\" valign=\"top\">2017</th>\n",
       "      <th>1st</th>\n",
       "      <td>4183</td>\n",
       "      <td>70</td>\n",
       "      <td>4052</td>\n",
       "      <td>9981</td>\n",
       "    </tr>\n",
       "    <tr>\n",
       "      <th>2nd</th>\n",
       "      <td>4058</td>\n",
       "      <td>131</td>\n",
       "      <td>4165</td>\n",
       "      <td>9982</td>\n",
       "    </tr>\n",
       "    <tr>\n",
       "      <th>3rd</th>\n",
       "      <td>4131</td>\n",
       "      <td>106</td>\n",
       "      <td>4054</td>\n",
       "      <td>9987</td>\n",
       "    </tr>\n",
       "    <tr>\n",
       "      <th>consolation</th>\n",
       "      <td>4073</td>\n",
       "      <td>1</td>\n",
       "      <td>4067</td>\n",
       "      <td>9989</td>\n",
       "    </tr>\n",
       "    <tr>\n",
       "      <th>starter</th>\n",
       "      <td>4105</td>\n",
       "      <td>14</td>\n",
       "      <td>4077</td>\n",
       "      <td>9997</td>\n",
       "    </tr>\n",
       "    <tr>\n",
       "      <th rowspan=\"5\" valign=\"top\">2018</th>\n",
       "      <th>1st</th>\n",
       "      <td>4281</td>\n",
       "      <td>78</td>\n",
       "      <td>4261</td>\n",
       "      <td>9983</td>\n",
       "    </tr>\n",
       "    <tr>\n",
       "      <th>2nd</th>\n",
       "      <td>4220</td>\n",
       "      <td>25</td>\n",
       "      <td>4280</td>\n",
       "      <td>9934</td>\n",
       "    </tr>\n",
       "    <tr>\n",
       "      <th>3rd</th>\n",
       "      <td>4224</td>\n",
       "      <td>40</td>\n",
       "      <td>4235</td>\n",
       "      <td>9744</td>\n",
       "    </tr>\n",
       "    <tr>\n",
       "      <th>consolation</th>\n",
       "      <td>4306</td>\n",
       "      <td>1</td>\n",
       "      <td>4251</td>\n",
       "      <td>9999</td>\n",
       "    </tr>\n",
       "    <tr>\n",
       "      <th>starter</th>\n",
       "      <td>4251</td>\n",
       "      <td>5</td>\n",
       "      <td>4244</td>\n",
       "      <td>9983</td>\n",
       "    </tr>\n",
       "  </tbody>\n",
       "</table>\n",
       "</div>"
      ],
      "text/plain": [
       "                  draw_no  number  draw_no  number\n",
       "year prize_type                                   \n",
       "2015 1st             3883     235     3870    9992\n",
       "     2nd             3889     320     3868    9926\n",
       "     3rd             3856     135     3866    9720\n",
       "     consolation     3887      13     3886    9994\n",
       "     starter         3880      33     3869    9971\n",
       "2016 1st             3972       5     4013    9996\n",
       "     2nd             3977      42     3909    9978\n",
       "     3rd             3983      86     4048    9979\n",
       "     consolation     3915       0     3998    9988\n",
       "     starter         3995       3     3905    9993\n",
       "2017 1st             4183      70     4052    9981\n",
       "     2nd             4058     131     4165    9982\n",
       "     3rd             4131     106     4054    9987\n",
       "     consolation     4073       1     4067    9989\n",
       "     starter         4105      14     4077    9997\n",
       "2018 1st             4281      78     4261    9983\n",
       "     2nd             4220      25     4280    9934\n",
       "     3rd             4224      40     4235    9744\n",
       "     consolation     4306       1     4251    9999\n",
       "     starter         4251       5     4244    9983"
      ]
     },
     "execution_count": 43,
     "metadata": {},
     "output_type": "execute_result"
    }
   ],
   "source": [
    "data.groupby(['year', 'prize_type']).apply(draw_min_max)"
   ]
  },
  {
   "cell_type": "code",
   "execution_count": null,
   "metadata": {},
   "outputs": [],
   "source": []
  }
 ],
 "metadata": {
  "kernelspec": {
   "display_name": "Python 3",
   "language": "python",
   "name": "python3"
  },
  "language_info": {
   "codemirror_mode": {
    "name": "ipython",
    "version": 3
   },
   "file_extension": ".py",
   "mimetype": "text/x-python",
   "name": "python",
   "nbconvert_exporter": "python",
   "pygments_lexer": "ipython3",
   "version": "3.8.3"
  }
 },
 "nbformat": 4,
 "nbformat_minor": 2
}
