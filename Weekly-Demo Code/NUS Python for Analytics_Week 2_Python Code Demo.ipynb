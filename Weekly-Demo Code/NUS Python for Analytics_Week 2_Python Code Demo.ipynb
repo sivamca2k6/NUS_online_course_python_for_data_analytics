{
 "cells": [
  {
   "cell_type": "markdown",
   "metadata": {},
   "source": [
    "# Module 2\n",
    "\n",
    "## Data type conversions\n",
    "\n",
    "Examples above show that some functions or operators, such as <code>+</code> and <code>*</code>, may perform differently as they are applied to operands with different data types. There are times we need to convert data between types in order to manipulate them in the desired way. In Python, data type conversions can be conducted by using the type name as the conversion function. For example, the function <code>int()</code> converts an object into an <code>int</code> type object, and <code>float()</code> converts an object into <code>float</code> type.  \n",
    "\n",
    "<div class=\"alert alert-block alert-success\">\n",
    "<b>Example 1:</b>  \n",
    "Print a message \"Your input is: \", followed by the input number multiplied by ten. \n",
    "</div>\n",
    "\n",
    "In order to perform numerical multiplication, the <code>str</code> type object should be converted into a <code>float</code> type first, as shown by the code cell below."
   ]
  },
  {
   "cell_type": "code",
   "execution_count": 3,
   "metadata": {},
   "outputs": [
    {
     "name": "stdout",
     "output_type": "stream",
     "text": [
      "Type something: 2\n",
      "Your input is: 20.0\n"
     ]
    }
   ],
   "source": [
    "input_str = input('Type something: ')\n",
    "\n",
    "print('Your input is: ' + str(float(input_str)*10))"
   ]
  },
  {
   "cell_type": "markdown",
   "metadata": {},
   "source": [
    " "
   ]
  },
  {
   "cell_type": "markdown",
   "metadata": {},
   "source": [
    "## Python control flow <a id='section1'></a>\n",
    "The control flow of a program is the order in which the code executes. Like the other program languages, the control flow of a Python program is commonly regulated by conditional statements and loops. With control flow, you can execute certain code blocks conditionally and/or repeatedly: these basic building blocks can be combined to create surprisingly sophisticated programs!\n",
    "\n",
    "### The boolean type expressions <a id='subsection1.1'></a>\n",
    "Python provides the boolean type expressions that can be either set to <code>False</code> or <code>True</code>. Many functions and operations returns boolean objects.\n",
    "\n",
    "#### Comparison operators\n",
    "The comparison operators are used to compare two values, and a boolean value is returned. \n",
    "\n",
    "Operator |   Name  |  Example\n",
    ":--------|:--------|:---------\n",
    "<code>==</code> | Equal | x == y\n",
    "<code>!=</code> | Not equal | x != y\n",
    "<code>>=</code> | Greater than or equal to | x >= y\n",
    "<code><=</code> | Smaller than or equal to | x <= y\n",
    "<code>></code> | Greater than | x > y\n",
    "<code><</code> | Smaller than | x < y\n",
    "\n",
    "A few examples are given below."
   ]
  },
  {
   "cell_type": "code",
   "execution_count": 1,
   "metadata": {},
   "outputs": [
    {
     "name": "stdout",
     "output_type": "stream",
     "text": [
      "True\n",
      "False\n",
      "True\n",
      "False\n"
     ]
    }
   ],
   "source": [
    "print(2 <= 3)      # 2 <= 3 is true\n",
    "print(3.5 > 4)     # 3.5 > 4 is false\n",
    "print(2 == 2.0)    # 2 == 2.0 is true\n",
    "print(2 != 2.0)    # 2 != 2.0 is false"
   ]
  },
  {
   "cell_type": "markdown",
   "metadata": {},
   "source": [
    "#### Identity operators\n",
    "Identity operators <code>is</code> and <code>is not</code> are used to compare the objects, not if they are equal, but if they are actually the same object. \n",
    "\n",
    "Operator |   Name  |  Example\n",
    ":--------|:--------|:---------\n",
    "<code>is</code> | Returns True if both <br> variables are the <br> same object | x is y\n",
    "<code>is not</code> | Returns True if two <br> variables are not the <br> same object | x is not y"
   ]
  },
  {
   "cell_type": "code",
   "execution_count": 2,
   "metadata": {},
   "outputs": [
    {
     "name": "stdout",
     "output_type": "stream",
     "text": [
      "True\n",
      "False\n"
     ]
    }
   ],
   "source": [
    "print(0 == 0.0)     # True because 0 and 0.0 have equal values\n",
    "print(0 is 0.0)     # False because they are not the same object"
   ]
  },
  {
   "cell_type": "markdown",
   "metadata": {},
   "source": [
    "Notice that in the example above, the first statement is <code>True</code> because these two numbers have the same value. The second statement is <code>False</code> because they have different data type, thus not the same object. \n",
    "\n",
    "#### Membership operators\n",
    "Membership operators are used to test if a sequence is presented in an object.\n",
    "\n",
    "Operator |   Name  |  Example\n",
    ":--------|:--------|:---------\n",
    "<code>in</code> | Returns True if it finds a variable <br> in the specified sequence and <br> false otherwise | x in y\n",
    "<code>not in</code> | Returns True if it does not finds a <br> variable in the specified sequence <br> and false otherwise | x not in y\n",
    "\n",
    "For example, the membership operators can be used in searching a given word in a sentence."
   ]
  },
  {
   "cell_type": "code",
   "execution_count": 3,
   "metadata": {
    "scrolled": true
   },
   "outputs": [
    {
     "name": "stdout",
     "output_type": "stream",
     "text": [
      "True\n",
      "False\n",
      "True\n"
     ]
    }
   ],
   "source": [
    "sentence = \"All work and no play makes Jack a dull boy.\"\n",
    "\n",
    "print('work' in sentence)      # True as \"work\" is in the sentence, True\n",
    "print('Work' in sentence)      # False as \"Work\" is not in the sentence\n",
    "\n",
    "print('John' not in sentence)  # True as \"John\" is not in the sentence"
   ]
  },
  {
   "cell_type": "markdown",
   "metadata": {},
   "source": [
    "#### Logic operators\n",
    "\n",
    "Logical operators are used to combine conditional statements.\n",
    "\n",
    "Operator |   Name  |  Example\n",
    ":--------|:--------|:---------\n",
    "<code>and</code> | Returns True if both <br> statements are true | x >= 1 and x <= 2\n",
    "<code>or</code> | Returns True if either <br> one statements is true | x >= 1 or x <= 2\n",
    "<code> not </code> | Reverse the result, returns <br> False if the result is true | not x == 0\n",
    "\n",
    "Please check the following example, you are encourage to change the values of boolean type variables, and explore the results."
   ]
  },
  {
   "cell_type": "code",
   "execution_count": 4,
   "metadata": {},
   "outputs": [
    {
     "name": "stdout",
     "output_type": "stream",
     "text": [
      "False\n",
      "True\n"
     ]
    }
   ],
   "source": [
    "is_monday = True\n",
    "is_public_holiday = False\n",
    "is_weekends = False\n",
    "\n",
    "no_work = is_public_holiday or is_weekends\n",
    "stressful_day = is_monday and not is_public_holiday\n",
    "\n",
    "print(no_work)\n",
    "print(stressful_day)"
   ]
  },
  {
   "cell_type": "markdown",
   "metadata": {},
   "source": [
    "More illustrative examples are provided below.\n",
    "\n",
    "<img src=\"https://pbs.twimg.com/media/B06VG_xIYAAdDL3.jpg\" width=500>"
   ]
  },
  {
   "cell_type": "code",
   "execution_count": 5,
   "metadata": {
    "scrolled": true
   },
   "outputs": [
    {
     "name": "stdout",
     "output_type": "stream",
     "text": [
      "False\n",
      "True\n"
     ]
    }
   ],
   "source": [
    "\"\"\"Check the picture above.\"\"\"\n",
    "\n",
    "a_beard = False          # A has no beard (False)\n",
    "b_beard = True           # B has a beard (True)\n",
    "\n",
    "a_and_b_beard = a_beard and b_beard\n",
    "a_or_b_beard = a_beard or b_beard\n",
    "\n",
    "print(a_and_b_beard)     # \"A and B\" has no beard, so False \n",
    "print(a_or_b_beard)      # \"A or B\" has a beard, so True"
   ]
  },
  {
   "cell_type": "code",
   "execution_count": 6,
   "metadata": {},
   "outputs": [
    {
     "data": {
      "text/plain": [
       "True"
      ]
     },
     "execution_count": 6,
     "metadata": {},
     "output_type": "execute_result"
    }
   ],
   "source": [
    "to_be = True             # No matter to_be is true or false\n",
    "to_be or not to_be       # This statement is always true, why?"
   ]
  },
  {
   "cell_type": "markdown",
   "metadata": {},
   "source": [
    "### Conditional statements <a id='subsection1.2'></a>\n",
    "\n",
    "Python’s <code>if-elif-else</code> syntax makes it possible to take actions if a boolean expression is True and different actions if otherwise. \n",
    "\n",
    "<div class=\"alert alert-block alert-success\">\n",
    "<b>Example 2:</b>  \n",
    "The price of ticket for admission to Singapore Zoo is $\\$35$ for adults, and $\\$16$ for senior citizens, who are 60 years old or above. The ticket price for children, who aged 3 to 12 years old, is $\\$23$, and children under 3 years old can enjoy a free admission to the zoo. Given a visitor's age, write a program to determine the ticket price.\n",
    "</div>\n",
    "\n",
    "According to the requirements, we can calculate the ticket price in a natural way as follows."
   ]
  },
  {
   "cell_type": "code",
   "execution_count": 7,
   "metadata": {},
   "outputs": [
    {
     "name": "stdout",
     "output_type": "stream",
     "text": [
      "The ticket price is: $23\n"
     ]
    }
   ],
   "source": [
    "age = 8\n",
    "\n",
    "if age < 3:\n",
    "    ticket_price = 0\n",
    "\n",
    "if age >= 3 and age <= 12:\n",
    "    ticket_price = 23\n",
    "\n",
    "if age > 12 and age < 60:\n",
    "    ticket_price = 35\n",
    "    \n",
    "if age >= 60:\n",
    "    ticket_price = 15\n",
    "    \n",
    "print('The ticket price is: $' + str(ticket_price))"
   ]
  },
  {
   "cell_type": "markdown",
   "metadata": {},
   "source": [
    "The program can be further simplified by using the <code>if-elif-else</code> syntax. "
   ]
  },
  {
   "cell_type": "code",
   "execution_count": 8,
   "metadata": {},
   "outputs": [
    {
     "name": "stdout",
     "output_type": "stream",
     "text": [
      "The ticket price is: $35\n"
     ]
    }
   ],
   "source": [
    "age = 20\n",
    "\n",
    "if age < 3:\n",
    "    ticket_price = 0\n",
    "elif age <= 12:\n",
    "    ticket_price = 23\n",
    "elif age < 60:\n",
    "    ticket_price = 35\n",
    "else:\n",
    "    ticket_price = 16\n",
    "\n",
    "print('The ticket price is: $' + str(ticket_price))"
   ]
  },
  {
   "cell_type": "markdown",
   "metadata": {},
   "source": [
    "<div class=\"alert alert-block alert-danger\">\n",
    "<b>Notes:</b>  \n",
    "    In Python, the body of the <b>if-elif-else</b> statement is indicated by the indentation (a tab or four spaces). The body starts with an indentation and the first unindented line marks the end.\n",
    "</div>\n",
    "\n",
    "<div class=\"alert alert-block alert-success\">\n",
    "<b>Example 3 - A simple newsvendor case:</b>  \n",
    "A newsboy ordered 550 newspapers to sell today. Each piece of newspaper costs 10 cents and can be sold at a price of 60 cents. Write a program to calculate the total profit, given a fixed demand quantity.\n",
    "</div>"
   ]
  },
  {
   "cell_type": "code",
   "execution_count": 9,
   "metadata": {},
   "outputs": [
    {
     "name": "stdout",
     "output_type": "stream",
     "text": [
      "Newspapers sold: 300\n",
      "Total profit: 125.0\n"
     ]
    }
   ],
   "source": [
    "cost = 0.1\n",
    "price = 0.6\n",
    "order = 550\n",
    "\n",
    "demand = 300\n",
    "\n",
    "\"\"\"Classic if-else syntax\"\"\"\n",
    "if demand < order:\n",
    "    sold = demand\n",
    "else:\n",
    "    sold = order\n",
    "\n",
    "profit = price*sold - cost*order\n",
    "\n",
    "print(\"Newspapers sold: \" + str(sold))\n",
    "print(\"Total profit: \" + str(profit))"
   ]
  },
  {
   "cell_type": "markdown",
   "metadata": {},
   "source": [
    "It can be seen that the value of the variable <code>sold</code> is determined by a conditional statement. The program above is equivalent to the code below, which is considered more \"Pythonic\". "
   ]
  },
  {
   "cell_type": "code",
   "execution_count": 10,
   "metadata": {},
   "outputs": [
    {
     "name": "stdout",
     "output_type": "stream",
     "text": [
      "Newspapers sold: 300\n",
      "Total profit: 125.0\n"
     ]
    }
   ],
   "source": [
    "cost = 0.1\n",
    "price = 0.6\n",
    "order = 550\n",
    "\n",
    "demand = 300\n",
    "\n",
    "\"\"\"More Pythonic if-else assignments\"\"\"\n",
    "sold = demand if demand < order else order \n",
    "\n",
    "profit = price*sold - cost*order\n",
    "\n",
    "print(\"Newspapers sold: \" + str(sold))\n",
    "print(\"Total profit: \" + str(profit))"
   ]
  },
  {
   "cell_type": "markdown",
   "metadata": {},
   "source": [
    "The <code>if-elif-else</code> could be implemented in a nested manner, as demonstrated by the following example.\n",
    "\n",
    "<div class=\"alert alert-block alert-success\">\n",
    "<b>Extra Example:</b>  \n",
    "    The following code determines if a user is qualified for the Python course in business school.\n",
    "</div>"
   ]
  },
  {
   "cell_type": "code",
   "execution_count": 11,
   "metadata": {
    "scrolled": true
   },
   "outputs": [
    {
     "name": "stdout",
     "output_type": "stream",
     "text": [
      "Are you an NUS student? Yes/No: Yes\n",
      "Are you a student in the business school? Yes/No: Yes\n",
      "Have you finished the prerequisite? Yes/No: Yes\n",
      "You are qualified for the Python course in Business School.\n"
     ]
    }
   ],
   "source": [
    "is_nus = input('Are you an NUS student? Yes/No: ')\n",
    "if is_nus == 'Yes':\n",
    "    is_biz = input('Are you a student in the business school? Yes/No: ')\n",
    "    if is_biz == 'Yes':\n",
    "        done_prerequisites = input('Have you finished the prerequisite? Yes/No: ')\n",
    "        if done_prerequisites == 'Yes':\n",
    "            print(\"You are qualified for the Python course in Business School.\")\n",
    "        else:\n",
    "            print(\"Sorry, you must finish the prerequisite first!\")\n",
    "    else:\n",
    "        print('Sorry, this Python course is only provided to Business School students.')\n",
    "else:\n",
    "    print('Sorry, this Python course is only provided to NUS students.')"
   ]
  },
  {
   "cell_type": "markdown",
   "metadata": {},
   "source": [
    "You are encouraged to key in different \"Yes/No\" combinations for each question to explore how the nested structure above works. "
   ]
  },
  {
   "cell_type": "markdown",
   "metadata": {},
   "source": [
    "<div class=\"alert alert-block alert-danger\">\n",
    "<b>Notes:</b>  \n",
    "    Python uses indentations to force you to write neatly formatted code with a clear visual structure. In longer programs and deeply nested conditional statements, blocks of code indented at a few different levels may help you gain a general sense of the overall program’s organization. \n",
    "</div>\n",
    "\n",
    "\n",
    "<div style='height: 200px; width: 100px;display:table-cell;vertical-align: middle'>\n",
    "<img src=\"https://vignette.wikia.nocookie.net/nintendo/images/9/9b/Ryu_Hadouken_sprite.png/revision/latest?cb=20160213212450&path-prefix=en\" width=70px style=\"float:left\"/>\n",
    "</div>\n",
    "\n",
    "<div style='height: 250px; width: 400px;display:table-cell;vertical-align: middle'>\n",
    "<img src=\"https://www.python-course.eu/images/blocks.png\" width=400px style=\"float:left\"/>\n",
    "</div>"
   ]
  },
  {
   "cell_type": "markdown",
   "metadata": {},
   "source": [
    " "
   ]
  },
  {
   "cell_type": "markdown",
   "metadata": {},
   "source": [
    "### Iterations and loops <a id=\"subsection1.3\"></a>\n",
    "The concept of looping is important because it’s one of the most common ways a computer automates repetitive tasks.\n",
    "\n",
    "#### While loop\n",
    "People (or other intelligent creatures) may not be as good as computers to perform a huge number of repeated tasks, because they tend to make mistakes and they get bored with repetition, as shown by the following example.\n",
    "\n",
    "<div class=\"alert alert-block alert-success\">\n",
    "<b>Example 4:</b>  \n",
    "    Dr. Strange boss fight. \n",
    "</div>"
   ]
  },
  {
   "cell_type": "code",
   "execution_count": 1,
   "metadata": {},
   "outputs": [
    {
     "name": "stdout",
     "output_type": "stream",
     "text": [
      "Dr. Strange: Dormammu, I've come to bargain!\n",
      "Dormammu: You've come to die\n",
      "Dr. Strange: Ah~~~~~~~~\n",
      "\n",
      "\n",
      "Dr. Strange: Dormammu, I've come to bargain!\n",
      "Dormammu: What is this\n",
      "Dr. Strange: Ah~~~~~~~~\n",
      "\n",
      "\n",
      "Dr. Strange: Dormammu, I've come to bargain!\n",
      "Dormammu: I'll kill ya\n",
      "Dr. Strange: Ah~~~~~~~~\n",
      "\n",
      "\n",
      "Dr. Strange: Dormammu, I've come to bargain!\n",
      "Dormammu: I quit\n",
      "Dr. Strange: Wise choice bro!\n",
      "\n",
      "\n"
     ]
    }
   ],
   "source": [
    "Dormammu_quit = False\n",
    "\n",
    "while not Dormammu_quit:\n",
    "    print(\"Dr. Strange: Dormammu, I've come to bargain!\")\n",
    "    Dormammu_says = input(\"Dormammu: \")\n",
    "    if Dormammu_says == 'I quit' or Dormammu_says == 'You win':\n",
    "        Dormammu_quit = True\n",
    "        print('Dr. Strange: Wise choice bro!')\n",
    "    else:\n",
    "        print(\"Dr. Strange: Ah~~~~~~~~\")\n",
    "    print('\\n')"
   ]
  },
  {
   "cell_type": "markdown",
   "metadata": {},
   "source": [
    "Besides setting the value of <code>Dormammu_quit</code> to be \"True\" to escape the loop, we can also use the keyword <code>break</code> to get out of the loop."
   ]
  },
  {
   "cell_type": "code",
   "execution_count": 13,
   "metadata": {},
   "outputs": [
    {
     "name": "stdout",
     "output_type": "stream",
     "text": [
      "Dr. Strange: Dormammu, I've come to bargain!\n",
      "Dormammu: I quit\n",
      "Dr. Strange: Wise choice bro!\n"
     ]
    }
   ],
   "source": [
    "Dormammu_quit = False\n",
    "\n",
    "while not Dormammu_quit:\n",
    "    print(\"Dr. Strange: Dormammu, I've come to bargain!\")\n",
    "    Dormammu_says = input(\"Dormammu: \")\n",
    "    if Dormammu_says == 'I quit' or Dormammu_says == 'You win':\n",
    "        print('Dr. Strange: Wise choice bro!')\n",
    "        break       # It breaks the time loop!\n",
    "    else:\n",
    "        print(\"Dr. Strange: Ah~~~~~~~~\")\n",
    "    print('\\n')"
   ]
  },
  {
   "cell_type": "markdown",
   "metadata": {},
   "source": [
    "<div class=\"alert alert-block alert-danger\">\n",
    "<b>Notes:</b>     \n",
    "\n",
    "</ul>\n",
    "    <li> <b>while</b> repeats the code inside the loop block as long as the given boolean expression is True.\n",
    "    <li> The loop block is also indicated by indentations. Nested structure can also be used.    \n",
    "    <li> A loop can be broken by using the keyword <b>break</b>, or by enforcing the boolean expression to be False\n",
    "<li> Be careful, do not get trapped in an endless <b>while</b> loop.\n",
    "</ul>\n",
    "</div>\n",
    "  \n",
    "#### For loops \n",
    "<code>for</code> loops are traditionally used when you have a block of code which you want to repeat **a fixed number of times**. The Python <code>for</code> statement iterates over the members of a sequence in order, executing the block each time. \n",
    "\n",
    "<div class=\"alert alert-block alert-success\">\n",
    "<b>Example 5:</b>  Cheerleader chant.\n",
    "</div>"
   ]
  },
  {
   "cell_type": "code",
   "execution_count": 3,
   "metadata": {},
   "outputs": [
    {
     "name": "stdout",
     "output_type": "stream",
     "text": [
      "What is your name? Jack Sparrow\n",
      "Give me a J: \n",
      "J!!!\n",
      "Give me a a: \n",
      "a!!!\n",
      "Give me a c: \n",
      "c!!!\n",
      "Give me a k: \n",
      "k!!!\n",
      "Give me a  : \n",
      " !!!\n",
      "Give me a S: \n",
      "S!!!\n",
      "Give me a p: \n",
      "p!!!\n",
      "Give me a a: \n",
      "a!!!\n",
      "Give me a r: \n",
      "r!!!\n",
      "Give me a r: \n",
      "r!!!\n",
      "Give me a o: \n",
      "o!!!\n",
      "Give me a w: \n",
      "w!!!\n",
      "What's that spell?\n",
      "Jack Sparrow!!\n",
      "Go! Go! Jack Sparrow!!\n"
     ]
    }
   ],
   "source": [
    "name = input(\"What is your name? \")\n",
    "\n",
    "for letter in name:     # Iterate each letter in name\n",
    "    \n",
    "    print(\"Give me a \" + letter + \": \")\n",
    "    print(letter + \"!!!\")\n",
    "\n",
    "print(\"What's that spell?\")\n",
    "print(name + \"!!\")\n",
    "\n",
    "print(\"Go! Go! \" + name + \"!!\")"
   ]
  },
  {
   "cell_type": "markdown",
   "metadata": {},
   "source": [
    "Please note that the variable <code>letter</code> takes each letter of the string <code>name</code> in every iteration, and the loop ends when we have enumerated all letters.\n",
    "\n",
    "In the case that the input name is \"Jack Sparrow\", the space between two words will also be printed. How to prevent the program from printing the space?"
   ]
  },
  {
   "cell_type": "code",
   "execution_count": 15,
   "metadata": {
    "scrolled": false
   },
   "outputs": [
    {
     "name": "stdout",
     "output_type": "stream",
     "text": [
      "What is your name? Jack Sparrow\n",
      "Give me a J: \n",
      "J!!!\n",
      "Give me a a: \n",
      "a!!!\n",
      "Give me a c: \n",
      "c!!!\n",
      "Give me a k: \n",
      "k!!!\n",
      "Give me a S: \n",
      "S!!!\n",
      "Give me a p: \n",
      "p!!!\n",
      "Give me a a: \n",
      "a!!!\n",
      "Give me a r: \n",
      "r!!!\n",
      "Give me a r: \n",
      "r!!!\n",
      "Give me a o: \n",
      "o!!!\n",
      "Give me a w: \n",
      "w!!!\n",
      "What's that spell?\n",
      "Jack Sparrow!!\n",
      "Go! Go! Jack Sparrow!!\n"
     ]
    }
   ],
   "source": [
    "name = input(\"What is your name? \")\n",
    "\n",
    "for letter in name:   # Iterate each letter in name\n",
    "    if letter == ' ':\n",
    "        continue \n",
    "    \n",
    "    print(\"Give me a \" + letter + \": \")\n",
    "    print(letter + \"!!!\")\n",
    "\n",
    "print(\"What's that spell?\")\n",
    "print(name + \"!!\")\n",
    "\n",
    "print(\"Go! Go! \" + name + \"!!\")"
   ]
  },
  {
   "cell_type": "markdown",
   "metadata": {},
   "source": [
    "Watch out for the differences between the keywords <code>break</code> and <code>continue</code>: <code>break</code> skips the subsequent code in the loop and terminate the loop, while <code>continue</code> skips the subsequent code and directly go to the next iteration. \n",
    "\n",
    "<div class=\"alert alert-block alert-success\">\n",
    "<b>Example 6:</b>  The difference between \"break\" and \"continue\".\n",
    "</div>"
   ]
  },
  {
   "cell_type": "code",
   "execution_count": 16,
   "metadata": {},
   "outputs": [
    {
     "name": "stdout",
     "output_type": "stream",
     "text": [
      "ab\n",
      "abdefg\n"
     ]
    }
   ],
   "source": [
    "a_string = 'abcdefg'\n",
    "\n",
    "new_string = ''\n",
    "for letter in a_string:\n",
    "    if letter == 'c':\n",
    "        break           # Skip the line below and terminate the loop\n",
    "    new_string = new_string + letter\n",
    "print(new_string)\n",
    "\n",
    "new_string = ''\n",
    "for letter in a_string:\n",
    "    if letter == 'c':\n",
    "        continue        # Skip the line below and go to the next iteration\n",
    "    new_string = new_string + letter\n",
    "print(new_string)"
   ]
  },
  {
   "cell_type": "markdown",
   "metadata": {},
   "source": [
    "#### Comparison between while loop and for loop\n",
    "\n",
    "|<code>while</code> loop | <code>for</code> loop |\n",
    "|:-----------------------|:-------------------------|\n",
    "| Unknown number of iterations | Known number of iterations|\n",
    "| A counter can be defined <br> and manually updated | A counter is updated <br> through the loop |\n",
    "| Break the loop by <code>break</code>| Break the loop by <code>break</code> |\n",
    "| Skip code blocks by <code>continue</code> | Skip code blocks by <code>continue</code> |\n"
   ]
  },
  {
   "cell_type": "markdown",
   "metadata": {},
   "source": [
    "  "
   ]
  },
  {
   "cell_type": "markdown",
   "metadata": {},
   "source": [
    "## Strings <a id=\"section2\"></a>\n",
    "### Length of a string <a id=\"subsection2.1\"></a>\n",
    "The length of a string gives the number of characters in a string. "
   ]
  },
  {
   "cell_type": "code",
   "execution_count": 17,
   "metadata": {},
   "outputs": [
    {
     "data": {
      "text/plain": [
       "11"
      ]
     },
     "execution_count": 17,
     "metadata": {},
     "output_type": "execute_result"
    }
   ],
   "source": [
    "\"\"\"Length of the string\"\"\"\n",
    "\n",
    "len(\"Hello World\")"
   ]
  },
  {
   "cell_type": "markdown",
   "metadata": {},
   "source": [
    "### Indexing and slicing of strings <a id=\"subsection2.2\"></a>\n",
    "Each character in a string corresponds to an index number which starts from **0**. \n",
    "\n",
    "H | e |  l | l | o | <code></code>  | W | o | r | l | d \n",
    ":-----:|:-----:|:-----:|:-----:|:-----:|:-----:|:-----:|:-----:|:-----:|:-----:|:-----:\n",
    "0 | 1 | 2 | 3 | 4 | 5 | 6 | 7 | 8 | 9 | 10 \n",
    "\n",
    "\n",
    "All characters can be accessed via the associated index numbers, as demonstrated below."
   ]
  },
  {
   "cell_type": "code",
   "execution_count": 18,
   "metadata": {},
   "outputs": [
    {
     "name": "stdout",
     "output_type": "stream",
     "text": [
      "e\n",
      "o\n"
     ]
    }
   ],
   "source": [
    "greetings = \"Hello World\"\n",
    "\n",
    "letter_e = greetings[1]      # Access the 2nd character \"e\"\n",
    "print(letter_e)\n",
    "\n",
    "letter_A = greetings[7]      # Access the 8th character \"o\"\n",
    "print(letter_A)"
   ]
  },
  {
   "cell_type": "markdown",
   "metadata": {},
   "source": [
    "In case of a long string, we may want to pinpoint a character towards the end, we can also count backwards from the end of the string, starting at the index number -1, and such an index system is illustrated by the table below.\n",
    "\n",
    "H |   e  |  l | l | o | <code></code>  | W | o | r | l | d\n",
    ":-----:|:-----:|:-----:|:-----:|:-----:|:-----:|:-----:|:-----:|:-----:|:-----:|:-----:\n",
    "0 | 1 | 2 | 3 | 4 | 5 | 6 | 7 | 8 | 9 | 10 \n",
    " -11 | -10 | -9 | -8 | -7 | -6 | -5 | -4 | -3 | -2 | -1\n"
   ]
  },
  {
   "cell_type": "code",
   "execution_count": 19,
   "metadata": {},
   "outputs": [
    {
     "name": "stdout",
     "output_type": "stream",
     "text": [
      "d\n",
      "W\n"
     ]
    }
   ],
   "source": [
    "greetings = \"Hello World\"\n",
    "\n",
    "letter_2 = greetings[-1]      # Access the last character \"d\"\n",
    "print(letter_2)\n",
    "\n",
    "letter_O = greetings[-5]      # Access the character \"W\"\n",
    "print(letter_O)"
   ]
  },
  {
   "cell_type": "markdown",
   "metadata": {},
   "source": [
    "Besides accessing individual characters of a string, We can also call out a range of characters from the string, by creating a **slice** in the form of <code>\\[*start*:*stop*:*step*\\]</code>, where *start*, *stop*, and *step* are three input arguments that define the values of the indices.\n",
    "\n",
    "Arguments | Remarks | Default Values\n",
    ":--------:|:-------:|:--------------:\n",
    "*start*   | The first index of the slice | 0 \n",
    "*stop*    | The index before which the slice stops | length of the string\n",
    "*step*    | The step length of the slice | 1\n",
    "\n",
    "If any arguments are not specified, the default value would be applied to define the slice expression. Some examples are provided below to illustrate how the slice works."
   ]
  },
  {
   "cell_type": "code",
   "execution_count": 20,
   "metadata": {},
   "outputs": [
    {
     "name": "stdout",
     "output_type": "stream",
     "text": [
      "Hello\n",
      "World\n",
      "HloWrd\n"
     ]
    }
   ],
   "source": [
    "greetings = \"Hello World\"\n",
    "\n",
    "print(greetings[0:5:1])     # Print the first five characters\n",
    "\n",
    "print(greetings[6:11:1])    # Print the last four characters\n",
    "\n",
    "print(greetings[0:11:2])    # Print the 1st, 3rd, 5th, ... characters"
   ]
  },
  {
   "cell_type": "markdown",
   "metadata": {},
   "source": [
    "Alternatively, the code above is equivalent to the reduced form below, where the default values of some arguments are applied."
   ]
  },
  {
   "cell_type": "code",
   "execution_count": 28,
   "metadata": {},
   "outputs": [
    {
     "name": "stdout",
     "output_type": "stream",
     "text": [
      "Hello\n",
      "World\n",
      "HloWrd\n"
     ]
    }
   ],
   "source": [
    "greetings = \"Hello World\"\n",
    "\n",
    "print(greetings[:5])        # Print the first five characters\n",
    "\n",
    "print(greetings[-5:])       # Print the last four characters\n",
    "\n",
    "print(greetings[::2])       # Print the 1st, 3rd, 5th, ... characters"
   ]
  },
  {
   "cell_type": "markdown",
   "metadata": {},
   "source": [
    "<div class=\"alert alert-block alert-danger\">\n",
    "<b>Notes:</b>  \n",
    "    A common mistake is assuming that the last index of the slice is <i>stop</i>. Please be very careful that the last index should be the last avaiable integer before <i>stop</i>, as demonstrated by the following example.\n",
    "</div>\n"
   ]
  },
  {
   "cell_type": "code",
   "execution_count": 22,
   "metadata": {},
   "outputs": [
    {
     "name": "stdout",
     "output_type": "stream",
     "text": [
      "H \n"
     ]
    }
   ],
   "source": [
    "greetings = \"Hello World\"\n",
    "\n",
    "print(greetings[:-1:5])   # Print the 1st, and the 6th characters"
   ]
  },
  {
   "cell_type": "markdown",
   "metadata": {},
   "source": [
    "### Iterate characters via <code>range</code> <a id=\"subsection2.3\"></a>\n",
    "\n",
    "The function <code>range(*start*, *stop*, *step*)</code> creates a <code>range</code> type object, which represents a sequence of integer numbers. The input arguments *start*, *stop*, and *step*, work exactly the same as the **slice** syntax, as shown by the table below.\n",
    "\n",
    "Arguments | Remarks | Default Values\n",
    ":--------:|:-------:|:--------------:\n",
    "*start*   | The first index of the slice | 0 \n",
    "*stop*    | The index before which the slice stops | -\n",
    "*step*    | The step length of the slice | 1\n",
    "\n",
    "A few examples are provided below to illustrate the <code>range</code> expressions."
   ]
  },
  {
   "cell_type": "code",
   "execution_count": 23,
   "metadata": {},
   "outputs": [
    {
     "name": "stdout",
     "output_type": "stream",
     "text": [
      "<class 'range'>\n",
      "range(0, 5)\n",
      "range(2, 5)\n"
     ]
    }
   ],
   "source": [
    "print(type(range(3)))           # Object type is \"range\"\n",
    "print(range(5))                 # Default values: start=0, step=1\n",
    "print(range(2, 5))              # Default values: step=1"
   ]
  },
  {
   "cell_type": "markdown",
   "metadata": {},
   "source": [
    "The <code>range</code> structure is usually used in <code>for</code> loops to iterate integers in the <code>range</code> sequence. For example, the cheerleader case can be rewritten as the following code."
   ]
  },
  {
   "cell_type": "code",
   "execution_count": 24,
   "metadata": {},
   "outputs": [
    {
     "name": "stdout",
     "output_type": "stream",
     "text": [
      "What is your name? Jack\n",
      "Give me a J: \n",
      "J!!!\n",
      "Give me a a: \n",
      "a!!!\n",
      "Give me a c: \n",
      "c!!!\n",
      "Give me a k: \n",
      "k!!!\n",
      "What's that spell?\n",
      "Jack!!\n",
      "Go! Go! Jack!!\n"
     ]
    }
   ],
   "source": [
    "name = input(\"What is your name? \")\n",
    "\n",
    "for index in range(len(name)):  # Iterate integers 0, 1, ..., len(name)-1\n",
    "    letter = name[index]\n",
    "    if letter == ' ':\n",
    "        continue \n",
    "    \n",
    "    print(\"Give me a \" + letter + \": \")\n",
    "    print(letter + \"!!!\")\n",
    "\n",
    "print(\"What's that spell?\")\n",
    "print(name + \"!!\")\n",
    "\n",
    "print(\"Go! Go! \" + name + \"!!\")"
   ]
  },
  {
   "cell_type": "markdown",
   "metadata": {},
   "source": [
    "In this example, the variable <code>index</code> takes one integer from the sequence running from 0 to <code>len(name)-1</code>. We can thus access each character through their indices <code>index</code>.\n",
    "\n",
    "<div class=\"alert alert-block alert-warning\">\n",
    "<b>Coding Style: </b>   \n",
    "Though the code above generates exactly the same results as Example 2, it is considered non-Pythonic because using an \"index\" is not as readable and straightforward as using each character itself. It is thus not recommended.\n",
    "</div>\n",
    "\n",
    "### Methods of strings <a id=\"subsection2.4\"></a>\n",
    "A method is a special function associated with an object. All methods are called via the syntax $<$object$>$.$<$method$>()$.\n",
    "\n",
    "You may check [Python string methods](https://www.programiz.com/python-programming/methods/string) for the full list of methods for strings. Some of the frequently used methods are explained in the code segments below."
   ]
  },
  {
   "cell_type": "code",
   "execution_count": 25,
   "metadata": {},
   "outputs": [
    {
     "name": "stdout",
     "output_type": "stream",
     "text": [
      "ALL WORK AND NO PLAY MAKES JACK A DULL BOY\n",
      "all work and no play makes jack a dull boy\n",
      "All work and no play makes jack a dull boy\n",
      "ALL WORK AND NO PLAY MAKES jACK A DULL BOY\n",
      "All Work And No Play Makes Jack A Dull Boy\n"
     ]
    }
   ],
   "source": [
    "\"\"\"Case conversion\"\"\"\n",
    "\n",
    "line = \"all work and no play makes Jack a dull boy\"\n",
    "\n",
    "line_upper = line.upper()       # Convert all letters to upper case\n",
    "line_lower = line.lower()       # Convert all letters to lower case\n",
    "line_cap = line.capitalize()    # Convert the first letter to upper case\n",
    "line_swap = line.swapcase()     # Swap upper and lower case\n",
    "line_title = line.title()       # Capitalize the 1st letter of each word\n",
    "\n",
    "print(line_upper)\n",
    "print(line_lower)\n",
    "print(line_cap)\n",
    "print(line_swap)\n",
    "print(line_title)"
   ]
  },
  {
   "cell_type": "code",
   "execution_count": 26,
   "metadata": {
    "scrolled": true
   },
   "outputs": [
    {
     "name": "stdout",
     "output_type": "stream",
     "text": [
      "6\n",
      "4\n"
     ]
    }
   ],
   "source": [
    "\"\"\"Find a character in a string\"\"\"\n",
    "\n",
    "greetings = \"Hello World\"\n",
    "\n",
    "print(greetings.find(\"Wo\"))     # Print the index of the start of \"Wo\" \n",
    "print(greetings.find(\"o\"))      # Print the index of the first \"o\""
   ]
  }
 ],
 "metadata": {
  "kernelspec": {
   "display_name": "Python 3",
   "language": "python",
   "name": "python3"
  },
  "language_info": {
   "codemirror_mode": {
    "name": "ipython",
    "version": 3
   },
   "file_extension": ".py",
   "mimetype": "text/x-python",
   "name": "python",
   "nbconvert_exporter": "python",
   "pygments_lexer": "ipython3",
   "version": "3.6.2"
  }
 },
 "nbformat": 4,
 "nbformat_minor": 2
}
