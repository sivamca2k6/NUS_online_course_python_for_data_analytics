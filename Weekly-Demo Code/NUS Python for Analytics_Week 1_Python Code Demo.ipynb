{
 "cells": [
  {
   "cell_type": "markdown",
   "metadata": {},
   "source": [
    "# Module 1\n",
    "\n",
    "## Jupyter Notebook <a id='section1'></a>\n",
    "The Jupyter Notebook is an open-source web application that allows you to create and share documents that contain live code, equations, visualizations and narrative text. Uses include: data cleaning and transformation, numerical simulation, statistical modeling, data visualization, machine learning, and much more.\n",
    "\n",
    "### Modal user interface <a id='subsection1.1'></a>\n",
    "The Jupyter Notebook has a modal user interface. This means that the keyboard does different things depending on which mode the Notebook is in. There are two modes: **edit mode** and **command mode**.\n",
    "\n",
    "#### Edit mode\n",
    "Edit mode is indicated by a green cell border and a prompt showing in the editor area:\n",
    "<img src=\"https://jupyter-notebook.readthedocs.io/en/stable/_images/edit_mode.png\" width=750>\n",
    "- Edit the content of a cell\n",
    "- Press <code>enter</code> (<code>return</code> for Mac OS) to enable edit mode, and <code>esc</code> to quit editing\n",
    "\n",
    "#### Command mode\n",
    "Command mode is indicated by a grey cell border with a blue left margin:\n",
    "<img src=\"https://jupyter-notebook.readthedocs.io/en/stable/_images/command_mode.png\" width=762>\n",
    "- Notebook level actions: insert/remove cells, and change cell types, etc.\n",
    "- Keyboard shortcuts\n",
    "    - <code>A</code>: insert a cell above\n",
    "    - <code>B</code>: insert a cell below\n",
    "    - <code>D</code>, <code>D</code>: delete a cell\n",
    "    - <code>M</code>: change to markdown mode\n",
    "    - <code>Y</code>: change to code mode\n",
    "\n",
    "#### Other keyboard shortcuts\n",
    "- <code>ctrl</code> + <code>enter</code> (<code>control</code> + <code>enter</code> for Mac OS): run cells\n",
    "- <code>shift</code> + <code>enter</code> (<code>shift</code> + <code>return</code> for Mac OS): run cells, and select (insert) the cell below \n",
    "\n",
    "Once a code cell is executed, there will be a number appearing in the square bracket in front of the cell, indicating the sequence of executing cells.\n",
    "\n",
    "\n",
    "###  Try Python as a scientific calculator <a id='subsection1.2'></a>\n",
    "- <a href=\"https://www.tutorialspoint.com/python/python_basic_operators.htm\"><b>Python arithmetic operators</b></a> "
   ]
  },
  {
   "cell_type": "code",
   "execution_count": 1,
   "metadata": {},
   "outputs": [
    {
     "data": {
      "text/plain": [
       "22.0"
      ]
     },
     "execution_count": 1,
     "metadata": {},
     "output_type": "execute_result"
    }
   ],
   "source": [
    "(2+3.5) * 6 / (1.75-0.25)"
   ]
  },
  {
   "cell_type": "code",
   "execution_count": 2,
   "metadata": {
    "scrolled": true
   },
   "outputs": [
    {
     "data": {
      "text/plain": [
       "3.375"
      ]
     },
     "execution_count": 2,
     "metadata": {},
     "output_type": "execute_result"
    }
   ],
   "source": [
    "1.5 ** 3   # ** 1.5 to the power of 3 "
   ]
  },
  {
   "cell_type": "markdown",
   "metadata": {},
   "source": [
    "The result of the last line of code would be output as the \"Out\". Results of the other lines are not displayed as the \"Out\". If you want to display the results of code other than the last line, you can always use the function <code>print</code>. Please check the following example. "
   ]
  },
  {
   "cell_type": "code",
   "execution_count": 3,
   "metadata": {
    "scrolled": true
   },
   "outputs": [
    {
     "name": "stdout",
     "output_type": "stream",
     "text": [
      "6\n"
     ]
    },
    {
     "data": {
      "text/plain": [
       "8"
      ]
     },
     "execution_count": 3,
     "metadata": {},
     "output_type": "execute_result"
    }
   ],
   "source": [
    "2 + 3               # Result 5 is not displayed\n",
    "print(1 + 5)        # Result 6 is displayed by the function print\n",
    "1.5                 # Result 1.5 is not displayed\n",
    "1 + 2 + 5           # Result 8 is displayed"
   ]
  },
  {
   "cell_type": "markdown",
   "metadata": {},
   "source": [
    "<div class=\"alert alert-block alert-success\">\n",
    "<b>Example 1:</b>  \n",
    "A grocery store had 500 packs of cookies in storage. Among the total storage, 5% were dumped due to expiration, and another 230 packs were sold this month. Calculate how many packs of cookies left in the grocery store.\n",
    "</div>\n"
   ]
  },
  {
   "cell_type": "code",
   "execution_count": 4,
   "metadata": {},
   "outputs": [
    {
     "data": {
      "text/plain": [
       "245.0"
      ]
     },
     "execution_count": 4,
     "metadata": {},
     "output_type": "execute_result"
    }
   ],
   "source": [
    "500*(1-0.05) - 230"
   ]
  },
  {
   "cell_type": "markdown",
   "metadata": {},
   "source": [
    "   "
   ]
  },
  {
   "cell_type": "markdown",
   "metadata": {},
   "source": [
    "## Python objects, variables and simple data types <a id='section2'></a>\n",
    "### Objects <a id='subsection2.1'></a>\n",
    "Objects are abstraction for Python data. All data in a Python program is represented by objects or by relations between objects. Each object has a value and a type. Examples of data objects are given below."
   ]
  },
  {
   "cell_type": "code",
   "execution_count": 5,
   "metadata": {
    "scrolled": true
   },
   "outputs": [
    {
     "name": "stdout",
     "output_type": "stream",
     "text": [
      "2.0\n",
      "<class 'float'>\n"
     ]
    }
   ],
   "source": [
    "print(2.00)             # The value of 2.00 is 2\n",
    "print(type(2.00))       # The type of 2.00 is float"
   ]
  },
  {
   "cell_type": "code",
   "execution_count": 6,
   "metadata": {
    "scrolled": true
   },
   "outputs": [
    {
     "name": "stdout",
     "output_type": "stream",
     "text": [
      "2\n",
      "<class 'int'>\n"
     ]
    }
   ],
   "source": [
    "print(2)                # The value of 2 is 2\n",
    "print(type(2))          # The type of 2 is int"
   ]
  },
  {
   "cell_type": "code",
   "execution_count": 7,
   "metadata": {
    "scrolled": true
   },
   "outputs": [
    {
     "name": "stdout",
     "output_type": "stream",
     "text": [
      "3.1\n",
      "<class 'float'>\n"
     ]
    }
   ],
   "source": [
    "print(2 + 1.1)          # The value of 2 + 1.1 is 3.1\n",
    "print(type(2 + 1.1))    # The type of 2 + 1.1 is float"
   ]
  },
  {
   "cell_type": "markdown",
   "metadata": {},
   "source": [
    "Besides data, Python functions are also objects, as the following case."
   ]
  },
  {
   "cell_type": "code",
   "execution_count": 8,
   "metadata": {
    "scrolled": false
   },
   "outputs": [
    {
     "name": "stdout",
     "output_type": "stream",
     "text": [
      "<built-in function print>\n",
      "<class 'builtin_function_or_method'>\n"
     ]
    }
   ],
   "source": [
    "print(print)        # The value of function print\n",
    "print(type(print))  # The type of function print"
   ]
  },
  {
   "cell_type": "markdown",
   "metadata": {},
   "source": [
    "### Variables and assignment statement<a id='subsection2.2'></a>\n",
    "- Assignment operator <code>=</code> \n",
    "- Variable(s): name(s) on the left\n",
    "- Value(s): expression(s) on the right\n",
    "- The value of a variable can be retrieved by invoking the name\n",
    "\n",
    "<div class=\"alert alert-block alert-success\">\n",
    "<b>Example 1:</b>  \n",
    "A grocery store had 500 packs of cookies in storage. Among the total storage, 5% were dumped due to expiration, and another 230 packs were sold this month. Calculate how many packs of cookies left in the grocery store.\n",
    "</div>"
   ]
  },
  {
   "cell_type": "code",
   "execution_count": 9,
   "metadata": {},
   "outputs": [
    {
     "data": {
      "text/plain": [
       "245.0"
      ]
     },
     "execution_count": 9,
     "metadata": {},
     "output_type": "execute_result"
    }
   ],
   "source": [
    "storage = 500\n",
    "dump_rate = 0.05\n",
    "sold = 230\n",
    "\n",
    "storage*(1-dump_rate) - sold"
   ]
  },
  {
   "cell_type": "markdown",
   "metadata": {},
   "source": [
    "#### Variables give names to values\n",
    "- Reuse the same value\n",
    "- Improve readability\n",
    "- Enable control flow\n",
    "\n",
    "#### Rules of Python variable names\n",
    "<div class=\"alert alert-block alert-danger\">\n",
    "<b>Notes:</b> \n",
    "Syntax for variable names:\n",
    "\n",
    "</ul>\n",
    "  <li>Only one word</li>\n",
    "  <li>Only consist of letters, numbers, and underscores</li>\n",
    "  <li>Cannot begin with a number</li>\n",
    "  <li>Avoid contradictions with Python <a href=\"https://www.programiz.com/python-programming/keyword-list\"><b>keywords</b></a>\n",
    "</ul>\n",
    "\n",
    "Do not worry too much about memorizing all keywords. In Jupyter and other programming environment, the keywords are highlighted by a different color, to prevent users from naming their variables and functions after the keywords. \n",
    "</div>"
   ]
  },
  {
   "cell_type": "markdown",
   "metadata": {},
   "source": [
    "<div class=\"alert alert-block alert-danger\">\n",
    "<b>Notes:</b> \n",
    "After a variable is defined by an assignment statement, this variable would be \"remembered\" by Python in all subsequent cells. Accessing a variable before defining it would generate an error message saying this variable is not defined. \n",
    "</div>"
   ]
  },
  {
   "cell_type": "markdown",
   "metadata": {},
   "source": [
    "In the previous code cells, the variable <code>storage</code> was defined to be 500. It is remembered by Python, so we can apply its value in the right-hand-side expression of the following code."
   ]
  },
  {
   "cell_type": "code",
   "execution_count": 10,
   "metadata": {},
   "outputs": [],
   "source": [
    "\"\"\"Storage is updated with a new value\"\"\"\n",
    "\n",
    "storage = storage*(1-dump_rate) - sold"
   ]
  },
  {
   "cell_type": "code",
   "execution_count": 11,
   "metadata": {},
   "outputs": [
    {
     "name": "stdout",
     "output_type": "stream",
     "text": [
      "245.0\n"
     ]
    }
   ],
   "source": [
    "\"\"\"Retriving the new value via invoking the name\"\"\"\n",
    "\n",
    "print(storage)"
   ]
  },
  {
   "cell_type": "markdown",
   "metadata": {},
   "source": [
    "We may also apply the outputs of functions in the right-hand-side expressions, as the next example.\n",
    "\n",
    "<div class=\"alert alert-block alert-success\">\n",
    "<b>Example 2:</b>  \n",
    "Use the \"input\" function in assignment statements\n",
    "</div>"
   ]
  },
  {
   "cell_type": "code",
   "execution_count": 6,
   "metadata": {},
   "outputs": [
    {
     "name": "stdout",
     "output_type": "stream",
     "text": [
      "Key in your name: Peter\n",
      "Hello Peter\n"
     ]
    }
   ],
   "source": [
    "greetings = 'Hello '\n",
    "name = input('Key in your name: ')  # Assign the output of input to name\n",
    "\n",
    "print(greetings + name)             # Print both greetings and name"
   ]
  },
  {
   "cell_type": "markdown",
   "metadata": {},
   "source": [
    "<div class=\"alert alert-block alert-danger\">\n",
    "<b>Notes:</b> In programming, <b>=</b> is an assignment operator, instead of an equal sign in mathematics. For example, <b>x = 2*x - 1</b> in mathematics indicates an equation with unknown variable x, and the solution to this equation is <b>x = 1</b>. In programming, however, <b>x = 2*x - 1</b> suggests that <b>x</b> is assigned to a new value, expressed as twice of its initial value minus one. \n",
    "</div>\n",
    "\n",
    "#### Other assignment operations\n",
    "\n",
    "- Addition assignment __+=__ and subtraction assignment __-=__\n",
    "- Explore other operators: __\\*=__, __/=__, __\\*\\*=__\n",
    "\n",
    "<div class=\"alert alert-block alert-success\">\n",
    "<b>Extra Example:</b>  \n",
    "John has a saving account with \\$10,000 left in the previous month. His income and spendings for this month are \\$5,500 and $3,800, respectively. How much does he have in his saving account at the end of the month?\n",
    "</div>"
   ]
  },
  {
   "cell_type": "code",
   "execution_count": 13,
   "metadata": {},
   "outputs": [],
   "source": [
    "saving = 10000      # The initial saving is $10,000\n",
    "income = 5500       # The income is $5500\n",
    "spending = 3800     # The spending is $3800\n",
    "\n",
    "\n",
    "saving += income    # It is equivalent to \"saving = saving + income\"\n",
    "saving -= spending  # It is equivalent to \"saving = saving - spending\""
   ]
  },
  {
   "cell_type": "code",
   "execution_count": 14,
   "metadata": {},
   "outputs": [
    {
     "data": {
      "text/plain": [
       "11700"
      ]
     },
     "execution_count": 14,
     "metadata": {},
     "output_type": "execute_result"
    }
   ],
   "source": [
    "saving"
   ]
  },
  {
   "cell_type": "markdown",
   "metadata": {},
   "source": [
    "<div class=\"alert alert-block alert-warning\">\n",
    "<b>Coding Style:</b> \n",
    "<a href=\"https://www.python.org/dev/peps/pep-0008/#function-and-variable-names\">PEP 8 Style Guide:</a> \n",
    "</ul>\n",
    "  <li>Function and variable names</li>\n",
    "  <li>Whitespace in expressions and statements</li>\n",
    "</ul>\n",
    "</div>\n",
    "\n",
    "     \n",
    "### Basic built-in data types <a id='subsection2.3'></a>\n",
    "In Python and many other programming languages, data type is of great importance because it determines whether an operator or a function works for the data, or how they work. Especially, the same operator and function may work differently for data with different types. Python has numerous data types, and in this lecture, we are going to discuss a few basic built-in data types.\n",
    "\n",
    "#### Numeric types\n",
    "- **int**: signed integers\n",
    "- **float**: floating point real numbers\n",
    "- **long** and **complex**: long integers and complex numbers (not covered in this course)\n",
    "\n",
    "<div class=\"alert alert-block alert-success\">\n",
    "<b>Example 1:</b>  \n",
    "A grocery store had 500 packs of cookies in storage. Among the total storage, 5% were dumped due to expiration, and another 230 packs are sold this month. Calculate how many packs of cookies left in the grocery store.\n",
    "</div>"
   ]
  },
  {
   "cell_type": "code",
   "execution_count": 15,
   "metadata": {},
   "outputs": [
    {
     "data": {
      "text/plain": [
       "int"
      ]
     },
     "execution_count": 15,
     "metadata": {},
     "output_type": "execute_result"
    }
   ],
   "source": [
    "storage = 5000\n",
    "type(storage)"
   ]
  },
  {
   "cell_type": "code",
   "execution_count": 16,
   "metadata": {},
   "outputs": [
    {
     "data": {
      "text/plain": [
       "float"
      ]
     },
     "execution_count": 16,
     "metadata": {},
     "output_type": "execute_result"
    }
   ],
   "source": [
    "storage = 5000.0\n",
    "type(storage)"
   ]
  },
  {
   "cell_type": "code",
   "execution_count": 17,
   "metadata": {},
   "outputs": [
    {
     "data": {
      "text/plain": [
       "float"
      ]
     },
     "execution_count": 17,
     "metadata": {},
     "output_type": "execute_result"
    }
   ],
   "source": [
    "storage = 5000\n",
    "dump_rate = 0.05\n",
    "\n",
    "type(storage * (1 - dump_rate))"
   ]
  },
  {
   "cell_type": "markdown",
   "metadata": {},
   "source": [
    "#### String\n",
    "In python, a string is expressed by a sequence of characters surrounded by either single or double quotation marks. For example, "
   ]
  },
  {
   "cell_type": "code",
   "execution_count": 18,
   "metadata": {},
   "outputs": [
    {
     "name": "stdout",
     "output_type": "stream",
     "text": [
      "Hello Python\n"
     ]
    },
    {
     "data": {
      "text/plain": [
       "str"
      ]
     },
     "execution_count": 18,
     "metadata": {},
     "output_type": "execute_result"
    }
   ],
   "source": [
    "greeting = 'Hello Python'\n",
    "\n",
    "print(greeting)\n",
    "type(greeting)"
   ]
  },
  {
   "cell_type": "code",
   "execution_count": 19,
   "metadata": {},
   "outputs": [
    {
     "name": "stdout",
     "output_type": "stream",
     "text": [
      "5000.0\n"
     ]
    },
    {
     "data": {
      "text/plain": [
       "str"
      ]
     },
     "execution_count": 19,
     "metadata": {},
     "output_type": "execute_result"
    }
   ],
   "source": [
    "storage_str = \"5000.0\"\n",
    "\n",
    "print(storage_str)\n",
    "type(storage_str)"
   ]
  },
  {
   "cell_type": "markdown",
   "metadata": {},
   "source": [
    "The operator <code>+</code> can be used to concatenate string segments, and the operator <code>*</code> can be used to repeat the content of a string by a given number of times, as shown by the example we have seen before. Note that the string \"\\n\" starts a new line."
   ]
  },
  {
   "cell_type": "code",
   "execution_count": 20,
   "metadata": {},
   "outputs": [
    {
     "name": "stdout",
     "output_type": "stream",
     "text": [
      "I will not throw paper airplaines in class.\n",
      "I will not throw paper airplaines in class.\n",
      "I will not throw paper airplaines in class.\n",
      "I will not throw paper airplaines in class.\n",
      "I will not throw paper airplaines in class.\n",
      "I will not throw paper airplaines in class.\n",
      "I will not throw paper airplaines in class.\n",
      "I will not throw paper airplaines in class.\n",
      "I will not throw paper airplaines in class.\n",
      "I will not throw paper airplaines in class.\n",
      "\n"
     ]
    }
   ],
   "source": [
    "print('I will not throw paper airplaines in class.\\n' * 10)"
   ]
  },
  {
   "cell_type": "markdown",
   "metadata": {},
   "source": [
    "<div class=\"alert alert-block alert-success\">\n",
    "<b>Example 3:</b>  \n",
    "    The function <b>input</b> enables users to type in a string of characters. Print a message \"Your input is: \", followed by the input string repeated ten times. \n",
    "</div>"
   ]
  },
  {
   "cell_type": "code",
   "execution_count": 21,
   "metadata": {},
   "outputs": [
    {
     "name": "stdout",
     "output_type": "stream",
     "text": [
      "Type something: 3\n",
      "Your input is: 3333333333\n"
     ]
    }
   ],
   "source": [
    "input_str = input('Type something: ')\n",
    "\n",
    "print('Your input is: ' + input_str*10)"
   ]
  },
  {
   "cell_type": "markdown",
   "metadata": {},
   "source": [
    "<div class=\"alert alert-block alert-danger\">\n",
    "<b>Notes:</b>  \n",
    "    Please be careful when the input is a \"number\". The input is always a string, so the multiplication operator <b>*</b> would repeat the input string ten times, instead of multiplying the numerical value by ten.\n",
    "    If we want to multiply the input number by ten, we need to rewrite the code as follows by using data type conversions, which is introduced in the next subsection.\n",
    "</div>"
   ]
  }
 ],
 "metadata": {
  "kernelspec": {
   "display_name": "Python 3",
   "language": "python",
   "name": "python3"
  },
  "language_info": {
   "codemirror_mode": {
    "name": "ipython",
    "version": 3
   },
   "file_extension": ".py",
   "mimetype": "text/x-python",
   "name": "python",
   "nbconvert_exporter": "python",
   "pygments_lexer": "ipython3",
   "version": "3.7.4"
  }
 },
 "nbformat": 4,
 "nbformat_minor": 2
}
