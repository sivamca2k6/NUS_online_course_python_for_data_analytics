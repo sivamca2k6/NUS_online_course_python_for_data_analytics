{
 "cells": [
  {
   "cell_type": "markdown",
   "metadata": {},
   "source": [
    "# Case Study - Condo Market in Singapore\n",
    "\n",
    "## Learning Objectives:\n",
    "- Become familiar with different visualization techniques  \n",
    "- Understand the confounding effect and the way to control for it\n",
    "- Explore possible relationships among multiple variables "
   ]
  },
  {
   "cell_type": "markdown",
   "metadata": {},
   "source": [
    "<i><b>Background</b></i>: Buying a condo might be a dream for some Singaporeans. Depending on the location and area of the property, the corresponding price differs substantially. For those who want to buy condos for residing or for investments, a deeper understanding of Singapore’s real estate market is crucial. The file `condo.csv` contains the prices of condos in Singapore for the past several years. Moreover, some attributes of such condos are also included in the file."
   ]
  },
  {
   "cell_type": "code",
   "execution_count": 1,
   "metadata": {},
   "outputs": [
    {
     "data": {
      "text/html": [
       "<div>\n",
       "<style scoped>\n",
       "    .dataframe tbody tr th:only-of-type {\n",
       "        vertical-align: middle;\n",
       "    }\n",
       "\n",
       "    .dataframe tbody tr th {\n",
       "        vertical-align: top;\n",
       "    }\n",
       "\n",
       "    .dataframe thead th {\n",
       "        text-align: right;\n",
       "    }\n",
       "</style>\n",
       "<table border=\"1\" class=\"dataframe\">\n",
       "  <thead>\n",
       "    <tr style=\"text-align: right;\">\n",
       "      <th></th>\n",
       "      <th>name</th>\n",
       "      <th>price</th>\n",
       "      <th>unit_price</th>\n",
       "      <th>district_code</th>\n",
       "      <th>segment</th>\n",
       "      <th>type</th>\n",
       "      <th>area</th>\n",
       "      <th>level</th>\n",
       "      <th>remaining_years</th>\n",
       "      <th>date</th>\n",
       "    </tr>\n",
       "  </thead>\n",
       "  <tbody>\n",
       "    <tr>\n",
       "      <th>0</th>\n",
       "      <td>SEASCAPE</td>\n",
       "      <td>4388000</td>\n",
       "      <td>2028</td>\n",
       "      <td>4</td>\n",
       "      <td>CCR</td>\n",
       "      <td>Resale</td>\n",
       "      <td>2164</td>\n",
       "      <td>06 to 10</td>\n",
       "      <td>87.0</td>\n",
       "      <td>Nov-19</td>\n",
       "    </tr>\n",
       "    <tr>\n",
       "      <th>1</th>\n",
       "      <td>COMMONWEALTH TOWERS</td>\n",
       "      <td>1300000</td>\n",
       "      <td>1887</td>\n",
       "      <td>3</td>\n",
       "      <td>RCR</td>\n",
       "      <td>Resale</td>\n",
       "      <td>689</td>\n",
       "      <td>16 to 20</td>\n",
       "      <td>93.0</td>\n",
       "      <td>Nov-19</td>\n",
       "    </tr>\n",
       "    <tr>\n",
       "      <th>2</th>\n",
       "      <td>THE TRILINQ</td>\n",
       "      <td>1755000</td>\n",
       "      <td>1304</td>\n",
       "      <td>5</td>\n",
       "      <td>OCR</td>\n",
       "      <td>Resale</td>\n",
       "      <td>1346</td>\n",
       "      <td>06 to 10</td>\n",
       "      <td>92.0</td>\n",
       "      <td>Nov-19</td>\n",
       "    </tr>\n",
       "    <tr>\n",
       "      <th>3</th>\n",
       "      <td>THE CREST</td>\n",
       "      <td>2085000</td>\n",
       "      <td>2201</td>\n",
       "      <td>3</td>\n",
       "      <td>RCR</td>\n",
       "      <td>Resale</td>\n",
       "      <td>947</td>\n",
       "      <td>01 to 05</td>\n",
       "      <td>92.0</td>\n",
       "      <td>Nov-19</td>\n",
       "    </tr>\n",
       "    <tr>\n",
       "      <th>4</th>\n",
       "      <td>THE ANCHORAGE</td>\n",
       "      <td>1848888</td>\n",
       "      <td>1468</td>\n",
       "      <td>3</td>\n",
       "      <td>RCR</td>\n",
       "      <td>Resale</td>\n",
       "      <td>1259</td>\n",
       "      <td>01 to 05</td>\n",
       "      <td>999.0</td>\n",
       "      <td>Nov-19</td>\n",
       "    </tr>\n",
       "    <tr>\n",
       "      <th>5</th>\n",
       "      <td>MOUNT FABER LODGE</td>\n",
       "      <td>4400000</td>\n",
       "      <td>1188</td>\n",
       "      <td>4</td>\n",
       "      <td>RCR</td>\n",
       "      <td>Resale</td>\n",
       "      <td>3703</td>\n",
       "      <td>06 to 10</td>\n",
       "      <td>999.0</td>\n",
       "      <td>Oct-19</td>\n",
       "    </tr>\n",
       "    <tr>\n",
       "      <th>6</th>\n",
       "      <td>BLUE HORIZON</td>\n",
       "      <td>990000</td>\n",
       "      <td>1022</td>\n",
       "      <td>5</td>\n",
       "      <td>OCR</td>\n",
       "      <td>Resale</td>\n",
       "      <td>969</td>\n",
       "      <td>21 to 25</td>\n",
       "      <td>80.0</td>\n",
       "      <td>Oct-19</td>\n",
       "    </tr>\n",
       "    <tr>\n",
       "      <th>7</th>\n",
       "      <td>DOVER PARKVIEW</td>\n",
       "      <td>1088000</td>\n",
       "      <td>1162</td>\n",
       "      <td>5</td>\n",
       "      <td>RCR</td>\n",
       "      <td>Resale</td>\n",
       "      <td>936</td>\n",
       "      <td>06 to 10</td>\n",
       "      <td>73.0</td>\n",
       "      <td>Oct-19</td>\n",
       "    </tr>\n",
       "    <tr>\n",
       "      <th>8</th>\n",
       "      <td>CARIBBEAN AT KEPPEL BAY</td>\n",
       "      <td>1470000</td>\n",
       "      <td>1751</td>\n",
       "      <td>4</td>\n",
       "      <td>RCR</td>\n",
       "      <td>Resale</td>\n",
       "      <td>840</td>\n",
       "      <td>06 to 10</td>\n",
       "      <td>79.0</td>\n",
       "      <td>Oct-19</td>\n",
       "    </tr>\n",
       "    <tr>\n",
       "      <th>9</th>\n",
       "      <td>THE INTERLACE</td>\n",
       "      <td>4550000</td>\n",
       "      <td>868</td>\n",
       "      <td>4</td>\n",
       "      <td>RCR</td>\n",
       "      <td>Resale</td>\n",
       "      <td>5242</td>\n",
       "      <td>16 to 20</td>\n",
       "      <td>89.0</td>\n",
       "      <td>Oct-19</td>\n",
       "    </tr>\n",
       "  </tbody>\n",
       "</table>\n",
       "</div>"
      ],
      "text/plain": [
       "                      name    price  unit_price  district_code segment  \\\n",
       "0                 SEASCAPE  4388000        2028              4     CCR   \n",
       "1      COMMONWEALTH TOWERS  1300000        1887              3     RCR   \n",
       "2              THE TRILINQ  1755000        1304              5     OCR   \n",
       "3                THE CREST  2085000        2201              3     RCR   \n",
       "4            THE ANCHORAGE  1848888        1468              3     RCR   \n",
       "5        MOUNT FABER LODGE  4400000        1188              4     RCR   \n",
       "6             BLUE HORIZON   990000        1022              5     OCR   \n",
       "7           DOVER PARKVIEW  1088000        1162              5     RCR   \n",
       "8  CARIBBEAN AT KEPPEL BAY  1470000        1751              4     RCR   \n",
       "9            THE INTERLACE  4550000         868              4     RCR   \n",
       "\n",
       "     type  area     level  remaining_years    date  \n",
       "0  Resale  2164  06 to 10             87.0  Nov-19  \n",
       "1  Resale   689  16 to 20             93.0  Nov-19  \n",
       "2  Resale  1346  06 to 10             92.0  Nov-19  \n",
       "3  Resale   947  01 to 05             92.0  Nov-19  \n",
       "4  Resale  1259  01 to 05            999.0  Nov-19  \n",
       "5  Resale  3703  06 to 10            999.0  Oct-19  \n",
       "6  Resale   969  21 to 25             80.0  Oct-19  \n",
       "7  Resale   936  06 to 10             73.0  Oct-19  \n",
       "8  Resale   840  06 to 10             79.0  Oct-19  \n",
       "9  Resale  5242  16 to 20             89.0  Oct-19  "
      ]
     },
     "execution_count": 1,
     "metadata": {},
     "output_type": "execute_result"
    }
   ],
   "source": [
    "import pandas as pd\n",
    "import numpy as np\n",
    "df = pd.read_csv(\"condo.csv\") \n",
    "df.head(10)"
   ]
  },
  {
   "cell_type": "markdown",
   "metadata": {},
   "source": [
    "## Task 1: Explore the relationship between the condo price and the condo type\n",
    "\n",
    "For a Singaporean who wants to invest in the real estate market, would you suggest him or her to buy resale condos or newly built condos? Please analyze the historical data in the file `condo.csv` to arrive at your conclusion. Specifically, you need to explore the relationship between the condo price and the type of the condo (resale versus new). <b>Note</b>: if you want to draw histograms to explore the distribution of the condo price, please set bins as `np.arange(0.5e6, 5e6, 0.1e6)`. "
   ]
  },
  {
   "cell_type": "code",
   "execution_count": 2,
   "metadata": {},
   "outputs": [
    {
     "data": {
      "text/plain": [
       "array(['Resale', 'New Sale'], dtype=object)"
      ]
     },
     "execution_count": 2,
     "metadata": {},
     "output_type": "execute_result"
    }
   ],
   "source": [
    "df[\"type\"].unique()"
   ]
  },
  {
   "cell_type": "code",
   "execution_count": 3,
   "metadata": {},
   "outputs": [],
   "source": [
    "resale_filt = (df[\"type\"] == \"Resale\")\n",
    "df_resale = df.loc[resale_filt].copy()"
   ]
  },
  {
   "cell_type": "code",
   "execution_count": 4,
   "metadata": {},
   "outputs": [],
   "source": [
    "new_filt = (df[\"type\"] == \"New Sale\")\n",
    "df_new = df.loc[new_filt].copy()"
   ]
  },
  {
   "cell_type": "code",
   "execution_count": 5,
   "metadata": {},
   "outputs": [],
   "source": [
    "from matplotlib import pyplot as plt\n",
    "import numpy as np\n",
    "plt.style.use(\"fivethirtyeight\")"
   ]
  },
  {
   "cell_type": "code",
   "execution_count": 6,
   "metadata": {},
   "outputs": [
    {
     "data": {
      "image/png": "[encoded data removed]",
      "text/plain": [
       "<Figure size 432x288 with 1 Axes>"
      ]
     },
     "metadata": {
      "needs_background": "light"
     },
     "output_type": "display_data"
    }
   ],
   "source": [
    "draw_list = [\"Resale\", \"New Sale\"]\n",
    "draw_data = [df_resale[\"price\"], df_new[\"price\"]]\n",
    "\n",
    "plt.boxplot(x=draw_data)\n",
    "plt.yscale(\"log\")\n",
    "plt.xticks([1,2], draw_list)\n",
    "\n",
    "plt.tight_layout()\n",
    "plt.show()"
   ]
  },
  {
   "cell_type": "code",
   "execution_count": 7,
   "metadata": {},
   "outputs": [
    {
     "data": {
      "image/png": "[encoded data removed]",
      "text/plain": [
       "<Figure size 432x288 with 1 Axes>"
      ]
     },
     "metadata": {
      "needs_background": "light"
     },
     "output_type": "display_data"
    }
   ],
   "source": [
    "setbins = np.arange(0.5e6, 5e6, 0.1e6)     \n",
    "plt.hist(df_resale[\"price\"], bins = setbins, edgecolor = \"black\", label = \"Resale\")\n",
    "plt.hist(df_new[\"price\"], bins = setbins, edgecolor = \"black\", label = \"New Sale\")\n",
    "\n",
    "plt.xlabel('Prices (S$)')\n",
    "plt.ylabel('Frequency')\n",
    "plt.legend()\n",
    "\n",
    "plt.tight_layout()\n",
    "plt.show()"
   ]
  },
  {
   "cell_type": "code",
   "execution_count": 8,
   "metadata": {},
   "outputs": [
    {
     "data": {
      "image/png": "[encoded data removed]",
      "text/plain": [
       "<Figure size 432x288 with 1 Axes>"
      ]
     },
     "metadata": {
      "needs_background": "light"
     },
     "output_type": "display_data"
    }
   ],
   "source": [
    "plt.bar(['Resale', 'New Sale'],                             # x-data \n",
    "        [df_resale['price'].mean(), \n",
    "         df_new['price'].mean()],                           # y-data \n",
    "         width=0.2)                                         # Width of bars\n",
    "\n",
    "plt.xlabel('Types of sales')\n",
    "plt.ylabel('Average prices (S$)')\n",
    "\n",
    "plt.tight_layout()\n",
    "plt.show()"
   ]
  },
  {
   "cell_type": "markdown",
   "metadata": {},
   "source": [
    "This is a counter-intuitive finding that resale condos are more expensive than the new condos on average. Can you think about a possible reason for this? "
   ]
  },
  {
   "cell_type": "code",
   "execution_count": null,
   "metadata": {},
   "outputs": [],
   "source": []
  },
  {
   "cell_type": "code",
   "execution_count": null,
   "metadata": {},
   "outputs": [],
   "source": []
  },
  {
   "cell_type": "markdown",
   "metadata": {},
   "source": [
    "## Task 2: Explore the relationship between the condo area and the condo type\n",
    "\n",
    "\n",
    "Now let’s focus on another attribute of a condo in the data set, the area of a condo. Please explore the distribution of the area of a condo by the condo type. Please draw a visualization to present your findings? If you want to draw histograms to explore the distribution of the area of a condo, please set the bins as `np.arange(0.5e3, 10e3, 0.1e3)`."
   ]
  },
  {
   "cell_type": "code",
   "execution_count": 9,
   "metadata": {},
   "outputs": [
    {
     "data": {
      "image/png": "[encoded data removed]",
      "text/plain": [
       "<Figure size 432x288 with 1 Axes>"
      ]
     },
     "metadata": {
      "needs_background": "light"
     },
     "output_type": "display_data"
    }
   ],
   "source": [
    "setbins = np.arange(0.5e3, 10e3, 0.1e3)     \n",
    "plt.hist(df_resale[\"area\"], bins = setbins, edgecolor = \"black\", label = \"Resale\")\n",
    "plt.hist(df_new[\"area\"], bins = setbins, edgecolor = \"black\", label = \"New Sale\")\n",
    "\n",
    "plt.xlabel('area')\n",
    "plt.legend(loc = 'best')\n",
    "plt.show()"
   ]
  },
  {
   "cell_type": "code",
   "execution_count": 10,
   "metadata": {},
   "outputs": [
    {
     "data": {
      "image/png": "[encoded data removed]",
      "text/plain": [
       "<Figure size 432x288 with 1 Axes>"
      ]
     },
     "metadata": {
      "needs_background": "light"
     },
     "output_type": "display_data"
    }
   ],
   "source": [
    "plt.barh(['Resale', 'New Sale'],\n",
    "         [df_resale['price'].mean(), df_new['price'].mean()], \n",
    "         height=0.2, color = \"b\")                            \n",
    "\n",
    "plt.ylabel('Types of sales')\n",
    "plt.xlabel('area')\n",
    "\n",
    "plt.tight_layout()\n",
    "plt.show()"
   ]
  },
  {
   "cell_type": "code",
   "execution_count": null,
   "metadata": {},
   "outputs": [],
   "source": []
  },
  {
   "cell_type": "markdown",
   "metadata": {},
   "source": [
    "## Task 3: Explore the relationship between the condo area and the condo price\n",
    "\n",
    "\n",
    "Moreover, please explore the relationship between the area of a condo and its price. You can draw a scatter plot to uncover the possible pattern between the two variables."
   ]
  },
  {
   "cell_type": "code",
   "execution_count": 11,
   "metadata": {},
   "outputs": [
    {
     "data": {
      "image/png": "[encoded data removed]",
      "text/plain": [
       "<Figure size 432x288 with 1 Axes>"
      ]
     },
     "metadata": {
      "needs_background": "light"
     },
     "output_type": "display_data"
    }
   ],
   "source": [
    "plt.scatter(df[\"area\"], df[\"price\"])\n",
    "\n",
    "plt.xlabel('area of a condo')\n",
    "plt.ylabel('price of a condo')\n",
    "\n",
    "#plt.yscale(\"log\")\n",
    "plt.tight_layout()\n",
    "plt.show()"
   ]
  },
  {
   "cell_type": "code",
   "execution_count": null,
   "metadata": {},
   "outputs": [],
   "source": []
  },
  {
   "cell_type": "code",
   "execution_count": null,
   "metadata": {},
   "outputs": [],
   "source": []
  },
  {
   "cell_type": "markdown",
   "metadata": {},
   "source": [
    "From Tasks 1-3, now you should know the relationship found between the condo price and the condo type is not trustworthy. There is a third variable that is related to both the condo price and the condo type. In the above analysis, this third variable is the area of the condo. We call this third variable as the <i>confounder</i> or <i>confounding variable</i>. "
   ]
  },
  {
   "cell_type": "markdown",
   "metadata": {},
   "source": [
    "## Task 4: Grouping\n",
    "\n",
    "Now let’s explore the ways of controlling for the confounding effect of the area of a condo in the analysis. A useful method is to do a stratified analysis. Since the confounder variable, the area of a condo, is continuous, to simplify the discussion, a discretization is carried out. Please form a new variable in the data set by grouping the condos into 3 different categories in terms of their areas. The three categories are defined as follows:\n",
    "1.\tSmall: the area of a condo less than 800 square feet\n",
    "2.\tMedian: the area of a condo between 800 and 1200 square feet \n",
    "3.\tLarge: the area of a condo larger than 1200 square feet"
   ]
  },
  {
   "cell_type": "code",
   "execution_count": 12,
   "metadata": {},
   "outputs": [
    {
     "data": {
      "text/plain": [
       "0        False\n",
       "1         True\n",
       "2        False\n",
       "3        False\n",
       "4        False\n",
       "5        False\n",
       "6        False\n",
       "7        False\n",
       "8        False\n",
       "9        False\n",
       "10       False\n",
       "11       False\n",
       "12       False\n",
       "13        True\n",
       "14       False\n",
       "15       False\n",
       "16       False\n",
       "17       False\n",
       "18       False\n",
       "19       False\n",
       "20       False\n",
       "21       False\n",
       "22       False\n",
       "23       False\n",
       "24       False\n",
       "25       False\n",
       "26       False\n",
       "27       False\n",
       "28       False\n",
       "29       False\n",
       "         ...  \n",
       "32138    False\n",
       "32139    False\n",
       "32140    False\n",
       "32141     True\n",
       "32142    False\n",
       "32143    False\n",
       "32144     True\n",
       "32145    False\n",
       "32146    False\n",
       "32147    False\n",
       "32148    False\n",
       "32149    False\n",
       "32150    False\n",
       "32151    False\n",
       "32152     True\n",
       "32153     True\n",
       "32154    False\n",
       "32155    False\n",
       "32156    False\n",
       "32157     True\n",
       "32158    False\n",
       "32159    False\n",
       "32160    False\n",
       "32161     True\n",
       "32162     True\n",
       "32163    False\n",
       "32164     True\n",
       "32165    False\n",
       "32166    False\n",
       "32167     True\n",
       "Name: area, Length: 32168, dtype: bool"
      ]
     },
     "execution_count": 12,
     "metadata": {},
     "output_type": "execute_result"
    }
   ],
   "source": [
    "area_small = df[\"area\"] < 800\n",
    "area_small"
   ]
  },
  {
   "cell_type": "code",
   "execution_count": 13,
   "metadata": {},
   "outputs": [
    {
     "data": {
      "text/plain": [
       "0        False\n",
       "1        False\n",
       "2        False\n",
       "3         True\n",
       "4        False\n",
       "5        False\n",
       "6         True\n",
       "7         True\n",
       "8         True\n",
       "9        False\n",
       "10        True\n",
       "11       False\n",
       "12       False\n",
       "13       False\n",
       "14        True\n",
       "15       False\n",
       "16        True\n",
       "17       False\n",
       "18       False\n",
       "19       False\n",
       "20        True\n",
       "21       False\n",
       "22       False\n",
       "23        True\n",
       "24       False\n",
       "25       False\n",
       "26       False\n",
       "27       False\n",
       "28       False\n",
       "29       False\n",
       "         ...  \n",
       "32138     True\n",
       "32139     True\n",
       "32140     True\n",
       "32141    False\n",
       "32142     True\n",
       "32143     True\n",
       "32144    False\n",
       "32145     True\n",
       "32146     True\n",
       "32147     True\n",
       "32148     True\n",
       "32149     True\n",
       "32150     True\n",
       "32151     True\n",
       "32152    False\n",
       "32153    False\n",
       "32154    False\n",
       "32155    False\n",
       "32156    False\n",
       "32157    False\n",
       "32158     True\n",
       "32159    False\n",
       "32160    False\n",
       "32161    False\n",
       "32162    False\n",
       "32163     True\n",
       "32164    False\n",
       "32165    False\n",
       "32166     True\n",
       "32167    False\n",
       "Name: area, Length: 32168, dtype: bool"
      ]
     },
     "execution_count": 13,
     "metadata": {},
     "output_type": "execute_result"
    }
   ],
   "source": [
    "area_median = (df[\"area\"] >= 800) & (df[\"area\"] <= 1200)\n",
    "area_median"
   ]
  },
  {
   "cell_type": "code",
   "execution_count": 14,
   "metadata": {},
   "outputs": [],
   "source": [
    "area_large = (df[\"area\"] > 1200)"
   ]
  },
  {
   "cell_type": "code",
   "execution_count": 15,
   "metadata": {},
   "outputs": [
    {
     "data": {
      "text/plain": [
       "array([3, 1, 2], dtype=int64)"
      ]
     },
     "execution_count": 15,
     "metadata": {},
     "output_type": "execute_result"
    }
   ],
   "source": [
    "df[\"area_gp\"] = 1 * area_small + 2 * area_median + 3 * area_large\n",
    "df[\"area_gp\"].unique()"
   ]
  },
  {
   "cell_type": "code",
   "execution_count": 16,
   "metadata": {},
   "outputs": [
    {
     "data": {
      "text/plain": [
       "3    0.393341\n",
       "2    0.347737\n",
       "1    0.258922\n",
       "Name: area_gp, dtype: float64"
      ]
     },
     "execution_count": 16,
     "metadata": {},
     "output_type": "execute_result"
    }
   ],
   "source": [
    "df[\"area_gp\"].value_counts(normalize=True)"
   ]
  },
  {
   "cell_type": "code",
   "execution_count": 17,
   "metadata": {},
   "outputs": [
    {
     "data": {
      "image/png": "[encoded data removed]",
      "text/plain": [
       "<Figure size 432x288 with 1 Axes>"
      ]
     },
     "metadata": {
      "needs_background": "light"
     },
     "output_type": "display_data"
    }
   ],
   "source": [
    "prop_area = df[\"area_gp\"].value_counts(normalize=True)\n",
    "plt.barh([1,2,3],prop_area.loc[[1,2,3]], height = 0.2)\n",
    "\n",
    "plt.yticks([1,2,3], ['Small','Median','Large'])\n",
    "plt.xlabel('proportions')\n",
    "plt.ylabel('size of a condo')\n",
    "\n",
    "plt.tight_layout()\n",
    "plt.show()"
   ]
  },
  {
   "cell_type": "code",
   "execution_count": 18,
   "metadata": {},
   "outputs": [
    {
     "data": {
      "text/html": [
       "<div>\n",
       "<style scoped>\n",
       "    .dataframe tbody tr th:only-of-type {\n",
       "        vertical-align: middle;\n",
       "    }\n",
       "\n",
       "    .dataframe tbody tr th {\n",
       "        vertical-align: top;\n",
       "    }\n",
       "\n",
       "    .dataframe thead th {\n",
       "        text-align: right;\n",
       "    }\n",
       "</style>\n",
       "<table border=\"1\" class=\"dataframe\">\n",
       "  <thead>\n",
       "    <tr style=\"text-align: right;\">\n",
       "      <th></th>\n",
       "      <th>name</th>\n",
       "      <th>price</th>\n",
       "      <th>unit_price</th>\n",
       "      <th>district_code</th>\n",
       "      <th>segment</th>\n",
       "      <th>type</th>\n",
       "      <th>area</th>\n",
       "      <th>level</th>\n",
       "      <th>remaining_years</th>\n",
       "      <th>date</th>\n",
       "      <th>area_gp</th>\n",
       "      <th>area_gpstr</th>\n",
       "    </tr>\n",
       "  </thead>\n",
       "  <tbody>\n",
       "    <tr>\n",
       "      <th>0</th>\n",
       "      <td>SEASCAPE</td>\n",
       "      <td>4388000</td>\n",
       "      <td>2028</td>\n",
       "      <td>4</td>\n",
       "      <td>CCR</td>\n",
       "      <td>Resale</td>\n",
       "      <td>2164</td>\n",
       "      <td>06 to 10</td>\n",
       "      <td>87.0</td>\n",
       "      <td>Nov-19</td>\n",
       "      <td>3</td>\n",
       "      <td>Large</td>\n",
       "    </tr>\n",
       "    <tr>\n",
       "      <th>1</th>\n",
       "      <td>COMMONWEALTH TOWERS</td>\n",
       "      <td>1300000</td>\n",
       "      <td>1887</td>\n",
       "      <td>3</td>\n",
       "      <td>RCR</td>\n",
       "      <td>Resale</td>\n",
       "      <td>689</td>\n",
       "      <td>16 to 20</td>\n",
       "      <td>93.0</td>\n",
       "      <td>Nov-19</td>\n",
       "      <td>1</td>\n",
       "      <td>Small</td>\n",
       "    </tr>\n",
       "    <tr>\n",
       "      <th>2</th>\n",
       "      <td>THE TRILINQ</td>\n",
       "      <td>1755000</td>\n",
       "      <td>1304</td>\n",
       "      <td>5</td>\n",
       "      <td>OCR</td>\n",
       "      <td>Resale</td>\n",
       "      <td>1346</td>\n",
       "      <td>06 to 10</td>\n",
       "      <td>92.0</td>\n",
       "      <td>Nov-19</td>\n",
       "      <td>3</td>\n",
       "      <td>Large</td>\n",
       "    </tr>\n",
       "    <tr>\n",
       "      <th>3</th>\n",
       "      <td>THE CREST</td>\n",
       "      <td>2085000</td>\n",
       "      <td>2201</td>\n",
       "      <td>3</td>\n",
       "      <td>RCR</td>\n",
       "      <td>Resale</td>\n",
       "      <td>947</td>\n",
       "      <td>01 to 05</td>\n",
       "      <td>92.0</td>\n",
       "      <td>Nov-19</td>\n",
       "      <td>2</td>\n",
       "      <td>Median</td>\n",
       "    </tr>\n",
       "    <tr>\n",
       "      <th>4</th>\n",
       "      <td>THE ANCHORAGE</td>\n",
       "      <td>1848888</td>\n",
       "      <td>1468</td>\n",
       "      <td>3</td>\n",
       "      <td>RCR</td>\n",
       "      <td>Resale</td>\n",
       "      <td>1259</td>\n",
       "      <td>01 to 05</td>\n",
       "      <td>999.0</td>\n",
       "      <td>Nov-19</td>\n",
       "      <td>3</td>\n",
       "      <td>Large</td>\n",
       "    </tr>\n",
       "    <tr>\n",
       "      <th>5</th>\n",
       "      <td>MOUNT FABER LODGE</td>\n",
       "      <td>4400000</td>\n",
       "      <td>1188</td>\n",
       "      <td>4</td>\n",
       "      <td>RCR</td>\n",
       "      <td>Resale</td>\n",
       "      <td>3703</td>\n",
       "      <td>06 to 10</td>\n",
       "      <td>999.0</td>\n",
       "      <td>Oct-19</td>\n",
       "      <td>3</td>\n",
       "      <td>Large</td>\n",
       "    </tr>\n",
       "    <tr>\n",
       "      <th>6</th>\n",
       "      <td>BLUE HORIZON</td>\n",
       "      <td>990000</td>\n",
       "      <td>1022</td>\n",
       "      <td>5</td>\n",
       "      <td>OCR</td>\n",
       "      <td>Resale</td>\n",
       "      <td>969</td>\n",
       "      <td>21 to 25</td>\n",
       "      <td>80.0</td>\n",
       "      <td>Oct-19</td>\n",
       "      <td>2</td>\n",
       "      <td>Median</td>\n",
       "    </tr>\n",
       "    <tr>\n",
       "      <th>7</th>\n",
       "      <td>DOVER PARKVIEW</td>\n",
       "      <td>1088000</td>\n",
       "      <td>1162</td>\n",
       "      <td>5</td>\n",
       "      <td>RCR</td>\n",
       "      <td>Resale</td>\n",
       "      <td>936</td>\n",
       "      <td>06 to 10</td>\n",
       "      <td>73.0</td>\n",
       "      <td>Oct-19</td>\n",
       "      <td>2</td>\n",
       "      <td>Median</td>\n",
       "    </tr>\n",
       "    <tr>\n",
       "      <th>8</th>\n",
       "      <td>CARIBBEAN AT KEPPEL BAY</td>\n",
       "      <td>1470000</td>\n",
       "      <td>1751</td>\n",
       "      <td>4</td>\n",
       "      <td>RCR</td>\n",
       "      <td>Resale</td>\n",
       "      <td>840</td>\n",
       "      <td>06 to 10</td>\n",
       "      <td>79.0</td>\n",
       "      <td>Oct-19</td>\n",
       "      <td>2</td>\n",
       "      <td>Median</td>\n",
       "    </tr>\n",
       "    <tr>\n",
       "      <th>9</th>\n",
       "      <td>THE INTERLACE</td>\n",
       "      <td>4550000</td>\n",
       "      <td>868</td>\n",
       "      <td>4</td>\n",
       "      <td>RCR</td>\n",
       "      <td>Resale</td>\n",
       "      <td>5242</td>\n",
       "      <td>16 to 20</td>\n",
       "      <td>89.0</td>\n",
       "      <td>Oct-19</td>\n",
       "      <td>3</td>\n",
       "      <td>Large</td>\n",
       "    </tr>\n",
       "  </tbody>\n",
       "</table>\n",
       "</div>"
      ],
      "text/plain": [
       "                      name    price  unit_price  district_code segment  \\\n",
       "0                 SEASCAPE  4388000        2028              4     CCR   \n",
       "1      COMMONWEALTH TOWERS  1300000        1887              3     RCR   \n",
       "2              THE TRILINQ  1755000        1304              5     OCR   \n",
       "3                THE CREST  2085000        2201              3     RCR   \n",
       "4            THE ANCHORAGE  1848888        1468              3     RCR   \n",
       "5        MOUNT FABER LODGE  4400000        1188              4     RCR   \n",
       "6             BLUE HORIZON   990000        1022              5     OCR   \n",
       "7           DOVER PARKVIEW  1088000        1162              5     RCR   \n",
       "8  CARIBBEAN AT KEPPEL BAY  1470000        1751              4     RCR   \n",
       "9            THE INTERLACE  4550000         868              4     RCR   \n",
       "\n",
       "     type  area     level  remaining_years    date  area_gp area_gpstr  \n",
       "0  Resale  2164  06 to 10             87.0  Nov-19        3      Large  \n",
       "1  Resale   689  16 to 20             93.0  Nov-19        1      Small  \n",
       "2  Resale  1346  06 to 10             92.0  Nov-19        3      Large  \n",
       "3  Resale   947  01 to 05             92.0  Nov-19        2     Median  \n",
       "4  Resale  1259  01 to 05            999.0  Nov-19        3      Large  \n",
       "5  Resale  3703  06 to 10            999.0  Oct-19        3      Large  \n",
       "6  Resale   969  21 to 25             80.0  Oct-19        2     Median  \n",
       "7  Resale   936  06 to 10             73.0  Oct-19        2     Median  \n",
       "8  Resale   840  06 to 10             79.0  Oct-19        2     Median  \n",
       "9  Resale  5242  16 to 20             89.0  Oct-19        3      Large  "
      ]
     },
     "execution_count": 18,
     "metadata": {},
     "output_type": "execute_result"
    }
   ],
   "source": [
    "df[\"area_gpstr\"] = df[\"area_gp\"].map({1:'Small',2:'Median',3:'Large'})\n",
    "df.head(10)"
   ]
  },
  {
   "cell_type": "markdown",
   "metadata": {},
   "source": [
    "## Task 5: The relationship between the condo price and the condo type, controlling for the condo area \n",
    "\n",
    "\n",
    "With the new categorical variable and the condo type, 6 possible combinations of the two variables can be generated to represent a condo’s profile. For example, we can define a condo's profile as small and resale. Now please explore the relationship between the condo price and condo type by 3 different categories of the condo area. What is your conclusion? "
   ]
  },
  {
   "cell_type": "code",
   "execution_count": 24,
   "metadata": {
    "scrolled": true
   },
   "outputs": [
    {
     "data": {
      "image/png": "[encoded data removed]",
      "text/plain": [
       "<Figure size 432x288 with 3 Axes>"
      ]
     },
     "metadata": {},
     "output_type": "display_data"
    }
   ],
   "source": [
    "size_set = [\"Small\", \"Median\", \"Large\"]\n",
    "type_set = [\"Resale\", 'New Sale']\n",
    "\n",
    "filt_SR = (df['area_gpstr'] == size_set[0]) & (df['type'] == type_set[0])\n",
    "filt_MR = (df['area_gpstr'] == size_set[1]) & (df['type'] == type_set[0])\n",
    "filt_LR = (df['area_gpstr'] == size_set[2]) & (df['type'] == type_set[0])\n",
    "\n",
    "filt_SN = (df['area_gpstr'] == size_set[0]) & (df['type'] == type_set[1])\n",
    "filt_MN = (df['area_gpstr'] == size_set[1]) & (df['type'] == type_set[1])\n",
    "filt_LN = (df['area_gpstr'] == size_set[2]) & (df['type'] == type_set[1])\n",
    "\n",
    "plt.style.use('ggplot')\n",
    "f, (ax1,ax2,ax3) = plt.subplots(1, 3, sharey = True)\n",
    "data_small = [df.loc[filt_SR,\"price\"],df.loc[filt_SN,\"price\"]]\n",
    "ax1.boxplot(x = data_small, showfliers=False)\n",
    "ax1.set_xticks([1,2])\n",
    "ax1.set_xticklabels(type_set)\n",
    "ax1.set_yscale('log')\n",
    "ax1.set_ylabel('Condo Price')\n",
    "\n",
    "\n",
    "data_median = [df.loc[filt_MR,\"price\"],df.loc[filt_MN,\"price\"]]\n",
    "ax2.boxplot(x = data_median, showfliers=False)\n",
    "ax2.set_xticks([1,2])\n",
    "ax2.set_xticklabels(type_set)\n",
    "ax2.set_yscale('log')\n",
    "\n",
    "\n",
    "data_large = [df.loc[filt_LR,\"price\"],df.loc[filt_LN,\"price\"]]\n",
    "ax3.boxplot(x = data_large, showfliers=False)\n",
    "ax3.set_xticks([1,2])\n",
    "ax3.set_xticklabels(type_set)\n",
    "ax3.set_yscale('log')\n",
    "\n",
    "plt.show()\n"
   ]
  },
  {
   "cell_type": "code",
   "execution_count": null,
   "metadata": {},
   "outputs": [],
   "source": []
  },
  {
   "cell_type": "code",
   "execution_count": null,
   "metadata": {},
   "outputs": [],
   "source": []
  }
 ],
 "metadata": {
  "kernelspec": {
   "display_name": "Python 3",
   "language": "python",
   "name": "python3"
  },
  "language_info": {
   "codemirror_mode": {
    "name": "ipython",
    "version": 3
   },
   "file_extension": ".py",
   "mimetype": "text/x-python",
   "name": "python",
   "nbconvert_exporter": "python",
   "pygments_lexer": "ipython3",
   "version": "3.8.3"
  }
 },
 "nbformat": 4,
 "nbformat_minor": 4
}
