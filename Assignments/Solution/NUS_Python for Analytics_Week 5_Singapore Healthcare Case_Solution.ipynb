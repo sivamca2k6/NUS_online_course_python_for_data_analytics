{
 "cells": [
  {
   "cell_type": "markdown",
   "metadata": {},
   "source": [
    "# Case Study - Patient Arrivals in Singapore’s Major Public Hospitals\n",
    "\n",
    "## Learning Objectives:\n",
    "1. Explain the basic attributes of DataFrame/Series\n",
    "2. Manipulate data through indexers\n",
    "3. Filter data through Boolean indexing  "
   ]
  },
  {
   "cell_type": "markdown",
   "metadata": {},
   "source": [
    "<i><b>Background</b></i>: Understanding demand is always a key issue in business operations. In healthcare management, patient arrivals are the key to affecting the efficiency of the hospital/clinic operations. Without a sufficient number of healthcare professionals to serve patients, the consequence is a long waiting time for patients; thus their lives may be jeopardized. Increasing the number of healthcare professionals, without a doubt, can build a very efficient healthcare system with a shorter waiting time, thereby gaining the great satisfaction of patients. However, the corresponding labor cost will become a big burden of the operations. From a managerial point of view, it is importance to balance the operation cost and patients’ satisfaction. To achieve this, the first task is being able to know the pattern of patient arrivals as accurate as possible. \n",
    "<n>\n",
    "\n",
    "The `EDdata.csv` contains Singaporeans’ arrivals at some major public hospitals’ emergency departments (EDs) in Oct 2011 and April 2012. Those hospitals are Tan Tock Seng Hospital, \n",
    "Singapore General Hospital, National University Hospital, Changi General Hospital, Alexandra Hospital, Khoo Teck Puat Hospital, and KK Women's and Children's Hospital. The data were retrieved from each hospital’s data warehouse system and were a random sample from all the patients who arrived at those hospitals’ EDs during a study period. Please import `EDdata.csv` first and check the data.\n"
   ]
  },
  {
   "cell_type": "code",
   "execution_count": null,
   "metadata": {},
   "outputs": [],
   "source": [
    "import pandas as pd\n",
    "\n",
    "df = pd.read_csv(\"EDdata.csv\")  \n",
    "df.head(10)"
   ]
  },
  {
   "cell_type": "code",
   "execution_count": null,
   "metadata": {},
   "outputs": [],
   "source": [
    "# You can assign a column in dataset as the row index labels.\n",
    "df = pd.read_csv(\"EDdata.csv\", index_col = \"Case\")  \n",
    "df.head(10)"
   ]
  },
  {
   "cell_type": "code",
   "execution_count": null,
   "metadata": {},
   "outputs": [],
   "source": [
    "# Identify first row\n",
    "df.loc[92408]"
   ]
  },
  {
   "cell_type": "code",
   "execution_count": null,
   "metadata": {},
   "outputs": [],
   "source": [
    "df.shape"
   ]
  },
  {
   "cell_type": "code",
   "execution_count": null,
   "metadata": {},
   "outputs": [],
   "source": [
    "df.dtypes"
   ]
  },
  {
   "cell_type": "code",
   "execution_count": null,
   "metadata": {},
   "outputs": [],
   "source": [
    "df.reset_index(inplace = True)"
   ]
  },
  {
   "cell_type": "code",
   "execution_count": null,
   "metadata": {},
   "outputs": [],
   "source": [
    "df.iloc[0] # You can use the traditional row index to do indexing"
   ]
  },
  {
   "cell_type": "markdown",
   "metadata": {},
   "source": [
    "## Task 1-1\n",
    "<i><b>Do male Singaporeans have preferences over different hospitals to attend in case of an emergency? </b></i>\n",
    "\n",
    "Please remember to delete the patient visits to KKH in the data set. KKH is a Women's and Children's hospital. If an emergency happens, the male patient will not be sent to KKH basically."
   ]
  },
  {
   "cell_type": "markdown",
   "metadata": {},
   "source": [
    "- Male Singaporeans"
   ]
  },
  {
   "cell_type": "code",
   "execution_count": null,
   "metadata": {},
   "outputs": [],
   "source": [
    "# filter out females and patients visiting KKH.\n",
    "fil_1 = (df[\"Gender\"] == \"M\") & (df[\"Hospital_Name\"] != \"KKH\")\n",
    "df_male = df.loc[fil_1].copy()   # subset data to meet the filtering condition\n",
    "\n",
    "# find out the unique hospitals in the Hospital_Name column\n",
    "hosp_name = df_male[\"Hospital_Name\"].unique()   \n",
    "\n",
    "out_table = {}  # Create an empty dictionary \n",
    "for hos in hosp_name:\n",
    "    out_table.update({str(hos): list()})\n",
    "\n",
    "print(out_table)"
   ]
  },
  {
   "cell_type": "code",
   "execution_count": null,
   "metadata": {},
   "outputs": [],
   "source": [
    "for hos in hosp_name:\n",
    "    filter_hos = (df_male[\"Hospital_Name\"] == hos)\n",
    "    out_table[hos] = filter_hos.sum()\n",
    "\n",
    "result = pd.Series(out_table)\n",
    "result/result.sum()"
   ]
  },
  {
   "cell_type": "markdown",
   "metadata": {},
   "source": [
    "- Female Singaporeans"
   ]
  },
  {
   "cell_type": "code",
   "execution_count": null,
   "metadata": {},
   "outputs": [],
   "source": [
    "fil_2 = (df[\"Gender\"] == \"F\") & (df[\"Hospital_Name\"] != \"KKH\") \n",
    "df_female = df.loc[fil_2,:].copy()   # subset data to meet the filtering condition\n",
    "\n",
    "out_table2 = {}                                  # Create an empty dictionary \n",
    "for hos in hosp_name:\n",
    "    out_table2.update({str(hos): list()})\n",
    "    \n",
    "for hos in hosp_name:\n",
    "    filter_hos = (df_female[\"Hospital_Name\"] == hos)\n",
    "    df_temp = df_female.loc[filter_hos,:]\n",
    "    out_table2[hos] = filter_hos.sum()\n",
    "    \n",
    "result2 = pd.Series(out_table2)\n",
    "result2/result2.sum()"
   ]
  },
  {
   "cell_type": "markdown",
   "metadata": {},
   "source": [
    "## Task 1-2\n",
    "<n>\n",
    "\n",
    "<i><b>Are the patients’ waiting time distributions similar across different public hospitals? </b></i>\n",
    "- To find the waiting time, there are two possible scenarios as follows:\n",
    "    1. (Case 1) triage time is larger than registration time (normal cases)\n",
    "    2. (Case 2) the triage will be conducted after midnight. However, the \"sec\" columns are always computed using `00:00:00` as the origin"
   ]
  },
  {
   "cell_type": "code",
   "execution_count": null,
   "metadata": {},
   "outputs": [],
   "source": [
    "df[\"Wait_time\"] = 0\n",
    "n_pat = len(df)\n",
    "df_reg = df[\"reg_sec\"]\n",
    "df_tri = df[\"triage_sec\"]\n",
    "df_wait = df[\"Wait_time\"]\n",
    "\n",
    "df_wait = (24*60*60) - df_reg + df_tri    # handle Case 2 first\n",
    "\n",
    "filt_1 = df[\"triage_sec\"] > df[\"reg_sec\"] # handle Case 1\n",
    "df_wait[filt_1] = df_tri[filt_1] - df_reg[filt_1]\n",
    "\n",
    "df[\"Wait_time\"] = df_wait        \n",
    "df[\"Wait_min\"] = df_wait/60.0\n",
    "\n",
    "df.head()"
   ]
  },
  {
   "cell_type": "code",
   "execution_count": null,
   "metadata": {},
   "outputs": [],
   "source": [
    "import numpy as np\n",
    "out_dic = {}                               # Create a dictionary to store the computation results\n",
    "hosp_name = df[\"Hospital_Name\"].unique()   # Find out the unique hospitals in the data set\n",
    "for hos in hosp_name:\n",
    "    out_dic.update({str(hos): np.zeros(5)}) # We just want to find out 5 summary statistics. Thus, create a 5-element array\n",
    "\n",
    "print(out_dic)"
   ]
  },
  {
   "cell_type": "code",
   "execution_count": null,
   "metadata": {},
   "outputs": [],
   "source": [
    "for hos in hosp_name:\n",
    "    hos_filter = (df[\"Hospital_Name\"] == hos)  # Create a hospital-specific filter\n",
    "    df_hos = df.loc[hos_filter, \"Wait_min\"]    # Subset the data to include the target hospital only\n",
    "    out_dic[hos][0] = df_hos.mean()\n",
    "    out_dic[hos][1] = df_hos.median()\n",
    "    out_dic[hos][2:] = df_hos.quantile([.25, .75, .99]) # 25th, 75th and 99th percentiles\n",
    "    \n",
    "resultQ2 = pd.DataFrame(out_dic, index = [\"mean\", \"median\", \"Q1\", \"Q3\", \"99%\"])\n",
    "resultQ2"
   ]
  },
  {
   "cell_type": "markdown",
   "metadata": {},
   "source": [
    "<i><b>Do you notice any anomaly in the table generated? </b></i>\n",
    "\n",
    "- Please filter the records with waiting time larger than 300 minutes."
   ]
  },
  {
   "cell_type": "code",
   "execution_count": null,
   "metadata": {},
   "outputs": [],
   "source": [
    "filter_check = df[\"Wait_min\"] > 300\n",
    "df_check = df.loc[filter_check, [\"REGIS_TIME\", \"Triage Time\", \"reg_sec\", \"triage_sec\", \"Wait_time\"]]\n",
    "df_check.head()"
   ]
  },
  {
   "cell_type": "markdown",
   "metadata": {},
   "source": [
    "In practice, it is common to have anomalous data. Moreover, anomalous data values are due mainly to two possible reasons:\n",
    "1. The way/logic you use to compute values is incorrect. (Logical error!)\n",
    "2. The data records are not correct. (Data entry error!)"
   ]
  },
  {
   "cell_type": "markdown",
   "metadata": {},
   "source": [
    "## Task 1-3\n",
    "<n>\n",
    "\n",
    "To make a staffing plan, which decides the number of nurses and doctors to serve patients, a deep understanding of patient arrivals is crucial. The staffing plan in practice will be made on an hourly basis (24 intervals) every day. Thus, please create a new column, `REGIS_HOUR`, in df. Moreover, the patients’ arrival pattern may vary by the day of a month. Please also create a new column, `REGIS_DAY`, in df."
   ]
  },
  {
   "cell_type": "code",
   "execution_count": null,
   "metadata": {},
   "outputs": [],
   "source": [
    "np.zeros(3, dtype = int)"
   ]
  },
  {
   "cell_type": "code",
   "execution_count": null,
   "metadata": {},
   "outputs": [],
   "source": [
    "date = np.zeros(df.shape[0], dtype = int) # df.shape can get the number of rows and the number of columns\n",
    "time = np.zeros(df.shape[0], dtype = int)\n",
    "year = np.zeros(df.shape[0], dtype = int)\n",
    "\n",
    "for i in range(df.shape[0]):\n",
    "    dd, *_, yy = df.loc[i, 'REGIS_DATE'].split(\"/\")\n",
    "    hh, *_ = df.loc[i, 'REGIS_TIME'].split(\":\")\n",
    "    date[i] = dd\n",
    "    time[i] = hh\n",
    "    year[i] = yy\n",
    "    \n",
    "df[\"REGIS_DAY\"] = date\n",
    "df[\"REGIS_HOUR\"] = time\n",
    "df[\"REGIS_YEAR\"] = year\n",
    "df.head(10)"
   ]
  },
  {
   "cell_type": "markdown",
   "metadata": {},
   "source": [
    "## Task 1-4\n",
    "<n>\n",
    "\n",
    "Find out the average number of patient arrivals in each hour of a day. To answer this question, we assume the arrival pattern is similar across different days and only utilise the data in 2011."
   ]
  },
  {
   "cell_type": "code",
   "execution_count": null,
   "metadata": {},
   "outputs": [],
   "source": [
    "filt_year = (df['REGIS_YEAR'] == 2011)\n",
    "df_2011 = df.loc[filt_year].copy()\n",
    "df_2011.head(10)"
   ]
  },
  {
   "cell_type": "code",
   "execution_count": null,
   "metadata": {},
   "outputs": [],
   "source": [
    "df_2011.info() # show the numbers of rows and columns and all columns' data types at the same time  "
   ]
  },
  {
   "cell_type": "code",
   "execution_count": null,
   "metadata": {},
   "outputs": [],
   "source": [
    "filt = (df_2011.REGIS_DAY == 2) & (df_2011.REGIS_HOUR == 1)\n",
    "filt.sum()"
   ]
  },
  {
   "cell_type": "code",
   "execution_count": null,
   "metadata": {},
   "outputs": [],
   "source": [
    "table_31by24 = np.zeros((31,24), dtype = float)\n",
    "\n",
    "for i in range(31):\n",
    "    for j in range(24):\n",
    "        filt = (df_2011.REGIS_DAY == (i+1)) & (df_2011.REGIS_HOUR == j)\n",
    "        table_31by24[i,j] = filt.sum()\n",
    "\n",
    "#pd.set_option(\"display.max_columns\", 24)      \n",
    "pd.DataFrame(table_31by24)"
   ]
  },
  {
   "cell_type": "code",
   "execution_count": null,
   "metadata": {},
   "outputs": [],
   "source": [
    "df_table_31by24 = pd.DataFrame(table_31by24)\n",
    "table_24 = df_table_31by24.mean()\n",
    "\n",
    "print(table_24)"
   ]
  },
  {
   "cell_type": "markdown",
   "metadata": {},
   "source": [
    "## Task 1-5\n",
    "<n>\n",
    "\n",
    "The assumption that the arrival pattern is similar across different days is too strong to be true. Let's discuss the weekday effect (including Saturday and Sunday) on the arrival pattern of patients. Please create a `WEEKDAY` column in df. For example, if a patient's arrival occurred on 01/10/2011, the corresponding value in `WEEKDAY` column is Saturday."
   ]
  },
  {
   "cell_type": "code",
   "execution_count": null,
   "metadata": {},
   "outputs": [],
   "source": [
    "df_2011.head(5)"
   ]
  },
  {
   "cell_type": "code",
   "execution_count": null,
   "metadata": {},
   "outputs": [],
   "source": [
    "weekday_check = (df_2011[\"REGIS_DAY\"] + 5) % 7\n",
    "weekday_check"
   ]
  },
  {
   "cell_type": "code",
   "execution_count": null,
   "metadata": {},
   "outputs": [],
   "source": [
    "df_2011['weekday_check'] = weekday_check\n",
    "df_2011.head(5)"
   ]
  },
  {
   "cell_type": "code",
   "execution_count": null,
   "metadata": {},
   "outputs": [],
   "source": [
    "weekday={0: 'Sunday',\n",
    "         1: 'Monday',\n",
    "         2: 'Tuesday',\n",
    "         3: 'Wednesday',\n",
    "         4: 'Thursday',\n",
    "         5: 'Friday',\n",
    "         6: 'Saturday'}\n",
    "\n",
    "df_2011['WEEKDAY']=df_2011.weekday_check.map(weekday)\n",
    "df_2011.tail(20)"
   ]
  },
  {
   "cell_type": "markdown",
   "metadata": {},
   "source": [
    "## Task 1-6\n",
    "<n>\n",
    "    \n",
    "With the `WEEKDAY` column, please find out the average number of patient arrivals in each hour by weekday categories. Your answer should be a 7-by-24 table. "
   ]
  },
  {
   "cell_type": "code",
   "execution_count": null,
   "metadata": {},
   "outputs": [],
   "source": [
    "day_list = ['Monday', 'Tuesday', 'Wednesday', 'Thursday', 'Friday', 'Saturday', 'Sunday']\n",
    "table_7by24 = np.zeros((7,24), dtype = float)\n",
    "\n",
    "for i in range(7):\n",
    "    for j in range(24):\n",
    "        filt = (df_2011.WEEKDAY == day_list[i]) & (df_2011.REGIS_HOUR == j)\n",
    "        table_7by24[i,j] = filt.sum()"
   ]
  },
  {
   "cell_type": "code",
   "execution_count": null,
   "metadata": {},
   "outputs": [],
   "source": [
    "table_7by24 = pd.DataFrame(table_7by24)\n",
    "table_7by24"
   ]
  },
  {
   "cell_type": "code",
   "execution_count": null,
   "metadata": {},
   "outputs": [],
   "source": [
    "table_7by24.iloc[0,:] = table_7by24.iloc[0,:]/5  # 5 Sundays in October 2011  \n",
    "table_7by24.iloc[1,:] = table_7by24.iloc[1,:]/5  # 5 Mondays in October 2011\n",
    "table_7by24.iloc[2,:] = table_7by24.iloc[2,:]/4 \n",
    "table_7by24.iloc[3,:] = table_7by24.iloc[3,:]/4\n",
    "table_7by24.iloc[4,:] = table_7by24.iloc[4,:]/4\n",
    "table_7by24.iloc[5,:] = table_7by24.iloc[5,:]/4\n",
    "table_7by24.iloc[6,:] = table_7by24.iloc[6,:]/5"
   ]
  },
  {
   "cell_type": "code",
   "execution_count": null,
   "metadata": {},
   "outputs": [],
   "source": [
    "table_7by24"
   ]
  },
  {
   "cell_type": "code",
   "execution_count": null,
   "metadata": {},
   "outputs": [],
   "source": []
  },
  {
   "cell_type": "code",
   "execution_count": null,
   "metadata": {},
   "outputs": [],
   "source": []
  }
 ],
 "metadata": {
  "kernelspec": {
   "display_name": "Python 3",
   "language": "python",
   "name": "python3"
  },
  "language_info": {
   "codemirror_mode": {
    "name": "ipython",
    "version": 3
   },
   "file_extension": ".py",
   "mimetype": "text/x-python",
   "name": "python",
   "nbconvert_exporter": "python",
   "pygments_lexer": "ipython3",
   "version": "3.7.6"
  }
 },
 "nbformat": 4,
 "nbformat_minor": 2
}
