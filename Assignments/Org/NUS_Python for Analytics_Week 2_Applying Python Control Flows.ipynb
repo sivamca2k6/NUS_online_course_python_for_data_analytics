{
 "cells": [
  {
   "cell_type": "markdown",
   "metadata": {},
   "source": [
    "# Week 2 - Required Assignment\n",
    "<n>\n",
    "\n",
    "Learning Objectives:\n",
    "1. Loops and iterations\n",
    "2. Conditional statements\n",
    "3. Control of Python strings"
   ]
  },
  {
   "cell_type": "markdown",
   "metadata": {},
   "source": [
    "# Question 1: Cheer Leader Chant (Extended)\n",
    "<n>\n",
    "    \n",
    "You may find that the \"Cheerleader\" program we discussed in the live session is not yet perfect. One of the most significant flaws is that it gives wrong articles for some of the letters. For example, the correct sentence should be \"Give me an I\", but the program would print \"Give me a I\". We, therefore, want to correct this mistake in the updated version of the \"Cheerleader\" program. Another change is to use upper case when each letter is shouted out. Write a program to incorporate these two changes in the \"Cheerleader\" program. A sample output is given below."
   ]
  },
  {
   "cell_type": "raw",
   "metadata": {},
   "source": [
    "What is your name? Stephen Curry\n",
    "Give me an S: \n",
    "S!!!\n",
    "Give me a T: \n",
    "T!!!\n",
    "Give me an E: \n",
    "E!!!\n",
    "Give me a P: \n",
    "P!!!\n",
    "Give me an H: \n",
    "H!!!\n",
    "Give me an E: \n",
    "E!!!\n",
    "Give me an N: \n",
    "N!!!\n",
    "Give me a C: \n",
    "C!!!\n",
    "Give me a U: \n",
    "U!!!\n",
    "Give me an R: \n",
    "R!!!\n",
    "Give me an R: \n",
    "R!!!\n",
    "Give me a Y: \n",
    "Y!!!\n",
    "What's that spell?\n",
    "Stephen Curry!!\n",
    "Go! Go! Stephen Curry!!"
   ]
  },
  {
   "cell_type": "markdown",
   "metadata": {},
   "source": [
    "**Solution:**\n"
   ]
  },
  {
   "cell_type": "code",
   "execution_count": null,
   "metadata": {},
   "outputs": [],
   "source": []
  },
  {
   "cell_type": "code",
   "execution_count": null,
   "metadata": {},
   "outputs": [],
   "source": []
  },
  {
   "cell_type": "code",
   "execution_count": null,
   "metadata": {},
   "outputs": [],
   "source": []
  },
  {
   "cell_type": "markdown",
   "metadata": {},
   "source": [
    "## Question 2\n",
    "\n",
    "Write a program that asks the user to enter an integer. The program tells whether the given integer is a palindrome. An integer is a palindrome when it reads the same backward as forward. Several examples are given as follows."
   ]
  },
  {
   "cell_type": "markdown",
   "metadata": {},
   "source": [
    "Enter an integer: 1211\n",
    "1211 is not a palindrome.\n",
    "\n",
    "Enter an integer: -121\n",
    "-121 is a palindrome.\n",
    "\n",
    "Enter an integer: 5\n",
    "5 is a palindrome."
   ]
  },
  {
   "cell_type": "markdown",
   "metadata": {},
   "source": [
    "**Solution:**"
   ]
  },
  {
   "cell_type": "code",
   "execution_count": null,
   "metadata": {},
   "outputs": [],
   "source": []
  },
  {
   "cell_type": "code",
   "execution_count": null,
   "metadata": {},
   "outputs": [],
   "source": []
  },
  {
   "cell_type": "markdown",
   "metadata": {},
   "source": [
    "## Question 3\n",
    "Given a sentence entered by the user, write a program to identify the number of S's (both upper case and lower case) in the sentence. An example is given as follows."
   ]
  },
  {
   "cell_type": "markdown",
   "metadata": {},
   "source": [
    "Enter a sentence: Why so serious, son?\n",
    "The number of S's is 4"
   ]
  },
  {
   "cell_type": "markdown",
   "metadata": {},
   "source": [
    "**Solution:**"
   ]
  },
  {
   "cell_type": "code",
   "execution_count": null,
   "metadata": {},
   "outputs": [],
   "source": []
  },
  {
   "cell_type": "code",
   "execution_count": null,
   "metadata": {},
   "outputs": [],
   "source": []
  },
  {
   "cell_type": "markdown",
   "metadata": {},
   "source": [
    "## Question 4\n",
    "\n",
    "Write a number guessing game. In this game, a target integer between 1 and 99 is given. The user can enter an integer as a guess. If the guess is the same as the given target number, then print \"Bingo!\" and stop the program; otherwise, print \"Your guess is too small\" or \"Your guess is too large\" as the hint for the next guess and continue the guessing game. \n",
    "\n",
    "An example with the target number to be 65 is given below."
   ]
  },
  {
   "cell_type": "markdown",
   "metadata": {},
   "source": [
    "What is your guess? 50\n",
    "Your guess is too small.\n",
    "What is your guess? 75\n",
    "Your guess is too large.\n",
    "What is your guess? 62\n",
    "Your guess is too small.\n",
    "What is your guess? 68\n",
    "Your guess is too large.\n",
    "What is your guess? 65\n",
    "Bingo!"
   ]
  },
  {
   "cell_type": "markdown",
   "metadata": {},
   "source": [
    "**Solution:**"
   ]
  },
  {
   "cell_type": "code",
   "execution_count": null,
   "metadata": {},
   "outputs": [],
   "source": []
  },
  {
   "cell_type": "code",
   "execution_count": null,
   "metadata": {},
   "outputs": [],
   "source": []
  }
 ],
 "metadata": {
  "kernelspec": {
   "display_name": "Python 3",
   "language": "python",
   "name": "python3"
  },
  "language_info": {
   "codemirror_mode": {
    "name": "ipython",
    "version": 3
   },
   "file_extension": ".py",
   "mimetype": "text/x-python",
   "name": "python",
   "nbconvert_exporter": "python",
   "pygments_lexer": "ipython3",
   "version": "3.7.6"
  }
 },
 "nbformat": 4,
 "nbformat_minor": 2
}
