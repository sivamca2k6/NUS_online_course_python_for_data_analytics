{
 "cells": [
  {
   "cell_type": "markdown",
   "metadata": {},
   "source": [
    "# Decision-Analysis Case Study - David's Decision Problem\n",
    "\n",
    "## Learning Objectives:\n",
    "- Facilitate simulation using SciPy \n",
    "- Explain the profit-risk trade-off in decision-making"
   ]
  },
  {
   "cell_type": "markdown",
   "metadata": {},
   "source": [
    "## Background\n",
    "\n",
    "### An Excellent Job Offer\n",
    "    \n",
    "David Tan, a second-year MBA student at the NUS School of Business, faces a very difficult decision problem now. He has just been notified of an excellent job offer from a top management consulting firm. The firm was so impressed with David’s performance during his internship at its Singapore office last summer. The synergy of Davis’s previous consulting experience (both prior to NUS and during the previous summer) and his NUS MBA education leads to a high likelihood that David would be very successful in the future, if he were to accept the firm’s offer.\n",
    "\n",
    "David is a kind of contemplative individual who sees the bigger picture of events and the consequences of decisions in life. He is very excited about the job offer for a number of good reasons. First, He likes the intellectual and business stimulation of management consulting. Moreover, the salary offer is excellent ($\\$$70,000 for the first year). However, he is also apprehensive. The lifestyle of management consultant is taxing. Much of the travel is rather routine to affect his family life. Furthermore, in David’s summer consulting experience he often had to cancel his personal plans at the last minute in order to accommodate the unexpected work in the evenings and on weekends. While Daivd is very energetic and motivated, enjoying hard work, he is also committed to maintaining a healthy personal life as well. Career development is but one piece of his many aspirations."
   ]
  },
  {
   "cell_type": "markdown",
   "metadata": {},
   "source": [
    "### A Different Career Path\n",
    "    \n",
    "The job offer has catalyzed David to think more seriously about one particular career alternative he has pondered over the last two years, namely, to open his own upscale restaurant serving gourmet Western cuisine. David is attracted to this plan for several reasons. For one, he has always wanted to start his own business. Second, he has always had a passion and talent for gourmet Western cuisine. Third, he enjoys being a good host, and in fact hospitality has always been an integral part of his lifestyle.\n",
    "\n",
    "What makes David hesitate the most is that restaurant owners may also need to work extremely long hours; his aunt Sona owns a restaurant in Jurong East, and she is always working. But as hard as his aunt works, David feels that these hours constitute a very different lifestyle from that of a managerial consultant. There would be very little if any travel involved, and so, he would be able to participate more in his community. And although the restaurant business might demand extreme effort from time to time, David figures that such situations would not arise as often as in a consulting career. The most important difference for David is that he would be working for himself, and that the business would be more fun than consulting (although he also enjoyed consulting quite a bit as well). David believes that his high energy, management skills, and interest in gourmet Western cuisine would form the essential ingredients needed to open and successfully operate his own restaurant, which he has temporarily named the Dallas Restaurant and Bar.\n",
    "\n",
    "The non-financial advantages of consulting (variety of work, intellectual challenge) seem to be evenly matched against the non-financial advantages of opening the Dallas Restaurant and Bar (less travel, business ownership). The financial implications of the two alternatives might be very different, however. In addition to his desire to earn a good salary, David also would like to pay off his educational debt obligations, which are rather substantial. In order to maintain a reasonable lifestyle, he would need to earn approximately $\\$$5,000 per month before taxes."
   ]
  },
  {
   "cell_type": "markdown",
   "metadata": {},
   "source": [
    "### Making an Informed Decision\n",
    "    \n",
    "As part of one of his course projects last semester on entrepreneurship, David actually conducted a profitability analysis of a sample of gourmet Western restaurants in Singapore,including his aunt’s restaurant. David used the information to define benchmark costs and revenues for the Dallas Restaurant and Bar concept. These data were based on siting the restaurant, with a seating capacity of 50 patrons, in the VivoCity area, borrowing money to construct the interior structure, and leasing all capital equipment for the restaurant.\n",
    "\n",
    "David estimated the monthly non-labor fixed costs of operating the Dallas Restaurant and Bar to be $\\$$4,000 per month. He also estimated the variable costs of food to be $\\$$12 per meal served. Among the many uncertainties in the restaurant business, there were three uncertain variables that tended to dominate the profitability: the number meals sold (per month), the revenue per meal, and the labour costs of the restaurant. From the market survey he conducted, David should be able to estimate the possible distributions for these crucial uncertain variables, as follows."
   ]
  },
  {
   "cell_type": "markdown",
   "metadata": {},
   "source": [
    "### Task 1: Determine a possible probability distribution for the number of meals sold\n",
    "Please refer to `Demand_new.csv`. In this data file, a sample of the monthly meals sold at a similar restaurant was recorded. From the sample data, please propose a possible probability distribution for the monthly meals sold to assist with David's decision-making.\n",
    "\n",
    "**Solution**"
   ]
  },
  {
   "cell_type": "code",
   "execution_count": null,
   "metadata": {},
   "outputs": [],
   "source": [
    "import pandas as pd\n",
    "\n",
    "df_demand = pd.read_csv(\"Demand_new.csv\")\n",
    "df_demand.tail(10)"
   ]
  },
  {
   "cell_type": "code",
   "execution_count": null,
   "metadata": {},
   "outputs": [],
   "source": [
    "df_demand.describe() # summarize the data imported"
   ]
  },
  {
   "cell_type": "code",
   "execution_count": null,
   "metadata": {},
   "outputs": [],
   "source": [
    "from matplotlib import pyplot as plt\n"
   ]
  },
  {
   "cell_type": "code",
   "execution_count": null,
   "metadata": {},
   "outputs": [],
   "source": []
  },
  {
   "cell_type": "code",
   "execution_count": null,
   "metadata": {},
   "outputs": [],
   "source": [
    "import numpy as np\n"
   ]
  },
  {
   "cell_type": "code",
   "execution_count": null,
   "metadata": {},
   "outputs": [],
   "source": []
  },
  {
   "cell_type": "markdown",
   "metadata": {},
   "source": [
    "Let's look at the fifth smallest value above; the corresponding `mealsSold` value is 478. Thus, 478 is the 1% percentile of the observed data."
   ]
  },
  {
   "cell_type": "code",
   "execution_count": null,
   "metadata": {},
   "outputs": [],
   "source": []
  },
  {
   "cell_type": "code",
   "execution_count": null,
   "metadata": {},
   "outputs": [],
   "source": [
    "from scipy import stats as sps\n",
    "\n",
    "# Assume a normal distribution to model the number of meals sold \n",
    "# Thus, we need to find out the percentiles of the assumed normal distribution \n"
   ]
  },
  {
   "cell_type": "code",
   "execution_count": null,
   "metadata": {},
   "outputs": [],
   "source": []
  },
  {
   "cell_type": "code",
   "execution_count": null,
   "metadata": {},
   "outputs": [],
   "source": []
  },
  {
   "cell_type": "markdown",
   "metadata": {},
   "source": [
    "Second, to understand the labour costs, David estimated that the labour costs for the Dallas Restaurant and Bar would be somewhere between $\\$$5,040 per month and $\\$$6,860 per month. Without any other information, David assumed that actual labour costs would obey a continuous uniform distribution in this range."
   ]
  },
  {
   "cell_type": "markdown",
   "metadata": {},
   "source": [
    "Third, since the Dallas Restaurant and Bar would provide a gourmet dining experience, David would plan to offer fixed-price meals and would set the price of the meals according to his own estimate of what the local economy and what the market for gourmet dining would support. His personal estimate based on discussions with friends and gourmet food aficionados is shown in the table below. In this range of meal prices, we will assume, for modelling purpose, that the monthly demand will not be affected by the meal price.\n",
    "\n",
    "<img src=\"discrete_prob.jpg\" alt=\"Probability distribution for the price of the meals\" style=\"width: 700px; height: 180px;\">"
   ]
  },
  {
   "cell_type": "markdown",
   "metadata": {},
   "source": [
    "### Task 2: Simulate the probability distribution for the monthly profit\n",
    "    \n",
    "With the assumptions made on the number of meals sold (per month), the revenue per meal, and the labour costs of the restaurant, please simulate the possible probability distribution for the monthly revenue of the Dallas Restaurant and Bar. \n",
    "\n",
    "**Solution**"
   ]
  },
  {
   "cell_type": "code",
   "execution_count": null,
   "metadata": {},
   "outputs": [],
   "source": [
    "# demo how to simulate a random variable following a discrete distribution\n",
    "\n",
    "xk = (0, 1, 2, 3)\n",
    "pk = (0.25, 0.35, 0.3, 0.1)\n",
    "custm = sps.rv_discrete(values=(xk, pk))\n",
    "\n",
    "plt.vlines(xk, 0, custm.pmf(xk), colors='r', linewidth=4)\n",
    "plt.xticks(xk,[\"$20\",\"$18.5\",\"$16.5\",\"$15\"])\n",
    "plt.show()"
   ]
  },
  {
   "cell_type": "code",
   "execution_count": null,
   "metadata": {},
   "outputs": [],
   "source": [
    "rv = custm.rvs(size=100) # simulate 100 random numbers following the specified discrete distribution\n",
    "rv"
   ]
  },
  {
   "cell_type": "code",
   "execution_count": null,
   "metadata": {},
   "outputs": [],
   "source": []
  },
  {
   "cell_type": "code",
   "execution_count": null,
   "metadata": {},
   "outputs": [],
   "source": []
  },
  {
   "cell_type": "code",
   "execution_count": null,
   "metadata": {},
   "outputs": [],
   "source": []
  },
  {
   "cell_type": "code",
   "execution_count": null,
   "metadata": {},
   "outputs": [],
   "source": []
  },
  {
   "cell_type": "code",
   "execution_count": null,
   "metadata": {},
   "outputs": [],
   "source": []
  },
  {
   "cell_type": "code",
   "execution_count": null,
   "metadata": {},
   "outputs": [],
   "source": []
  },
  {
   "cell_type": "code",
   "execution_count": null,
   "metadata": {},
   "outputs": [],
   "source": []
  },
  {
   "cell_type": "code",
   "execution_count": null,
   "metadata": {},
   "outputs": [],
   "source": []
  },
  {
   "cell_type": "markdown",
   "metadata": {},
   "source": [
    "### An Unusual Partnership Opportunity\n",
    "    \n",
    "It was obvious that there would be substantially more risk involved in the Dallas Restaurant and Bar than in accepting the consultant offer. When David mentioned this to his aunt in a phone conversation, she offered David the following financial partnership opportunity to increase his incentive to undertake the Dallas Restaurant and Bar venture. Under the partnership, his aunt would guarantee David a monthly salary of at least $\\$$3,500. That is, if earnings in a given month fell below $\\$$3,500, she would cover the difference. In exchange for this, his aunt would receive 90$\\%$ of all monthly earnings in excess of $\\$$9,000. If earnings were between $\\$$3,500 and $\\$$9,000, all such money would go to David. "
   ]
  },
  {
   "cell_type": "markdown",
   "metadata": {},
   "source": [
    "### Task 3: Understand the profit distribution under the partnership\n",
    "\n",
    "With the partnership condition, please simulate the possible probability distribution for the monthly revenue David can earn.\n",
    "\n",
    "**Solution**"
   ]
  },
  {
   "cell_type": "code",
   "execution_count": null,
   "metadata": {},
   "outputs": [],
   "source": []
  },
  {
   "cell_type": "code",
   "execution_count": null,
   "metadata": {},
   "outputs": [],
   "source": []
  },
  {
   "cell_type": "code",
   "execution_count": null,
   "metadata": {},
   "outputs": [],
   "source": []
  },
  {
   "cell_type": "code",
   "execution_count": null,
   "metadata": {},
   "outputs": [],
   "source": []
  },
  {
   "cell_type": "code",
   "execution_count": null,
   "metadata": {},
   "outputs": [],
   "source": []
  },
  {
   "cell_type": "markdown",
   "metadata": {},
   "source": [
    "### Taks 4: If you are David, what will be your best decision? \n",
    "    \n",
    "Please provide any visualisation or numerical evidence to support your conclusion. \n",
    "\n",
    "**Solution**"
   ]
  },
  {
   "cell_type": "code",
   "execution_count": null,
   "metadata": {},
   "outputs": [],
   "source": []
  },
  {
   "cell_type": "code",
   "execution_count": null,
   "metadata": {},
   "outputs": [],
   "source": []
  },
  {
   "cell_type": "code",
   "execution_count": null,
   "metadata": {},
   "outputs": [],
   "source": []
  }
 ],
 "metadata": {
  "kernelspec": {
   "display_name": "Python 3",
   "language": "python",
   "name": "python3"
  },
  "language_info": {
   "codemirror_mode": {
    "name": "ipython",
    "version": 3
   },
   "file_extension": ".py",
   "mimetype": "text/x-python",
   "name": "python",
   "nbconvert_exporter": "python",
   "pygments_lexer": "ipython3",
   "version": "3.8.3"
  }
 },
 "nbformat": 4,
 "nbformat_minor": 4
}
