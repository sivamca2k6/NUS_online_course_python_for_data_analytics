{
 "cells": [
  {
   "cell_type": "markdown",
   "metadata": {},
   "source": [
    "# Week 4 - Activities\n",
    "\n",
    "Learning objectives:\n",
    "1. Review discrete probability distribution\n",
    "2. NumPy arrays and element-wise operations\n",
    "3. Print strings with the method <code>format()</code>\n",
    "\n",
    "## Case Study: A Newsvendor Problem (Array Version)\n",
    "***Background***: In this case study, we will solve the previous newsvendor problem using NumPy arrays, in order to show the benefits of element-wise operations. The discrete probability distribution is again given as the following table.\n",
    "\n",
    "| $ $ |probabilities|paper1|paper2|\n",
    "|:----|:---------|:----------|:----------|\n",
    "|Sunny| 0.315 | 560  | 533 | \n",
    "|Cloudy | 0.226 | 530 | 486 | \n",
    "|Raining | 0.289 | 389 | 386 | \n",
    "|Thunderstorm| 0.087 | 202 | 234 |\n",
    "|Haze| 0.083 | 278 | 263 |\n",
    "\n",
    "The table above is expressed by the two-dimensional NumPy array <code>distr</code>."
   ]
  },
  {
   "cell_type": "code",
   "execution_count": 1,
   "metadata": {
    "scrolled": true
   },
   "outputs": [
    {
     "data": {
      "text/plain": [
       "array([[3.15e-01, 2.26e-01, 2.89e-01, 8.70e-02, 8.30e-02],\n",
       "       [5.60e+02, 5.30e+02, 3.89e+02, 2.02e+02, 2.78e+02],\n",
       "       [5.33e+02, 4.86e+02, 3.86e+02, 2.34e+02, 2.63e+02]])"
      ]
     },
     "execution_count": 1,
     "metadata": {},
     "output_type": "execute_result"
    }
   ],
   "source": [
    "import numpy as np\n",
    "\n",
    "distr = np.array([[0.315, 0.226, 0.289, 0.087, 0.083],\n",
    "                  [560, 530, 389, 202, 278],\n",
    "                  [533, 486, 386, 234, 263]])\n",
    "\n",
    "distr"
   ]
  },
  {
   "cell_type": "markdown",
   "metadata": {},
   "source": [
    "In this two-dimensional array, the first row represents the probabilities of all weather types, the second and the third rows are the demands of two newspapers under different weather conditions. "
   ]
  },
  {
   "cell_type": "markdown",
   "metadata": {},
   "source": [
    "### Task 1\n",
    "\n",
    "Calculate the expected values of the demands of <code>paper1</code> and <code>paper2</code>. \n",
    "\n",
    "***Solution***: Recalling that the mean value is expressed as\n",
    "$$\n",
    "\\mathbb{E}(D_{\\text{paper}}) = \\sum\\limits_{s=1}^S p_s d_s\n",
    "$$\n",
    "where $p_s$ is the probability, and $d_{s}$ is the demand of <code>paper</code>, under weather $s$. "
   ]
  },
  {
   "cell_type": "code",
   "execution_count": null,
   "metadata": {},
   "outputs": [],
   "source": []
  },
  {
   "cell_type": "markdown",
   "metadata": {},
   "source": [
    "### Task 2\n",
    "Calculate the standard deviation of paper demands, expressed as \n",
    "$$\n",
    "\\sigma_D = \\sqrt{\\sum\\limits_{s=1}^S p_s (d_{s} - \\mathbb{E}(D_{\\text{paper}}))^2}\n",
    "$$\n",
    "\n",
    "***Solution***: \n",
    "\n",
    "The most convenient and practical way to calculate the standard deviations is to use the broadcasting of <code>NumPy</code> arrays. Please read this [chapter](https://jakevdp.github.io/PythonDataScienceHandbook/02.05-computation-on-arrays-broadcasting.html) of the reference book to learn this technique.\n",
    "\n",
    "In this chapter, you may need to use the method <code>reshape</code> of the array data object. Document of this method is given [here](https://numpy.org/doc/1.18/reference/generated/numpy.reshape.html)."
   ]
  },
  {
   "cell_type": "code",
   "execution_count": null,
   "metadata": {},
   "outputs": [],
   "source": []
  },
  {
   "cell_type": "markdown",
   "metadata": {},
   "source": [
    "### Task 3\n",
    "Suppose that the costs of <code>paper1</code> and <code>paper2</code> are 0.6 and 0.8 dollars, and the selling prices of <code>paper1</code> and <code>paper2</code> are $\\$1.00$ and $\\$1.15$, respectively. Calculate the expected total profit if the newsboy has ordered 430 pieces of <code>paper1</code> and 380 pieces of <code>paper2</code>. \n",
    "\n",
    "**Solution**:\n",
    "\n",
    "The expected sold quantities can be firstly calculated as an array."
   ]
  },
  {
   "cell_type": "code",
   "execution_count": null,
   "metadata": {
    "scrolled": false
   },
   "outputs": [],
   "source": []
  },
  {
   "cell_type": "markdown",
   "metadata": {},
   "source": [
    "By using the array of expected sold quantities, the expected profit can also be calculated via broadcasting and element-wise operations."
   ]
  },
  {
   "cell_type": "code",
   "execution_count": null,
   "metadata": {},
   "outputs": [],
   "source": []
  },
  {
   "cell_type": "markdown",
   "metadata": {},
   "source": [
    "### Task 4\n",
    "\n",
    "Write a function <code>sold_fun</code> to calculate the expected sold quantities. The input arguments are:\n",
    "1. The order quantity as an one-dimensional array <code>order</code>.\n",
    "2. The discrete distribution expressed as a two-dimensional array <code>distr</code>.\n",
    "\n",
    "**Solution**:"
   ]
  },
  {
   "cell_type": "code",
   "execution_count": null,
   "metadata": {},
   "outputs": [],
   "source": []
  },
  {
   "cell_type": "code",
   "execution_count": null,
   "metadata": {
    "scrolled": true
   },
   "outputs": [],
   "source": []
  }
 ],
 "metadata": {
  "kernelspec": {
   "display_name": "Python 3",
   "language": "python",
   "name": "python3"
  },
  "language_info": {
   "codemirror_mode": {
    "name": "ipython",
    "version": 3
   },
   "file_extension": ".py",
   "mimetype": "text/x-python",
   "name": "python",
   "nbconvert_exporter": "python",
   "pygments_lexer": "ipython3",
   "version": "3.7.6"
  }
 },
 "nbformat": 4,
 "nbformat_minor": 2
}
