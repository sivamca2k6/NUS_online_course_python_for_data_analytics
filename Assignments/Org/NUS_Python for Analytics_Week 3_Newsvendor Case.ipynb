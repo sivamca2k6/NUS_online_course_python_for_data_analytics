{
 "cells": [
  {
   "cell_type": "markdown",
   "metadata": {},
   "source": [
    "# Week 3 - Activities\n",
    "\n",
    "Learning objectives:\n",
    "1. Review of discrete probability distribution\n",
    "2. Lists, tuples, and dictionaries\n",
    "3. Print strings with the method <code>format()</code>\n",
    "4. Use iterables and <code>zip()</code> in loops\n",
    "\n",
    "## Case Study: A Newsvendor Problem\n",
    "***Background***: The newsvendor model is a mathematical model in operations management and applied economics used to determine optimal inventory levels. It is typically characterized by fixed prices and uncertain demand for a number of perishable products. In this case study, we adopt the classic problem setting with two products: a newsboy is selling two types of newspapers, <code>paper1</code>, and <code>paper2</code>. The future demands of newspapers are affected by weather conditions. The demands under different weather conditions, as well as the probability associated with each weather condition, are provided in the following table. \n",
    "\n",
    "| $ $ |probabilities|paper1|paper2|\n",
    "|:----|:---------|:----------|:----------|\n",
    "|Sunny| 0.315 | 560  | 533 | \n",
    "|Cloudy | 0.226 | 530 | 486 | \n",
    "|Raining | 0.289 | 389 | 386 | \n",
    "|Thunderstorm| 0.087 | 202 | 234 |\n",
    "|Haze| 0.083 | 278 | 263 |\n",
    "\n",
    "The table above is given as the <code>distr</code> type data object below."
   ]
  },
  {
   "cell_type": "code",
   "execution_count": 1,
   "metadata": {
    "scrolled": false
   },
   "outputs": [
    {
     "data": {
      "text/plain": [
       "{'weather': ['Sunny', 'Cloudy', 'Raining', 'Thunderstorm', 'Haze'],\n",
       " 'probs': [0.315, 0.226, 0.289, 0.087, 0.083],\n",
       " 'paper1': [560, 530, 389, 202, 278],\n",
       " 'paper2': [533, 486, 386, 234, 263]}"
      ]
     },
     "execution_count": 1,
     "metadata": {},
     "output_type": "execute_result"
    }
   ],
   "source": [
    "distr = {'weather': ['Sunny', 'Cloudy', 'Raining', 'Thunderstorm', 'Haze'],\n",
    "         'probs': [0.315, 0.226, 0.289, 0.087, 0.083],\n",
    "         'paper1': [560, 530, 389, 202, 278],\n",
    "         'paper2': [533, 486, 386, 234, 263]}\n",
    "\n",
    "distr"
   ]
  },
  {
   "cell_type": "markdown",
   "metadata": {},
   "source": [
    "### Task 1\n",
    "\n",
    "Verify that the sum of all probabilities is one. You can use the function <code>sum</code> to sum up every element in the list, and the string method [format](https://www.programiz.com/python-programming/methods/string/format) to control the decimal digits of the displayed result.\n",
    "\n",
    "**Solution**"
   ]
  },
  {
   "cell_type": "code",
   "execution_count": null,
   "metadata": {},
   "outputs": [],
   "source": []
  },
  {
   "cell_type": "markdown",
   "metadata": {},
   "source": [
    "The method <code>format</code> of <code>str</code> provides a convenient way to control the format of displayed message. As in the following example\n",
    "\n",
    "<img src=\"https://cdn.programiz.com/sites/tutorial2program/files/python-format-positional-argument.jpg\">\n",
    "\n",
    "The first number <code>0</code> and <code>1</code> in these two braces correspond to the **argument 0** <code>\"Adam\"</code> and the **argument 1** <code>230.2346</code>. In the second brace, the digits <code>9.3f</code> specify the printing format of the <code>float</code> type number <code>230.2346</code>. The first digit <code>9</code> represents the minimum length of the string to be displayed, and <code>.3f</code> suggests that three decimal digits to be displayed, so the number as a string is <code>230.235</code>, which has a length of seven. In order to get a string with a minimum length of nine, two spaces are added in front of the number string, so we have the output number as a string of <code>  230.235</code>, with three decimal digits and a total length of nine. The last letter <code>f</code> indicates that the fixed decimal formating rules are applied for the input number. Such formating rules are commonly used when the input argument is a <code>float</code> type number. Other number formating rules are given in the following table.\n",
    "\n",
    "<table summary=\"Number Formatting Types\">\n",
    "\t<thead>\n",
    "\t\t<tr>\n",
    "\t\t\t<th scope=\"col\">Type</th>\n",
    "\t\t\t<th scope=\"col\">Meaning</th>\n",
    "\t\t</tr>\n",
    "\t</thead>\n",
    "\t<tbody>\n",
    "\t\t<tr>\n",
    "\t\t\t<td>d</td>\n",
    "\t\t\t<td>Decimal integer</td>\n",
    "\t\t</tr>\n",
    "\t\t<tr>\n",
    "\t\t\t<td>c</td>\n",
    "\t\t\t<td>Corresponding Unicode character</td>\n",
    "\t\t</tr>\n",
    "\t\t<tr>\n",
    "\t\t\t<td>b</td>\n",
    "\t\t\t<td>Binary format</td>\n",
    "\t\t</tr>\n",
    "\t\t<tr>\n",
    "\t\t\t<td>o</td>\n",
    "\t\t\t<td>Octal format</td>\n",
    "\t\t</tr>\n",
    "\t\t<tr>\n",
    "\t\t\t<td>x</td>\n",
    "\t\t\t<td>Hexadecimal format (lower case)</td>\n",
    "\t\t</tr>\n",
    "\t\t<tr>\n",
    "\t\t\t<td>X</td>\n",
    "\t\t\t<td>Hexadecimal format (upper case)</td>\n",
    "\t\t</tr>\n",
    "\t\t<tr>\n",
    "\t\t\t<td>n</td>\n",
    "\t\t\t<td>Same as 'd'. Except it uses current locale setting for number separator</td>\n",
    "\t\t</tr>\n",
    "\t\t<tr>\n",
    "\t\t\t<td>e</td>\n",
    "\t\t\t<td>Exponential notation. (lowercase e)</td>\n",
    "\t\t</tr>\n",
    "\t\t<tr>\n",
    "\t\t\t<td>E</td>\n",
    "\t\t\t<td>Exponential notation (uppercase E)</td>\n",
    "\t\t</tr>\n",
    "\t\t<tr>\n",
    "\t\t\t<td>f</td>\n",
    "\t\t\t<td>Displays fixed point number (Default: 6)</td>\n",
    "\t\t</tr>\n",
    "\t\t<tr>\n",
    "\t\t\t<td>F</td>\n",
    "\t\t\t<td>Same as 'f'. Except displays 'inf' as 'INF' and 'nan' as 'NAN'</td>\n",
    "\t\t</tr>\n",
    "\t\t<tr>\n",
    "\t\t\t<td>g</td>\n",
    "\t\t\t<td>General format. Rounds number to p significant digits. (Default precision: 6)</td>\n",
    "\t\t</tr>\n",
    "\t\t<tr>\n",
    "\t\t\t<td>G</td>\n",
    "\t\t\t<td>Same as 'g'. Except switches to 'E' if the number is large.</td>\n",
    "\t\t</tr>\n",
    "\t\t<tr>\n",
    "\t\t\t<td>%</td>\n",
    "\t\t\t<td>Percentage. Multiples by 100 and puts % at the end.</td>\n",
    "\t\t</tr>\n",
    "\t</tbody>\n",
    "</table>\n",
    "\n",
    "In this task, we have only one input argument, so the first number is <code>0</code>, indicating **argument 0**. The minimum length is set to be <code>0</code>, because there is no need to insert extra spaces. The last part <code>.2f</code> suggest that we fix the displayed decimal digits to be two. \n",
    "\n",
    "Please check [format](https://www.programiz.com/python-programming/methods/string/format) for a more detailed description of this method.\n",
    "\n",
    "### Task 2\n",
    "Calculate the expected values of the demands of <code>paper1</code> and <code>paper2</code>. Display the output in the format \"Expected demand: ......\". Numeric result has three decimal digits.\n",
    "\n",
    "**Solution**: Recalling that the mean value is expressed as\n",
    "$$\n",
    "\\mathbb{E}(D_{\\text{paper}}) = \\sum\\limits_{s=1}^S p_s d_s\n",
    "$$\n",
    "where $p_s$ is the probability, and $d_{s}$ is the demand of <code>paper</code>, under weather $s$. \n",
    "\n",
    "#### Method 1: Calculate using <code>for</code> loops"
   ]
  },
  {
   "cell_type": "code",
   "execution_count": 2,
   "metadata": {},
   "outputs": [
    {
     "name": "stdout",
     "output_type": "stream",
     "text": [
      "Expected demand: 449.249\n"
     ]
    }
   ],
   "source": [
    "# Demand of paper1\n"
   ]
  },
  {
   "cell_type": "code",
   "execution_count": 3,
   "metadata": {},
   "outputs": [],
   "source": [
    "# Demand of paper2\n",
    "\n"
   ]
  },
  {
   "cell_type": "markdown",
   "metadata": {},
   "source": [
    "#### Method 2: Calculate using list comprehension"
   ]
  },
  {
   "cell_type": "code",
   "execution_count": 4,
   "metadata": {},
   "outputs": [
    {
     "name": "stdout",
     "output_type": "stream",
     "text": [
      "Expected demand: 449.249\n"
     ]
    }
   ],
   "source": [
    "# Demand of paper1\n",
    "\n"
   ]
  },
  {
   "cell_type": "code",
   "execution_count": 5,
   "metadata": {},
   "outputs": [],
   "source": [
    "# Demand of paper2\n",
    "\n"
   ]
  },
  {
   "cell_type": "markdown",
   "metadata": {},
   "source": [
    "### Task 3\n",
    "Calculate the standard deviation of paper demands, expressed as \n",
    "$$\n",
    "\\sigma_D = \\sqrt{\\sum\\limits_{s=1}^S p_s (d_{s} - \\mathbb{E}(D_{\\text{paper}}))^2}\n",
    "$$\n",
    "Display the results with three decimal digits.\n",
    "\n",
    "**Solution**: \n",
    "The solution for <code>paper1</code> is provided for your reference. Calculate the solution for <code>paper2</code>."
   ]
  },
  {
   "cell_type": "code",
   "execution_count": 6,
   "metadata": {},
   "outputs": [
    {
     "name": "stdout",
     "output_type": "stream",
     "text": [
      "The standard deviation of demand: 118.908\n"
     ]
    }
   ],
   "source": [
    "# The standard deviation of paper1\n",
    "\n",
    "probs = distr['probs']                              # Scenario probabilities\n",
    "demand1 = distr['paper1']                           # Demand of paper1\n",
    "\n",
    "var1 = sum([prob * (d-exp1)**2 \n",
    "             for prob, d in zip(probs, demand1)])   # Sum a new list created by comprehension\n",
    "std1 = var1 ** 0.5                                  # Calculate the standard devation from the variance\n",
    "\n",
    "print('The standard deviation of demand: {0:0.3f}'.format(std1))"
   ]
  },
  {
   "cell_type": "code",
   "execution_count": 7,
   "metadata": {},
   "outputs": [],
   "source": [
    "# The standard deviation of paper2\n",
    "\n"
   ]
  },
  {
   "cell_type": "markdown",
   "metadata": {},
   "source": [
    "### Task 4\n",
    "Suppose that the costs of <code>paper1</code> and <code>paper2</code> are 0.6 and 0.8 dollars, and the selling prices of <code>paper1</code> and <code>paper2</code> are $\\$1.00$ and $\\$1.15$, respectively. Calculate the expected total profit, if the newsboy has ordered 430 pieces of <code>paper1</code> and 380 pieces of <code>paper2</code>. Print the results with 2 decimal digits. \n",
    "\n",
    "*Hint*: the profit can be calculated as the total revenue (the sold quantity multiplied by the price) minus the total cost (the order quantity multiplied by the cost). The sold quantity equals to the demand if the demand is smaller than the order quantity, otherwise, the sold quantity equals to the order quantity. You may calculate the expected sold quantity first, then use it to compute the expected profit. \n",
    "\n",
    "**Solution**:\n"
   ]
  },
  {
   "cell_type": "code",
   "execution_count": null,
   "metadata": {},
   "outputs": [],
   "source": []
  }
 ],
 "metadata": {
  "kernelspec": {
   "display_name": "Python 3",
   "language": "python",
   "name": "python3"
  },
  "language_info": {
   "codemirror_mode": {
    "name": "ipython",
    "version": 3
   },
   "file_extension": ".py",
   "mimetype": "text/x-python",
   "name": "python",
   "nbconvert_exporter": "python",
   "pygments_lexer": "ipython3",
   "version": "3.7.6"
  }
 },
 "nbformat": 4,
 "nbformat_minor": 2
}
