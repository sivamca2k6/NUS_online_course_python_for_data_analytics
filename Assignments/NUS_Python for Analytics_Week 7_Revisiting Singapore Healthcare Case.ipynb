{
 "cells": [
  {
   "cell_type": "markdown",
   "metadata": {},
   "source": [
    "# Case Study - Visualize Patient Arrivals in Singapore’s Public Hospitals\n",
    "\n",
    "## Learning Objectives:\n",
    "1. Manipulate data through filtering\n",
    "2. Draw basic visualisation to describe the findings   "
   ]
  },
  {
   "cell_type": "markdown",
   "metadata": {},
   "source": [
    "<i><b>Background</b></i>: Understanding demand is always a key issue in business operations. In healthcare management, patient arrivals are the key to affecting the efficiency of hospital/clinic operations. Without a sufficient number of healthcare professionals to serve patients, the consequence is a long waiting time for patients; thus their lives may be jeopardized. Increasing the number of healthcare professionals, without a doubt, can build a very efficient healthcare system with shorter waiting time, thereby gaining the great satisfaction of patients. However, the corresponding labour cost will become a big burden of the operations. From a managerial point of view, it is important to balance the operation cost and patients’ satisfaction. To achieve this, the first task is being able to know the pattern of patient arrivals as accurate as possible. \n",
    "<n>\n",
    "\n",
    "The `EDdata.csv` contains Singaporeans’ arrivals at some major public hospitals’ emergency departments (EDs) in Oct 2011 and April 2012. Those hospitals are Tan Tock Seng Hospital, \n",
    "Singapore General Hospital, National University Hospital, Changi General Hospital, Alexandra Hospital, Khoo Teck Puat Hospital, and KK Women's and Children's Hospital. The data were retrieved from each hospital’s data warehouse system and were a random sample from all the patients who arrived at those hospitals’ EDs during a study period (a whole month). Please import `EDdata.csv` first and check the data.\n"
   ]
  },
  {
   "cell_type": "code",
   "execution_count": 1,
   "metadata": {},
   "outputs": [
    {
     "data": {
      "text/html": [
       "<div>\n",
       "<style scoped>\n",
       "    .dataframe tbody tr th:only-of-type {\n",
       "        vertical-align: middle;\n",
       "    }\n",
       "\n",
       "    .dataframe tbody tr th {\n",
       "        vertical-align: top;\n",
       "    }\n",
       "\n",
       "    .dataframe thead th {\n",
       "        text-align: right;\n",
       "    }\n",
       "</style>\n",
       "<table border=\"1\" class=\"dataframe\">\n",
       "  <thead>\n",
       "    <tr style=\"text-align: right;\">\n",
       "      <th></th>\n",
       "      <th>Case</th>\n",
       "      <th>Hospital_Name</th>\n",
       "      <th>REGIS_DATE</th>\n",
       "      <th>REGIS_TIME</th>\n",
       "      <th>reg_sec</th>\n",
       "      <th>Triage Time</th>\n",
       "      <th>triage_sec</th>\n",
       "      <th>Triage_Class</th>\n",
       "      <th>Age</th>\n",
       "      <th>Gender</th>\n",
       "      <th>Race</th>\n",
       "    </tr>\n",
       "  </thead>\n",
       "  <tbody>\n",
       "    <tr>\n",
       "      <th>0</th>\n",
       "      <td>92408</td>\n",
       "      <td>KTPH</td>\n",
       "      <td>7/4/2012</td>\n",
       "      <td>9:48:33</td>\n",
       "      <td>35313</td>\n",
       "      <td>9:58:12</td>\n",
       "      <td>35892</td>\n",
       "      <td>P2</td>\n",
       "      <td>40.0</td>\n",
       "      <td>M</td>\n",
       "      <td>Chinese</td>\n",
       "    </tr>\n",
       "    <tr>\n",
       "      <th>1</th>\n",
       "      <td>54452</td>\n",
       "      <td>KKH</td>\n",
       "      <td>7/10/2011</td>\n",
       "      <td>16:21:05</td>\n",
       "      <td>58865</td>\n",
       "      <td>16:23:42</td>\n",
       "      <td>59022</td>\n",
       "      <td>P2</td>\n",
       "      <td>0.0</td>\n",
       "      <td>M</td>\n",
       "      <td>Chinese</td>\n",
       "    </tr>\n",
       "    <tr>\n",
       "      <th>2</th>\n",
       "      <td>28303</td>\n",
       "      <td>CGH</td>\n",
       "      <td>3/10/2011</td>\n",
       "      <td>3:57:45</td>\n",
       "      <td>14265</td>\n",
       "      <td>4:00:00</td>\n",
       "      <td>14400</td>\n",
       "      <td>P3</td>\n",
       "      <td>33.0</td>\n",
       "      <td>M</td>\n",
       "      <td>Indian</td>\n",
       "    </tr>\n",
       "    <tr>\n",
       "      <th>3</th>\n",
       "      <td>121169</td>\n",
       "      <td>SGH</td>\n",
       "      <td>16/10/2011</td>\n",
       "      <td>4:08:47</td>\n",
       "      <td>14927</td>\n",
       "      <td>4:10:00</td>\n",
       "      <td>15000</td>\n",
       "      <td>P3</td>\n",
       "      <td>53.0</td>\n",
       "      <td>F</td>\n",
       "      <td>Malay</td>\n",
       "    </tr>\n",
       "    <tr>\n",
       "      <th>4</th>\n",
       "      <td>146488</td>\n",
       "      <td>TTSH</td>\n",
       "      <td>24/10/2011</td>\n",
       "      <td>3:09:47</td>\n",
       "      <td>11387</td>\n",
       "      <td>3:14:21</td>\n",
       "      <td>11661</td>\n",
       "      <td>P3</td>\n",
       "      <td>23.0</td>\n",
       "      <td>M</td>\n",
       "      <td>Others</td>\n",
       "    </tr>\n",
       "    <tr>\n",
       "      <th>5</th>\n",
       "      <td>93761</td>\n",
       "      <td>KTPH</td>\n",
       "      <td>11/4/2012</td>\n",
       "      <td>0:13:43</td>\n",
       "      <td>823</td>\n",
       "      <td>2:51:08</td>\n",
       "      <td>10268</td>\n",
       "      <td>P3</td>\n",
       "      <td>21.0</td>\n",
       "      <td>M</td>\n",
       "      <td>Chinese</td>\n",
       "    </tr>\n",
       "    <tr>\n",
       "      <th>6</th>\n",
       "      <td>95762</td>\n",
       "      <td>KTPH</td>\n",
       "      <td>16/04/2012</td>\n",
       "      <td>23:14:41</td>\n",
       "      <td>83681</td>\n",
       "      <td>1:05:13</td>\n",
       "      <td>3913</td>\n",
       "      <td>P2</td>\n",
       "      <td>47.0</td>\n",
       "      <td>M</td>\n",
       "      <td>Chinese</td>\n",
       "    </tr>\n",
       "    <tr>\n",
       "      <th>7</th>\n",
       "      <td>149941</td>\n",
       "      <td>TTSH</td>\n",
       "      <td>2/4/2012</td>\n",
       "      <td>10:12:32</td>\n",
       "      <td>36752</td>\n",
       "      <td>10:15:06</td>\n",
       "      <td>36906</td>\n",
       "      <td>P3</td>\n",
       "      <td>48.0</td>\n",
       "      <td>F</td>\n",
       "      <td>Others</td>\n",
       "    </tr>\n",
       "    <tr>\n",
       "      <th>8</th>\n",
       "      <td>23665</td>\n",
       "      <td>AH</td>\n",
       "      <td>29/10/2011</td>\n",
       "      <td>13:43:40</td>\n",
       "      <td>49420</td>\n",
       "      <td>13:49:00</td>\n",
       "      <td>49740</td>\n",
       "      <td>P2</td>\n",
       "      <td>43.0</td>\n",
       "      <td>M</td>\n",
       "      <td>Malay</td>\n",
       "    </tr>\n",
       "    <tr>\n",
       "      <th>9</th>\n",
       "      <td>12883</td>\n",
       "      <td>SGH</td>\n",
       "      <td>11/10/2011</td>\n",
       "      <td>6:23:14</td>\n",
       "      <td>22994</td>\n",
       "      <td>6:28:00</td>\n",
       "      <td>23280</td>\n",
       "      <td>P2</td>\n",
       "      <td>44.0</td>\n",
       "      <td>M</td>\n",
       "      <td>Malay</td>\n",
       "    </tr>\n",
       "  </tbody>\n",
       "</table>\n",
       "</div>"
      ],
      "text/plain": [
       "     Case Hospital_Name  REGIS_DATE REGIS_TIME  reg_sec Triage Time  \\\n",
       "0   92408          KTPH    7/4/2012    9:48:33    35313     9:58:12   \n",
       "1   54452           KKH   7/10/2011   16:21:05    58865    16:23:42   \n",
       "2   28303           CGH   3/10/2011    3:57:45    14265     4:00:00   \n",
       "3  121169           SGH  16/10/2011    4:08:47    14927     4:10:00   \n",
       "4  146488          TTSH  24/10/2011    3:09:47    11387     3:14:21   \n",
       "5   93761          KTPH   11/4/2012    0:13:43      823     2:51:08   \n",
       "6   95762          KTPH  16/04/2012   23:14:41    83681     1:05:13   \n",
       "7  149941          TTSH    2/4/2012   10:12:32    36752    10:15:06   \n",
       "8   23665            AH  29/10/2011   13:43:40    49420    13:49:00   \n",
       "9   12883           SGH  11/10/2011    6:23:14    22994     6:28:00   \n",
       "\n",
       "   triage_sec Triage_Class    Age Gender     Race  \n",
       "0       35892            P2  40.0      M  Chinese  \n",
       "1       59022            P2   0.0      M  Chinese  \n",
       "2       14400            P3  33.0      M   Indian  \n",
       "3       15000            P3  53.0      F    Malay  \n",
       "4       11661            P3  23.0      M   Others  \n",
       "5       10268            P3  21.0      M  Chinese  \n",
       "6        3913            P2  47.0      M  Chinese  \n",
       "7       36906            P3  48.0      F   Others  \n",
       "8       49740            P2  43.0      M    Malay  \n",
       "9       23280            P2  44.0      M    Malay  "
      ]
     },
     "execution_count": 1,
     "metadata": {},
     "output_type": "execute_result"
    }
   ],
   "source": [
    "import pandas as pd\n",
    "\n",
    "df = pd.read_csv(\"EDdata.csv\")  \n",
    "df.head(10)"
   ]
  },
  {
   "cell_type": "code",
   "execution_count": null,
   "metadata": {},
   "outputs": [],
   "source": []
  },
  {
   "cell_type": "code",
   "execution_count": null,
   "metadata": {},
   "outputs": [],
   "source": []
  },
  {
   "cell_type": "code",
   "execution_count": null,
   "metadata": {},
   "outputs": [],
   "source": []
  },
  {
   "cell_type": "code",
   "execution_count": null,
   "metadata": {},
   "outputs": [],
   "source": []
  },
  {
   "cell_type": "code",
   "execution_count": null,
   "metadata": {},
   "outputs": [],
   "source": []
  },
  {
   "cell_type": "markdown",
   "metadata": {},
   "source": [
    "## Task 1-1\n",
    "<i><b>Do male Singaporeans have preferences over different hospitals to attend in case of an emergency? Please also find the pattern for female Singaporeans and draw a visualisation to convey your findings effectively. </b></i> \n",
    "<n>\n",
    "\n",
    "Please remember to delete the patient visits to KKH in the data set. KKH is a Women's and Children's hospital. If an emergency happens, the male patient will not be sent to KKH basically."
   ]
  },
  {
   "cell_type": "markdown",
   "metadata": {},
   "source": [
    "- Male Singaporeans"
   ]
  },
  {
   "cell_type": "code",
   "execution_count": null,
   "metadata": {},
   "outputs": [],
   "source": []
  },
  {
   "cell_type": "code",
   "execution_count": null,
   "metadata": {},
   "outputs": [],
   "source": []
  },
  {
   "cell_type": "markdown",
   "metadata": {},
   "source": [
    "- Female Singaporeans"
   ]
  },
  {
   "cell_type": "code",
   "execution_count": null,
   "metadata": {},
   "outputs": [],
   "source": []
  },
  {
   "cell_type": "code",
   "execution_count": null,
   "metadata": {},
   "outputs": [],
   "source": []
  },
  {
   "cell_type": "markdown",
   "metadata": {},
   "source": [
    "- A bar chart to show the findings"
   ]
  },
  {
   "cell_type": "code",
   "execution_count": null,
   "metadata": {},
   "outputs": [],
   "source": []
  },
  {
   "cell_type": "code",
   "execution_count": null,
   "metadata": {},
   "outputs": [],
   "source": []
  },
  {
   "cell_type": "code",
   "execution_count": null,
   "metadata": {},
   "outputs": [],
   "source": []
  },
  {
   "cell_type": "markdown",
   "metadata": {},
   "source": [
    "## Task 1-2\n",
    "<n>\n",
    "\n",
    "<i><b>Are the patients’ waiting time distributions similar across different public hospitals? Please draw a line chart to compare the median waiting time across different public hospitals.</b></i>\n",
    "- To find the waiting time, there are two possible scenarios as follows:\n",
    "    1. (Case 1) triage time is larger than registration time (normal cases)\n",
    "    2. (Case 2) the triage will be conducted after midnight. However, the \"sec\" columns are always computed using `00:00:00` as the origin."
   ]
  },
  {
   "cell_type": "code",
   "execution_count": null,
   "metadata": {},
   "outputs": [],
   "source": []
  },
  {
   "cell_type": "code",
   "execution_count": null,
   "metadata": {},
   "outputs": [],
   "source": []
  },
  {
   "cell_type": "code",
   "execution_count": null,
   "metadata": {},
   "outputs": [],
   "source": []
  },
  {
   "cell_type": "code",
   "execution_count": null,
   "metadata": {},
   "outputs": [],
   "source": []
  },
  {
   "cell_type": "markdown",
   "metadata": {},
   "source": [
    "**Do you notice any anomaly in the table generated?**\n",
    "\n",
    "- Please filter the records with waiting time larger than 300 minutes "
   ]
  },
  {
   "cell_type": "code",
   "execution_count": 17,
   "metadata": {},
   "outputs": [
    {
     "data": {
      "text/html": [
       "<div>\n",
       "<style scoped>\n",
       "    .dataframe tbody tr th:only-of-type {\n",
       "        vertical-align: middle;\n",
       "    }\n",
       "\n",
       "    .dataframe tbody tr th {\n",
       "        vertical-align: top;\n",
       "    }\n",
       "\n",
       "    .dataframe thead th {\n",
       "        text-align: right;\n",
       "    }\n",
       "</style>\n",
       "<table border=\"1\" class=\"dataframe\">\n",
       "  <thead>\n",
       "    <tr style=\"text-align: right;\">\n",
       "      <th></th>\n",
       "      <th>REGIS_TIME</th>\n",
       "      <th>Triage Time</th>\n",
       "      <th>reg_sec</th>\n",
       "      <th>triage_sec</th>\n",
       "      <th>Wait_time</th>\n",
       "    </tr>\n",
       "  </thead>\n",
       "  <tbody>\n",
       "    <tr>\n",
       "      <th>26</th>\n",
       "      <td>21:44:24</td>\n",
       "      <td>21:44:00</td>\n",
       "      <td>78264</td>\n",
       "      <td>78240</td>\n",
       "      <td>86376</td>\n",
       "    </tr>\n",
       "    <tr>\n",
       "      <th>42</th>\n",
       "      <td>14:36:06</td>\n",
       "      <td>14:36:00</td>\n",
       "      <td>52566</td>\n",
       "      <td>52560</td>\n",
       "      <td>86394</td>\n",
       "    </tr>\n",
       "    <tr>\n",
       "      <th>50</th>\n",
       "      <td>18:42:38</td>\n",
       "      <td>18:41:00</td>\n",
       "      <td>67358</td>\n",
       "      <td>67260</td>\n",
       "      <td>86302</td>\n",
       "    </tr>\n",
       "    <tr>\n",
       "      <th>69</th>\n",
       "      <td>9:16:01</td>\n",
       "      <td>9:14:00</td>\n",
       "      <td>33361</td>\n",
       "      <td>33240</td>\n",
       "      <td>86279</td>\n",
       "    </tr>\n",
       "    <tr>\n",
       "      <th>75</th>\n",
       "      <td>6:21:20</td>\n",
       "      <td>6:21:00</td>\n",
       "      <td>22880</td>\n",
       "      <td>22860</td>\n",
       "      <td>86380</td>\n",
       "    </tr>\n",
       "  </tbody>\n",
       "</table>\n",
       "</div>"
      ],
      "text/plain": [
       "   REGIS_TIME Triage Time  reg_sec  triage_sec  Wait_time\n",
       "26   21:44:24    21:44:00    78264       78240      86376\n",
       "42   14:36:06    14:36:00    52566       52560      86394\n",
       "50   18:42:38    18:41:00    67358       67260      86302\n",
       "69    9:16:01     9:14:00    33361       33240      86279\n",
       "75    6:21:20     6:21:00    22880       22860      86380"
      ]
     },
     "execution_count": 17,
     "metadata": {},
     "output_type": "execute_result"
    }
   ],
   "source": [
    "filter_check = df[\"Wait_min\"] > 300\n",
    "df_check = df.loc[filter_check, [\"REGIS_TIME\", \"Triage Time\", \"reg_sec\", \"triage_sec\", \"Wait_time\"]]\n",
    "df_check.head()"
   ]
  },
  {
   "cell_type": "markdown",
   "metadata": {},
   "source": [
    "In practice, it is common to have anomalous data. Moreover, anomalous data values are due mainly to two possible reasons:\n",
    "1. The way/logic you use to compute values is incorrect. (Logical error!)\n",
    "2. The data records are not correct. (Data entry error!)"
   ]
  },
  {
   "cell_type": "markdown",
   "metadata": {},
   "source": [
    "## Task 1-3\n",
    "<n>\n",
    "\n",
    "To make a staffing plan, which decides the number of nurses and doctors to serve patients, a deep understanding of patient arrivals is crucial. The staffing plan in practice will be made on an hourly basis (24 intervals) every day. Thus, please create a new column, `REGIS_HOUR`, in df. Moreover, the patients’ arrival pattern may vary by the day of a month. Please also create a new column, `REGIS_DAY`, in df."
   ]
  },
  {
   "cell_type": "code",
   "execution_count": null,
   "metadata": {},
   "outputs": [],
   "source": []
  },
  {
   "cell_type": "code",
   "execution_count": null,
   "metadata": {},
   "outputs": [],
   "source": []
  },
  {
   "cell_type": "code",
   "execution_count": null,
   "metadata": {},
   "outputs": [],
   "source": []
  },
  {
   "cell_type": "code",
   "execution_count": null,
   "metadata": {},
   "outputs": [],
   "source": []
  },
  {
   "cell_type": "markdown",
   "metadata": {},
   "source": [
    "## Task 1-4: Understand the hourly trend of patient arrivals in Singapore's public hospitals.\n",
    "<n>\n",
    "\n",
    "First, find out the average number of patient arrivals in each hour of a day. Then, please show the hourly trend of patient arrivals in Singapore's public hospitals.\n",
    "    \n",
    "To answer this question, we assume the arrival pattern is similar across different days. "
   ]
  },
  {
   "cell_type": "code",
   "execution_count": null,
   "metadata": {},
   "outputs": [],
   "source": []
  },
  {
   "cell_type": "code",
   "execution_count": null,
   "metadata": {},
   "outputs": [],
   "source": []
  },
  {
   "cell_type": "code",
   "execution_count": null,
   "metadata": {},
   "outputs": [],
   "source": []
  },
  {
   "cell_type": "code",
   "execution_count": null,
   "metadata": {},
   "outputs": [],
   "source": []
  },
  {
   "cell_type": "markdown",
   "metadata": {},
   "source": [
    "Draw a line chart to show the hourly trend of patient arrivals in Singapore's public hospitals. What is the conclusion you can draw from your chart?"
   ]
  },
  {
   "cell_type": "code",
   "execution_count": null,
   "metadata": {},
   "outputs": [],
   "source": []
  },
  {
   "cell_type": "code",
   "execution_count": null,
   "metadata": {},
   "outputs": [],
   "source": []
  },
  {
   "cell_type": "code",
   "execution_count": null,
   "metadata": {},
   "outputs": [],
   "source": []
  },
  {
   "cell_type": "code",
   "execution_count": null,
   "metadata": {},
   "outputs": [],
   "source": []
  },
  {
   "cell_type": "markdown",
   "metadata": {},
   "source": [
    "## Task 1-5\n",
    "<n>\n",
    "\n",
    "    The assumption that the arrival pattern is similar across different days is too strong to be true. Let's discuss the weekday effect (including Saturday and Sunday) on the arrival pattern of patients. Please create a `WEEKDAY` column in df. For example, if a patient's arrival occurred on 01/10/2011, the corresponding value in `WEEKDAY` column is Saturday."
   ]
  },
  {
   "cell_type": "code",
   "execution_count": null,
   "metadata": {},
   "outputs": [],
   "source": []
  },
  {
   "cell_type": "code",
   "execution_count": null,
   "metadata": {},
   "outputs": [],
   "source": []
  },
  {
   "cell_type": "code",
   "execution_count": null,
   "metadata": {},
   "outputs": [],
   "source": []
  },
  {
   "cell_type": "code",
   "execution_count": null,
   "metadata": {},
   "outputs": [],
   "source": []
  },
  {
   "cell_type": "markdown",
   "metadata": {},
   "source": [
    "## Task 1-6\n",
    "<n>\n",
    "    \n",
    "With the `WEEKDAY` column, please find out the average number of patient arrivals in each hour by weekday categories. Your answer should be a 7-by-24 table. "
   ]
  },
  {
   "cell_type": "code",
   "execution_count": null,
   "metadata": {},
   "outputs": [],
   "source": []
  },
  {
   "cell_type": "code",
   "execution_count": null,
   "metadata": {},
   "outputs": [],
   "source": []
  },
  {
   "cell_type": "code",
   "execution_count": null,
   "metadata": {},
   "outputs": [],
   "source": []
  },
  {
   "cell_type": "code",
   "execution_count": null,
   "metadata": {},
   "outputs": [],
   "source": []
  },
  {
   "cell_type": "markdown",
   "metadata": {},
   "source": [
    "## Task 1-7\n",
    "<n>\n",
    "\n",
    "Using the result of Task 1-6, draw a chart to show the hourly trend of patient arrivals in Singapore's public hospitals by different weekdays. What is the conclusion you can draw from your chart?"
   ]
  },
  {
   "cell_type": "code",
   "execution_count": null,
   "metadata": {},
   "outputs": [],
   "source": []
  },
  {
   "cell_type": "code",
   "execution_count": null,
   "metadata": {},
   "outputs": [],
   "source": []
  },
  {
   "cell_type": "code",
   "execution_count": null,
   "metadata": {},
   "outputs": [],
   "source": []
  },
  {
   "cell_type": "code",
   "execution_count": null,
   "metadata": {},
   "outputs": [],
   "source": []
  }
 ],
 "metadata": {
  "kernelspec": {
   "display_name": "Python 3",
   "language": "python",
   "name": "python3"
  },
  "language_info": {
   "codemirror_mode": {
    "name": "ipython",
    "version": 3
   },
   "file_extension": ".py",
   "mimetype": "text/x-python",
   "name": "python",
   "nbconvert_exporter": "python",
   "pygments_lexer": "ipython3",
   "version": "3.7.6"
  }
 },
 "nbformat": 4,
 "nbformat_minor": 2
}
