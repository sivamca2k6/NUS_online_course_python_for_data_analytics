{
 "cells": [
  {
   "cell_type": "markdown",
   "metadata": {},
   "source": [
    "# Week 2 - Required Assignment\n",
    "<n>\n",
    "\n",
    "Learning Objectives:\n",
    "1. Loops and iterations\n",
    "2. Conditional statements\n",
    "3. Control of Python strings"
   ]
  },
  {
   "cell_type": "markdown",
   "metadata": {},
   "source": [
    "# Question 1: Cheer Leader Chant (Extended)\n",
    "<n>\n",
    "    \n",
    "You may find that the \"Cheerleader\" program we discussed in the live session is not yet perfect. One of the most significant flaws is that it gives wrong articles for some of the letters. For example, the correct sentence should be \"Give me an I\", but the program would print \"Give me a I\". We, therefore, want to correct this mistake in the updated version of the \"Cheerleader\" program. Another change is to use upper case when each letter is shouted out. Write a program to incorporate these two changes in the \"Cheerleader\" program. A sample output is given below."
   ]
  },
  {
   "cell_type": "raw",
   "metadata": {},
   "source": [
    "What is your name? Stephen Curry\n",
    "Give me an S: \n",
    "S!!!\n",
    "Give me a T: \n",
    "T!!!\n",
    "Give me an E: \n",
    "E!!!\n",
    "Give me a P: \n",
    "P!!!\n",
    "Give me an H: \n",
    "H!!!\n",
    "Give me an E: \n",
    "E!!!\n",
    "Give me an N: \n",
    "N!!!\n",
    "Give me a C: \n",
    "C!!!\n",
    "Give me a U: \n",
    "U!!!\n",
    "Give me an R: \n",
    "R!!!\n",
    "Give me an R: \n",
    "R!!!\n",
    "Give me a Y: \n",
    "Y!!!\n",
    "What's that spell?\n",
    "Stephen Curry!!\n",
    "Go! Go! Stephen Curry!!"
   ]
  },
  {
   "cell_type": "markdown",
   "metadata": {},
   "source": [
    "**Solution:**\n"
   ]
  },
  {
   "cell_type": "code",
   "execution_count": 34,
   "metadata": {},
   "outputs": [
    {
     "name": "stdout",
     "output_type": "stream",
     "text": [
      "Waht is your name : sivakumar jaganathan\n",
      "Give me a S: \n",
      "S!!!\n",
      "Give me an I: \n",
      "I!!!\n",
      "Give me a V: \n",
      "V!!!\n",
      "Give me an A: \n",
      "A!!!\n",
      "Give me a K: \n",
      "K!!!\n",
      "Give me an U: \n",
      "U!!!\n",
      "Give me a M: \n",
      "M!!!\n",
      "Give me an A: \n",
      "A!!!\n",
      "Give me a R: \n",
      "R!!!\n",
      "Give me a J: \n",
      "J!!!\n",
      "Give me an A: \n",
      "A!!!\n",
      "Give me a G: \n",
      "G!!!\n",
      "Give me an A: \n",
      "A!!!\n",
      "Give me a N: \n",
      "N!!!\n",
      "Give me an A: \n",
      "A!!!\n",
      "Give me a T: \n",
      "T!!!\n",
      "Give me a H: \n",
      "H!!!\n",
      "Give me an A: \n",
      "A!!!\n",
      "Give me a N: \n",
      "N!!!\n",
      "What's that spell ?\n",
      "Sivakumar Jaganathan!!\n",
      "Go! Go! SIVAKUMAR JAGANATHAN!!\n"
     ]
    }
   ],
   "source": [
    "vowels = \"AEIOU\"\n",
    "name = input(\"Waht is your name : \")\n",
    "article = \"a\"\n",
    "for letter in name:\n",
    "    if letter == ' ':\n",
    "        continue \n",
    "        \n",
    "    letter = letter.upper()\n",
    "    \n",
    "    if(vowels.find(letter) ==  -1):\n",
    "        article = \"a\"\n",
    "    else:\n",
    "        article = \"an\"\n",
    "    \n",
    "    print(\"Give me \" + article + \" \"+ letter + \": \"  + \"\\n\" + letter + \"!!!\")\n",
    "    \n",
    "\n",
    "print(\"What's that spell ?\"+ \"\\n\" + name.title()  + \"!!\" + \"\\n\" + \"Go! Go! \" + name.upper() + \"!!\")\n",
    "\n"
   ]
  },
  {
   "cell_type": "markdown",
   "metadata": {},
   "source": [
    "## Question 2\n",
    "\n",
    "Write a program that asks the user to enter an integer. The program tells whether the given integer is a palindrome. An integer is a palindrome when it reads the same backward as forward. Several examples are given as follows."
   ]
  },
  {
   "cell_type": "markdown",
   "metadata": {},
   "source": [
    "Enter an integer: 1211\n",
    "1211 is not a palindrome.\n",
    "\n",
    "Enter an integer: -121\n",
    "-121 is a palindrome.\n",
    "\n",
    "Enter an integer: 5\n",
    "5 is a palindrome."
   ]
  },
  {
   "cell_type": "markdown",
   "metadata": {},
   "source": [
    "**Solution:**"
   ]
  },
  {
   "cell_type": "code",
   "execution_count": 14,
   "metadata": {},
   "outputs": [
    {
     "name": "stdout",
     "output_type": "stream",
     "text": [
      "Enter an integer : 121\n",
      "121\n",
      "121 is a palindrome\n"
     ]
    }
   ],
   "source": [
    "input_number = input(\"Enter an integer : \")\n",
    "print(str(input_number)[::-1])\n",
    "if(str(input_number) == str(input_number)[::-1]):\n",
    "    print(str(input_number) + \" is a palindrome\")\n",
    "else :\n",
    "     print(str(input_number) + \" is not a palindrome\")\n",
    "        \n",
    "        "
   ]
  },
  {
   "cell_type": "markdown",
   "metadata": {},
   "source": [
    "## Question 3\n",
    "Given a sentence entered by the user, write a program to identify the number of S's (both upper case and lower case) in the sentence. An example is given as follows."
   ]
  },
  {
   "cell_type": "markdown",
   "metadata": {},
   "source": [
    "Enter a sentence: Why so serious, son?\n",
    "The number of S's is 4"
   ]
  },
  {
   "cell_type": "markdown",
   "metadata": {},
   "source": [
    "**Solution:**"
   ]
  },
  {
   "cell_type": "code",
   "execution_count": 20,
   "metadata": {},
   "outputs": [
    {
     "name": "stdout",
     "output_type": "stream",
     "text": [
      "Enter a sentence : Why so serious, Son ?\n",
      "The number of Lower s's is 3\n",
      "The number of Upper S's is 1\n",
      "The number of S's (both upper case and lower case)  is 4\n"
     ]
    }
   ],
   "source": [
    "dd = input(\"Enter a sentence : \")\n",
    "lower_count=0\n",
    "upper_count=0\n",
    "for letter in dd:\n",
    "    if(letter == \"s\"):\n",
    "        lower_count = lower_count + 1\n",
    "    if(letter == \"S\"):     \n",
    "        upper_count = upper_count + 1\n",
    "    \n",
    "print(\"The number of Lower s's is \" + str(lower_count))    \n",
    "print(\"The number of Upper S's is \" + str(upper_count))    \n",
    "print(\"The number of S's (both upper case and lower case)  is \" + str(upper_count+lower_count))    \n"
   ]
  },
  {
   "cell_type": "code",
   "execution_count": 19,
   "metadata": {},
   "outputs": [
    {
     "name": "stdout",
     "output_type": "stream",
     "text": [
      "Enter Senetence : Why so serious, Son ?\n",
      "The number of S's (both upper case and lower case)  is 4\n"
     ]
    }
   ],
   "source": [
    "dd=input(\"Enter Senetence : \")\n",
    "count =0\n",
    "for letter in dd:\n",
    "    if(letter.upper() == \"S\"):\n",
    "        count = count + 1\n",
    "print(\"The number of S's (both upper case and lower case)  is \" + str(count))   "
   ]
  },
  {
   "cell_type": "markdown",
   "metadata": {},
   "source": [
    "## Question 4\n",
    "\n",
    "Write a number guessing game. In this game, a target integer between 1 and 99 is given. The user can enter an integer as a guess. If the guess is the same as the given target number, then print \"Bingo!\" and stop the program; otherwise, print \"Your guess is too small\" or \"Your guess is too large\" as the hint for the next guess and continue the guessing game. \n",
    "\n",
    "An example with the target number to be 65 is given below."
   ]
  },
  {
   "cell_type": "markdown",
   "metadata": {},
   "source": [
    "What is your guess? 50\n",
    "Your guess is too small.\n",
    "What is your guess? 75\n",
    "Your guess is too large.\n",
    "What is your guess? 62\n",
    "Your guess is too small.\n",
    "What is your guess? 68\n",
    "Your guess is too large.\n",
    "What is your guess? 65\n",
    "Bingo!"
   ]
  },
  {
   "cell_type": "markdown",
   "metadata": {},
   "source": [
    "**Solution:**"
   ]
  },
  {
   "cell_type": "code",
   "execution_count": 4,
   "metadata": {},
   "outputs": [
    {
     "name": "stdout",
     "output_type": "stream",
     "text": [
      "What is your guess ? 51\n",
      "51 Your guess is too small\n",
      "What is your guess ? 78\n",
      "78 Your guess is too large\n",
      "What is your guess ? 65\n",
      "65 Bingo\n"
     ]
    }
   ],
   "source": [
    "is_guess_sucess = False\n",
    "while not is_guess_sucess:\n",
    "    input_guess = int(input(\"What is your guess ? \"))\n",
    "    if input_guess == 65:\n",
    "        print(str(input_guess)+\" Bingo\")\n",
    "        is_guess_sucess = True\n",
    "    elif input_guess < 65 :\n",
    "         print(str(input_guess)+\" Your guess is too small\")\n",
    "    elif input_guess > 65 :\n",
    "         print(str(input_guess)+\" Your guess is too large\")\n",
    "            \n",
    "    \n",
    "        "
   ]
  }
 ],
 "metadata": {
  "kernelspec": {
   "display_name": "Python 3",
   "language": "python",
   "name": "python3"
  },
  "language_info": {
   "codemirror_mode": {
    "name": "ipython",
    "version": 3
   },
   "file_extension": ".py",
   "mimetype": "text/x-python",
   "name": "python",
   "nbconvert_exporter": "python",
   "pygments_lexer": "ipython3",
   "version": "3.8.3"
  }
 },
 "nbformat": 4,
 "nbformat_minor": 2
}
