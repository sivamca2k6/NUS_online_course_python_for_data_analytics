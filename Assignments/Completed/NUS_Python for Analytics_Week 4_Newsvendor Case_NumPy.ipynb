{
 "cells": [
  {
   "cell_type": "markdown",
   "metadata": {},
   "source": [
    "# Week 4 - Activities\n",
    "\n",
    "Learning objectives:\n",
    "1. Review discrete probability distribution\n",
    "2. NumPy arrays and element-wise operations\n",
    "3. Print strings with the method <code>format()</code>\n",
    "\n",
    "## Case Study: A Newsvendor Problem (Array Version)\n",
    "***Background***: In this case study, we will solve the previous newsvendor problem using NumPy arrays, in order to show the benefits of element-wise operations. The discrete probability distribution is again given as the following table.\n",
    "\n",
    "| $ $ |probabilities|paper1|paper2|\n",
    "|:----|:---------|:----------|:----------|\n",
    "|Sunny| 0.315 | 560  | 533 | \n",
    "|Cloudy | 0.226 | 530 | 486 | \n",
    "|Raining | 0.289 | 389 | 386 | \n",
    "|Thunderstorm| 0.087 | 202 | 234 |\n",
    "|Haze| 0.083 | 278 | 263 |\n",
    "\n",
    "The table above is expressed by the two-dimensional NumPy array <code>distr</code>."
   ]
  },
  {
   "cell_type": "code",
   "execution_count": 4,
   "metadata": {
    "scrolled": true
   },
   "outputs": [
    {
     "data": {
      "text/plain": [
       "array([[3.15e-01, 2.26e-01, 2.89e-01, 8.70e-02, 8.30e-02],\n",
       "       [5.60e+02, 5.30e+02, 3.89e+02, 2.02e+02, 2.78e+02],\n",
       "       [5.33e+02, 4.86e+02, 3.86e+02, 2.34e+02, 2.63e+02]])"
      ]
     },
     "execution_count": 4,
     "metadata": {},
     "output_type": "execute_result"
    }
   ],
   "source": [
    "import numpy as np\n",
    "\n",
    "distr = np.array([[0.315, 0.226, 0.289, 0.087, 0.083],\n",
    "                  [560, 530, 389, 202, 278],\n",
    "                  [533, 486, 386, 234, 263]])\n",
    "\n",
    "distr"
   ]
  },
  {
   "cell_type": "markdown",
   "metadata": {},
   "source": [
    "In this two-dimensional array, the first row represents the probabilities of all weather types, the second and the third rows are the demands of two newspapers under different weather conditions. "
   ]
  },
  {
   "cell_type": "markdown",
   "metadata": {},
   "source": [
    "### Task 1\n",
    "\n",
    "Calculate the expected values of the demands of <code>paper1</code> and <code>paper2</code>. \n",
    "\n",
    "***Solution***: Recalling that the mean value is expressed as\n",
    "$$\n",
    "\\mathbb{E}(D_{\\text{paper}}) = \\sum\\limits_{s=1}^S p_s d_s\n",
    "$$\n",
    "where $p_s$ is the probability, and $d_{s}$ is the demand of <code>paper</code>, under weather $s$. "
   ]
  },
  {
   "cell_type": "code",
   "execution_count": 5,
   "metadata": {},
   "outputs": [
    {
     "name": "stdout",
     "output_type": "stream",
     "text": [
      "demand for paper 1 is : 449.249\n",
      "demand for paper 2 is : 431.472\n"
     ]
    }
   ],
   "source": [
    "#paper 1\n",
    "exp1 = sum(distr[0]*distr[1])\n",
    "print(\"demand for paper 1 is : {0:0.3f}\".format(exp1))\n",
    "\n",
    "#paper 2\n",
    "exp2 = sum(distr[0]*distr[2])\n",
    "print(\"demand for paper 2 is : {0:0.3f}\".format(exp2))"
   ]
  },
  {
   "cell_type": "markdown",
   "metadata": {},
   "source": [
    "### Task 2\n",
    "Calculate the standard deviation of paper demands, expressed as \n",
    "$$\n",
    "\\sigma_D = \\sqrt{\\sum\\limits_{s=1}^S p_s (d_{s} - \\mathbb{E}(D_{\\text{paper}}))^2}\n",
    "$$\n",
    "\n",
    "***Solution***: \n",
    "\n",
    "The most convenient and practical way to calculate the standard deviations is to use the broadcasting of <code>NumPy</code> arrays. Please read this [chapter](https://jakevdp.github.io/PythonDataScienceHandbook/02.05-computation-on-arrays-broadcasting.html) of the reference book to learn this technique.\n",
    "\n",
    "In this chapter, you may need to use the method <code>reshape</code> of the array data object. Document of this method is given [here](https://numpy.org/doc/1.18/reference/generated/numpy.reshape.html)."
   ]
  },
  {
   "cell_type": "code",
   "execution_count": 6,
   "metadata": {},
   "outputs": [
    {
     "name": "stdout",
     "output_type": "stream",
     "text": [
      "The standard deviation of paper1 demand : 118.908\n",
      "The standard deviation of paper2 demand : 101.316\n"
     ]
    }
   ],
   "source": [
    "# The standard deviation of paper1 => solution1\n",
    "\n",
    "var1 = sum(distr[0] * (distr[1]-exp1)**2)\n",
    "std1 = var1 ** 0.5                                 \n",
    "print('The standard deviation of paper1 demand : {0:0.3f}'.format(std1))\n",
    "\n",
    "var2 = sum(distr[0] * (distr[2]-exp2)**2)\n",
    "std2 = var2 ** 0.5                                 \n",
    "print('The standard deviation of paper2 demand : {0:0.3f}'.format(std2))\n",
    "\n",
    "#print(distr.shape)\n",
    "\n",
    "# The standard deviation of paper1 => solution2 using reshape ??\n",
    "\n"
   ]
  },
  {
   "cell_type": "markdown",
   "metadata": {},
   "source": [
    "### Task 3\n",
    "Suppose that the costs of <code>paper1</code> and <code>paper2</code> are 0.6 and 0.8 dollars, and the selling prices of <code>paper1</code> and <code>paper2</code> are $\\$1.00$ and $\\$1.15$, respectively. Calculate the expected total profit if the newsboy has ordered 430 pieces of <code>paper1</code> and 380 pieces of <code>paper2</code>. \n",
    "\n",
    "**Solution**:\n",
    "\n",
    "The expected sold quantities can be firstly calculated as an array."
   ]
  },
  {
   "cell_type": "code",
   "execution_count": 18,
   "metadata": {
    "scrolled": false
   },
   "outputs": [
    {
     "name": "stdout",
     "output_type": "stream",
     "text": [
      "The expected total profit: $234.92\n"
     ]
    }
   ],
   "source": [
    "probs = distr[0]                              # Scenario probabilities\n",
    "demand1 = distr[1]                           # Demand of paper1\n",
    "demand2 = distr[2]                           # Demand of paper2\n",
    "\n",
    "order = np.array([430,380])\n",
    "cost1 = 0.6\n",
    "cost2 = 0.8\n",
    "price1 = 1.0\n",
    "price2 = 1.15\n",
    " \n",
    "exp_sold1 = sum(np.minimum(demand1,order[0]) * probs)\n",
    "#print(exp_sold1)\n",
    "exp_profit1 = exp_sold1*price1 - order[0]*cost1\n",
    "\n",
    "exp_sold2 = sum(np.minimum(demand2,order[1]) * probs)\n",
    "#print(exp_sold2)\n",
    "exp_profit2 = exp_sold2*price2 - order[1]*cost2\n",
    "\n",
    "print('The expected total profit: ${0:0.2f}'.format(exp_profit1 + exp_profit2))\n"
   ]
  },
  {
   "cell_type": "code",
   "execution_count": null,
   "metadata": {},
   "outputs": [],
   "source": []
  },
  {
   "cell_type": "markdown",
   "metadata": {},
   "source": [
    "By using the array of expected sold quantities, the expected profit can also be calculated via broadcasting and element-wise operations."
   ]
  },
  {
   "cell_type": "markdown",
   "metadata": {},
   "source": [
    "# Task 4\n",
    "\n",
    "Write a function <code>sold_fun</code> to calculate the expected sold quantities. The input arguments are:\n",
    "1. The order quantity as an one-dimensional array <code>order</code>.\n",
    "2. The discrete distribution expressed as a two-dimensional array <code>distr</code>.\n",
    "\n",
    "**Solution**:"
   ]
  },
  {
   "cell_type": "code",
   "execution_count": 25,
   "metadata": {},
   "outputs": [
    {
     "name": "stdout",
     "output_type": "stream",
     "text": [
      "Expected sold quantities 743.286\n"
     ]
    }
   ],
   "source": [
    "\n",
    "def sold_fun(order,distr):\n",
    "    exp_sold1 = sum(np.minimum(distr[1],order[0]) * distr[0])\n",
    "    exp_sold2 = sum(np.minimum(distr[2],order[1]) * distr[0])\n",
    "    return exp_sold1+exp_sold2\n",
    "    \n",
    "print(\"Expected sold quantities {0:0.3f}\".format(sold_fun(order,distr)))"
   ]
  },
  {
   "cell_type": "code",
   "execution_count": 29,
   "metadata": {
    "scrolled": true
   },
   "outputs": [
    {
     "name": "stdout",
     "output_type": "stream",
     "text": [
      "Expected sold quantities  Exp1 : 385.699 ; Exp2 : 357.587 ;  Total : 743.286 ;\n"
     ]
    }
   ],
   "source": [
    "\n",
    "def sold_fun(order_p,probs,demand):\n",
    "    exp_sold = sum(np.minimum(demand,order_p) * probs)\n",
    "    return exp_sold\n",
    "\n",
    "exp_sold1 = sold_fun(order[0],distr[0],distr[1])\n",
    "exp_sold2 = sold_fun(order[1],distr[0],distr[2])\n",
    "\n",
    "print(\"Expected sold quantities  Exp1 : {0:0.3f} ; Exp2 : {1:0.3f} ;  Total : {2:0.3f} ;\".format(exp_sold1,exp_sold2,exp_sold1+exp_sold2))\n",
    "    "
   ]
  }
 ],
 "metadata": {
  "kernelspec": {
   "display_name": "Python 3",
   "language": "python",
   "name": "python3"
  },
  "language_info": {
   "codemirror_mode": {
    "name": "ipython",
    "version": 3
   },
   "file_extension": ".py",
   "mimetype": "text/x-python",
   "name": "python",
   "nbconvert_exporter": "python",
   "pygments_lexer": "ipython3",
   "version": "3.8.3"
  }
 },
 "nbformat": 4,
 "nbformat_minor": 2
}
