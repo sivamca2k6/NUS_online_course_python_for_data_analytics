{
 "cells": [
  {
   "cell_type": "markdown",
   "metadata": {},
   "source": [
    "# Case Study - Babies' names in the US from 1880 to 2015\n",
    "\n",
    "## Learning Objectives:\n",
    "1. Perform group-wise operations using Pandas\n",
    "2. Familiar with Pandas’s groupby objects \n",
    "3. Practice aggregate, filter and apply functions in Pandas  "
   ]
  },
  {
   "cell_type": "code",
   "execution_count": 1,
   "metadata": {},
   "outputs": [],
   "source": [
    "import numpy as np\n",
    "import pandas as pd"
   ]
  },
  {
   "cell_type": "markdown",
   "metadata": {},
   "source": [
    "<i><b>Background</b></i>: The dataset, `babynames.csv`, keeps the record of all the male/female baby names in the US from 1880 to 2015, together with their corresponding count (\"n\") and proportion (\"prop\") among all the new borns in that year. We will use this dataset to practice group-wise operations using Pandas."
   ]
  },
  {
   "cell_type": "markdown",
   "metadata": {},
   "source": [
    "### Load data"
   ]
  },
  {
   "cell_type": "code",
   "execution_count": 2,
   "metadata": {},
   "outputs": [],
   "source": [
    "babynames = pd.read_csv(\"babynames.csv\")\n",
    "\n",
    "df = babynames"
   ]
  },
  {
   "cell_type": "code",
   "execution_count": 3,
   "metadata": {},
   "outputs": [
    {
     "data": {
      "text/html": [
       "<div>\n",
       "<style scoped>\n",
       "    .dataframe tbody tr th:only-of-type {\n",
       "        vertical-align: middle;\n",
       "    }\n",
       "\n",
       "    .dataframe tbody tr th {\n",
       "        vertical-align: top;\n",
       "    }\n",
       "\n",
       "    .dataframe thead th {\n",
       "        text-align: right;\n",
       "    }\n",
       "</style>\n",
       "<table border=\"1\" class=\"dataframe\">\n",
       "  <thead>\n",
       "    <tr style=\"text-align: right;\">\n",
       "      <th></th>\n",
       "      <th>year</th>\n",
       "      <th>sex</th>\n",
       "      <th>name</th>\n",
       "      <th>n</th>\n",
       "      <th>prop</th>\n",
       "    </tr>\n",
       "  </thead>\n",
       "  <tbody>\n",
       "    <tr>\n",
       "      <th>0</th>\n",
       "      <td>1880</td>\n",
       "      <td>F</td>\n",
       "      <td>Mary</td>\n",
       "      <td>7065</td>\n",
       "      <td>0.072384</td>\n",
       "    </tr>\n",
       "    <tr>\n",
       "      <th>1</th>\n",
       "      <td>1880</td>\n",
       "      <td>F</td>\n",
       "      <td>Anna</td>\n",
       "      <td>2604</td>\n",
       "      <td>0.026679</td>\n",
       "    </tr>\n",
       "    <tr>\n",
       "      <th>2</th>\n",
       "      <td>1880</td>\n",
       "      <td>F</td>\n",
       "      <td>Emma</td>\n",
       "      <td>2003</td>\n",
       "      <td>0.020522</td>\n",
       "    </tr>\n",
       "    <tr>\n",
       "      <th>3</th>\n",
       "      <td>1880</td>\n",
       "      <td>F</td>\n",
       "      <td>Elizabeth</td>\n",
       "      <td>1939</td>\n",
       "      <td>0.019866</td>\n",
       "    </tr>\n",
       "    <tr>\n",
       "      <th>4</th>\n",
       "      <td>1880</td>\n",
       "      <td>F</td>\n",
       "      <td>Minnie</td>\n",
       "      <td>1746</td>\n",
       "      <td>0.017889</td>\n",
       "    </tr>\n",
       "    <tr>\n",
       "      <th>5</th>\n",
       "      <td>1880</td>\n",
       "      <td>F</td>\n",
       "      <td>Margaret</td>\n",
       "      <td>1578</td>\n",
       "      <td>0.016167</td>\n",
       "    </tr>\n",
       "    <tr>\n",
       "      <th>6</th>\n",
       "      <td>1880</td>\n",
       "      <td>F</td>\n",
       "      <td>Ida</td>\n",
       "      <td>1472</td>\n",
       "      <td>0.015081</td>\n",
       "    </tr>\n",
       "    <tr>\n",
       "      <th>7</th>\n",
       "      <td>1880</td>\n",
       "      <td>F</td>\n",
       "      <td>Alice</td>\n",
       "      <td>1414</td>\n",
       "      <td>0.014487</td>\n",
       "    </tr>\n",
       "    <tr>\n",
       "      <th>8</th>\n",
       "      <td>1880</td>\n",
       "      <td>F</td>\n",
       "      <td>Bertha</td>\n",
       "      <td>1320</td>\n",
       "      <td>0.013524</td>\n",
       "    </tr>\n",
       "    <tr>\n",
       "      <th>9</th>\n",
       "      <td>1880</td>\n",
       "      <td>F</td>\n",
       "      <td>Sarah</td>\n",
       "      <td>1288</td>\n",
       "      <td>0.013196</td>\n",
       "    </tr>\n",
       "  </tbody>\n",
       "</table>\n",
       "</div>"
      ],
      "text/plain": [
       "   year sex       name     n      prop\n",
       "0  1880   F       Mary  7065  0.072384\n",
       "1  1880   F       Anna  2604  0.026679\n",
       "2  1880   F       Emma  2003  0.020522\n",
       "3  1880   F  Elizabeth  1939  0.019866\n",
       "4  1880   F     Minnie  1746  0.017889\n",
       "5  1880   F   Margaret  1578  0.016167\n",
       "6  1880   F        Ida  1472  0.015081\n",
       "7  1880   F      Alice  1414  0.014487\n",
       "8  1880   F     Bertha  1320  0.013524\n",
       "9  1880   F      Sarah  1288  0.013196"
      ]
     },
     "execution_count": 3,
     "metadata": {},
     "output_type": "execute_result"
    }
   ],
   "source": [
    "df.head(10)"
   ]
  },
  {
   "cell_type": "markdown",
   "metadata": {},
   "source": [
    "### Task 1. On Hilary"
   ]
  },
  {
   "cell_type": "markdown",
   "metadata": {},
   "source": [
    "Let's focus on a particular baby name first."
   ]
  },
  {
   "cell_type": "code",
   "execution_count": 4,
   "metadata": {},
   "outputs": [],
   "source": [
    "babynames_Hilary = babynames.loc[babynames['name'].str.contains('Hilary', regex=True)]\n",
    "\n"
   ]
  },
  {
   "cell_type": "markdown",
   "metadata": {
    "collapsed": true
   },
   "source": [
    "### Task 1-1. List the numbers of male and female Hilary for each year"
   ]
  },
  {
   "cell_type": "code",
   "execution_count": 5,
   "metadata": {},
   "outputs": [
    {
     "data": {
      "text/html": [
       "<div>\n",
       "<style scoped>\n",
       "    .dataframe tbody tr th:only-of-type {\n",
       "        vertical-align: middle;\n",
       "    }\n",
       "\n",
       "    .dataframe tbody tr th {\n",
       "        vertical-align: top;\n",
       "    }\n",
       "\n",
       "    .dataframe thead th {\n",
       "        text-align: right;\n",
       "    }\n",
       "</style>\n",
       "<table border=\"1\" class=\"dataframe\">\n",
       "  <thead>\n",
       "    <tr style=\"text-align: right;\">\n",
       "      <th></th>\n",
       "      <th>year</th>\n",
       "      <th>sex</th>\n",
       "      <th>name</th>\n",
       "      <th>n</th>\n",
       "      <th>prop</th>\n",
       "    </tr>\n",
       "  </thead>\n",
       "  <tbody>\n",
       "    <tr>\n",
       "      <th>5757</th>\n",
       "      <td>1882</td>\n",
       "      <td>M</td>\n",
       "      <td>Hilary</td>\n",
       "      <td>7</td>\n",
       "      <td>0.000057</td>\n",
       "    </tr>\n",
       "    <tr>\n",
       "      <th>7952</th>\n",
       "      <td>1883</td>\n",
       "      <td>M</td>\n",
       "      <td>Hilary</td>\n",
       "      <td>6</td>\n",
       "      <td>0.000053</td>\n",
       "    </tr>\n",
       "    <tr>\n",
       "      <th>17221</th>\n",
       "      <td>1887</td>\n",
       "      <td>M</td>\n",
       "      <td>Hilary</td>\n",
       "      <td>7</td>\n",
       "      <td>0.000064</td>\n",
       "    </tr>\n",
       "    <tr>\n",
       "      <th>27703</th>\n",
       "      <td>1891</td>\n",
       "      <td>M</td>\n",
       "      <td>Hilary</td>\n",
       "      <td>8</td>\n",
       "      <td>0.000073</td>\n",
       "    </tr>\n",
       "    <tr>\n",
       "      <th>42705</th>\n",
       "      <td>1896</td>\n",
       "      <td>M</td>\n",
       "      <td>Hilary</td>\n",
       "      <td>6</td>\n",
       "      <td>0.000046</td>\n",
       "    </tr>\n",
       "    <tr>\n",
       "      <th>...</th>\n",
       "      <td>...</td>\n",
       "      <td>...</td>\n",
       "      <td>...</td>\n",
       "      <td>...</td>\n",
       "      <td>...</td>\n",
       "    </tr>\n",
       "    <tr>\n",
       "      <th>1694105</th>\n",
       "      <td>2011</td>\n",
       "      <td>F</td>\n",
       "      <td>Hilary</td>\n",
       "      <td>79</td>\n",
       "      <td>0.000041</td>\n",
       "    </tr>\n",
       "    <tr>\n",
       "      <th>1728086</th>\n",
       "      <td>2012</td>\n",
       "      <td>F</td>\n",
       "      <td>Hilary</td>\n",
       "      <td>75</td>\n",
       "      <td>0.000039</td>\n",
       "    </tr>\n",
       "    <tr>\n",
       "      <th>1761989</th>\n",
       "      <td>2013</td>\n",
       "      <td>F</td>\n",
       "      <td>Hilary</td>\n",
       "      <td>66</td>\n",
       "      <td>0.000034</td>\n",
       "    </tr>\n",
       "    <tr>\n",
       "      <th>1795403</th>\n",
       "      <td>2014</td>\n",
       "      <td>F</td>\n",
       "      <td>Hilary</td>\n",
       "      <td>60</td>\n",
       "      <td>0.000031</td>\n",
       "    </tr>\n",
       "    <tr>\n",
       "      <th>1828860</th>\n",
       "      <td>2015</td>\n",
       "      <td>F</td>\n",
       "      <td>Hilary</td>\n",
       "      <td>53</td>\n",
       "      <td>0.000027</td>\n",
       "    </tr>\n",
       "  </tbody>\n",
       "</table>\n",
       "<p>191 rows × 5 columns</p>\n",
       "</div>"
      ],
      "text/plain": [
       "         year sex    name   n      prop\n",
       "5757     1882   M  Hilary   7  0.000057\n",
       "7952     1883   M  Hilary   6  0.000053\n",
       "17221    1887   M  Hilary   7  0.000064\n",
       "27703    1891   M  Hilary   8  0.000073\n",
       "42705    1896   M  Hilary   6  0.000046\n",
       "...       ...  ..     ...  ..       ...\n",
       "1694105  2011   F  Hilary  79  0.000041\n",
       "1728086  2012   F  Hilary  75  0.000039\n",
       "1761989  2013   F  Hilary  66  0.000034\n",
       "1795403  2014   F  Hilary  60  0.000031\n",
       "1828860  2015   F  Hilary  53  0.000027\n",
       "\n",
       "[191 rows x 5 columns]"
      ]
     },
     "execution_count": 5,
     "metadata": {},
     "output_type": "execute_result"
    }
   ],
   "source": [
    "babynames_Hilary.head(5)\n",
    "babynames_Hilary"
   ]
  },
  {
   "cell_type": "code",
   "execution_count": 6,
   "metadata": {},
   "outputs": [
    {
     "data": {
      "text/plain": [
       "M    97\n",
       "F    94\n",
       "Name: sex, dtype: int64"
      ]
     },
     "execution_count": 6,
     "metadata": {},
     "output_type": "execute_result"
    }
   ],
   "source": [
    "babynames_Hilary[\"sex\"].value_counts()"
   ]
  },
  {
   "cell_type": "markdown",
   "metadata": {},
   "source": [
    "### Task 2. Group-wise operations"
   ]
  },
  {
   "cell_type": "markdown",
   "metadata": {},
   "source": [
    "### Task 2-1. Count the number of names by year and sex"
   ]
  },
  {
   "cell_type": "code",
   "execution_count": 7,
   "metadata": {},
   "outputs": [
    {
     "data": {
      "text/html": [
       "<div>\n",
       "<style scoped>\n",
       "    .dataframe tbody tr th:only-of-type {\n",
       "        vertical-align: middle;\n",
       "    }\n",
       "\n",
       "    .dataframe tbody tr th {\n",
       "        vertical-align: top;\n",
       "    }\n",
       "\n",
       "    .dataframe thead th {\n",
       "        text-align: right;\n",
       "    }\n",
       "</style>\n",
       "<table border=\"1\" class=\"dataframe\">\n",
       "  <thead>\n",
       "    <tr style=\"text-align: right;\">\n",
       "      <th></th>\n",
       "      <th></th>\n",
       "      <th></th>\n",
       "      <th>n</th>\n",
       "      <th>prop</th>\n",
       "    </tr>\n",
       "    <tr>\n",
       "      <th>name</th>\n",
       "      <th>year</th>\n",
       "      <th>sex</th>\n",
       "      <th></th>\n",
       "      <th></th>\n",
       "    </tr>\n",
       "  </thead>\n",
       "  <tbody>\n",
       "    <tr>\n",
       "      <th rowspan=\"5\" valign=\"top\">Aaban</th>\n",
       "      <th>2007</th>\n",
       "      <th>M</th>\n",
       "      <td>5</td>\n",
       "      <td>0.000002</td>\n",
       "    </tr>\n",
       "    <tr>\n",
       "      <th>2009</th>\n",
       "      <th>M</th>\n",
       "      <td>6</td>\n",
       "      <td>0.000003</td>\n",
       "    </tr>\n",
       "    <tr>\n",
       "      <th>2010</th>\n",
       "      <th>M</th>\n",
       "      <td>9</td>\n",
       "      <td>0.000004</td>\n",
       "    </tr>\n",
       "    <tr>\n",
       "      <th>2011</th>\n",
       "      <th>M</th>\n",
       "      <td>11</td>\n",
       "      <td>0.000005</td>\n",
       "    </tr>\n",
       "    <tr>\n",
       "      <th>2012</th>\n",
       "      <th>M</th>\n",
       "      <td>11</td>\n",
       "      <td>0.000005</td>\n",
       "    </tr>\n",
       "    <tr>\n",
       "      <th>...</th>\n",
       "      <th>...</th>\n",
       "      <th>...</th>\n",
       "      <td>...</td>\n",
       "      <td>...</td>\n",
       "    </tr>\n",
       "    <tr>\n",
       "      <th>Zyvion</th>\n",
       "      <th>2009</th>\n",
       "      <th>M</th>\n",
       "      <td>5</td>\n",
       "      <td>0.000002</td>\n",
       "    </tr>\n",
       "    <tr>\n",
       "      <th>Zyvon</th>\n",
       "      <th>2015</th>\n",
       "      <th>M</th>\n",
       "      <td>6</td>\n",
       "      <td>0.000003</td>\n",
       "    </tr>\n",
       "    <tr>\n",
       "      <th>Zyyanna</th>\n",
       "      <th>2010</th>\n",
       "      <th>F</th>\n",
       "      <td>6</td>\n",
       "      <td>0.000003</td>\n",
       "    </tr>\n",
       "    <tr>\n",
       "      <th>Zyyon</th>\n",
       "      <th>2014</th>\n",
       "      <th>M</th>\n",
       "      <td>6</td>\n",
       "      <td>0.000003</td>\n",
       "    </tr>\n",
       "    <tr>\n",
       "      <th>Zzyzx</th>\n",
       "      <th>2010</th>\n",
       "      <th>M</th>\n",
       "      <td>5</td>\n",
       "      <td>0.000002</td>\n",
       "    </tr>\n",
       "  </tbody>\n",
       "</table>\n",
       "<p>1858689 rows × 2 columns</p>\n",
       "</div>"
      ],
      "text/plain": [
       "                   n      prop\n",
       "name    year sex              \n",
       "Aaban   2007 M     5  0.000002\n",
       "        2009 M     6  0.000003\n",
       "        2010 M     9  0.000004\n",
       "        2011 M    11  0.000005\n",
       "        2012 M    11  0.000005\n",
       "...               ..       ...\n",
       "Zyvion  2009 M     5  0.000002\n",
       "Zyvon   2015 M     6  0.000003\n",
       "Zyyanna 2010 F     6  0.000003\n",
       "Zyyon   2014 M     6  0.000003\n",
       "Zzyzx   2010 M     5  0.000002\n",
       "\n",
       "[1858689 rows x 2 columns]"
      ]
     },
     "execution_count": 7,
     "metadata": {},
     "output_type": "execute_result"
    }
   ],
   "source": [
    "df.groupby(['name','year', 'sex']).sum()\n",
    "\n"
   ]
  },
  {
   "cell_type": "markdown",
   "metadata": {},
   "source": [
    "### Task 2-2. Calculate ranking of each name for each year and sex combination. Which names were most popular in 1999? （Hint: ranking can be calculated with argsort())"
   ]
  },
  {
   "cell_type": "code",
   "execution_count": 8,
   "metadata": {},
   "outputs": [
    {
     "data": {
      "text/html": [
       "<div>\n",
       "<style scoped>\n",
       "    .dataframe tbody tr th:only-of-type {\n",
       "        vertical-align: middle;\n",
       "    }\n",
       "\n",
       "    .dataframe tbody tr th {\n",
       "        vertical-align: top;\n",
       "    }\n",
       "\n",
       "    .dataframe thead th {\n",
       "        text-align: right;\n",
       "    }\n",
       "</style>\n",
       "<table border=\"1\" class=\"dataframe\">\n",
       "  <thead>\n",
       "    <tr style=\"text-align: right;\">\n",
       "      <th></th>\n",
       "      <th>year</th>\n",
       "      <th>sex</th>\n",
       "      <th>name</th>\n",
       "      <th>n</th>\n",
       "      <th>prop</th>\n",
       "      <th>ranking</th>\n",
       "    </tr>\n",
       "  </thead>\n",
       "  <tbody>\n",
       "    <tr>\n",
       "      <th>0</th>\n",
       "      <td>1880</td>\n",
       "      <td>F</td>\n",
       "      <td>Mary</td>\n",
       "      <td>7065</td>\n",
       "      <td>0.072384</td>\n",
       "      <td>1858688</td>\n",
       "    </tr>\n",
       "    <tr>\n",
       "      <th>1</th>\n",
       "      <td>1880</td>\n",
       "      <td>F</td>\n",
       "      <td>Anna</td>\n",
       "      <td>2604</td>\n",
       "      <td>0.026679</td>\n",
       "      <td>819156</td>\n",
       "    </tr>\n",
       "    <tr>\n",
       "      <th>2</th>\n",
       "      <td>1880</td>\n",
       "      <td>F</td>\n",
       "      <td>Emma</td>\n",
       "      <td>2003</td>\n",
       "      <td>0.020522</td>\n",
       "      <td>819155</td>\n",
       "    </tr>\n",
       "    <tr>\n",
       "      <th>3</th>\n",
       "      <td>1880</td>\n",
       "      <td>F</td>\n",
       "      <td>Elizabeth</td>\n",
       "      <td>1939</td>\n",
       "      <td>0.019866</td>\n",
       "      <td>819154</td>\n",
       "    </tr>\n",
       "    <tr>\n",
       "      <th>4</th>\n",
       "      <td>1880</td>\n",
       "      <td>F</td>\n",
       "      <td>Minnie</td>\n",
       "      <td>1746</td>\n",
       "      <td>0.017889</td>\n",
       "      <td>819153</td>\n",
       "    </tr>\n",
       "    <tr>\n",
       "      <th>...</th>\n",
       "      <td>...</td>\n",
       "      <td>...</td>\n",
       "      <td>...</td>\n",
       "      <td>...</td>\n",
       "      <td>...</td>\n",
       "      <td>...</td>\n",
       "    </tr>\n",
       "    <tr>\n",
       "      <th>1858684</th>\n",
       "      <td>2015</td>\n",
       "      <td>M</td>\n",
       "      <td>Zykell</td>\n",
       "      <td>5</td>\n",
       "      <td>0.000002</td>\n",
       "      <td>437157</td>\n",
       "    </tr>\n",
       "    <tr>\n",
       "      <th>1858685</th>\n",
       "      <td>2015</td>\n",
       "      <td>M</td>\n",
       "      <td>Zyking</td>\n",
       "      <td>5</td>\n",
       "      <td>0.000002</td>\n",
       "      <td>544606</td>\n",
       "    </tr>\n",
       "    <tr>\n",
       "      <th>1858686</th>\n",
       "      <td>2015</td>\n",
       "      <td>M</td>\n",
       "      <td>Zykir</td>\n",
       "      <td>5</td>\n",
       "      <td>0.000002</td>\n",
       "      <td>437156</td>\n",
       "    </tr>\n",
       "    <tr>\n",
       "      <th>1858687</th>\n",
       "      <td>2015</td>\n",
       "      <td>M</td>\n",
       "      <td>Zyrus</td>\n",
       "      <td>5</td>\n",
       "      <td>0.000002</td>\n",
       "      <td>441423</td>\n",
       "    </tr>\n",
       "    <tr>\n",
       "      <th>1858688</th>\n",
       "      <td>2015</td>\n",
       "      <td>M</td>\n",
       "      <td>Zyus</td>\n",
       "      <td>5</td>\n",
       "      <td>0.000002</td>\n",
       "      <td>431053</td>\n",
       "    </tr>\n",
       "  </tbody>\n",
       "</table>\n",
       "<p>1858689 rows × 6 columns</p>\n",
       "</div>"
      ],
      "text/plain": [
       "         year sex       name     n      prop  ranking\n",
       "0        1880   F       Mary  7065  0.072384  1858688\n",
       "1        1880   F       Anna  2604  0.026679   819156\n",
       "2        1880   F       Emma  2003  0.020522   819155\n",
       "3        1880   F  Elizabeth  1939  0.019866   819154\n",
       "4        1880   F     Minnie  1746  0.017889   819153\n",
       "...       ...  ..        ...   ...       ...      ...\n",
       "1858684  2015   M     Zykell     5  0.000002   437157\n",
       "1858685  2015   M     Zyking     5  0.000002   544606\n",
       "1858686  2015   M      Zykir     5  0.000002   437156\n",
       "1858687  2015   M      Zyrus     5  0.000002   441423\n",
       "1858688  2015   M       Zyus     5  0.000002   431053\n",
       "\n",
       "[1858689 rows x 6 columns]"
      ]
     },
     "execution_count": 8,
     "metadata": {},
     "output_type": "execute_result"
    }
   ],
   "source": [
    "#df.sort_values(['name', 'year', 'sex'])\n",
    "#f.groupby(['prop','name', 'year','sex']).sum()\n",
    "#f.head(-1000)\n",
    "\n",
    "\n",
    "df1 = df\n",
    "df1 [\"ranking\"] = df1[\"n\"].values.argsort()\n",
    "df1"
   ]
  },
  {
   "cell_type": "markdown",
   "metadata": {},
   "source": [
    "### Task 2-3. What are the Top 10 in overall name popularity (in terms of total \"n\") by \"sex\"?"
   ]
  },
  {
   "cell_type": "code",
   "execution_count": 14,
   "metadata": {},
   "outputs": [
    {
     "data": {
      "text/html": [
       "<div>\n",
       "<style scoped>\n",
       "    .dataframe tbody tr th:only-of-type {\n",
       "        vertical-align: middle;\n",
       "    }\n",
       "\n",
       "    .dataframe tbody tr th {\n",
       "        vertical-align: top;\n",
       "    }\n",
       "\n",
       "    .dataframe thead th {\n",
       "        text-align: right;\n",
       "    }\n",
       "</style>\n",
       "<table border=\"1\" class=\"dataframe\">\n",
       "  <thead>\n",
       "    <tr style=\"text-align: right;\">\n",
       "      <th></th>\n",
       "      <th>year</th>\n",
       "      <th>sex</th>\n",
       "      <th>name</th>\n",
       "      <th>n</th>\n",
       "      <th>prop</th>\n",
       "      <th>ranking</th>\n",
       "    </tr>\n",
       "  </thead>\n",
       "  <tbody>\n",
       "    <tr>\n",
       "      <th>0</th>\n",
       "      <td>1880</td>\n",
       "      <td>F</td>\n",
       "      <td>Mary</td>\n",
       "      <td>7065</td>\n",
       "      <td>0.072384</td>\n",
       "      <td>1858688</td>\n",
       "    </tr>\n",
       "    <tr>\n",
       "      <th>1</th>\n",
       "      <td>1880</td>\n",
       "      <td>F</td>\n",
       "      <td>Anna</td>\n",
       "      <td>2604</td>\n",
       "      <td>0.026679</td>\n",
       "      <td>819156</td>\n",
       "    </tr>\n",
       "    <tr>\n",
       "      <th>2</th>\n",
       "      <td>1880</td>\n",
       "      <td>F</td>\n",
       "      <td>Emma</td>\n",
       "      <td>2003</td>\n",
       "      <td>0.020522</td>\n",
       "      <td>819155</td>\n",
       "    </tr>\n",
       "    <tr>\n",
       "      <th>3</th>\n",
       "      <td>1880</td>\n",
       "      <td>F</td>\n",
       "      <td>Elizabeth</td>\n",
       "      <td>1939</td>\n",
       "      <td>0.019866</td>\n",
       "      <td>819154</td>\n",
       "    </tr>\n",
       "    <tr>\n",
       "      <th>4</th>\n",
       "      <td>1880</td>\n",
       "      <td>F</td>\n",
       "      <td>Minnie</td>\n",
       "      <td>1746</td>\n",
       "      <td>0.017889</td>\n",
       "      <td>819153</td>\n",
       "    </tr>\n",
       "  </tbody>\n",
       "</table>\n",
       "</div>"
      ],
      "text/plain": [
       "   year sex       name     n      prop  ranking\n",
       "0  1880   F       Mary  7065  0.072384  1858688\n",
       "1  1880   F       Anna  2604  0.026679   819156\n",
       "2  1880   F       Emma  2003  0.020522   819155\n",
       "3  1880   F  Elizabeth  1939  0.019866   819154\n",
       "4  1880   F     Minnie  1746  0.017889   819153"
      ]
     },
     "execution_count": 14,
     "metadata": {},
     "output_type": "execute_result"
    }
   ],
   "source": [
    "df1_Female = df[\"sex\"] == \"F\"   # filtering all Female\n",
    "df1_F = df[df1_Female].head(10)\n",
    "\n",
    "df1_F"
   ]
  },
  {
   "cell_type": "code",
   "execution_count": 15,
   "metadata": {},
   "outputs": [
    {
     "data": {
      "text/html": [
       "<div>\n",
       "<style scoped>\n",
       "    .dataframe tbody tr th:only-of-type {\n",
       "        vertical-align: middle;\n",
       "    }\n",
       "\n",
       "    .dataframe tbody tr th {\n",
       "        vertical-align: top;\n",
       "    }\n",
       "\n",
       "    .dataframe thead th {\n",
       "        text-align: right;\n",
       "    }\n",
       "</style>\n",
       "<table border=\"1\" class=\"dataframe\">\n",
       "  <thead>\n",
       "    <tr style=\"text-align: right;\">\n",
       "      <th></th>\n",
       "      <th>year</th>\n",
       "      <th>sex</th>\n",
       "      <th>name</th>\n",
       "      <th>n</th>\n",
       "      <th>prop</th>\n",
       "      <th>ranking</th>\n",
       "    </tr>\n",
       "  </thead>\n",
       "  <tbody>\n",
       "    <tr>\n",
       "      <th>942</th>\n",
       "      <td>1880</td>\n",
       "      <td>M</td>\n",
       "      <td>John</td>\n",
       "      <td>9655</td>\n",
       "      <td>0.081546</td>\n",
       "      <td>818935</td>\n",
       "    </tr>\n",
       "    <tr>\n",
       "      <th>943</th>\n",
       "      <td>1880</td>\n",
       "      <td>M</td>\n",
       "      <td>William</td>\n",
       "      <td>9531</td>\n",
       "      <td>0.080499</td>\n",
       "      <td>818941</td>\n",
       "    </tr>\n",
       "    <tr>\n",
       "      <th>944</th>\n",
       "      <td>1880</td>\n",
       "      <td>M</td>\n",
       "      <td>James</td>\n",
       "      <td>5927</td>\n",
       "      <td>0.050060</td>\n",
       "      <td>818934</td>\n",
       "    </tr>\n",
       "    <tr>\n",
       "      <th>945</th>\n",
       "      <td>1880</td>\n",
       "      <td>M</td>\n",
       "      <td>Charles</td>\n",
       "      <td>5348</td>\n",
       "      <td>0.045169</td>\n",
       "      <td>818932</td>\n",
       "    </tr>\n",
       "    <tr>\n",
       "      <th>946</th>\n",
       "      <td>1880</td>\n",
       "      <td>M</td>\n",
       "      <td>George</td>\n",
       "      <td>5126</td>\n",
       "      <td>0.043294</td>\n",
       "      <td>818931</td>\n",
       "    </tr>\n",
       "    <tr>\n",
       "      <th>947</th>\n",
       "      <td>1880</td>\n",
       "      <td>M</td>\n",
       "      <td>Frank</td>\n",
       "      <td>3242</td>\n",
       "      <td>0.027382</td>\n",
       "      <td>818930</td>\n",
       "    </tr>\n",
       "    <tr>\n",
       "      <th>948</th>\n",
       "      <td>1880</td>\n",
       "      <td>M</td>\n",
       "      <td>Joseph</td>\n",
       "      <td>2632</td>\n",
       "      <td>0.022230</td>\n",
       "      <td>818929</td>\n",
       "    </tr>\n",
       "    <tr>\n",
       "      <th>949</th>\n",
       "      <td>1880</td>\n",
       "      <td>M</td>\n",
       "      <td>Thomas</td>\n",
       "      <td>2534</td>\n",
       "      <td>0.021402</td>\n",
       "      <td>818928</td>\n",
       "    </tr>\n",
       "    <tr>\n",
       "      <th>950</th>\n",
       "      <td>1880</td>\n",
       "      <td>M</td>\n",
       "      <td>Henry</td>\n",
       "      <td>2444</td>\n",
       "      <td>0.020642</td>\n",
       "      <td>818927</td>\n",
       "    </tr>\n",
       "    <tr>\n",
       "      <th>951</th>\n",
       "      <td>1880</td>\n",
       "      <td>M</td>\n",
       "      <td>Robert</td>\n",
       "      <td>2415</td>\n",
       "      <td>0.020397</td>\n",
       "      <td>818933</td>\n",
       "    </tr>\n",
       "  </tbody>\n",
       "</table>\n",
       "</div>"
      ],
      "text/plain": [
       "     year sex     name     n      prop  ranking\n",
       "942  1880   M     John  9655  0.081546   818935\n",
       "943  1880   M  William  9531  0.080499   818941\n",
       "944  1880   M    James  5927  0.050060   818934\n",
       "945  1880   M  Charles  5348  0.045169   818932\n",
       "946  1880   M   George  5126  0.043294   818931\n",
       "947  1880   M    Frank  3242  0.027382   818930\n",
       "948  1880   M   Joseph  2632  0.022230   818929\n",
       "949  1880   M   Thomas  2534  0.021402   818928\n",
       "950  1880   M    Henry  2444  0.020642   818927\n",
       "951  1880   M   Robert  2415  0.020397   818933"
      ]
     },
     "execution_count": 15,
     "metadata": {},
     "output_type": "execute_result"
    }
   ],
   "source": [
    "df1_Male = df[\"sex\"] == \"M\"   # filtering all Male\n",
    "df1_M = df[df1_Male].head(10)\n",
    "\n",
    "df1_M"
   ]
  },
  {
   "cell_type": "markdown",
   "metadata": {},
   "source": [
    "### Task 2-4. What is the proportion of babies having the top 100 names for each year and sex?"
   ]
  },
  {
   "cell_type": "code",
   "execution_count": 26,
   "metadata": {},
   "outputs": [
    {
     "data": {
      "text/plain": [
       "0.2297959100036884"
      ]
     },
     "execution_count": 26,
     "metadata": {},
     "output_type": "execute_result"
    }
   ],
   "source": [
    "Female_Top_100 = df1_F.iloc[0:99, :]   # Female name popularity\n",
    "Female_Top_100[\"prop\"].sum()\n"
   ]
  },
  {
   "cell_type": "code",
   "execution_count": 61,
   "metadata": {},
   "outputs": [
    {
     "data": {
      "text/plain": [
       "0.41262172822405596"
      ]
     },
     "execution_count": 61,
     "metadata": {},
     "output_type": "execute_result"
    }
   ],
   "source": [
    "Male_Top_100 = df1_M.iloc[0:99, :]   # Male name popularity\n",
    "Male_Top_100[\"prop\"].sum()"
   ]
  },
  {
   "cell_type": "markdown",
   "metadata": {},
   "source": [
    "### Task 2-5. For each name, find the year in which it was ranked highest and the rank in that year."
   ]
  },
  {
   "cell_type": "code",
   "execution_count": 19,
   "metadata": {},
   "outputs": [],
   "source": [
    "namegroup = df.groupby([\"name\", \"year\"])[\"ranking\"].max()"
   ]
  },
  {
   "cell_type": "code",
   "execution_count": 20,
   "metadata": {},
   "outputs": [
    {
     "data": {
      "text/plain": [
       "name      year\n",
       "Aaban     2007    1334780\n",
       "          2009    1506898\n",
       "          2010     697488\n",
       "          2011     357834\n",
       "          2012      91831\n",
       "                   ...   \n",
       "Aadhavan  2013     447728\n",
       "          2015     526271\n",
       "Aadhi     2013    1393091\n",
       "          2014      73160\n",
       "          2015     526302\n",
       "Name: ranking, Length: 100, dtype: int64"
      ]
     },
     "execution_count": 20,
     "metadata": {},
     "output_type": "execute_result"
    }
   ],
   "source": [
    "namegroup.head(100)"
   ]
  },
  {
   "cell_type": "code",
   "execution_count": 21,
   "metadata": {},
   "outputs": [
    {
     "data": {
      "text/plain": [
       "year\n",
       "1880    1858688\n",
       "1881     819641\n",
       "1882     818763\n",
       "1883    1537830\n",
       "1884     902525\n",
       "         ...   \n",
       "2011    1321920\n",
       "2012    1826524\n",
       "2013      12828\n",
       "2014    1392817\n",
       "2015    1657874\n",
       "Name: ranking, Length: 136, dtype: int64"
      ]
     },
     "execution_count": 21,
     "metadata": {},
     "output_type": "execute_result"
    }
   ],
   "source": [
    "namegroup[\"Mary\"]"
   ]
  },
  {
   "cell_type": "markdown",
   "metadata": {
    "collapsed": true
   },
   "source": [
    "### Task 2-6. Which name has been in the top 10 most often?"
   ]
  },
  {
   "cell_type": "code",
   "execution_count": 44,
   "metadata": {},
   "outputs": [
    {
     "data": {
      "text/plain": [
       "year  name  \n",
       "1880  Aaron      212257\n",
       "      Ab        1210174\n",
       "      Abbie      819023\n",
       "      Abbott    1210180\n",
       "      Abby       211998\n",
       "                 ...   \n",
       "2015  Zyrion    1222790\n",
       "      Zyron     1711352\n",
       "      Zyrus      441423\n",
       "      Zyus       431053\n",
       "      Zyvon     1441624\n",
       "Name: ranking, Length: 1695502, dtype: int64"
      ]
     },
     "execution_count": 44,
     "metadata": {},
     "output_type": "execute_result"
    }
   ],
   "source": [
    "top_10 = df.groupby([\"year\", \"name\"])[\"ranking\"].max()\n",
    "top_10\n"
   ]
  },
  {
   "cell_type": "code",
   "execution_count": 60,
   "metadata": {},
   "outputs": [
    {
     "data": {
      "text/plain": [
       "0"
      ]
     },
     "execution_count": 60,
     "metadata": {},
     "output_type": "execute_result"
    }
   ],
   "source": [
    "df3 = df1\n",
    "df3['name'].value_counts().argmax()\n"
   ]
  },
  {
   "cell_type": "code",
   "execution_count": null,
   "metadata": {},
   "outputs": [],
   "source": [
    "## popular_name = df['name'].value_counts().argmax()"
   ]
  },
  {
   "cell_type": "code",
   "execution_count": null,
   "metadata": {},
   "outputs": [],
   "source": []
  },
  {
   "cell_type": "code",
   "execution_count": null,
   "metadata": {},
   "outputs": [],
   "source": []
  }
 ],
 "metadata": {
  "kernelspec": {
   "display_name": "Python 3",
   "language": "python",
   "name": "python3"
  },
  "language_info": {
   "codemirror_mode": {
    "name": "ipython",
    "version": 3
   },
   "file_extension": ".py",
   "mimetype": "text/x-python",
   "name": "python",
   "nbconvert_exporter": "python",
   "pygments_lexer": "ipython3",
   "version": "3.8.3"
  }
 },
 "nbformat": 4,
 "nbformat_minor": 2
}
