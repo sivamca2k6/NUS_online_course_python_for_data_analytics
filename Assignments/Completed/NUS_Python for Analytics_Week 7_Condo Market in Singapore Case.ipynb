{
 "cells": [
  {
   "cell_type": "markdown",
   "metadata": {},
   "source": [
    "# Case Study - Condo Market in Singapore\n",
    "\n",
    "## Learning Objectives:\n",
    "- Become familiar with different visualization techniques  \n",
    "- Understand the confounding effect and the way to control for it\n",
    "- Explore possible relationships among multiple variables "
   ]
  },
  {
   "cell_type": "markdown",
   "metadata": {},
   "source": [
    "<i><b>Background</b></i>: Buying a condo might be a dream for some Singaporeans. Depending on the location and area of the property, the corresponding price differs substantially. For those who want to buy condos for residing or for investments, a deeper understanding of Singapore’s real estate market is crucial. The file `condo.csv` contains the prices of condos in Singapore for the past several years. Moreover, some attributes of such condos are also included in the file."
   ]
  },
  {
   "cell_type": "code",
   "execution_count": 1,
   "metadata": {},
   "outputs": [
    {
     "data": {
      "text/html": [
       "<div>\n",
       "<style scoped>\n",
       "    .dataframe tbody tr th:only-of-type {\n",
       "        vertical-align: middle;\n",
       "    }\n",
       "\n",
       "    .dataframe tbody tr th {\n",
       "        vertical-align: top;\n",
       "    }\n",
       "\n",
       "    .dataframe thead th {\n",
       "        text-align: right;\n",
       "    }\n",
       "</style>\n",
       "<table border=\"1\" class=\"dataframe\">\n",
       "  <thead>\n",
       "    <tr style=\"text-align: right;\">\n",
       "      <th></th>\n",
       "      <th>name</th>\n",
       "      <th>price</th>\n",
       "      <th>unit_price</th>\n",
       "      <th>district_code</th>\n",
       "      <th>segment</th>\n",
       "      <th>type</th>\n",
       "      <th>area</th>\n",
       "      <th>level</th>\n",
       "      <th>remaining_years</th>\n",
       "      <th>date</th>\n",
       "    </tr>\n",
       "  </thead>\n",
       "  <tbody>\n",
       "    <tr>\n",
       "      <th>0</th>\n",
       "      <td>SEASCAPE</td>\n",
       "      <td>4388000</td>\n",
       "      <td>2028</td>\n",
       "      <td>4</td>\n",
       "      <td>CCR</td>\n",
       "      <td>Resale</td>\n",
       "      <td>2164</td>\n",
       "      <td>06 to 10</td>\n",
       "      <td>87.0</td>\n",
       "      <td>Nov-19</td>\n",
       "    </tr>\n",
       "    <tr>\n",
       "      <th>1</th>\n",
       "      <td>COMMONWEALTH TOWERS</td>\n",
       "      <td>1300000</td>\n",
       "      <td>1887</td>\n",
       "      <td>3</td>\n",
       "      <td>RCR</td>\n",
       "      <td>Resale</td>\n",
       "      <td>689</td>\n",
       "      <td>16 to 20</td>\n",
       "      <td>93.0</td>\n",
       "      <td>Nov-19</td>\n",
       "    </tr>\n",
       "    <tr>\n",
       "      <th>2</th>\n",
       "      <td>THE TRILINQ</td>\n",
       "      <td>1755000</td>\n",
       "      <td>1304</td>\n",
       "      <td>5</td>\n",
       "      <td>OCR</td>\n",
       "      <td>Resale</td>\n",
       "      <td>1346</td>\n",
       "      <td>06 to 10</td>\n",
       "      <td>92.0</td>\n",
       "      <td>Nov-19</td>\n",
       "    </tr>\n",
       "    <tr>\n",
       "      <th>3</th>\n",
       "      <td>THE CREST</td>\n",
       "      <td>2085000</td>\n",
       "      <td>2201</td>\n",
       "      <td>3</td>\n",
       "      <td>RCR</td>\n",
       "      <td>Resale</td>\n",
       "      <td>947</td>\n",
       "      <td>01 to 05</td>\n",
       "      <td>92.0</td>\n",
       "      <td>Nov-19</td>\n",
       "    </tr>\n",
       "    <tr>\n",
       "      <th>4</th>\n",
       "      <td>THE ANCHORAGE</td>\n",
       "      <td>1848888</td>\n",
       "      <td>1468</td>\n",
       "      <td>3</td>\n",
       "      <td>RCR</td>\n",
       "      <td>Resale</td>\n",
       "      <td>1259</td>\n",
       "      <td>01 to 05</td>\n",
       "      <td>999.0</td>\n",
       "      <td>Nov-19</td>\n",
       "    </tr>\n",
       "    <tr>\n",
       "      <th>5</th>\n",
       "      <td>MOUNT FABER LODGE</td>\n",
       "      <td>4400000</td>\n",
       "      <td>1188</td>\n",
       "      <td>4</td>\n",
       "      <td>RCR</td>\n",
       "      <td>Resale</td>\n",
       "      <td>3703</td>\n",
       "      <td>06 to 10</td>\n",
       "      <td>999.0</td>\n",
       "      <td>Oct-19</td>\n",
       "    </tr>\n",
       "    <tr>\n",
       "      <th>6</th>\n",
       "      <td>BLUE HORIZON</td>\n",
       "      <td>990000</td>\n",
       "      <td>1022</td>\n",
       "      <td>5</td>\n",
       "      <td>OCR</td>\n",
       "      <td>Resale</td>\n",
       "      <td>969</td>\n",
       "      <td>21 to 25</td>\n",
       "      <td>80.0</td>\n",
       "      <td>Oct-19</td>\n",
       "    </tr>\n",
       "    <tr>\n",
       "      <th>7</th>\n",
       "      <td>DOVER PARKVIEW</td>\n",
       "      <td>1088000</td>\n",
       "      <td>1162</td>\n",
       "      <td>5</td>\n",
       "      <td>RCR</td>\n",
       "      <td>Resale</td>\n",
       "      <td>936</td>\n",
       "      <td>06 to 10</td>\n",
       "      <td>73.0</td>\n",
       "      <td>Oct-19</td>\n",
       "    </tr>\n",
       "    <tr>\n",
       "      <th>8</th>\n",
       "      <td>CARIBBEAN AT KEPPEL BAY</td>\n",
       "      <td>1470000</td>\n",
       "      <td>1751</td>\n",
       "      <td>4</td>\n",
       "      <td>RCR</td>\n",
       "      <td>Resale</td>\n",
       "      <td>840</td>\n",
       "      <td>06 to 10</td>\n",
       "      <td>79.0</td>\n",
       "      <td>Oct-19</td>\n",
       "    </tr>\n",
       "    <tr>\n",
       "      <th>9</th>\n",
       "      <td>THE INTERLACE</td>\n",
       "      <td>4550000</td>\n",
       "      <td>868</td>\n",
       "      <td>4</td>\n",
       "      <td>RCR</td>\n",
       "      <td>Resale</td>\n",
       "      <td>5242</td>\n",
       "      <td>16 to 20</td>\n",
       "      <td>89.0</td>\n",
       "      <td>Oct-19</td>\n",
       "    </tr>\n",
       "  </tbody>\n",
       "</table>\n",
       "</div>"
      ],
      "text/plain": [
       "                      name    price  unit_price  district_code segment  \\\n",
       "0                 SEASCAPE  4388000        2028              4     CCR   \n",
       "1      COMMONWEALTH TOWERS  1300000        1887              3     RCR   \n",
       "2              THE TRILINQ  1755000        1304              5     OCR   \n",
       "3                THE CREST  2085000        2201              3     RCR   \n",
       "4            THE ANCHORAGE  1848888        1468              3     RCR   \n",
       "5        MOUNT FABER LODGE  4400000        1188              4     RCR   \n",
       "6             BLUE HORIZON   990000        1022              5     OCR   \n",
       "7           DOVER PARKVIEW  1088000        1162              5     RCR   \n",
       "8  CARIBBEAN AT KEPPEL BAY  1470000        1751              4     RCR   \n",
       "9            THE INTERLACE  4550000         868              4     RCR   \n",
       "\n",
       "     type  area     level  remaining_years    date  \n",
       "0  Resale  2164  06 to 10             87.0  Nov-19  \n",
       "1  Resale   689  16 to 20             93.0  Nov-19  \n",
       "2  Resale  1346  06 to 10             92.0  Nov-19  \n",
       "3  Resale   947  01 to 05             92.0  Nov-19  \n",
       "4  Resale  1259  01 to 05            999.0  Nov-19  \n",
       "5  Resale  3703  06 to 10            999.0  Oct-19  \n",
       "6  Resale   969  21 to 25             80.0  Oct-19  \n",
       "7  Resale   936  06 to 10             73.0  Oct-19  \n",
       "8  Resale   840  06 to 10             79.0  Oct-19  \n",
       "9  Resale  5242  16 to 20             89.0  Oct-19  "
      ]
     },
     "execution_count": 1,
     "metadata": {},
     "output_type": "execute_result"
    }
   ],
   "source": [
    "import pandas as pd\n",
    "import numpy as np\n",
    "from matplotlib import pyplot as plt\n",
    "\n",
    "df = pd.read_csv(\"condo.csv\") \n",
    "df.head(10)"
   ]
  },
  {
   "cell_type": "code",
   "execution_count": 2,
   "metadata": {},
   "outputs": [
    {
     "data": {
      "text/plain": [
       "Index(['name', 'price', 'unit_price', 'district_code', 'segment', 'type',\n",
       "       'area', 'level', 'remaining_years', 'date'],\n",
       "      dtype='object')"
      ]
     },
     "execution_count": 2,
     "metadata": {},
     "output_type": "execute_result"
    }
   ],
   "source": [
    "df.shape\n",
    "df.describe()\n",
    "df.index\n",
    "df.columns"
   ]
  },
  {
   "cell_type": "markdown",
   "metadata": {},
   "source": [
    "## Task 1: Explore the relationship between the condo price and the condo type\n",
    "\n",
    "For a Singaporean who wants to invest in the real estate market, would you suggest him or her to buy resale condos or newly built condos? Please analyze the historical data in the file `condo.csv` to arrive at your conclusion. Specifically, you need to explore the relationship between the condo price and the type of the condo (resale versus new). <b>Note</b>: if you want to draw histograms to explore the distribution of the condo price, please set bins as `np.arange(0.5e6, 5e6, 0.1e6)`. "
   ]
  },
  {
   "cell_type": "code",
   "execution_count": 3,
   "metadata": {},
   "outputs": [],
   "source": [
    "df_typeprice_filter_resale = df[df[\"type\"] == \"Resale\"]\n",
    "df_typeprice_filter_new = df[df[\"type\"] == \"New Sale\"]\n"
   ]
  },
  {
   "cell_type": "code",
   "execution_count": 4,
   "metadata": {},
   "outputs": [
    {
     "data": {
      "image/png": "[encoded data removed]",
      "text/plain": [
       "<Figure size 432x288 with 1 Axes>"
      ]
     },
     "metadata": {
      "needs_background": "light"
     },
     "output_type": "display_data"
    }
   ],
   "source": [
    "bins = np.arange(0.5e6, 5e6, 0.1e6) # range\n",
    "plt.hist(df_typeprice_filter_resale[\"price\"], bins, histtype= 'barstacked', rwidth=0.8)\n",
    "plt.hist(df_typeprice_filter_new[\"price\"], bins, histtype= 'barstacked', rwidth=0.8)\n",
    "plt.xlabel('prices')\n",
    "plt.ylabel('Number of transactions')\n",
    "plt.title('Resale vs New')\n",
    "plt.show()"
   ]
  },
  {
   "cell_type": "code",
   "execution_count": null,
   "metadata": {},
   "outputs": [],
   "source": []
  },
  {
   "cell_type": "code",
   "execution_count": null,
   "metadata": {},
   "outputs": [],
   "source": []
  },
  {
   "cell_type": "markdown",
   "metadata": {},
   "source": [
    "This is a counter-intuitive finding that resale condos are more expensive than the new condos on average. Can you think about a possible reason for this? "
   ]
  },
  {
   "cell_type": "code",
   "execution_count": 5,
   "metadata": {},
   "outputs": [
    {
     "name": "stdout",
     "output_type": "stream",
     "text": [
      "0    18883200\n",
      "1    52000000\n",
      "Name: price_max, dtype: int64\n"
     ]
    },
    {
     "data": {
      "text/html": [
       "<div>\n",
       "<style scoped>\n",
       "    .dataframe tbody tr th:only-of-type {\n",
       "        vertical-align: middle;\n",
       "    }\n",
       "\n",
       "    .dataframe tbody tr th {\n",
       "        vertical-align: top;\n",
       "    }\n",
       "\n",
       "    .dataframe thead th {\n",
       "        text-align: right;\n",
       "    }\n",
       "</style>\n",
       "<table border=\"1\" class=\"dataframe\">\n",
       "  <thead>\n",
       "    <tr style=\"text-align: right;\">\n",
       "      <th></th>\n",
       "      <th>type</th>\n",
       "      <th>trans_count</th>\n",
       "      <th>price_median</th>\n",
       "      <th>price_min</th>\n",
       "      <th>price_max</th>\n",
       "      <th>price_sd</th>\n",
       "      <th>area_median</th>\n",
       "    </tr>\n",
       "  </thead>\n",
       "  <tbody>\n",
       "    <tr>\n",
       "      <th>0</th>\n",
       "      <td>New Sale</td>\n",
       "      <td>11645</td>\n",
       "      <td>1202000</td>\n",
       "      <td>546000</td>\n",
       "      <td>18883200</td>\n",
       "      <td>6.764492e+05</td>\n",
       "      <td>1202000</td>\n",
       "    </tr>\n",
       "    <tr>\n",
       "      <th>1</th>\n",
       "      <td>Resale</td>\n",
       "      <td>20523</td>\n",
       "      <td>1375000</td>\n",
       "      <td>488000</td>\n",
       "      <td>52000000</td>\n",
       "      <td>1.692404e+06</td>\n",
       "      <td>1375000</td>\n",
       "    </tr>\n",
       "  </tbody>\n",
       "</table>\n",
       "</div>"
      ],
      "text/plain": [
       "       type  trans_count  price_median  price_min  price_max      price_sd  \\\n",
       "0  New Sale        11645       1202000     546000   18883200  6.764492e+05   \n",
       "1    Resale        20523       1375000     488000   52000000  1.692404e+06   \n",
       "\n",
       "   area_median  \n",
       "0      1202000  \n",
       "1      1375000  "
      ]
     },
     "execution_count": 5,
     "metadata": {},
     "output_type": "execute_result"
    }
   ],
   "source": [
    "df_typeprice_grp = df.groupby([\"type\"]).agg(\n",
    "         trans_count=pd.NamedAgg(column='type', aggfunc='count'),\n",
    "         price_median=pd.NamedAgg(column='price', aggfunc=np.median),\n",
    "         price_min=pd.NamedAgg(column='price', aggfunc=np.min),\n",
    "         price_max=pd.NamedAgg(column='price', aggfunc=np.max),\n",
    "        price_sd=pd.NamedAgg(column='price', aggfunc='std'),\n",
    "        area_median=pd.NamedAgg(column='price', aggfunc=np.median),\n",
    "        ).reset_index()\n",
    "\n",
    "print(df_typeprice_grp[\"price_max\"])\n",
    "df_typeprice_grp"
   ]
  },
  {
   "cell_type": "code",
   "execution_count": 6,
   "metadata": {},
   "outputs": [
    {
     "data": {
      "image/png": "[encoded data removed]",
      "text/plain": [
       "<Figure size 432x288 with 1 Axes>"
      ]
     },
     "metadata": {
      "needs_background": "light"
     },
     "output_type": "display_data"
    }
   ],
   "source": [
    "plt.bar(df_typeprice_grp['type'],df_typeprice_grp['area_median'] + 1,width=.5)\n",
    "\n",
    "plt.show()"
   ]
  },
  {
   "cell_type": "code",
   "execution_count": 7,
   "metadata": {},
   "outputs": [
    {
     "data": {
      "text/html": [
       "<div>\n",
       "<style scoped>\n",
       "    .dataframe tbody tr th:only-of-type {\n",
       "        vertical-align: middle;\n",
       "    }\n",
       "\n",
       "    .dataframe tbody tr th {\n",
       "        vertical-align: top;\n",
       "    }\n",
       "\n",
       "    .dataframe thead th {\n",
       "        text-align: right;\n",
       "    }\n",
       "</style>\n",
       "<table border=\"1\" class=\"dataframe\">\n",
       "  <thead>\n",
       "    <tr style=\"text-align: right;\">\n",
       "      <th></th>\n",
       "      <th>type</th>\n",
       "      <th>segment</th>\n",
       "      <th>trans_count</th>\n",
       "      <th>price_median</th>\n",
       "      <th>price_min</th>\n",
       "      <th>price_max</th>\n",
       "    </tr>\n",
       "  </thead>\n",
       "  <tbody>\n",
       "    <tr>\n",
       "      <th>0</th>\n",
       "      <td>New Sale</td>\n",
       "      <td>CCR</td>\n",
       "      <td>886</td>\n",
       "      <td>1979750</td>\n",
       "      <td>1028067</td>\n",
       "      <td>9134800</td>\n",
       "    </tr>\n",
       "    <tr>\n",
       "      <th>1</th>\n",
       "      <td>New Sale</td>\n",
       "      <td>OCR</td>\n",
       "      <td>5825</td>\n",
       "      <td>1008000</td>\n",
       "      <td>546000</td>\n",
       "      <td>4881708</td>\n",
       "    </tr>\n",
       "    <tr>\n",
       "      <th>2</th>\n",
       "      <td>New Sale</td>\n",
       "      <td>RCR</td>\n",
       "      <td>4934</td>\n",
       "      <td>1337400</td>\n",
       "      <td>607572</td>\n",
       "      <td>18883200</td>\n",
       "    </tr>\n",
       "    <tr>\n",
       "      <th>3</th>\n",
       "      <td>Resale</td>\n",
       "      <td>CCR</td>\n",
       "      <td>4221</td>\n",
       "      <td>2665000</td>\n",
       "      <td>560088</td>\n",
       "      <td>52000000</td>\n",
       "    </tr>\n",
       "    <tr>\n",
       "      <th>4</th>\n",
       "      <td>Resale</td>\n",
       "      <td>OCR</td>\n",
       "      <td>10827</td>\n",
       "      <td>1100000</td>\n",
       "      <td>488000</td>\n",
       "      <td>4200000</td>\n",
       "    </tr>\n",
       "    <tr>\n",
       "      <th>5</th>\n",
       "      <td>Resale</td>\n",
       "      <td>RCR</td>\n",
       "      <td>5475</td>\n",
       "      <td>1650000</td>\n",
       "      <td>570000</td>\n",
       "      <td>19000000</td>\n",
       "    </tr>\n",
       "  </tbody>\n",
       "</table>\n",
       "</div>"
      ],
      "text/plain": [
       "       type segment  trans_count  price_median  price_min  price_max\n",
       "0  New Sale     CCR          886       1979750    1028067    9134800\n",
       "1  New Sale     OCR         5825       1008000     546000    4881708\n",
       "2  New Sale     RCR         4934       1337400     607572   18883200\n",
       "3    Resale     CCR         4221       2665000     560088   52000000\n",
       "4    Resale     OCR        10827       1100000     488000    4200000\n",
       "5    Resale     RCR         5475       1650000     570000   19000000"
      ]
     },
     "execution_count": 7,
     "metadata": {},
     "output_type": "execute_result"
    }
   ],
   "source": [
    "df_type_district_price_grp = df.groupby([\"type\",\"segment\"]).agg(\n",
    "         trans_count=pd.NamedAgg(column='type', aggfunc='count'),\n",
    "         price_median=pd.NamedAgg(column='price', aggfunc=np.median),\n",
    "         price_min=pd.NamedAgg(column='price', aggfunc=np.min),\n",
    "         price_max=pd.NamedAgg(column='price', aggfunc=np.max),\n",
    "        ).reset_index()\n",
    "df_type_district_price_grp"
   ]
  },
  {
   "cell_type": "code",
   "execution_count": null,
   "metadata": {},
   "outputs": [],
   "source": []
  },
  {
   "cell_type": "code",
   "execution_count": null,
   "metadata": {},
   "outputs": [],
   "source": []
  },
  {
   "cell_type": "markdown",
   "metadata": {},
   "source": [
    "## Task 2: Explore the relationship between the condo area and the condo type\n",
    "\n",
    "\n",
    "Now let’s focus on another attribute of a condo in the data set, the area of a condo. Please explore the distribution of the area of a condo by the condo type. Please draw a visualization to present your findings? If you want to draw histograms to explore the distribution of the area of a condo, please set the bins as `np.arange(0.5e3, 10e3, 0.1e3)`."
   ]
  },
  {
   "cell_type": "code",
   "execution_count": 8,
   "metadata": {},
   "outputs": [
    {
     "name": "stdout",
     "output_type": "stream",
     "text": [
      "count    20523.000000\n",
      "mean      1345.806607\n",
      "std        678.821591\n",
      "min        355.000000\n",
      "25%        969.000000\n",
      "50%       1227.000000\n",
      "75%       1507.000000\n",
      "max      11098.000000\n",
      "Name: area, dtype: float64\n"
     ]
    },
    {
     "data": {
      "text/plain": [
       "count    11645.000000\n",
       "mean       862.379219\n",
       "std        336.641076\n",
       "min        409.000000\n",
       "25%        624.000000\n",
       "50%        807.000000\n",
       "75%       1033.000000\n",
       "max       7868.000000\n",
       "Name: area, dtype: float64"
      ]
     },
     "execution_count": 8,
     "metadata": {},
     "output_type": "execute_result"
    }
   ],
   "source": [
    "df_resale_area= df_typeprice_filter_resale[\"area\"]\n",
    "print(df_resale_area.describe())\n",
    "df_new_area= df_typeprice_filter_new[\"area\"]\n",
    "df_new_area.describe()"
   ]
  },
  {
   "cell_type": "code",
   "execution_count": 9,
   "metadata": {},
   "outputs": [
    {
     "data": {
      "image/png": "[encoded data removed]",
      "text/plain": [
       "<Figure size 432x288 with 1 Axes>"
      ]
     },
     "metadata": {
      "needs_background": "light"
     },
     "output_type": "display_data"
    }
   ],
   "source": [
    "bins = np.arange(0.5e3, 10e3, 0.1e3) # range\n",
    "plt.hist (df_typeprice_filter_resale[\"area\"], bins, histtype= 'bar', edgecolor = \"black\",rwidth=1.8,label=\"resale\")\n",
    "plt.hist( df_typeprice_filter_new[\"area\"], bins, histtype= 'bar',edgecolor = \"black\", rwidth=1.8,label=\"new\")\n",
    "plt.xlabel('area')\n",
    "plt.ylabel('Number of transactions')\n",
    "plt.title('Resale vs New by Area')\n",
    "plt.legend()\n",
    "plt.tight_layout()\n",
    "plt.show()"
   ]
  },
  {
   "cell_type": "code",
   "execution_count": null,
   "metadata": {},
   "outputs": [],
   "source": []
  },
  {
   "cell_type": "code",
   "execution_count": null,
   "metadata": {},
   "outputs": [],
   "source": []
  },
  {
   "cell_type": "markdown",
   "metadata": {},
   "source": [
    "## Task 3: Explore the relationship between the condo area and the condo price\n",
    "\n",
    "\n",
    "Moreover, please explore the relationship between the area of a condo and its price. You can draw a scatter plot to uncover the possible pattern between the two variables."
   ]
  },
  {
   "cell_type": "code",
   "execution_count": 10,
   "metadata": {},
   "outputs": [
    {
     "name": "stdout",
     "output_type": "stream",
     "text": [
      "count    2.052300e+04\n",
      "mean     1.823054e+06\n",
      "std      1.692404e+06\n",
      "min      4.880000e+05\n",
      "25%      1.028570e+06\n",
      "50%      1.375000e+06\n",
      "75%      1.950000e+06\n",
      "max      5.200000e+07\n",
      "Name: price, dtype: float64\n",
      "count    20523.000000\n",
      "mean      1345.806607\n",
      "std        678.821591\n",
      "min        355.000000\n",
      "25%        969.000000\n",
      "50%       1227.000000\n",
      "75%       1507.000000\n",
      "max      11098.000000\n",
      "Name: area, dtype: float64\n"
     ]
    }
   ],
   "source": [
    "print(df_typeprice_filter_resale[\"price\"].describe())\n",
    "print(df_typeprice_filter_resale[\"area\"].describe())"
   ]
  },
  {
   "cell_type": "code",
   "execution_count": 11,
   "metadata": {},
   "outputs": [
    {
     "data": {
      "image/png": "[encoded data removed]",
      "text/plain": [
       "<Figure size 432x288 with 1 Axes>"
      ]
     },
     "metadata": {
      "needs_background": "light"
     },
     "output_type": "display_data"
    }
   ],
   "source": [
    "# You can also use plt.scatter() directly to draw a scatter plot \n",
    "\n",
    "plt.scatter(df_typeprice_filter_resale[\"area\"],df_typeprice_filter_resale[\"price\"],label=\"Resale\")\n",
    "plt.scatter(df_typeprice_filter_new[\"area\"],df_typeprice_filter_new[\"price\"],label=\"New\")\n",
    "plt.xlabel('area')\n",
    "plt.ylabel('price')\n",
    "plt.legend()\n",
    "plt.title('area vs price')\n",
    "plt.show()"
   ]
  },
  {
   "cell_type": "code",
   "execution_count": null,
   "metadata": {},
   "outputs": [],
   "source": []
  },
  {
   "cell_type": "code",
   "execution_count": null,
   "metadata": {},
   "outputs": [],
   "source": []
  },
  {
   "cell_type": "code",
   "execution_count": null,
   "metadata": {},
   "outputs": [],
   "source": []
  },
  {
   "cell_type": "markdown",
   "metadata": {},
   "source": [
    "From Tasks 1-3, now you should know the relationship found between the condo price and the condo type is not trustworthy. There is a third variable that is related to both the condo price and the condo type. In the above analysis, this third variable is the area of the condo. We call this third variable as the <i>confounder</i> or <i>confounding variable</i>. "
   ]
  },
  {
   "cell_type": "markdown",
   "metadata": {},
   "source": [
    "## Task 4: Grouping\n",
    "\n",
    "Now let’s explore the ways of controlling for the confounding effect of the area of a condo in the analysis. A useful method is to do a stratified analysis. Since the confounder variable, the area of a condo, is continuous, to simplify the discussion, a discretization is carried out. Please form a new variable in the data set by grouping the condos into 3 different categories in terms of their areas. The three categories are defined as follows:\n",
    "1.\tSmall: the area of a condo less than 800 square feet\n",
    "2.\tMedian: the area of a condo between 800 and 1200 square feet \n",
    "3.\tLarge: the area of a condo larger than 1200 square feet"
   ]
  },
  {
   "cell_type": "code",
   "execution_count": 12,
   "metadata": {},
   "outputs": [
    {
     "data": {
      "text/plain": [
       "large     12653\n",
       "median    11186\n",
       "small      8329\n",
       "Name: area_category, dtype: int64"
      ]
     },
     "execution_count": 12,
     "metadata": {},
     "output_type": "execute_result"
    }
   ],
   "source": [
    "#using numpy\n",
    "df[\"area_category\"] = np.where(df[\"area\"] < 800 ,\"small\",\"\")\n",
    "df\n",
    "df[\"area_category\"] = np.where(df[\"area\"] > 1200 ,\"large\",df[\"area_category\"])\n",
    "df\n",
    "df[\"area_category\"] = np.where((df[\"area\"] > 800) & (df[\"area\"] < 1200),\"median\",df[\"area_category\"])\n",
    "df.sort_values(\"area_category\",ascending=False)\n",
    "df[\"area_category\"].value_counts()"
   ]
  },
  {
   "cell_type": "code",
   "execution_count": 13,
   "metadata": {},
   "outputs": [
    {
     "data": {
      "text/html": [
       "<div>\n",
       "<style scoped>\n",
       "    .dataframe tbody tr th:only-of-type {\n",
       "        vertical-align: middle;\n",
       "    }\n",
       "\n",
       "    .dataframe tbody tr th {\n",
       "        vertical-align: top;\n",
       "    }\n",
       "\n",
       "    .dataframe thead th {\n",
       "        text-align: right;\n",
       "    }\n",
       "</style>\n",
       "<table border=\"1\" class=\"dataframe\">\n",
       "  <thead>\n",
       "    <tr style=\"text-align: right;\">\n",
       "      <th></th>\n",
       "      <th>area_category</th>\n",
       "      <th>area</th>\n",
       "    </tr>\n",
       "  </thead>\n",
       "  <tbody>\n",
       "    <tr>\n",
       "      <th>0</th>\n",
       "      <td>large</td>\n",
       "      <td>12653</td>\n",
       "    </tr>\n",
       "    <tr>\n",
       "      <th>1</th>\n",
       "      <td>median</td>\n",
       "      <td>11186</td>\n",
       "    </tr>\n",
       "    <tr>\n",
       "      <th>2</th>\n",
       "      <td>small</td>\n",
       "      <td>8329</td>\n",
       "    </tr>\n",
       "  </tbody>\n",
       "</table>\n",
       "</div>"
      ],
      "text/plain": [
       "  area_category   area\n",
       "0         large  12653\n",
       "1        median  11186\n",
       "2         small   8329"
      ]
     },
     "execution_count": 13,
     "metadata": {},
     "output_type": "execute_result"
    }
   ],
   "source": [
    "df_area_grp = df.groupby(\"area_category\")[\"area\"].count().reset_index()\n",
    "type(df_area_grp)\n",
    "df_area_grp"
   ]
  },
  {
   "cell_type": "code",
   "execution_count": 14,
   "metadata": {},
   "outputs": [
    {
     "data": {
      "image/png": "[encoded data removed]",
      "text/plain": [
       "<Figure size 432x288 with 1 Axes>"
      ]
     },
     "metadata": {
      "needs_background": "light"
     },
     "output_type": "display_data"
    }
   ],
   "source": [
    "plt.bar(df_area_grp[\"area_category\"],df_area_grp[\"area\"])\n",
    "plt.xlabel(\"area\")\n",
    "plt.ylabel(\"count\")\n",
    "plt.title(\"area by category\")\n",
    "plt.show()"
   ]
  },
  {
   "cell_type": "code",
   "execution_count": 15,
   "metadata": {},
   "outputs": [
    {
     "data": {
      "image/png": "[encoded data removed]",
      "text/plain": [
       "<Figure size 432x288 with 1 Axes>"
      ]
     },
     "metadata": {
      "needs_background": "light"
     },
     "output_type": "display_data"
    }
   ],
   "source": [
    "plt.barh(df_area_grp[\"area_category\"],df_area_grp[\"area\"])\n",
    "plt.xlabel(\"area\")\n",
    "plt.ylabel(\"count\")\n",
    "plt.title(\"area by category\")\n",
    "plt.show()"
   ]
  },
  {
   "cell_type": "code",
   "execution_count": 16,
   "metadata": {},
   "outputs": [],
   "source": [
    "#using def\n",
    "\n",
    "#def label_area_category (row):\n",
    "#   if(df[\"area\"] < 800):\n",
    "#        return \"small\"\n",
    "#    elif(df[\"area\"] > 1200):\n",
    "#        return \"large\"\n",
    "#    elif((df[\"area\"] > 800) & (df[\"area\"] < 1200)):\n",
    "#        return \"median\"\n",
    "#    else:\n",
    "#        return \"\"\n",
    "#df[\"area_category\"] = df.apply (lambda row: label_area_category1(row), axis=1)\n"
   ]
  },
  {
   "cell_type": "markdown",
   "metadata": {},
   "source": [
    "## Task 5: The relationship between the condo price and the condo type, controlling for the condo area \n",
    "\n",
    "\n",
    "With the new categorical variable and the condo type, 6 possible combinations of the two variables can be generated to represent a condo’s profile. For example, we can define a condo's profile as small and resale. Now please explore the relationship between the condo price and condo type by 3 different categories of the condo area. What is your conclusion? "
   ]
  },
  {
   "cell_type": "code",
   "execution_count": 43,
   "metadata": {},
   "outputs": [
    {
     "name": "stdout",
     "output_type": "stream",
     "text": [
      "area_category      type  large  median  small\n",
      "0              New Sale   1472    4356   5817\n",
      "1                Resale  11181    6830   2512\n"
     ]
    },
    {
     "data": {
      "text/plain": [
       "Text(0, 0.5, 'No Of condos')"
      ]
     },
     "execution_count": 43,
     "metadata": {},
     "output_type": "execute_result"
    },
    {
     "data": {
      "image/png": "[encoded data removed]",
      "text/plain": [
       "<Figure size 432x288 with 3 Axes>"
      ]
     },
     "metadata": {
      "needs_background": "light"
     },
     "output_type": "display_data"
    }
   ],
   "source": [
    "df_grp_cat_type = df.groupby([\"type\",\"area_category\"])[\"area\"].count().unstack() # pivot alternative\n",
    "df_grp_cat_type\n",
    "df_n = df_grp_cat_type.reset_index(drop=False)\n",
    "print(df_n)\n",
    "\n",
    "fig,ax = plt.subplots(3,1,sharey=True,sharex=True) # sharey\n",
    "ax[0].bar(df_n[\"type\"],df_n[\"large\"],color='b')\n",
    "ax[1].bar(df_n[\"type\"],df_n[\"median\"],color='r')\n",
    "ax[2].bar(df_n[\"type\"],df_n[\"small\"],color='g')\n",
    "\n",
    "\n",
    "ax[0].set_xlabel(\"Large\")\n",
    "ax[1].set_xlabel(\"Median\")\n",
    "ax[2].set_xlabel(\"Small\")\n",
    "ax[1].set_ylabel(\"No Of condos\")\n",
    "\n"
   ]
  },
  {
   "cell_type": "code",
   "execution_count": null,
   "metadata": {},
   "outputs": [],
   "source": []
  },
  {
   "cell_type": "code",
   "execution_count": null,
   "metadata": {},
   "outputs": [],
   "source": []
  },
  {
   "cell_type": "code",
   "execution_count": null,
   "metadata": {},
   "outputs": [],
   "source": []
  }
 ],
 "metadata": {
  "kernelspec": {
   "display_name": "Python 3",
   "language": "python",
   "name": "python3"
  },
  "language_info": {
   "codemirror_mode": {
    "name": "ipython",
    "version": 3
   },
   "file_extension": ".py",
   "mimetype": "text/x-python",
   "name": "python",
   "nbconvert_exporter": "python",
   "pygments_lexer": "ipython3",
   "version": "3.8.3"
  }
 },
 "nbformat": 4,
 "nbformat_minor": 4
}
