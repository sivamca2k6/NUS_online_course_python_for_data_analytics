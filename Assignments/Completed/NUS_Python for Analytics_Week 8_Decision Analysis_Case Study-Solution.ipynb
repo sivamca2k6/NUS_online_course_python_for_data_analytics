{
 "cells": [
  {
   "cell_type": "markdown",
   "metadata": {},
   "source": [
    "# Case Study - David's Decision Problem\n",
    "\n",
    "## Learning Objectives:\n",
    "- Facilitate simulation using SciPy \n",
    "- Understand the profit-risk trade-off in decision-making"
   ]
  },
  {
   "cell_type": "markdown",
   "metadata": {},
   "source": [
    "## Background\n",
    "\n",
    "### An Excellent Job Offer\n",
    "    \n",
    "David Tan, a second-year MBA student at the NUS School of Business, faces a very difficult decision problem now. He has just been notified of an excellent job offer from a top management consulting firm. The firm was so impressed with David’s performance during his internship at its Singapore office last summer. The synergy of Davis’s previous consulting experience (both prior to NUS and during the previous summer) and his NUS MBA education leads to a high likelihood that David would be very successful in the future, if he were to accept the firm’s offer.\n",
    "\n",
    "David is kind of contemplative individual who sees the bigger picture of events and the consequences of decisions in life. He is very excited about the job offer for a number of good reasons. First, He likes the intellectual and business stimulation of management consulting. Moreover, the salary offer is excellent ($\\$$70,000 for the first year). However, he is also apprehensive. The lifestyle of management consultant is taxing. Much of the travel is rather routine to affect his family life. Furthermore, in David’s summer consulting experience he often had to cancel his personal plans at the last minute in order to accommodate the unexpected work in the evenings and on weekends. While Daivd is very energetic and motivated, enjoying hard work, he is also committed to maintaining a healthy personal life as well. Career development is but one piece of his many aspirations."
   ]
  },
  {
   "cell_type": "markdown",
   "metadata": {},
   "source": [
    "### A Different Career Path\n",
    "    \n",
    "The job offer has catalyzed David to think more seriously about one particular career alternative he has pondered over the last two years, namely to open his own upscale restaurant serving gourmet Western cuisine. David is attracted to this plan for several reasons. For one, he has always wanted to start his own business. Second, he has always had a passion and talent for gourmet Western cuisine. Third, he enjoys being a good host, and in fact hospitality has always been an integral part of his lifestyle.\n",
    "\n",
    "What makes David hesitate the most is that restaurant owners may also need to work extremely long hours; his aunt Sona owns a restaurant in Jurong East, and she is always working. But as hard as his aunt works, David feels that these hours constitute a very different lifestyle from that of a managerial consultant. There would be very little if any travel involved and so he would be able to participate more in his community. And although the restaurant business might demand extreme effort from time to time, David figures that such situations would not arise as often as in a consulting career. The most important difference for David is that he would be working for himself, and that the business would be more fun than consulting (although he also enjoyed consulting quite a bit as well). David believes that his high energy, management skills, and interest in gourmet Western cuisine would form the essential ingredients needed to open and successfully operate his own restaurant, which he has temporarily named the Dallas Restaurant and Bar.\n",
    "\n",
    "The non-financial advantages of consulting (variety of work, intellectual challenge) seem to be evenly matched against the non-financial advantages of opening the Dallas Restaurant and Bar (less travel, business ownership). The financial implications of the two alternatives might be very different, however. In addition to his desire to earn a good salary, David also would like to pay off his educational debt obligations, which are rather substantial. In order to maintain a reasonable lifestyle he would need to earn approximately $\\$$5,000 per month before taxes."
   ]
  },
  {
   "cell_type": "markdown",
   "metadata": {},
   "source": [
    "### Making an Informed Decision\n",
    "    \n",
    "As part of one of his course projects last semester on entrepreneurship, David actually conducted a profitability analysis of a sample of gourmet Western restaurants in Singapore,including his aunt’s restaurant. David used the information to define benchmark costs and revenues for the Dallas Restaurant and Bar concept. These data were based on siting the restaurant, with a seating capacity of 50 patrons, in the Westgate area, borrowing money to construct the interior structure, and leasing all capital equipment for the restaurant.\n",
    "\n",
    "David estimated the monthly non-labor fixed costs of operating the Dallas Restaurant and Bar to be $\\$$4,000 per month. He also estimated the variable costs of food to be $\\$$12 per meal served. Among the many uncertainties in the restaurant business, there were three uncertain variables that tended to dominate the profitability: the number meals sold (per month), the revenue per meal, and the labour costs of the restaurant. From the market survey he conducted, David should be able to estimate the possible distributions for these crucial uncertain variables, as follows."
   ]
  },
  {
   "cell_type": "markdown",
   "metadata": {},
   "source": [
    "### Task 1: Determine a possible probability distribution for the number of meals sold\n",
    "Please refer to `Demand_new.csv`. In this data file, a sample of the monthly meals sold at a similar resturant was recorded. From the sample data, please propose a possible probability distribution for the monthly meals sold to assist with David's decision-making  "
   ]
  },
  {
   "cell_type": "code",
   "execution_count": 3,
   "metadata": {},
   "outputs": [
    {
     "data": {
      "text/html": [
       "<div>\n",
       "<style scoped>\n",
       "    .dataframe tbody tr th:only-of-type {\n",
       "        vertical-align: middle;\n",
       "    }\n",
       "\n",
       "    .dataframe tbody tr th {\n",
       "        vertical-align: top;\n",
       "    }\n",
       "\n",
       "    .dataframe thead th {\n",
       "        text-align: right;\n",
       "    }\n",
       "</style>\n",
       "<table border=\"1\" class=\"dataframe\">\n",
       "  <thead>\n",
       "    <tr style=\"text-align: right;\">\n",
       "      <th></th>\n",
       "      <th>mealsSold</th>\n",
       "    </tr>\n",
       "  </thead>\n",
       "  <tbody>\n",
       "    <tr>\n",
       "      <th>490</th>\n",
       "      <td>2843</td>\n",
       "    </tr>\n",
       "    <tr>\n",
       "      <th>491</th>\n",
       "      <td>4833</td>\n",
       "    </tr>\n",
       "    <tr>\n",
       "      <th>492</th>\n",
       "      <td>2247</td>\n",
       "    </tr>\n",
       "    <tr>\n",
       "      <th>493</th>\n",
       "      <td>3726</td>\n",
       "    </tr>\n",
       "    <tr>\n",
       "      <th>494</th>\n",
       "      <td>3757</td>\n",
       "    </tr>\n",
       "    <tr>\n",
       "      <th>495</th>\n",
       "      <td>3081</td>\n",
       "    </tr>\n",
       "    <tr>\n",
       "      <th>496</th>\n",
       "      <td>4399</td>\n",
       "    </tr>\n",
       "    <tr>\n",
       "      <th>497</th>\n",
       "      <td>1737</td>\n",
       "    </tr>\n",
       "    <tr>\n",
       "      <th>498</th>\n",
       "      <td>3982</td>\n",
       "    </tr>\n",
       "    <tr>\n",
       "      <th>499</th>\n",
       "      <td>1195</td>\n",
       "    </tr>\n",
       "  </tbody>\n",
       "</table>\n",
       "</div>"
      ],
      "text/plain": [
       "     mealsSold\n",
       "490       2843\n",
       "491       4833\n",
       "492       2247\n",
       "493       3726\n",
       "494       3757\n",
       "495       3081\n",
       "496       4399\n",
       "497       1737\n",
       "498       3982\n",
       "499       1195"
      ]
     },
     "execution_count": 3,
     "metadata": {},
     "output_type": "execute_result"
    }
   ],
   "source": [
    "import pandas as pd\n",
    "\n",
    "df_demand = pd.read_csv(\"Demand_new.csv\")\n",
    "df_demand.tail(10)"
   ]
  },
  {
   "cell_type": "code",
   "execution_count": 2,
   "metadata": {},
   "outputs": [
    {
     "data": {
      "text/html": [
       "<div>\n",
       "<style scoped>\n",
       "    .dataframe tbody tr th:only-of-type {\n",
       "        vertical-align: middle;\n",
       "    }\n",
       "\n",
       "    .dataframe tbody tr th {\n",
       "        vertical-align: top;\n",
       "    }\n",
       "\n",
       "    .dataframe thead th {\n",
       "        text-align: right;\n",
       "    }\n",
       "</style>\n",
       "<table border=\"1\" class=\"dataframe\">\n",
       "  <thead>\n",
       "    <tr style=\"text-align: right;\">\n",
       "      <th></th>\n",
       "      <th>mealsSold</th>\n",
       "    </tr>\n",
       "  </thead>\n",
       "  <tbody>\n",
       "    <tr>\n",
       "      <th>count</th>\n",
       "      <td>500.000000</td>\n",
       "    </tr>\n",
       "    <tr>\n",
       "      <th>mean</th>\n",
       "      <td>2987.920000</td>\n",
       "    </tr>\n",
       "    <tr>\n",
       "      <th>std</th>\n",
       "      <td>1013.057772</td>\n",
       "    </tr>\n",
       "    <tr>\n",
       "      <th>min</th>\n",
       "      <td>-310.000000</td>\n",
       "    </tr>\n",
       "    <tr>\n",
       "      <th>25%</th>\n",
       "      <td>2309.750000</td>\n",
       "    </tr>\n",
       "    <tr>\n",
       "      <th>50%</th>\n",
       "      <td>2990.000000</td>\n",
       "    </tr>\n",
       "    <tr>\n",
       "      <th>75%</th>\n",
       "      <td>3674.500000</td>\n",
       "    </tr>\n",
       "    <tr>\n",
       "      <th>max</th>\n",
       "      <td>6504.000000</td>\n",
       "    </tr>\n",
       "  </tbody>\n",
       "</table>\n",
       "</div>"
      ],
      "text/plain": [
       "         mealsSold\n",
       "count   500.000000\n",
       "mean   2987.920000\n",
       "std    1013.057772\n",
       "min    -310.000000\n",
       "25%    2309.750000\n",
       "50%    2990.000000\n",
       "75%    3674.500000\n",
       "max    6504.000000"
      ]
     },
     "execution_count": 2,
     "metadata": {},
     "output_type": "execute_result"
    }
   ],
   "source": [
    "df_demand.describe() # summarize the data imported"
   ]
  },
  {
   "cell_type": "code",
   "execution_count": 31,
   "metadata": {},
   "outputs": [
    {
     "data": {
      "image/png": "[encoded data removed]",
      "text/plain": [
       "<Figure size 432x288 with 1 Axes>"
      ]
     },
     "metadata": {},
     "output_type": "display_data"
    }
   ],
   "source": [
    "from matplotlib import pyplot as plt\n",
    "plt.style.use(\"fivethirtyeight\")\n",
    "\n",
    "\n",
    "plt.hist(df_demand['mealsSold'], edgecolor=\"k\")\n",
    "plt.xlabel(\"meals sold in the past\")\n",
    "plt.ylabel(\"counts\")\n",
    "plt.show()"
   ]
  },
  {
   "cell_type": "code",
   "execution_count": 37,
   "metadata": {},
   "outputs": [],
   "source": [
    "df_demand.sort_values(by = 'mealsSold', inplace = True)"
   ]
  },
  {
   "cell_type": "code",
   "execution_count": 38,
   "metadata": {},
   "outputs": [
    {
     "data": {
      "text/html": [
       "<div>\n",
       "<style scoped>\n",
       "    .dataframe tbody tr th:only-of-type {\n",
       "        vertical-align: middle;\n",
       "    }\n",
       "\n",
       "    .dataframe tbody tr th {\n",
       "        vertical-align: top;\n",
       "    }\n",
       "\n",
       "    .dataframe thead th {\n",
       "        text-align: right;\n",
       "    }\n",
       "</style>\n",
       "<table border=\"1\" class=\"dataframe\">\n",
       "  <thead>\n",
       "    <tr style=\"text-align: right;\">\n",
       "      <th></th>\n",
       "      <th>mealsSold</th>\n",
       "      <th>sortind</th>\n",
       "    </tr>\n",
       "  </thead>\n",
       "  <tbody>\n",
       "    <tr>\n",
       "      <th>286</th>\n",
       "      <td>-310</td>\n",
       "      <td>1</td>\n",
       "    </tr>\n",
       "    <tr>\n",
       "      <th>411</th>\n",
       "      <td>76</td>\n",
       "      <td>2</td>\n",
       "    </tr>\n",
       "    <tr>\n",
       "      <th>229</th>\n",
       "      <td>167</td>\n",
       "      <td>3</td>\n",
       "    </tr>\n",
       "    <tr>\n",
       "      <th>363</th>\n",
       "      <td>426</td>\n",
       "      <td>4</td>\n",
       "    </tr>\n",
       "    <tr>\n",
       "      <th>340</th>\n",
       "      <td>478</td>\n",
       "      <td>5</td>\n",
       "    </tr>\n",
       "    <tr>\n",
       "      <th>...</th>\n",
       "      <td>...</td>\n",
       "      <td>...</td>\n",
       "    </tr>\n",
       "    <tr>\n",
       "      <th>371</th>\n",
       "      <td>5527</td>\n",
       "      <td>496</td>\n",
       "    </tr>\n",
       "    <tr>\n",
       "      <th>438</th>\n",
       "      <td>5541</td>\n",
       "      <td>497</td>\n",
       "    </tr>\n",
       "    <tr>\n",
       "      <th>34</th>\n",
       "      <td>5786</td>\n",
       "      <td>498</td>\n",
       "    </tr>\n",
       "    <tr>\n",
       "      <th>388</th>\n",
       "      <td>6262</td>\n",
       "      <td>499</td>\n",
       "    </tr>\n",
       "    <tr>\n",
       "      <th>225</th>\n",
       "      <td>6504</td>\n",
       "      <td>500</td>\n",
       "    </tr>\n",
       "  </tbody>\n",
       "</table>\n",
       "<p>500 rows × 2 columns</p>\n",
       "</div>"
      ],
      "text/plain": [
       "     mealsSold  sortind\n",
       "286       -310        1\n",
       "411         76        2\n",
       "229        167        3\n",
       "363        426        4\n",
       "340        478        5\n",
       "..         ...      ...\n",
       "371       5527      496\n",
       "438       5541      497\n",
       "34        5786      498\n",
       "388       6262      499\n",
       "225       6504      500\n",
       "\n",
       "[500 rows x 2 columns]"
      ]
     },
     "execution_count": 38,
     "metadata": {},
     "output_type": "execute_result"
    }
   ],
   "source": [
    "import numpy as np\n",
    "\n",
    "df_demand['sortind'] = np.arange(1, df_demand.shape[0]+1)\n",
    "df_demand"
   ]
  },
  {
   "cell_type": "code",
   "execution_count": 39,
   "metadata": {},
   "outputs": [
    {
     "data": {
      "text/html": [
       "<div>\n",
       "<style scoped>\n",
       "    .dataframe tbody tr th:only-of-type {\n",
       "        vertical-align: middle;\n",
       "    }\n",
       "\n",
       "    .dataframe tbody tr th {\n",
       "        vertical-align: top;\n",
       "    }\n",
       "\n",
       "    .dataframe thead th {\n",
       "        text-align: right;\n",
       "    }\n",
       "</style>\n",
       "<table border=\"1\" class=\"dataframe\">\n",
       "  <thead>\n",
       "    <tr style=\"text-align: right;\">\n",
       "      <th></th>\n",
       "      <th>mealsSold</th>\n",
       "      <th>sortind</th>\n",
       "      <th>percenObs</th>\n",
       "    </tr>\n",
       "  </thead>\n",
       "  <tbody>\n",
       "    <tr>\n",
       "      <th>286</th>\n",
       "      <td>-310</td>\n",
       "      <td>1</td>\n",
       "      <td>0.002</td>\n",
       "    </tr>\n",
       "    <tr>\n",
       "      <th>411</th>\n",
       "      <td>76</td>\n",
       "      <td>2</td>\n",
       "      <td>0.004</td>\n",
       "    </tr>\n",
       "    <tr>\n",
       "      <th>229</th>\n",
       "      <td>167</td>\n",
       "      <td>3</td>\n",
       "      <td>0.006</td>\n",
       "    </tr>\n",
       "    <tr>\n",
       "      <th>363</th>\n",
       "      <td>426</td>\n",
       "      <td>4</td>\n",
       "      <td>0.008</td>\n",
       "    </tr>\n",
       "    <tr>\n",
       "      <th>340</th>\n",
       "      <td>478</td>\n",
       "      <td>5</td>\n",
       "      <td>0.010</td>\n",
       "    </tr>\n",
       "    <tr>\n",
       "      <th>...</th>\n",
       "      <td>...</td>\n",
       "      <td>...</td>\n",
       "      <td>...</td>\n",
       "    </tr>\n",
       "    <tr>\n",
       "      <th>371</th>\n",
       "      <td>5527</td>\n",
       "      <td>496</td>\n",
       "      <td>0.992</td>\n",
       "    </tr>\n",
       "    <tr>\n",
       "      <th>438</th>\n",
       "      <td>5541</td>\n",
       "      <td>497</td>\n",
       "      <td>0.994</td>\n",
       "    </tr>\n",
       "    <tr>\n",
       "      <th>34</th>\n",
       "      <td>5786</td>\n",
       "      <td>498</td>\n",
       "      <td>0.996</td>\n",
       "    </tr>\n",
       "    <tr>\n",
       "      <th>388</th>\n",
       "      <td>6262</td>\n",
       "      <td>499</td>\n",
       "      <td>0.998</td>\n",
       "    </tr>\n",
       "    <tr>\n",
       "      <th>225</th>\n",
       "      <td>6504</td>\n",
       "      <td>500</td>\n",
       "      <td>1.000</td>\n",
       "    </tr>\n",
       "  </tbody>\n",
       "</table>\n",
       "<p>500 rows × 3 columns</p>\n",
       "</div>"
      ],
      "text/plain": [
       "     mealsSold  sortind  percenObs\n",
       "286       -310        1      0.002\n",
       "411         76        2      0.004\n",
       "229        167        3      0.006\n",
       "363        426        4      0.008\n",
       "340        478        5      0.010\n",
       "..         ...      ...        ...\n",
       "371       5527      496      0.992\n",
       "438       5541      497      0.994\n",
       "34        5786      498      0.996\n",
       "388       6262      499      0.998\n",
       "225       6504      500      1.000\n",
       "\n",
       "[500 rows x 3 columns]"
      ]
     },
     "execution_count": 39,
     "metadata": {},
     "output_type": "execute_result"
    }
   ],
   "source": [
    "df_demand['percenObs'] = df_demand['sortind'] / df_demand.shape[0]\n",
    "df_demand"
   ]
  },
  {
   "cell_type": "markdown",
   "metadata": {},
   "source": [
    "Let's look at the fifth smallest value above; the corresponding `mealsSold` value is 478. Thus, 478 is the 1% percentile of the observed data."
   ]
  },
  {
   "cell_type": "code",
   "execution_count": 40,
   "metadata": {},
   "outputs": [
    {
     "name": "stdout",
     "output_type": "stream",
     "text": [
      "mean is 2987.92\n",
      "standard deviation is 1013.0577721430295\n"
     ]
    }
   ],
   "source": [
    "Obs_mean = df_demand['mealsSold'].mean()\n",
    "Obs_std = df_demand['mealsSold'].std()\n",
    "print('mean is ' + str(Obs_mean))\n",
    "print('standard deviation is ' + str(Obs_std))  # will be assumed as your normal distribution"
   ]
  },
  {
   "cell_type": "code",
   "execution_count": 41,
   "metadata": {},
   "outputs": [
    {
     "data": {
      "text/html": [
       "<div>\n",
       "<style scoped>\n",
       "    .dataframe tbody tr th:only-of-type {\n",
       "        vertical-align: middle;\n",
       "    }\n",
       "\n",
       "    .dataframe tbody tr th {\n",
       "        vertical-align: top;\n",
       "    }\n",
       "\n",
       "    .dataframe thead th {\n",
       "        text-align: right;\n",
       "    }\n",
       "</style>\n",
       "<table border=\"1\" class=\"dataframe\">\n",
       "  <thead>\n",
       "    <tr style=\"text-align: right;\">\n",
       "      <th></th>\n",
       "      <th>mealsSold</th>\n",
       "      <th>sortind</th>\n",
       "      <th>percenObs</th>\n",
       "      <th>mealsSoldTheory</th>\n",
       "    </tr>\n",
       "  </thead>\n",
       "  <tbody>\n",
       "    <tr>\n",
       "      <th>286</th>\n",
       "      <td>-310</td>\n",
       "      <td>1</td>\n",
       "      <td>0.002</td>\n",
       "      <td>72.175881</td>\n",
       "    </tr>\n",
       "    <tr>\n",
       "      <th>411</th>\n",
       "      <td>76</td>\n",
       "      <td>2</td>\n",
       "      <td>0.004</td>\n",
       "      <td>301.220069</td>\n",
       "    </tr>\n",
       "    <tr>\n",
       "      <th>229</th>\n",
       "      <td>167</td>\n",
       "      <td>3</td>\n",
       "      <td>0.006</td>\n",
       "      <td>442.972664</td>\n",
       "    </tr>\n",
       "    <tr>\n",
       "      <th>363</th>\n",
       "      <td>426</td>\n",
       "      <td>4</td>\n",
       "      <td>0.008</td>\n",
       "      <td>547.549384</td>\n",
       "    </tr>\n",
       "    <tr>\n",
       "      <th>340</th>\n",
       "      <td>478</td>\n",
       "      <td>5</td>\n",
       "      <td>0.010</td>\n",
       "      <td>631.195205</td>\n",
       "    </tr>\n",
       "    <tr>\n",
       "      <th>...</th>\n",
       "      <td>...</td>\n",
       "      <td>...</td>\n",
       "      <td>...</td>\n",
       "      <td>...</td>\n",
       "    </tr>\n",
       "    <tr>\n",
       "      <th>371</th>\n",
       "      <td>5527</td>\n",
       "      <td>496</td>\n",
       "      <td>0.992</td>\n",
       "      <td>5428.290616</td>\n",
       "    </tr>\n",
       "    <tr>\n",
       "      <th>438</th>\n",
       "      <td>5541</td>\n",
       "      <td>497</td>\n",
       "      <td>0.994</td>\n",
       "      <td>5532.867336</td>\n",
       "    </tr>\n",
       "    <tr>\n",
       "      <th>34</th>\n",
       "      <td>5786</td>\n",
       "      <td>498</td>\n",
       "      <td>0.996</td>\n",
       "      <td>5674.619931</td>\n",
       "    </tr>\n",
       "    <tr>\n",
       "      <th>388</th>\n",
       "      <td>6262</td>\n",
       "      <td>499</td>\n",
       "      <td>0.998</td>\n",
       "      <td>5903.664119</td>\n",
       "    </tr>\n",
       "    <tr>\n",
       "      <th>225</th>\n",
       "      <td>6504</td>\n",
       "      <td>500</td>\n",
       "      <td>1.000</td>\n",
       "      <td>inf</td>\n",
       "    </tr>\n",
       "  </tbody>\n",
       "</table>\n",
       "<p>500 rows × 4 columns</p>\n",
       "</div>"
      ],
      "text/plain": [
       "     mealsSold  sortind  percenObs  mealsSoldTheory\n",
       "286       -310        1      0.002        72.175881\n",
       "411         76        2      0.004       301.220069\n",
       "229        167        3      0.006       442.972664\n",
       "363        426        4      0.008       547.549384\n",
       "340        478        5      0.010       631.195205\n",
       "..         ...      ...        ...              ...\n",
       "371       5527      496      0.992      5428.290616\n",
       "438       5541      497      0.994      5532.867336\n",
       "34        5786      498      0.996      5674.619931\n",
       "388       6262      499      0.998      5903.664119\n",
       "225       6504      500      1.000              inf\n",
       "\n",
       "[500 rows x 4 columns]"
      ]
     },
     "execution_count": 41,
     "metadata": {},
     "output_type": "execute_result"
    }
   ],
   "source": [
    "from scipy import stats as sps\n",
    "\n",
    "# Assume a normal distribution to model the number of meals sold \n",
    "# Thus, we need to find out the percentiles of the assumed normal distribution \n",
    "df_demand['mealsSoldTheory'] = sps.norm.ppf(df_demand['percenObs'], loc=Obs_mean, scale=Obs_std)\n",
    "df_demand"
   ]
  },
  {
   "cell_type": "code",
   "execution_count": 10,
   "metadata": {},
   "outputs": [
    {
     "data": {
      "text/plain": [
       "array([   0.        ,  777.77777778, 1555.55555556, 2333.33333333,\n",
       "       3111.11111111, 3888.88888889, 4666.66666667, 5444.44444444,\n",
       "       6222.22222222, 7000.        ])"
      ]
     },
     "execution_count": 10,
     "metadata": {},
     "output_type": "execute_result"
    }
   ],
   "source": [
    "np.linspace(0, 7000, 10) #"
   ]
  },
  {
   "cell_type": "code",
   "execution_count": 43,
   "metadata": {},
   "outputs": [
    {
     "data": {
      "image/png": "[encoded data removed]",
      "text/plain": [
       "<Figure size 432x288 with 1 Axes>"
      ]
     },
     "metadata": {},
     "output_type": "display_data"
    }
   ],
   "source": [
    "plt.scatter(df_demand['mealsSold'], df_demand['mealsSoldTheory'])\n",
    "plt.plot(np.linspace(0, 7000, 10), np.linspace(0, 7000, 10), color = 'k', linewidth = 2) # 45-degree line\n",
    "plt.title('Q-Q plot')\n",
    "plt.xlabel('Sample percentile')\n",
    "plt.ylabel('Normal distribution percentile')\n",
    "plt.show()\n",
    "\n",
    "# You can use a normal distribution to model the demand"
   ]
  },
  {
   "cell_type": "markdown",
   "metadata": {},
   "source": [
    "Second, to understand the labour costs, David estimated that the labour costs for the Dallas Restaurant and Bar would be somewhere between $\\$$5,040 per month and $\\$$6,860 per month. Without any other information, David assumed that actual labour costs would obey a continuous uniform distribution in this range."
   ]
  },
  {
   "cell_type": "markdown",
   "metadata": {},
   "source": [
    "Third, since the the Dallas Restaurant and Bar would provide a gourmet dining experience, David would plan to offer fixed price meals and would set the price of the meals according to his own estimate of what the local economy and what the market for gourmet dining would support. His personal estimate based on discussions with friends and gourmet food aficionados, is shown in table below. In this range of meal prices, we will assume, for modeling purpose, that the monthly demand will not be affected by the meal price.\n",
    "\n",
    "<img src=\"discrete_prob.jpg\" alt=\"Probability distribution for the price of the meals\" style=\"width: 700px; height: 180px;\">"
   ]
  },
  {
   "cell_type": "markdown",
   "metadata": {},
   "source": [
    "### Task 2: Simulate the probability distribution for the monthly profit\n",
    "    \n",
    "With the assumptions made on the number of meals sold (per month), the revenue per meal, and the labour costs of the restaurant, please simulate the possible probability distribution for the monthly revenue of the Dallas Restaurant and Bar. "
   ]
  },
  {
   "cell_type": "code",
   "execution_count": 44,
   "metadata": {},
   "outputs": [
    {
     "data": {
      "image/png": "[encoded data removed]",
      "text/plain": [
       "<Figure size 432x288 with 1 Axes>"
      ]
     },
     "metadata": {},
     "output_type": "display_data"
    }
   ],
   "source": [
    "# demo how to simulate a random variable following a discrete distribution\n",
    "\n",
    "xk = (0, 1, 2, 3) # four possible values for the meal price\n",
    "pk = (0.25, 0.35, 0.3, 0.1)\n",
    "custm = sps.rv_discrete(values=(xk, pk))\n",
    "\n",
    "plt.vlines(xk, 0, custm.pmf(xk), colors='r', linewidth=4)\n",
    "plt.xticks(xk,[\"$20\",\"$18.5\",\"$16.5\",\"$15\"]) #\n",
    "plt.show()"
   ]
  },
  {
   "cell_type": "code",
   "execution_count": 14,
   "metadata": {},
   "outputs": [
    {
     "data": {
      "text/plain": [
       "array([3, 0, 1, 2, 0, 2, 3, 1, 2, 0, 3, 0, 1, 1, 2, 0, 0, 2, 1, 1, 0, 0,\n",
       "       2, 0, 1, 1, 1, 0, 0, 2, 3, 1, 0, 2, 1, 1, 1, 1, 2, 3, 0, 1, 2, 2,\n",
       "       1, 2, 0, 0, 1, 2, 1, 0, 0, 2, 0, 1, 1, 2, 1, 2, 1, 1, 1, 0, 1, 0,\n",
       "       2, 1, 1, 1, 2, 1, 3, 0, 2, 1, 1, 1, 2, 0, 2, 2, 2, 2, 0, 1, 3, 2,\n",
       "       2, 1, 2, 3, 1, 1, 1, 0, 2, 2, 1, 0])"
      ]
     },
     "execution_count": 14,
     "metadata": {},
     "output_type": "execute_result"
    }
   ],
   "source": [
    "rv = custm.rvs(size=100) # simulate 100 random numbers following the specified discrete distribution\n",
    "rv"
   ]
  },
  {
   "cell_type": "code",
   "execution_count": 45,
   "metadata": {},
   "outputs": [
    {
     "name": "stdout",
     "output_type": "stream",
     "text": [
      "16.5\n"
     ]
    }
   ],
   "source": [
    "gen_discrete = custm.rvs(size=1)\n",
    "if gen_discrete == 0:\n",
    "    gen_price = 20\n",
    "elif gen_discrete == 1:\n",
    "    gen_price = 18.5\n",
    "elif gen_discrete == 2:\n",
    "    gen_price = 16.5\n",
    "else:\n",
    "    gen_price = 15\n",
    "    \n",
    "print(gen_price)"
   ]
  },
  {
   "cell_type": "code",
   "execution_count": 46,
   "metadata": {},
   "outputs": [
    {
     "data": {
      "text/plain": [
       "count    5000.000000\n",
       "mean     5952.548791\n",
       "std       526.419118\n",
       "min      5040.566787\n",
       "25%      5501.529195\n",
       "50%      5942.540260\n",
       "75%      6410.253495\n",
       "max      6859.967926\n",
       "dtype: float64"
      ]
     },
     "execution_count": 46,
     "metadata": {},
     "output_type": "execute_result"
    }
   ],
   "source": [
    "lower_end = 5040 # the lower endpoint of the specified uniform distribution\n",
    "upper_end = 6860 # the upper endpoint of the specified uniform distribution\n",
    "\n",
    "gen_labor = sps.uniform.rvs(loc=lower_end, scale=upper_end-lower_end, size = 5000)\n",
    "pd.Series(gen_labor).describe()"
   ]
  },
  {
   "cell_type": "code",
   "execution_count": 51,
   "metadata": {},
   "outputs": [
    {
     "data": {
      "text/plain": [
       "0      18960.642774\n",
       "1      11029.526822\n",
       "2      17983.487292\n",
       "3        635.588342\n",
       "4        654.442863\n",
       "           ...     \n",
       "195     8894.781514\n",
       "196    12747.604383\n",
       "197     6530.661681\n",
       "198    24182.423644\n",
       "199    10845.073918\n",
       "Length: 200, dtype: float64"
      ]
     },
     "execution_count": 51,
     "metadata": {},
     "output_type": "execute_result"
    }
   ],
   "source": [
    "simu_realization = []\n",
    "\n",
    "simu_size = 5000 # simulate 5000 times to understand the profit distribution\n",
    "\n",
    "per_meal_cost = 12\n",
    "fixed_cost = 4000\n",
    "\n",
    "for i in range(simu_size): # simu_size = 5000\n",
    "    gen_meals = sps.norm.rvs(loc=Obs_mean, scale=Obs_std, size=1) # generate the number of meals sold\n",
    "    gen_labor = sps.uniform.rvs(loc=lower_end, scale=upper_end-lower_end, size = 1) # generate the labor cost\n",
    "    gen_discrete = custm.rvs(size=1) # generate the selling price per meal\n",
    "    \n",
    "    if gen_discrete == 0:\n",
    "        gen_price = 20\n",
    "    elif gen_discrete == 1:\n",
    "        gen_price = 18.5\n",
    "    elif gen_discrete == 2:\n",
    "        gen_price = 16.5\n",
    "    else:\n",
    "        gen_price = 15\n",
    "        \n",
    "    profit = gen_meals * (gen_price - per_meal_cost) - gen_labor - fixed_cost # profit equation\n",
    "    simu_realization.append(profit[0])\n",
    "\n",
    "pd.Series(simu_realization).head(200)    "
   ]
  },
  {
   "cell_type": "code",
   "execution_count": 52,
   "metadata": {},
   "outputs": [
    {
     "data": {
      "image/png": "[encoded data removed]",
      "text/plain": [
       "<Figure size 432x288 with 1 Axes>"
      ]
     },
     "metadata": {},
     "output_type": "display_data"
    }
   ],
   "source": [
    "plt.hist(simu_realization, edgecolor = 'k')\n",
    "plt.title('Option 2 - monthly profit distribution')\n",
    "plt.xlabel('profit')\n",
    "plt.show()"
   ]
  },
  {
   "cell_type": "code",
   "execution_count": 53,
   "metadata": {},
   "outputs": [
    {
     "data": {
      "image/png": "[encoded data removed]",
      "text/plain": [
       "<Figure size 432x288 with 1 Axes>"
      ]
     },
     "metadata": {},
     "output_type": "display_data"
    }
   ],
   "source": [
    "plt.boxplot(simu_realization)\n",
    "plt.title('Option 2 - monthly profit distribution')\n",
    "plt.ylabel('profit')\n",
    "plt.xticks([1],['Option 2'])\n",
    "\n",
    "plt.show()"
   ]
  },
  {
   "cell_type": "code",
   "execution_count": 20,
   "metadata": {},
   "outputs": [
    {
     "data": {
      "text/plain": [
       "count     5000.000000\n",
       "mean      7817.454824\n",
       "std       8020.323684\n",
       "min     -14656.405829\n",
       "25%       1779.300965\n",
       "50%       6977.460771\n",
       "75%      12929.791143\n",
       "max      42506.560548\n",
       "dtype: float64"
      ]
     },
     "execution_count": 20,
     "metadata": {},
     "output_type": "execute_result"
    }
   ],
   "source": [
    "pd.Series(simu_realization).describe()"
   ]
  },
  {
   "cell_type": "code",
   "execution_count": null,
   "metadata": {},
   "outputs": [],
   "source": []
  },
  {
   "cell_type": "code",
   "execution_count": null,
   "metadata": {},
   "outputs": [],
   "source": []
  },
  {
   "cell_type": "markdown",
   "metadata": {},
   "source": [
    "### An Unusual Partnership Opportunity\n",
    "    \n",
    "It was obvious that there would be substantially more risk involved in the Dallas Restaurant and Bar than in accepting the consultant offer. When David mentioned this to his aunt in a phone conversation, she offered David the following financial partnership opportunity to increase his incentive to undertake the Dallas Restaurant and Bar venture. Under the partnership, his aunt would guarantee David a monthly salary of at least $\\$$3,500. That is, if earnings in a given month fell below $\\$$3,500, she would cover the difference. In exchange for this, his aunt would receive 90$\\%$ of all monthly earnings in excess of $\\$$9,000. If earnings were between $\\$$3,500 and $\\$$9,000, all such money would go to David. "
   ]
  },
  {
   "cell_type": "markdown",
   "metadata": {},
   "source": [
    "### Task 3: Understand the profit distribution under the partnership\n",
    "\n",
    "With the partnership condition, please simulate the possible probability distribution for the monthly revenue David can earn."
   ]
  },
  {
   "cell_type": "code",
   "execution_count": 54,
   "metadata": {},
   "outputs": [],
   "source": [
    "opt2_profit = pd.Series(simu_realization)"
   ]
  },
  {
   "cell_type": "code",
   "execution_count": 55,
   "metadata": {},
   "outputs": [
    {
     "data": {
      "image/png": "[encoded data removed]",
      "text/plain": [
       "<Figure size 432x288 with 1 Axes>"
      ]
     },
     "metadata": {},
     "output_type": "display_data"
    }
   ],
   "source": [
    "opt3_profit = []\n",
    "\n",
    "for i in range(simu_size):\n",
    "    if opt2_profit[i] < 3500:\n",
    "        profit = 3500\n",
    "    elif opt2_profit[i] >= 3500 and opt2_profit[i] <= 9000:\n",
    "        profit = opt2_profit[i]\n",
    "    else:\n",
    "        profit = 9000 + (opt2_profit[i]-9000)*0.1\n",
    "        \n",
    "    opt3_profit.append(profit)\n",
    "\n",
    "plt.hist(opt3_profit, edgecolor = 'k')\n",
    "plt.title('Option 3 - monthly profit distribution')\n",
    "plt.show()"
   ]
  },
  {
   "cell_type": "code",
   "execution_count": 23,
   "metadata": {},
   "outputs": [
    {
     "data": {
      "text/plain": [
       "0       False\n",
       "1        True\n",
       "2        True\n",
       "3        True\n",
       "4        True\n",
       "        ...  \n",
       "4995    False\n",
       "4996     True\n",
       "4997    False\n",
       "4998     True\n",
       "4999    False\n",
       "Length: 5000, dtype: bool"
      ]
     },
     "execution_count": 23,
     "metadata": {},
     "output_type": "execute_result"
    }
   ],
   "source": [
    "filt_less3500 = (opt2_profit < 3500)\n",
    "filt_less3500"
   ]
  },
  {
   "cell_type": "code",
   "execution_count": 24,
   "metadata": {},
   "outputs": [],
   "source": [
    "filt_great9000 = (opt2_profit > 9000)\n",
    "filt_inbetween = (opt2_profit >= 3500) & (opt2_profit <= 9000)"
   ]
  },
  {
   "cell_type": "code",
   "execution_count": 25,
   "metadata": {},
   "outputs": [
    {
     "data": {
      "image/png": "[encoded data removed]",
      "text/plain": [
       "<Figure size 432x288 with 1 Axes>"
      ]
     },
     "metadata": {},
     "output_type": "display_data"
    }
   ],
   "source": [
    "opt3_profit2 = filt_less3500*3500 + filt_inbetween*opt2_profit + filt_great9000*(9000+0.1*(opt2_profit-9000))\n",
    "\n",
    "plt.hist(opt3_profit2, edgecolor = 'k')\n",
    "plt.title('Option 3 - monthly profit distribution')\n",
    "plt.show()"
   ]
  },
  {
   "cell_type": "markdown",
   "metadata": {},
   "source": [
    "### Taks 4: If you are David, what will be your best decision? \n",
    "    \n",
    "Please provide any visualization or numerical evidence to support your conclution. "
   ]
  },
  {
   "cell_type": "code",
   "execution_count": 56,
   "metadata": {},
   "outputs": [
    {
     "data": {
      "image/png": "[encoded data removed]",
      "text/plain": [
       "<Figure size 432x288 with 1 Axes>"
      ]
     },
     "metadata": {},
     "output_type": "display_data"
    }
   ],
   "source": [
    "plt.boxplot(x = [opt2_profit, opt3_profit])\n",
    "plt.xticks([1,2], ['Option 2', 'Option 3'])\n",
    "plt.show()"
   ]
  },
  {
   "cell_type": "code",
   "execution_count": 57,
   "metadata": {},
   "outputs": [
    {
     "data": {
      "image/png": "[encoded data removed]",
      "text/plain": [
       "<Figure size 432x288 with 2 Axes>"
      ]
     },
     "metadata": {},
     "output_type": "display_data"
    }
   ],
   "source": [
    "f, (ax1, ax2) = plt.subplots(2,1,sharex=True)\n",
    "ax1.hist(opt2_profit, bins = 50, edgecolor = 'k')\n",
    "\n",
    "ax2.hist(opt3_profit, edgecolor = 'k')\n",
    "ax2.set_xlabel('Monthly Profit')\n",
    "\n",
    "plt.tight_layout()\n",
    "plt.show()"
   ]
  },
  {
   "cell_type": "code",
   "execution_count": 58,
   "metadata": {},
   "outputs": [
    {
     "data": {
      "text/html": [
       "<div>\n",
       "<style scoped>\n",
       "    .dataframe tbody tr th:only-of-type {\n",
       "        vertical-align: middle;\n",
       "    }\n",
       "\n",
       "    .dataframe tbody tr th {\n",
       "        vertical-align: top;\n",
       "    }\n",
       "\n",
       "    .dataframe thead th {\n",
       "        text-align: right;\n",
       "    }\n",
       "</style>\n",
       "<table border=\"1\" class=\"dataframe\">\n",
       "  <thead>\n",
       "    <tr style=\"text-align: right;\">\n",
       "      <th></th>\n",
       "      <th>Option2</th>\n",
       "      <th>Option3</th>\n",
       "      <th>Option1</th>\n",
       "    </tr>\n",
       "  </thead>\n",
       "  <tbody>\n",
       "    <tr>\n",
       "      <th>count</th>\n",
       "      <td>5000.000000</td>\n",
       "      <td>5000.000000</td>\n",
       "      <td>5000.000000</td>\n",
       "    </tr>\n",
       "    <tr>\n",
       "      <th>mean</th>\n",
       "      <td>7857.019048</td>\n",
       "      <td>6697.940532</td>\n",
       "      <td>5833.333333</td>\n",
       "    </tr>\n",
       "    <tr>\n",
       "      <th>std</th>\n",
       "      <td>7990.935101</td>\n",
       "      <td>2790.870063</td>\n",
       "      <td>0.000000</td>\n",
       "    </tr>\n",
       "    <tr>\n",
       "      <th>min</th>\n",
       "      <td>-13994.568177</td>\n",
       "      <td>3500.000000</td>\n",
       "      <td>5833.333333</td>\n",
       "    </tr>\n",
       "    <tr>\n",
       "      <th>25%</th>\n",
       "      <td>1990.350796</td>\n",
       "      <td>3500.000000</td>\n",
       "      <td>5833.333333</td>\n",
       "    </tr>\n",
       "    <tr>\n",
       "      <th>50%</th>\n",
       "      <td>6906.924775</td>\n",
       "      <td>6906.924775</td>\n",
       "      <td>5833.333333</td>\n",
       "    </tr>\n",
       "    <tr>\n",
       "      <th>75%</th>\n",
       "      <td>13156.381786</td>\n",
       "      <td>9415.638179</td>\n",
       "      <td>5833.333333</td>\n",
       "    </tr>\n",
       "    <tr>\n",
       "      <th>max</th>\n",
       "      <td>43361.442047</td>\n",
       "      <td>12436.144205</td>\n",
       "      <td>5833.333333</td>\n",
       "    </tr>\n",
       "  </tbody>\n",
       "</table>\n",
       "</div>"
      ],
      "text/plain": [
       "            Option2       Option3      Option1\n",
       "count   5000.000000   5000.000000  5000.000000\n",
       "mean    7857.019048   6697.940532  5833.333333\n",
       "std     7990.935101   2790.870063     0.000000\n",
       "min   -13994.568177   3500.000000  5833.333333\n",
       "25%     1990.350796   3500.000000  5833.333333\n",
       "50%     6906.924775   6906.924775  5833.333333\n",
       "75%    13156.381786   9415.638179  5833.333333\n",
       "max    43361.442047  12436.144205  5833.333333"
      ]
     },
     "execution_count": 58,
     "metadata": {},
     "output_type": "execute_result"
    }
   ],
   "source": [
    "opt_summary = {'Option2': pd.Series(opt2_profit).describe(), 'Option3': pd.Series(opt3_profit).describe()}\n",
    "opt_summary = pd.DataFrame(opt_summary)\n",
    "opt_summary['Option1'] = 0\n",
    "\n",
    "opt_summary.loc['count','Option1'] = 5000\n",
    "opt_summary.loc['mean','Option1'] = 70000/12\n",
    "opt_summary.loc['std','Option1'] = 0\n",
    "opt_summary.loc['min','Option1'] = 70000/12\n",
    "opt_summary.loc['25%','Option1'] = 70000/12\n",
    "opt_summary.loc['50%','Option1'] = 70000/12\n",
    "opt_summary.loc['75%','Option1'] = 70000/12\n",
    "opt_summary.loc['max','Option1'] = 70000/12\n",
    "\n",
    "\n",
    "opt_summary"
   ]
  },
  {
   "cell_type": "code",
   "execution_count": 59,
   "metadata": {},
   "outputs": [
    {
     "data": {
      "text/plain": [
       "5833.333333333333"
      ]
     },
     "execution_count": 59,
     "metadata": {},
     "output_type": "execute_result"
    }
   ],
   "source": [
    " 70000/12"
   ]
  }
 ],
 "metadata": {
  "kernelspec": {
   "display_name": "Python 3",
   "language": "python",
   "name": "python3"
  },
  "language_info": {
   "codemirror_mode": {
    "name": "ipython",
    "version": 3
   },
   "file_extension": ".py",
   "mimetype": "text/x-python",
   "name": "python",
   "nbconvert_exporter": "python",
   "pygments_lexer": "ipython3",
   "version": "3.8.3"
  }
 },
 "nbformat": 4,
 "nbformat_minor": 4
}
